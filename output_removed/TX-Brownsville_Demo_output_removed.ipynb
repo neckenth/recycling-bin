{
 "metadata": {
  "kernelspec": {
   "display_name": "Python 2",
   "language": "python",
   "name": "python2"
  },
  "language_info": {
   "codemirror_mode": {
    "name": "ipython",
    "version": 2
   },
   "file_extension": ".py",
   "mimetype": "text/x-python",
   "name": "python",
   "nbconvert_exporter": "python",
   "pygments_lexer": "ipython2",
   "version": "2.7.11"
  },
  "name": ""
 },
 "nbformat": 3,
 "nbformat_minor": 0,
 "worksheets": [
  {
   "cells": [
    {
     "cell_type": "code",
     "collapsed": false,
     "input": [
      "import pandas as pd\n",
      "\n",
      "from pyep.transform import iderive_lep_status\n",
      "\n",
      "df = pd.read_csv(r\"C:\\Workspace\\tx-brownsville\\student\\bisd_student_data.txt\", dtype=str, sep='\\t')\n",
      "\n",
      "df['Elv_LEPStatus'] = df.apply(\n",
      "    iderive_lep_status, \n",
      "    dateEnteredLep='Entered LEP Date',\n",
      "    dateExitedLep='Exited LEP Date',\n",
      "    axis=1)\n",
      "\n",
      "print df['Elv_LEPStatus'].value_counts()\n",
      "\n",
      "df.to_csv(r\"C:\\Workspace\\tx-brownsville\\student\\bisd_student_data_processed.txt\", sep='\\t', index=False)"
     ],
     "language": "python",
     "metadata": {},
     "outputs": [],
     "prompt_number": 10
    },
    {
     "cell_type": "code",
     "collapsed": false,
     "input": [
      "import pandas as pd\n",
      "\n",
      "from pyep.transform import derive_from_date_exited_4y\n",
      "\n",
      "df = pd.read_csv(r\"C:\\Workspace\\tx-brownsville\\student\\bisd_student_data.txt\", dtype=str, sep='\\t')\n",
      "\n",
      "condition_1 = df.loc[:, 'Exited LEP Date'].notnull()\n",
      "condition_2 = df.loc[:, 'Exited LEP Date'].isnull()\n",
      "condition_3 = df.loc[:, 'ELP Designation'] == 'NOT-ELL/LEP'\n",
      "condition_4 = df.loc[:, 'ELP Designation'] == 'ELL/LEP'\n",
      "\n",
      "df.loc[condition_1, 'Elv_LEPStatus'] = df.apply(\n",
      "    lambda x: derive_from_date_exited_4y(x['Exited LEP Date']), axis=1)\n",
      "\n",
      "df.loc[condition_2 & condition_3, 'Elv_LEPStatus'] = 'NOT-ELL/LEP'\n",
      "\n",
      "df.loc[condition_4, 'Elv_LEPStatus'] = 'ELL/LEP'\n",
      "\n",
      "print df['Elv_LEPStatus'].value_counts()\n",
      "\n",
      "df.to_csv(r\"C:\\Workspace\\tx-brownsville\\student\\bisd_student_data_processed.txt\", sep='\\t', index=False)"
     ],
     "language": "python",
     "metadata": {},
     "outputs": [],
     "prompt_number": 1
    }
   ],
   "metadata": {}
  }
 ]
}