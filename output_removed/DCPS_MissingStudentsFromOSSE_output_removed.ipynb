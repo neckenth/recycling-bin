{
 "metadata": {
  "kernelspec": {
   "display_name": "Python 2",
   "language": "python",
   "name": "python2"
  },
  "language_info": {
   "codemirror_mode": {
    "name": "ipython",
    "version": 2
   },
   "file_extension": ".py",
   "mimetype": "text/x-python",
   "name": "python",
   "nbconvert_exporter": "python",
   "pygments_lexer": "ipython2",
   "version": "2.7.11"
  },
  "name": ""
 },
 "nbformat": 3,
 "nbformat_minor": 0,
 "worksheets": [
  {
   "cells": [
    {
     "cell_type": "code",
     "collapsed": false,
     "input": [
      "import pandas as pd\n",
      "\n",
      "df = pd.read_excel(r\"C:\\Workspace\\dc-districtofcolumbia\\student\\ELLs Missing Valen 3-26-18.xlsx\")\n",
      "\n",
      "def df_column_uniquify(df):\n",
      "    df_columns = df.columns\n",
      "    new_columns = []\n",
      "    for item in df_columns:\n",
      "        counter = 0\n",
      "        newitem = item\n",
      "        while newitem in new_columns:\n",
      "            counter += 1\n",
      "            newitem = \"{}_{}\".format(item, counter)\n",
      "        new_columns.append(newitem)\n",
      "    df.columns = new_columns\n",
      "    return df\n",
      "\n",
      "df_column_uniquify(df)\n",
      "\n",
      "df = df[df.loc[:, 'School Year'] == '2016-2017']\n",
      "\n",
      "df.drop_duplicates(inplace=True)\n",
      "print len(df)\n",
      "\n",
      "df.to_csv(r\"C:\\Workspace\\dc-districtofcolumbia\\student\\ELLs Missing Valen 3-26-18_processed.csv\", index=False)\n"
     ],
     "language": "python",
     "metadata": {},
     "outputs": [],
     "prompt_number": 1
    }
   ],
   "metadata": {}
  }
 ]
}