{
 "metadata": {
  "kernelspec": {
   "display_name": "Python 2",
   "language": "python",
   "name": "python2"
  },
  "language_info": {
   "codemirror_mode": {
    "name": "ipython",
    "version": 2
   },
   "file_extension": ".py",
   "mimetype": "text/x-python",
   "name": "python",
   "nbconvert_exporter": "python",
   "pygments_lexer": "ipython2",
   "version": "2.7.11"
  },
  "name": ""
 },
 "nbformat": 3,
 "nbformat_minor": 0,
 "worksheets": [
  {
   "cells": [
    {
     "cell_type": "code",
     "collapsed": false,
     "input": [
      "import pandas as pd\n",
      "\n",
      "df=pd.read_csv(r\"C:\\Workspace\\ca-keppelunionelementary\\schedule\\Ellevation Student Schedules 20161019.csv\", dtype=str)\n",
      "print len(df)\n",
      "df = df[df.loc[:, 'Tag'].isnull()]\n",
      "print len(df)\n",
      "\n",
      "# df['ID Number']=df['ID Number'].str.split('.')[0]\n",
      "# df['Period']=df['Period'].str.split('.')[0]\n",
      "# df['Course#']=df['Course#'].str.split('.')[0]\n",
      "\n",
      "df.head()\n",
      "\n",
      "df.to_csv(r\"C:\\Workspace\\ca-keppelunionelementary\\schedule\\Ellevation Student Schedules 20161019_processed.csv\",index=False)"
     ],
     "language": "python",
     "metadata": {},
     "outputs": [],
     "prompt_number": 8
    },
    {
     "cell_type": "code",
     "collapsed": true,
     "input": [],
     "language": "python",
     "metadata": {},
     "outputs": [],
     "prompt_number": null
    }
   ],
   "metadata": {}
  }
 ]
}