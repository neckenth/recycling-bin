{
 "metadata": {
  "kernelspec": {
   "display_name": "Python 2",
   "language": "python",
   "name": "python2"
  },
  "language_info": {
   "codemirror_mode": {
    "name": "ipython",
    "version": 2
   },
   "file_extension": ".py",
   "mimetype": "text/x-python",
   "name": "python",
   "nbconvert_exporter": "python",
   "pygments_lexer": "ipython2",
   "version": "2.7.11"
  },
  "name": ""
 },
 "nbformat": 3,
 "nbformat_minor": 0,
 "worksheets": [
  {
   "cells": [
    {
     "cell_type": "code",
     "collapsed": false,
     "input": [
      "import pandas as pd\n",
      "\n",
      "df = pd.read_csv(r\"C:\\Workspace\\ca-panama-buenavista\\elp-test-score\\ELPTestScores.csv\", sep=',', dtype=object)\n",
      "\n",
      "df.head()\n",
      "\n",
      "print len(df)\n",
      "\n",
      "df.drop_duplicates(subset=['Sis_Number', 'ADMIN_Date'], inplace=True)\n",
      "\n",
      "print len(df)\n",
      "\n",
      "df.to_csv(r\"C:\\Workspace\\ca-panama-buenavista\\elp-test-score\\ELPTestScores_processed.csv\", index=False)"
     ],
     "language": "python",
     "metadata": {},
     "outputs": [],
     "prompt_number": 4
    }
   ],
   "metadata": {}
  }
 ]
}