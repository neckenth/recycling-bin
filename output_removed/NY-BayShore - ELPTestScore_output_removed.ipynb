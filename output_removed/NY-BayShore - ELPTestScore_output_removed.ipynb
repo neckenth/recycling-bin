{
 "metadata": {
  "kernelspec": {
   "display_name": "Python 2",
   "language": "python",
   "name": "python2"
  },
  "language_info": {
   "codemirror_mode": {
    "name": "ipython",
    "version": 2
   },
   "file_extension": ".py",
   "mimetype": "text/x-python",
   "name": "python",
   "nbconvert_exporter": "python",
   "pygments_lexer": "ipython2",
   "version": "2.7.11"
  },
  "name": ""
 },
 "nbformat": 3,
 "nbformat_minor": 0,
 "worksheets": [
  {
   "cells": [
    {
     "cell_type": "code",
     "collapsed": false,
     "input": [
      "import pandas as pd\n",
      "import numpy as np\n",
      "import os\n",
      "import re\n",
      "\n",
      "from pyep import read_delimited\n",
      "from pyep.settings import WORKSPACE_ROOT\n",
      "\n",
      "df = read_delimited(r\"C:\\Workspace\\ny-bayshore\\elp-test-score\\NYSESLAT 15_16.csv\")\n",
      "\n",
      "# def helper(group):\n",
      "#     group.loc[:, 'Elv_GradeLevel'] = group.loc[:, 'Elv_GradeLevel'].max()\n",
      "#     return group\n",
      "\n",
      "df['Test'].str.extract('(\\w{8}:\\s)(.-?\\d{0,2}?\\s)(\\w{2,}\\s?\\w{5}?)')\n",
      "\n",
      "# df.loc[df['Test'].str.contains('Total Score'), 'Elv_GradeLevel'] = df['Test'].str.extract('\\w{8}:\\s(.-?\\d{0,2}?\\s)\\w{2,}\\s?\\w{5}?')\n",
      "\n",
      "# df = df.groupby('StudentID').apply(helper)\n",
      "\n",
      "df['Elv_Domain'] = df['Test'].str.extract('\\w{8}:\\s.-?\\d{0,2}?\\s(\\w{2,}\\s?\\w{5}?)')\n",
      "\n",
      "df=df.pivot_table(index=['StudentID', 'Test Date', 'Grade'],\n",
      "                  columns='Elv_Domain',\n",
      "                 values=['Socre'],\n",
      "                 aggfunc=np.max).reset_index(col_level=1)\n",
      "\n",
      "df.columns=[' '.join(col).strip() for col in df.columns.tolist()]\n",
      "\n",
      "df.head()\n",
      "\n",
      "df.to_csv(r\"C:\\Workspace\\ny-bayshore\\elp-test-score\\NYSESLAT 15_16_processed.csv\", index=False)"
     ],
     "language": "python",
     "metadata": {},
     "outputs": [],
     "prompt_number": 5
    },
    {
     "cell_type": "code",
     "collapsed": true,
     "input": [
      "\"\"\"\n",
      "GROUP BY Template\n",
      "\n",
      "def helper(group):\n",
      "    group.loc[:, <field_name>] = <value>\n",
      "    return group\n",
      "\n",
      "\n",
      "df.groupby(<student_id>).apply(helper)\n",
      "\"\"\"\n",
      "\n",
      "\n",
      "def helper(group):\n",
      "    group.loc[:, 'Elv_GradeLevel'] = group.loc[:, 'Elv_GradeLevel'].max()\n",
      "    return group\n",
      "\n",
      "\n",
      "df.groupby('StudentID').apply(helper)"
     ],
     "language": "python",
     "metadata": {},
     "outputs": [],
     "prompt_number": null
    },
    {
     "cell_type": "code",
     "collapsed": false,
     "input": [
      "import pandas as pd\n",
      "import numpy as np\n",
      "import os\n",
      "import re\n",
      "\n",
      "from pyep import read_delimited\n",
      "from pyep.settings import WORKSPACE_ROOT\n",
      "\n",
      "df = read_delimited(r\"C:\\Workspace\\ny-bayshore\\elp-test-score\\NYSISTELL 15_16.csv\")\n",
      "\n",
      "# def helper(group):\n",
      "#     group.loc[:, 'Elv_GradeLevel'] = group.loc[:, 'Elv_GradeLevel'].max()\n",
      "#     return group\n",
      "\n",
      "df['Exam'].str.extract('(\\w{8}:\\s)(\\w{5}\\s\\w{1,4}\\s)(.-?\\d{0,2}?\\s)(\\w{2,}\\s?\\w{5}?)')\n",
      "\n",
      "# df.loc[df['Test'].str.contains('Total Score'), 'Elv_GradeLevel'] = df['Test'].str.extract('\\w{8}:\\s(.-?\\d{0,2}?\\s)\\w{2,}\\s?\\w{5}?')\n",
      "\n",
      "# df = df.groupby('StudentID').apply(helper)\n",
      "\n",
      "df['Elv_Domain'] = df['Exam'].str.extract('\\w{8}:\\s\\w{5}\\s\\w{1,4}\\s.-?\\d{0,2}?\\s(\\w{2,}\\s?\\w{5}?)')\n",
      "df['Elv_Level'] = df['Exam'].str.extract('\\w{8}:\\s(\\w{5}\\s\\w{1,4}\\s).-?\\d{0,2}?\\s\\w{2,}\\s?\\w{5}?')\n",
      "\n",
      "df=df.pivot_table(index=['StudentID', 'Exam Date', 'Grade', 'Elv_Level'],\n",
      "                  columns='Elv_Domain',\n",
      "                 values=['Socre'],\n",
      "                 aggfunc=np.max).reset_index(col_level=1)\n",
      "\n",
      "df.columns=[' '.join(col).strip() for col in df.columns.tolist()]\n",
      "\n",
      "df.to_csv(r\"C:\\Workspace\\ny-bayshore\\elp-test-score\\NYSISTELL 15_16_processed.csv\", index=False)"
     ],
     "language": "python",
     "metadata": {},
     "outputs": [],
     "prompt_number": 20
    }
   ],
   "metadata": {}
  }
 ]
}