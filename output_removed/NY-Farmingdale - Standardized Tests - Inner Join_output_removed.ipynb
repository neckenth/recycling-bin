{
 "metadata": {
  "kernelspec": {
   "display_name": "Python 2",
   "language": "python",
   "name": "python2"
  },
  "language_info": {
   "codemirror_mode": {
    "name": "ipython",
    "version": 2
   },
   "file_extension": ".py",
   "mimetype": "text/x-python",
   "name": "python",
   "nbconvert_exporter": "python",
   "pygments_lexer": "ipython2",
   "version": "2.7.11"
  },
  "name": ""
 },
 "nbformat": 3,
 "nbformat_minor": 0,
 "worksheets": [
  {
   "cells": [
    {
     "cell_type": "code",
     "collapsed": false,
     "input": [
      "import pandas as pd\n",
      "\n",
      "left=pd.read_csv(r\"C:\\Workspace\\ny-farmingdale\\2016 3-8 ELA and Math Scores- Farmingdale, NY.csv\", sep=',', dtype=str)\n",
      "\n",
      "right=pd.read_csv(r\"C:\\Workspace\\ny-farmingdale\\EllevationExport_20160815_1337.csv\", sep=',', dtype=str)\n",
      "\n",
      "df=pd.merge(left, right, left_on='STUDENT_ID', right_on='Student #', how='inner')\n",
      "\n",
      "df.loc[df['Assessment Name'].isin(['Grade 3 ELA']) | df['Assessment Name'].isin(['Grade 3 Math']), 'Elv_Grade_Level'] = '3'\n",
      "df.loc[df['Assessment Name'].isin(['Grade 4 ELA']) | df['Assessment Name'].isin(['Grade 4 Math']), 'Elv_Grade_Level'] = '4'\n",
      "df.loc[df['Assessment Name'].isin(['Grade 5 ELA']) | df['Assessment Name'].isin(['Grade 5 Math']), 'Elv_Grade_Level'] = '5'\n",
      "df.loc[df['Assessment Name'].isin(['Grade 6 ELA']) | df['Assessment Name'].isin(['Grade 6 Math']), 'Elv_Grade_Level'] = '6'\n",
      "df.loc[df['Assessment Name'].isin(['Grade 7 ELA']) | df['Assessment Name'].isin(['Grade 7 Math']), 'Elv_Grade_Level'] = '7'\n",
      "df.loc[df['Assessment Name'].isin(['Grade 8 ELA']) | df['Assessment Name'].isin(['Grade 8 Math']), 'Elv_Grade_Level'] = '8'\n",
      "\n",
      "df.head()\n",
      "\n",
      "df.to_csv(r\"C:\\Workspace\\ny-farmingdale\\2016 3-8 ELA and Math Scores- Farmingdale, NY_processed.csv\", index=False)"
     ],
     "language": "python",
     "metadata": {},
     "outputs": [],
     "prompt_number": 19
    }
   ],
   "metadata": {}
  }
 ]
}