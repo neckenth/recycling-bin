{
 "metadata": {
  "kernelspec": {
   "display_name": "Python 2",
   "language": "python",
   "name": "python2"
  },
  "language_info": {
   "codemirror_mode": {
    "name": "ipython",
    "version": 2
   },
   "file_extension": ".py",
   "mimetype": "text/x-python",
   "name": "python",
   "nbconvert_exporter": "python",
   "pygments_lexer": "ipython2",
   "version": "2.7.11"
  },
  "name": ""
 },
 "nbformat": 3,
 "nbformat_minor": 0,
 "worksheets": [
  {
   "cells": [
    {
     "cell_type": "code",
     "collapsed": false,
     "input": [
      "import os\n",
      "import pandas as pd\n",
      "\n",
      "from pyep.settings import WORKSPACE_ROOT\n",
      "from pyep import read_delimited\n",
      "\n",
      "subset=[]\n",
      "\n",
      "for file in os.listdir(WORKSPACE_ROOT + '/ca-lasvirgenesunified/star/'):\n",
      "    df = pd.read_csv(WORKSPACE_ROOT + '/ca-lasvirgenesunified/star/' + file, skiprows=1)\n",
      "    print len(df)\n",
      "    subset.append(df)\n",
      "    \n",
      "df = pd.concat(subset)\n",
      "\n",
      "df.to_csv(r\"C:\\Workspace\\ca-lasvirgenesunified\\star\\combined_processed.csv\", index=False)"
     ],
     "language": "python",
     "metadata": {},
     "outputs": [],
     "prompt_number": 9
    }
   ],
   "metadata": {}
  }
 ]
}