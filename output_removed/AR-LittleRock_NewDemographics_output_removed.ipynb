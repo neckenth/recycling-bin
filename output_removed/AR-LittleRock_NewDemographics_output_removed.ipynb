{
 "metadata": {
  "kernelspec": {
   "display_name": "Python 2",
   "language": "python",
   "name": "python2"
  },
  "language_info": {
   "codemirror_mode": {
    "name": "ipython",
    "version": 2
   },
   "file_extension": ".py",
   "mimetype": "text/x-python",
   "name": "python",
   "nbconvert_exporter": "python",
   "pygments_lexer": "ipython2",
   "version": "2.7.11"
  },
  "name": ""
 },
 "nbformat": 3,
 "nbformat_minor": 0,
 "worksheets": [
  {
   "cells": [
    {
     "cell_type": "code",
     "collapsed": false,
     "input": [
      "import pandas as pd\n",
      "import numpy as np\n",
      "\n",
      "from common import is_null\n",
      "\n",
      "from pyep.transform import iconcatenate, derive_from_date_exited_4y\n",
      "\n",
      "def derive_country(row):\n",
      "    if not is_null(row.loc['Elv_BirthPlace']):\n",
      "        if not is_null(row.loc['Birth State']):\n",
      "            return 'US'\n",
      "        else:\n",
      "            return row.loc['Elv_BirthPlace']\n",
      "    else:\n",
      "        return np.NaN\n",
      "    \n",
      "def derive_lep_status(row):\n",
      "    if row.loc['ELPDesignation'] == 'ELL' and row.loc['MonitoringStatus'] == 'Not Monitored' and not is_null(row.loc['DateEnteredLEP']):\n",
      "        return 'ELL'\n",
      "    elif row.loc['LEPStatus'] == 'Monitored' and row.loc['MonitoringStatus'] == 'Monitored Year 1':\n",
      "        return 'FLEP 1'\n",
      "    elif row.loc['LEPStatus'] == 'Monitored' and row.loc['MonitoringStatus'] == 'Monitored Year 2':\n",
      "        return 'FLEP 2'\n",
      "    elif row.loc['ELPDesignation'] == 'Not ELL' and row.loc['MonitoringStatus'] == 'Not Monitored':\n",
      "        return np.NaN\n",
      "    elif row.loc['LEPStatus'] == 'LEPREF' and is_null(row.loc['DateEnteredLEP']):\n",
      "        return 'LEPREF'\n",
      "    \n",
      "\n",
      "df = pd.read_csv(r\"C:\\Workspace\\ar-littlerocksd\\student\\LRSDEllevation_Student.csv\", dtype=str)\n",
      "\n",
      "df.loc[:, 'BirthCity'] = df.loc[:, 'BirthCity'].str.strip()\n",
      "df.loc[:, 'Elv_BirthPlace'] = df.apply(iconcatenate, axis=1, args=('BirthCity', 'Birth State', ' '))\n",
      "\n",
      "df.loc[:, 'Elv_BirthCountry'] = df.apply(derive_country, axis=1)\n",
      "\n",
      "df.loc[:, 'Elv_LEPStatus'] = df.apply(derive_lep_status, axis=1)\n",
      "\n",
      "print len(df)\n",
      "df = df[df.loc[:, 'SchoolCode'] != '242']\n",
      "print len(df)\n",
      "df.to_csv(r\"C:\\Workspace\\ar-littlerocksd\\student\\LRSDEllevation_Student_processed_1.csv\", index=False)\n",
      "\n"
     ],
     "language": "python",
     "metadata": {},
     "outputs": [],
     "prompt_number": 3
    }
   ],
   "metadata": {}
  }
 ]
}