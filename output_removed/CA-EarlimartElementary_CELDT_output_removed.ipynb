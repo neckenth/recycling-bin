{
 "metadata": {
  "kernelspec": {
   "display_name": "Python 2",
   "language": "python",
   "name": "python2"
  },
  "language_info": {
   "codemirror_mode": {
    "name": "ipython",
    "version": 2
   },
   "file_extension": ".py",
   "mimetype": "text/x-python",
   "name": "python",
   "nbconvert_exporter": "python",
   "pygments_lexer": "ipython2",
   "version": "2.7.11"
  },
  "name": ""
 },
 "nbformat": 3,
 "nbformat_minor": 0,
 "worksheets": [
  {
   "cells": [
    {
     "cell_type": "code",
     "collapsed": false,
     "input": [
      "import pandas as pd\n",
      "import os\n",
      "import numpy as np\n",
      "from pyep import qualify_file_name\n",
      "from common import is_parseable_date\n",
      "\n",
      "\n",
      "def from_fixed_width(filepath):\n",
      "\n",
      "    specification_file_path = 'C:\\Workspace\\CELDT\\CELDT_SSF_2015-16_specification.csv'\n",
      "    specification = pd.read_csv(\n",
      "        specification_file_path,\n",
      "        header=None,\n",
      "        names=['label', 'startPosition', 'stopPosition', 'length'])\n",
      "\n",
      "    # Generate a mapping to typecast all fields into unicode.\n",
      "    converters = {label: unicode for label in specification.loc[:, 'label']}\n",
      "\n",
      "    colspecs = zip(specification.loc[:, 'startPosition'] - 1,\n",
      "                   specification.loc[:, 'stopPosition'])\n",
      "\n",
      "    # Does the the keep_default_na parameter need to be set to False?\n",
      "    data_frame = pd.read_fwf(filepath,\n",
      "                             header=None,\n",
      "                             names=specification.loc[:, 'label'],\n",
      "                             converters=converters,\n",
      "                             colspecs=colspecs)\n",
      "\n",
      "    return data_frame\n",
      "\n",
      "root = 'C:/Workspace/ca-earlimartelementary/CELDT/CELDT 2015-2016/'\n",
      "subsets = []\n",
      "for file in os.listdir(root):\n",
      "    processed_file = from_fixed_width(root + file)\n",
      "    #processed_file.drop_duplicates(['Student ID Number (Local Use Only; Box 4*)'])\n",
      "    processed_file['ELV_DateGiven'] = processed_file.apply(\n",
      "        lambda x: pd.to_datetime(x['Date Testing Completed (Box 9*)'],\n",
      "                                 format='%m%d%Y')\n",
      "        if (is_parseable_date(x['Date Testing Completed (Box 9*)']) | len(str(x['Date Testing Completed (Box 9*)'])) == 8)\n",
      "        else np.NaN,\n",
      "        axis=1)\n",
      "    subsets.append(processed_file)\n",
      "\n",
      "merged = pd.concat(subsets)\n",
      "merged.to_csv(root + 'merged-processed.csv', index=False)"
     ],
     "language": "python",
     "metadata": {},
     "outputs": [],
     "prompt_number": 7
    },
    {
     "cell_type": "code",
     "collapsed": false,
     "input": [
      "import pandas as pd\n",
      "\n",
      "df=pd.read_csv(r\"C:\\Workspace\\ca-earlimartelementary\\CELDT\\CELDT 2015-2016\\merged-processed.csv\", dtype=str, sep=',')\n",
      "\n",
      "df.drop_duplicates('Student ID Number (Local Use Only; Box 4*)', inplace=True)\n",
      "\n",
      "df['Student ID Number (Local Use Only; Box 4*)'] = df['Student ID Number (Local Use Only; Box 4*)'].str.lstrip('000')\n",
      "\n",
      "df['Student ID Number (Local Use Only; Box 4*)'].unique() \n",
      "\n",
      "df.to_csv(r\"C:\\Workspace\\ca-earlimartelementary\\CELDT\\CELDT 2015-2016\\merged-processed-stripped.csv\", index=False)"
     ],
     "language": "python",
     "metadata": {},
     "outputs": [],
     "prompt_number": 13
    },
    {
     "cell_type": "code",
     "collapsed": true,
     "input": [
      "import pandas as pd\n",
      "import os\n",
      "\n",
      "from pyep.settings import derive_from_date_exited_4y\n",
      "\n",
      "subset = []\n",
      "\n",
      "for file in os.listdir(WORKSPACE_ROOT + '/ca-earlimartelementary/CELDT/16-17/'):\n",
      "    df = pd.read_csv(WORKSPACE_ROOT + 'ca-earlimartelementary/CELDT/16-17/' + file, sep='\\t')\n",
      "    subset.append(df)\n",
      "\n",
      "df = pd.concat(subset)\n",
      "\n",
      "df['Elv_DateGiven'] = pd.to_datetime(df['testDate'], format='%')"
     ],
     "language": "python",
     "metadata": {},
     "outputs": [],
     "prompt_number": null
    }
   ],
   "metadata": {}
  }
 ]
}