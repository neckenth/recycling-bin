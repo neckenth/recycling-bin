{
 "metadata": {
  "kernelspec": {
   "display_name": "Python 2",
   "language": "python",
   "name": "python2"
  },
  "language_info": {
   "codemirror_mode": {
    "name": "ipython",
    "version": 2
   },
   "file_extension": ".py",
   "mimetype": "text/x-python",
   "name": "python",
   "nbconvert_exporter": "python",
   "pygments_lexer": "ipython2",
   "version": "2.7.11"
  },
  "name": ""
 },
 "nbformat": 3,
 "nbformat_minor": 0,
 "worksheets": [
  {
   "cells": [
    {
     "cell_type": "code",
     "collapsed": false,
     "input": [
      "import pandas as pd\n",
      "import numpy as np\n",
      "\n",
      "df = pd.read_csv(r\"C:\\Workspace\\ca-santamariajointunion\\celdt\\TestScores.txt\", sep='\\t', dtype=str)\n",
      "\n",
      "#print len(df)\n",
      "\n",
      "df = df[df.loc[:, 'TestType'] == 'CELDT']\n",
      "\n",
      "df = df.pivot_table(index=['StudentID', 'TestDate'],\n",
      "                   columns='TestPart',\n",
      "                   values=['Raw Score', 'Scale Score'],\n",
      "                   aggfunc=np.max).reset_index(col_level=1)\n",
      "\n",
      "df.columns=[' '.join(col).strip() for col in df.columns.tolist()]\n",
      "\n",
      "df.head()"
     ],
     "language": "python",
     "metadata": {},
     "outputs": [],
     "prompt_number": 5
    },
    {
     "cell_type": "code",
     "collapsed": false,
     "input": [
      "import pandas as pd\n",
      "\n",
      "df = pd.read_csv(r\"C:\\Workspace\\ca-santamariajointunion\\celdt\\16-17\\CELDT_2016-17_SSF_102016_12232016_42693100000.csv\", dtype=str)\n",
      "\n",
      "df['Elv_DateGiven'] = pd.to_datetime(df['testDate'], format='%m%d%Y', errors='coerce')\n",
      "\n",
      "df.to_csv(r\"C:\\Workspace\\ca-santamariajointunion\\celdt\\16-17\\CELDT_2016-17_SSF_102016_12232016_42693100000_processed.csv\", index=False)"
     ],
     "language": "python",
     "metadata": {},
     "outputs": [],
     "prompt_number": 1
    }
   ],
   "metadata": {}
  }
 ]
}