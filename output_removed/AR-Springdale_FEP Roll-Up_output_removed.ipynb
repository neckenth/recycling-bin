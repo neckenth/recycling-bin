{
 "metadata": {
  "kernelspec": {
   "display_name": "Python 2",
   "language": "python",
   "name": "python2"
  },
  "language_info": {
   "codemirror_mode": {
    "name": "ipython",
    "version": 2
   },
   "file_extension": ".py",
   "mimetype": "text/x-python",
   "name": "python",
   "nbconvert_exporter": "python",
   "pygments_lexer": "ipython2",
   "version": "2.7.11"
  },
  "name": ""
 },
 "nbformat": 3,
 "nbformat_minor": 0,
 "worksheets": [
  {
   "cells": [
    {
     "cell_type": "code",
     "collapsed": false,
     "input": [
      "import pandas as pd\n",
      "\n",
      "export = pd.read_csv(r\"C:\\Users\\NancyE\\Downloads\\EllevationExport_20170621_1018.csv\", dtype=str)\n",
      "print len(export)\n",
      "\n",
      "export.rename(columns={'ELL Level' : 'Current Level'}, inplace=True)\n",
      "\n",
      "export.loc[:, 'New Level'] = export.loc[:, 'Current Level'].map(\n",
      "    lambda x: int(str(x).split(' ')[1]) + 1)\n",
      "\n",
      "district = pd.read_csv(r\"C:\\Users\\NancyE\\Downloads\\Springdale FEP 3to4.csv\", dtype=str)\n",
      "\n",
      "district.rename(columns={'\\xef\\xbb\\xbfStudent #' : 'Student #'}, inplace=True)\n",
      "\n",
      "district.rename(columns={'ELL level' : 'New Level'}, inplace=True)\n",
      "\n",
      "df = pd.concat(objs=[export, district], axis=0)\n",
      "\n",
      "df.head()\n",
      "\n",
      "df.to_csv(r\"C:\\Users\\NancyE\\Downloads\\Springdale_FEP_Updates.csv\", index=False)\n",
      "\n"
     ],
     "language": "python",
     "metadata": {},
     "outputs": [],
     "prompt_number": 25
    }
   ],
   "metadata": {}
  }
 ]
}