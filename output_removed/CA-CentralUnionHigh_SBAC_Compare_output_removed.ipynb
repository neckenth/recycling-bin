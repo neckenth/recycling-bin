{
 "metadata": {
  "kernelspec": {
   "display_name": "Python 2",
   "language": "python",
   "name": "python2"
  },
  "language_info": {
   "codemirror_mode": {
    "name": "ipython",
    "version": 2
   },
   "file_extension": ".py",
   "mimetype": "text/x-python",
   "name": "python",
   "nbconvert_exporter": "python",
   "pygments_lexer": "ipython2",
   "version": "2.7.11"
  },
  "name": ""
 },
 "nbformat": 3,
 "nbformat_minor": 0,
 "worksheets": [
  {
   "cells": [
    {
     "cell_type": "code",
     "collapsed": false,
     "input": [
      "import pandas as pd\n",
      "\n",
      "scores = pd.read_csv(r\"C:\\Workspace\\ca-centralunionhigh\\sbac\\ELLSTDTST_CA-CentralUnionHigh_SBAC_2014-2015.csv\", dtype=str)\n",
      "\n",
      "export = pd.read_csv(r\"C:\\Users\\NancyE\\Downloads\\EllevationExport_20170124_0926.csv\", dtype=str)\n",
      "\n",
      "compare = pd.merge(left=scores, right=export, left_on='StudentStateID', right_on='Test ID #', indicator=True)\n",
      "\n",
      "compare.to_csv(r\"C:\\Workspace\\ca-centralunionhigh\\sbac\\compare_2014-2015.csv\", index=False)"
     ],
     "language": "python",
     "metadata": {},
     "outputs": [],
     "prompt_number": 4
    },
    {
     "cell_type": "code",
     "collapsed": false,
     "input": [
      "import os\n",
      "import pandas as pd\n",
      "\n",
      "from pyep.settings import WORKSPACE_ROOT\n",
      "\n",
      "subset = []\n",
      "\n",
      "for file in os.listdir(WORKSPACE_ROOT + '/ca-centralunionhigh/sbac/14-15/'):\n",
      "    df = pd.read_csv(WORKSPACE_ROOT + '/ca-centralunionhigh/sbac/14-15/' + file)\n",
      "    print len(df)\n",
      "    subset.append(df)\n",
      "    \n",
      "df = pd.concat(subset)\n",
      "\n",
      "df.to_csv(r\"C:\\Workspace\\ca-centralunionhigh\\sbac\\14-15\\combined.csv\", index=False)\n",
      "\n",
      "export = pd.read_csv(r\"C:\\Users\\NancyE\\Downloads\\EllevationExport_20170303_1025.csv\", dtype=str)\n",
      "\n",
      "compare = pd.merge(left=df, right=export, left_on='Student ID', right_on='Test ID #', how='outer', indicator=True)\n",
      "\n",
      "print len(compare)\n",
      "\n",
      "compare.columns.tolist()\n",
      "\n",
      "compare['_merge'].value_counts()"
     ],
     "language": "python",
     "metadata": {},
     "outputs": [],
     "prompt_number": 13
    }
   ],
   "metadata": {}
  }
 ]
}