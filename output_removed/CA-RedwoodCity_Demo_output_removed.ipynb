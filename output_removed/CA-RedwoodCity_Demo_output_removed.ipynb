{
 "metadata": {
  "kernelspec": {
   "display_name": "Python 2",
   "language": "python",
   "name": "python2"
  },
  "language_info": {
   "codemirror_mode": {
    "name": "ipython",
    "version": 2
   },
   "file_extension": ".py",
   "mimetype": "text/x-python",
   "name": "python",
   "nbconvert_exporter": "python",
   "pygments_lexer": "ipython2",
   "version": "2.7.11"
  },
  "name": ""
 },
 "nbformat": 3,
 "nbformat_minor": 0,
 "worksheets": [
  {
   "cells": [
    {
     "cell_type": "code",
     "collapsed": false,
     "input": [
      "import pandas as pd\n",
      "import numpy as np\n",
      "\n",
      "from pyep.transform import derive_from_date_exited_4y\n",
      "\n",
      "df_1=pd.read_csv(r\"C:\\Workspace\\ca-redwoodcityelementary\\student\\RCSD_Ellevation_10_18_2016_Student_Demographics_7959.csv\", dtype=str)\n",
      "df_2=pd.read_csv(r\"C:\\Workspace\\ca-redwoodcityelementary\\student\\RCSDK8_ELA_Status_Date_7968_10132016_v2.csv\", dtype=str)\n",
      "\n",
      "df = pd.merge(right=df_1, left=df_2, right_on='StudentLocalID', left_on='Student_Number', how='inner')\n",
      "\n",
      "condition_1 = df.loc[:, 'CA_ELAStatus'] == 'EO'\n",
      "condition_2 = df.loc[:, 'LEPStatus'] == 'EO'\n",
      "\n",
      "df=df[~(condition_1 | condition_2)]\n",
      "\n",
      "df['Elv_DateEnteredLEP'] = df.apply(\n",
      "    lambda x: x.loc['CA_DateELAStatus'] if x.loc['CA_ELAStatus'] == 'EL' else np.NaN, axis=1)\n",
      "\n",
      "df['Elv_RFEPDate'] = df.apply(\n",
      "    lambda x: x.loc['CA_DateELAStatus'] if x.loc['CA_ELAStatus'] == 'RFEP' else np.NaN, axis=1)\n",
      "\n",
      "df['Elv_LEPStatus'] = df.apply(\n",
      "    lambda x: derive_from_date_exited_4y(x['Elv_RFEPDate'])\n",
      "    if x['CA_ELAStatus'] == 'RFEP' else x['CA_ELAStatus'],\n",
      "    axis=1)\n",
      "\n",
      "df.head()\n",
      "df.to_csv(r\"C:\\Workspace\\ca-redwoodcityelementary\\student\\merged_processed_3.csv\", index=False)"
     ],
     "language": "python",
     "metadata": {},
     "outputs": [],
     "prompt_number": 2
    },
    {
     "cell_type": "code",
     "collapsed": false,
     "input": [
      "import pandas as pd\n",
      "import numpy as np\n",
      "from datetime import datetime as dt\n",
      "\n",
      "from common import is_null\n",
      "\n",
      "from pyep.transform import derive_from_date_exited_4y\n",
      "\n",
      "df = pd.read_csv(r\"C:\\Workspace\\ca-redwoodcityelementary\\student\\student-demographics-with-header.txt\", dtype=str, sep='\\t')\n",
      "\n",
      "# df['Elv_DateEnteredLEP'] = df.apply(\n",
      "#     lambda x: x.loc['Date ELA Status'] if x.loc['ELA Status'] == 'EL' else np.NaN, axis=1)\n",
      "\n",
      "df['Elv_RFEPDate'] = df.apply(\n",
      "    lambda x: x.loc['Date ELA Status'] if x.loc['ELA Status'] == 'RFEP' else np.NaN, axis=1)\n",
      "\n",
      "df['Elv_DateEnteredLEP_RFEP_EL_Only'] = df.apply(\n",
      "    lambda x: x.loc['Date Enroll'] if x.loc['ELA Status'] == 'EL' or x.loc['ELA Status'] == 'RFEP' else np.NaN, axis=1)\n",
      "\n",
      "df['Elv_DateEnteredLEP_RFEP_EL_Only'].unique()\n",
      "\n",
      "df['Elv_IFEPDate'] = df.apply(\n",
      "    lambda x: x.loc['Date ELA Status'] if x.loc['ELA Status'] == 'IFEP' else np.NaN, axis=1)\n",
      "\n",
      "df['Elv_LEPStatus'] = df.apply(\n",
      "    lambda x: derive_from_date_exited_4y(x['Elv_RFEPDate'])\n",
      "    if x['ELA Status'] == 'RFEP' else x['ELA Status'],\n",
      "    axis=1)\n",
      "\n",
      "df.loc[(df['ELA Status'] == 'RFEP') & (df['Elv_RFEPDate'].isnull()), 'Elv_LEPStatus'] = 'RFEP (Unknown)'\n",
      "\n",
      "df['Elv_Yrs_USSchools'] = df['First USA Schooling'].map(\n",
      "    lambda x: np.NaN if is_null(x) \n",
      "    else (dt.today()-pd.to_datetime(x)).days / 365)\n",
      "\n",
      "df.to_csv(r\"C:\\Workspace\\ca-redwoodcityelementary\\student\\student-demographics-with-header_processed.csv\", sep=',', index=False)\n",
      "\n"
     ],
     "language": "python",
     "metadata": {},
     "outputs": [],
     "prompt_number": 28
    }
   ],
   "metadata": {}
  }
 ]
}