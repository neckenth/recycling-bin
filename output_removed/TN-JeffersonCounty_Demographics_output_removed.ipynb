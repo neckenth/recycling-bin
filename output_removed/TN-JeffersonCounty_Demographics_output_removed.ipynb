{
 "metadata": {
  "kernelspec": {
   "display_name": "Python 2",
   "language": "python",
   "name": "python2"
  },
  "language_info": {
   "codemirror_mode": {
    "name": "ipython",
    "version": 2
   },
   "file_extension": ".py",
   "mimetype": "text/x-python",
   "name": "python",
   "nbconvert_exporter": "python",
   "pygments_lexer": "ipython2",
   "version": "2.7.11"
  },
  "name": ""
 },
 "nbformat": 3,
 "nbformat_minor": 0,
 "worksheets": [
  {
   "cells": [
    {
     "cell_type": "code",
     "collapsed": false,
     "input": [
      "import pandas as pd\n",
      "\n",
      "df = pd.read_csv(r\"C:\\Workspace\\tn-jeffersoncounty\\student\\jefferson-ellevation.student.csv\", dtype=str)\n",
      "\n",
      "def derive_lep_status(x):\n",
      "    if x == '1':\n",
      "        return 'Transitional Year 1'\n",
      "    elif x == '2':\n",
      "        return 'Transitional Year 2'\n",
      "    elif x == '3':\n",
      "        return 'Transitional Year 3'\n",
      "    elif x == '4':\n",
      "        return 'Transitional Year 4'\n",
      "    elif x == 'F':\n",
      "        return 'Fully Exited'\n",
      "    elif x == 'L':\n",
      "        return 'ELL'\n",
      "    elif x == 'N':\n",
      "        return 'NELB'\n",
      "    elif x == 'W':\n",
      "        return 'Waived'\n",
      "    else:\n",
      "        print x\n",
      "        \n",
      "df.loc[:, 'Elv_LEPStatus'] = df.loc[:, 'LEP Status'].map(lambda x: derive_lep_status(x))\n",
      "\n",
      "df.to_csv(r\"C:\\Workspace\\tn-jeffersoncounty\\student\\jefferson-ellevation.student_processed.csv\", index=False)"
     ],
     "language": "python",
     "metadata": {},
     "outputs": [],
     "prompt_number": 3
    }
   ],
   "metadata": {}
  }
 ]
}