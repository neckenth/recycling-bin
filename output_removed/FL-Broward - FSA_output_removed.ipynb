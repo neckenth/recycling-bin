{
 "metadata": {
  "kernelspec": {
   "display_name": "Python 2",
   "language": "python",
   "name": "python2"
  },
  "language_info": {
   "codemirror_mode": {
    "name": "ipython",
    "version": 2
   },
   "file_extension": ".py",
   "mimetype": "text/x-python",
   "name": "python",
   "nbconvert_exporter": "python",
   "pygments_lexer": "ipython2",
   "version": "2.7.11"
  },
  "name": ""
 },
 "nbformat": 3,
 "nbformat_minor": 0,
 "worksheets": [
  {
   "cells": [
    {
     "cell_type": "code",
     "collapsed": false,
     "input": [
      "import pandas as pd\n",
      "\n",
      "df = pd.read_csv(r\"C:\\Workspace\\fl-browardcounty\\fsa\\BCPS_Stdt_FSA.txt\", sep='\\t', dtype=str)\n",
      "\n",
      "df = df[pd.to_datetime(df.loc[:, 'Test Date']) >= pd.to_datetime('1/1/17')]\n",
      "\n",
      "dupes = df[df.duplicated(subset=['Student Number'], keep=False) == True]\n",
      "\n",
      "dupes.to_csv(r\"C:\\Workspace\\fl-browardcounty\\fsa\\BCPS_Stdt_FSA_dupes.txt\", sep='\\t', index=False)\n"
     ],
     "language": "python",
     "metadata": {},
     "outputs": [],
     "prompt_number": 15
    },
    {
     "cell_type": "code",
     "collapsed": false,
     "input": [
      "import pandas as pd\n",
      "\n",
      "df = pd.read_csv(r\"C:\\Workspace\\fl-browardcounty\\fsa\\BCPS_Stdt_FSA.txt\", sep='\\t', dtype=str)\n",
      "\n",
      "student = df[df.loc[:, 'Student Number'] == '0614024553']\n",
      "\n",
      "print student"
     ],
     "language": "python",
     "metadata": {},
     "outputs": [],
     "prompt_number": 18
    },
    {
     "cell_type": "code",
     "collapsed": false,
     "input": [
      "import pandas as pd\n",
      "\n",
      "df = pd.read_csv(r\"C:\\Workspace\\fl-browardcounty\\standardized-tests\\BCPS_Stdt_FSA-20170810-processed.csv\", dtype=str)\n",
      "\n",
      "# df = df[pd.to_datetime(df.loc[:, 'TestAdministrationDate']) >= pd.to_datetime('1/1/17')]\n",
      "\n",
      "dupes = df[df.duplicated(subset=['StudentLocalID'], keep=False) == True]\n",
      "\n",
      "dupes.to_csv(r\"C:\\Workspace\\fl-browardcounty\\standardized-tests\\BCPS_Stdt_FSA-20170810-processed_test_1.csv\", index=False)"
     ],
     "language": "python",
     "metadata": {},
     "outputs": [],
     "prompt_number": 4
    }
   ],
   "metadata": {}
  }
 ]
}