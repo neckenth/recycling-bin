{
 "metadata": {
  "kernelspec": {
   "display_name": "Python 2",
   "language": "python",
   "name": "python2"
  },
  "language_info": {
   "codemirror_mode": {
    "name": "ipython",
    "version": 2
   },
   "file_extension": ".py",
   "mimetype": "text/x-python",
   "name": "python",
   "nbconvert_exporter": "python",
   "pygments_lexer": "ipython2",
   "version": "2.7.11"
  },
  "name": ""
 },
 "nbformat": 3,
 "nbformat_minor": 0,
 "worksheets": [
  {
   "cells": [
    {
     "cell_type": "code",
     "collapsed": false,
     "input": [
      "# import pandas as pd\n",
      "\n",
      "# df=pd.read_table(r\"C:\\Workspace\\ok-tulsa\\test scores\\OK Tulsa ACCESS score export 2008-2013 .csv\")\n",
      "\n",
      "# df.pivot(index='[1]student_number', columns='NumScore', '[86]Name', 'ACCESS_Compre_Scale', 'ACCESS_Listening_Scale', 'ACCESS_Speaking_Scale', 'ACCESS_Writing_Scale', 'ACCESS_Literacy_Scale', 'ACCESS_Reading_Scale', 'ACCESS_Ovrall_Scale', 'ACCESS_Oral_Lang_Scale', 'ACCESS_Literacy_Prof_Level', 'ACCESS_Compre_Prof_Level', 'ACCESS_Oral_Lang_Prof_Level', 'ACCESS_Ovrall_Prof_Level', 'ACCESS_Read_Prof_Level', 'ACCESS_Writing_Prof_Level', 'ACCESS_Listen_Prof_Level', 'ACCESS_Speaking_Prof_Level', '[87]Test_date', 'TestScoreID', '[87]TermID', values = 'TestScoreID')\n",
      "\n",
      "# df.to_csv(r\"C:\\Workspace\\ok-tulsa\\test scores\\OKTulsaACCESS_Pivoted\")"
     ],
     "language": "python",
     "metadata": {
      "scrolled": true
     },
     "outputs": [],
     "prompt_number": 10
    },
    {
     "cell_type": "code",
     "collapsed": false,
     "input": [
      "# import pandas as pd\n",
      "# import numpy as np\n",
      "\n",
      "# df=pd.read_table(r\"C:\\Workspace\\ok-tulsa\\test scores\\Tulsa Access scores for Ellevation 072516 .csv\", sep=',', dtype=str)\n",
      "\n",
      "# # df\n",
      "\n",
      "# pivoted=df.pivot_table(index=['[1]student_number', '[87]Test_date'], \n",
      "#                        columns='[88]Name', \n",
      "#                        values=['NumScore', 'AlphaScore'], \n",
      "#                        aggfunc=np.max).reset_index(col_level=1)\n",
      "\n",
      "# # pivoted.columns.tolist()\n",
      "\n",
      "# # this line joins the first two column header rows together so that you can still isolate columns by name\n",
      "# pivoted.columns=[' '.join(col).strip() for col in pivoted.columns.tolist()]\n",
      "\n",
      "# # create a 'date' column in pandas datetime format\n",
      "# pivoted['date'] = pd.to_datetime(pivoted['[87]Test_date'])\n",
      "\n",
      "# # create a 'year' column \n",
      "# pivoted['year'] = pivoted['date'].apply(lambda x: x.year)\n",
      "\n",
      "# # pivoted.head()\n",
      "\n",
      "# # remove students who have multiple entries across student number and year columns and show their ID#s\n",
      "# duplicate_IDs=pivoted.loc[pivoted.duplicated(['[1]student_number', 'year']), '[1]student_number'].drop_duplicates()\n",
      "\n",
      "# # duplicate_IDs\n",
      "\n",
      "# # remove entries where year is before 2010\n",
      "# to_import = pivoted.loc[~pivoted.duplicated(['[1]student_number', 'year'])]\n",
      "\n",
      "# condition1 = to_import['year'] == 2008\n",
      "# condition2 = to_import['year'] == 2009\n",
      "\n",
      "# to_import=to_import[~(condition1 | condition2)]\n",
      "\n",
      "# len(to_import)\n",
      "\n",
      "# condition3 = to_import['AlphaScore ACCESS_CLUSTER'] == '2-Jan'\n",
      "# condition4 = to_import['AlphaScore ACCESS_CLUSTER'] == '8-Jun'\n",
      "# condition5 = to_import['AlphaScore ACCESS_CLUSTER'] == 'b'\n",
      "# condition6 = to_import['AlphaScore ACCESS_CLUSTER'] == 'COLORADO'\n",
      "# condition7 = to_import['AlphaScore ACCESS_CLUSTER'] == ' '\n",
      "\n",
      "# to_import_valid=to_import[~(condition3 | condition4 | condition5 | condition6 | condition7)]\n",
      "\n",
      "# len(to_import_valid['[1]student_number'].unique())\n",
      "# len(to_import_valid)\n",
      "\n",
      "# to_import_valid.to_csv(r\"C:\\Workspace\\ok-tulsa\\test scores\\OKTulsaACCESS_pivoted_uniquerecords_final_newfile_valid.csv\", index=False)\n",
      "\n"
     ],
     "language": "python",
     "metadata": {},
     "outputs": [],
     "prompt_number": 3
    },
    {
     "cell_type": "code",
     "collapsed": false,
     "input": [
      "import pandas as pd\n",
      "import numpy as np\n",
      "\n",
      "df=pd.read_table(r\"C:\\Workspace\\ok-tulsa\\test scores\\Tulsa Access scores for Ellevation 072516 .csv\", sep=',', dtype=str)\n",
      "\n",
      "pivoted=df.pivot_table(index=['[1]student_number', '[87]Test_date'], \n",
      "                       columns='[88]Name', \n",
      "                       values=['NumScore', 'AlphaScore'], \n",
      "                       aggfunc=np.max).reset_index(col_level=1)\n",
      "\n",
      "# this line joins the first two column header rows together so that you can still isolate columns by name\n",
      "pivoted.columns=[' '.join(col).strip() for col in pivoted.columns.tolist()]\n",
      "\n",
      "# create a 'date' column in pandas datetime format\n",
      "pivoted['date'] = pd.to_datetime(pivoted['[87]Test_date'])\n",
      "\n",
      "# create a 'year' column \n",
      "pivoted['year'] = pivoted['date'].apply(lambda x: x.year)\n",
      "\n",
      "# remove students who have multiple entries across student number and year columns and show their ID#s\n",
      "duplicate_IDs=pivoted.loc[pivoted.duplicated(['[1]student_number', 'year']), '[1]student_number'].drop_duplicates()\n",
      "\n",
      "to_import = pivoted.loc[~pivoted.duplicated(['[1]student_number', 'year'])]\n",
      "\n",
      "# remove entries where year is before 2010 or after 2013\n",
      "to_import = to_import[~(to_import.loc[:, 'year'].isin([2008, 2009, 2014]))]\n",
      "\n",
      "# remove records where value in new 'AlphaScore ACCESS_CLUSTER' column does not equate to an available value in ELV required Cluster field\n",
      "to_import_valid = to_import[~(to_import.loc[:, 'AlphaScore ACCESS_CLUSTER'].isin(['2-Jan', '8-Jun', 'b', 'COLORADO', '0']))]\n",
      "\n",
      "to_import_valid.to_csv(r\"C:\\Workspace\\ok-tulsa\\test scores\\v1.csv\", index=False)"
     ],
     "language": "python",
     "metadata": {},
     "outputs": [],
     "prompt_number": 5
    },
    {
     "cell_type": "code",
     "collapsed": true,
     "input": [],
     "language": "python",
     "metadata": {},
     "outputs": [],
     "prompt_number": null
    }
   ],
   "metadata": {}
  }
 ]
}