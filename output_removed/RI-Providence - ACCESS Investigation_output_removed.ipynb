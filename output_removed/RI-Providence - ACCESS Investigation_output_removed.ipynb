{
 "metadata": {
  "kernelspec": {
   "display_name": "Python 2",
   "language": "python",
   "name": "python2"
  },
  "language_info": {
   "codemirror_mode": {
    "name": "ipython",
    "version": 2
   },
   "file_extension": ".py",
   "mimetype": "text/x-python",
   "name": "python",
   "nbconvert_exporter": "python",
   "pygments_lexer": "ipython2",
   "version": "2.7.11"
  },
  "name": ""
 },
 "nbformat": 3,
 "nbformat_minor": 0,
 "worksheets": [
  {
   "cells": [
    {
     "cell_type": "code",
     "collapsed": false,
     "input": [
      "import pandas as pd\n",
      "\n",
      "df = pd.read_excel(r\"C:\\Users\\NancyE\\Downloads\\Providence Audits.xls\", converters={'STUDENT #': str, 'GRADE_LEVEL': str})\n",
      "\n",
      "print len(df)\n",
      "df_1 = df[df.loc[:, 'DATA_ISSUE'].str.contains('not numeric')]\n",
      "\n",
      "print len(df_1.loc[:, 'STUDENT #'].unique())\n",
      "student_list = df_1.loc[:, 'STUDENT #'].unique()\n",
      "\n",
      "print student_list\n",
      "\n",
      "df_2 = df[df.loc[:, 'STUDENT #'].isin(student_list)]\n",
      "\n",
      "df_2.to_csv(r\"C:\\Workspace\\ri-providence\\access\\data_audits.csv\", index=False)\n",
      "\n"
     ],
     "language": "python",
     "metadata": {},
     "outputs": [],
     "prompt_number": 11
    }
   ],
   "metadata": {}
  }
 ]
}