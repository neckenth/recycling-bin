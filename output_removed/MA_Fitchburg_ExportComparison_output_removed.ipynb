{
 "metadata": {
  "kernelspec": {
   "display_name": "Python 2",
   "language": "python",
   "name": "python2"
  },
  "language_info": {
   "codemirror_mode": {
    "name": "ipython",
    "version": 2
   },
   "file_extension": ".py",
   "mimetype": "text/x-python",
   "name": "python",
   "nbconvert_exporter": "python",
   "pygments_lexer": "ipython2",
   "version": "2.7.11"
  },
  "name": ""
 },
 "nbformat": 3,
 "nbformat_minor": 0,
 "worksheets": [
  {
   "cells": [
    {
     "cell_type": "code",
     "collapsed": false,
     "input": [
      "import pandas as pd\n",
      "\n",
      "existing = pd.read_csv(r\"C:\\Users\\NancyE\\Downloads\\EllevationExport_20171017_1505.csv\", dtype=str)\n",
      "f = pd.read_csv(r\"C:\\Users\\NancyE\\Downloads\\X2 to Ellevation 10.13.17.csv\", dtype=str)\n",
      "\n",
      "df = pd.merge(left=existing, right=f, left_on='Student #', right_on='LASID', how='outer', indicator=True)\n",
      "\n",
      "df = df[df.loc[:, '_merge'] == 'left_only']\n",
      "\n",
      "df = df[existing.columns.tolist()]\n",
      "df.to_csv(r\"C:\\Workspace\\ma-fitchburg\\student\\comparison_file.csv\", index=False)\n"
     ],
     "language": "python",
     "metadata": {},
     "outputs": [],
     "prompt_number": 5
    }
   ],
   "metadata": {}
  }
 ]
}