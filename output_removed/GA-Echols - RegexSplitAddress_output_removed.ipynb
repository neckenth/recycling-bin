{
 "metadata": {
  "kernelspec": {
   "display_name": "Python 2",
   "language": "python",
   "name": "python2"
  },
  "language_info": {
   "codemirror_mode": {
    "name": "ipython",
    "version": 2
   },
   "file_extension": ".py",
   "mimetype": "text/x-python",
   "name": "python",
   "nbconvert_exporter": "python",
   "pygments_lexer": "ipython2",
   "version": "2.7.11"
  },
  "name": ""
 },
 "nbformat": 3,
 "nbformat_minor": 0,
 "worksheets": [
  {
   "cells": [
    {
     "cell_type": "code",
     "collapsed": false,
     "input": [
      "import pandas as pd\n",
      "import re\n",
      "\n",
      "df=pd.read_csv(r\"C:\\Workspace\\ga-echolscounty\\student\\EcholsK-8_Aug2016.csv\", sep=',', dtype=str)\n",
      "\n",
      "print len(df)\n",
      "\n",
      "df_current=df.loc[df['Current'].notnull()]\n",
      "\n",
      "print len(df_current)\n",
      "\n",
      "df_current['mailingAddress.addressLine2'].str.extract('([\\w\\s]+), (\\w{2}) (\\d{5})')\n",
      "\n",
      "df_current['Derived_City']=df['mailingAddress.addressLine2'].str.extract('([\\w\\s]+), \\w{2} \\d{5}')\n",
      "\n",
      "df_current['Derived_State']=df['mailingAddress.addressLine2'].str.extract('[\\w\\s]+, (\\w{2}) \\d{5}')\n",
      "\n",
      "df_current['Derived_Zip']=df['mailingAddress.addressLine2'].str.extract('[\\w\\s]+, \\w{2} (\\d{5})')\n",
      "\n",
      "df_current.to_csv(r\"C:\\Workspace\\ga-echolscounty\\student\\EcholsK-8_Aug2016_processed.csv\", index=False)"
     ],
     "language": "python",
     "metadata": {},
     "outputs": [],
     "prompt_number": 4
    },
    {
     "cell_type": "code",
     "collapsed": true,
     "input": [],
     "language": "python",
     "metadata": {},
     "outputs": [],
     "prompt_number": null
    }
   ],
   "metadata": {}
  }
 ]
}