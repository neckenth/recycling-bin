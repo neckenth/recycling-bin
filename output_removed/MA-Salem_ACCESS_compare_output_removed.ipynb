{
 "metadata": {
  "kernelspec": {
   "display_name": "Python 2",
   "language": "python",
   "name": "python2"
  },
  "language_info": {
   "codemirror_mode": {
    "name": "ipython",
    "version": 2
   },
   "file_extension": ".py",
   "mimetype": "text/x-python",
   "name": "python",
   "nbconvert_exporter": "python",
   "pygments_lexer": "ipython2",
   "version": "2.7.11"
  },
  "name": ""
 },
 "nbformat": 3,
 "nbformat_minor": 0,
 "worksheets": [
  {
   "cells": [
    {
     "cell_type": "code",
     "collapsed": false,
     "input": [
      "import pandas as pd\n",
      "\n",
      "export = pd.read_csv(r\"C:\\Users\\NancyE\\Downloads\\EllevationExport_20170620_1113.csv\", dtype=str)\n",
      "\n",
      "scores = pd.read_csv(r\"C:\\Workspace\\ma-salem\\access\\ACCESS2017_June_prelim_02580000.csv\", dtype=str)\n",
      "\n",
      "print scores.columns.tolist()\n",
      "\n",
      "df = pd.merge(left=export, right=scores, left_on='Test ID #', right_on='sasid', how='outer', indicator=True)\n",
      "\n",
      "df._merge.value_counts()"
     ],
     "language": "python",
     "metadata": {},
     "outputs": [],
     "prompt_number": 5
    }
   ],
   "metadata": {}
  }
 ]
}