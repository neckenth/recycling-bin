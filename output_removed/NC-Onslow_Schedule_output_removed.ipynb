{
 "metadata": {
  "kernelspec": {
   "display_name": "Python 2",
   "language": "python",
   "name": "python2"
  },
  "language_info": {
   "codemirror_mode": {
    "name": "ipython",
    "version": 2
   },
   "file_extension": ".py",
   "mimetype": "text/x-python",
   "name": "python",
   "nbconvert_exporter": "python",
   "pygments_lexer": "ipython2",
   "version": "2.7.11"
  },
  "name": ""
 },
 "nbformat": 3,
 "nbformat_minor": 0,
 "worksheets": [
  {
   "cells": [
    {
     "cell_type": "code",
     "collapsed": false,
     "input": [
      "import pandas as pd\n",
      "\n",
      "export = pd.read_csv(r\"C:\\Users\\NancyE\\Downloads\\EllevationExport_20170330_1515.csv\", dtype=str)\n",
      "\n",
      "sched = pd.read_csv(r\"C:\\Workspace\\nc-onslow\\schedule\\merged-processed.csv\", dtype=str)\n",
      "\n",
      "df = pd.merge(left=export, right=sched, left_on='Student #', right_on='Student_Number', how='outer', indicator=True)\n",
      "\n",
      "df.loc[:, '_merge'].value_counts()"
     ],
     "language": "python",
     "metadata": {},
     "outputs": [],
     "prompt_number": 2
    }
   ],
   "metadata": {}
  }
 ]
}