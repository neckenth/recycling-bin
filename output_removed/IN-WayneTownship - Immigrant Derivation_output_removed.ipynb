{
 "metadata": {
  "kernelspec": {
   "display_name": "Python 2",
   "language": "python",
   "name": "python2"
  },
  "language_info": {
   "codemirror_mode": {
    "name": "ipython",
    "version": 2
   },
   "file_extension": ".py",
   "mimetype": "text/x-python",
   "name": "python",
   "nbconvert_exporter": "python",
   "pygments_lexer": "ipython2",
   "version": "2.7.11"
  },
  "name": ""
 },
 "nbformat": 3,
 "nbformat_minor": 0,
 "worksheets": [
  {
   "cells": [
    {
     "cell_type": "code",
     "collapsed": false,
     "input": [
      "import pandas as pd\n",
      "import datetime\n",
      "\n",
      "def derive_immigrant_status(row):\n",
      "    three_years_ago = str(datetime.date.today().year - 3)\n",
      "    immigrant_cut_off = pd.to_datetime('07/01/{}'.format(three_years_ago))\n",
      "    minus_three_years = datetime.datetime.now() - datetime.timedelta(days=3*365)\n",
      "    if pd.to_datetime(row.loc['Immigrant Entry Date']) < immigrant_cut_off:\n",
      "        return 'N'\n",
      "    elif pd.to_datetime(row.loc['Immigrant Entry Date']) > immigrant_cut_off:\n",
      "        return 'Y'\n",
      "\n",
      "df = pd.read_csv(r\"C:\\Workspace\\in-waynetownship\\student\\student.csv\", dtype=str)\n",
      "\n",
      "df.loc[df.loc[:, 'Immigrant Entry Date'].notnull(), 'Elv_Immigrant'] = df[df.loc[:, 'Immigrant Entry Date'].notnull()].apply(derive_immigrant_status, axis=1)\n",
      "\n",
      "df.head()\n",
      "\n",
      "\n"
     ],
     "language": "python",
     "metadata": {},
     "outputs": [],
     "prompt_number": 7
    }
   ],
   "metadata": {}
  }
 ]
}