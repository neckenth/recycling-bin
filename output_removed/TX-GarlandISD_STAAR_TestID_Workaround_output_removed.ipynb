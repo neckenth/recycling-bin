{
 "metadata": {
  "kernelspec": {
   "display_name": "Python 2",
   "language": "python",
   "name": "python2"
  },
  "language_info": {
   "codemirror_mode": {
    "name": "ipython",
    "version": 2
   },
   "file_extension": ".py",
   "mimetype": "text/x-python",
   "name": "python",
   "nbconvert_exporter": "python",
   "pygments_lexer": "ipython2",
   "version": "2.7.11"
  },
  "name": ""
 },
 "nbformat": 3,
 "nbformat_minor": 0,
 "worksheets": [
  {
   "cells": [
    {
     "cell_type": "code",
     "collapsed": false,
     "input": [
      "import pandas as pd\n",
      "import numpy as np\n",
      "\n",
      "scores = pd.read_csv(r\"C:\\Workspace\\tx-garlandisd\\staar\\tx-garlandisd-057909_5-8042018P_0418_I_STAAR_3-8_RPTG_20180424092554829-8aca883fcecf4d118c16714e6bba6ac3-processed.txt\", dtype=str, sep=',')\n",
      "students = pd.read_csv(r\"C:\\Workspace\\tx-garlandisd\\staar\\students_with_blank_testid.csv\", sep=',', dtype=str)\n",
      "\n",
      "blanked_out = pd.merge(left=scores, right=students, on='StudentLocalID', how='inner')\n",
      "\n",
      "blanked_out.loc[:, 'StudentTestID'] = np.NaN\n",
      "blanked_out.drop(labels=['StudentFirstName', 'StudentLastName'], axis=1, inplace=True)\n",
      "\n",
      "blanked_out.to_csv(r\"C:\\Workspace\\tx-garlandisd\\staar\\tx-garlandisd-057909_5-8042018P_0418_I_STAAR_3-8_RPTG_20180424092554829-8aca883fcecf4d118c16714e6bba6ac3-processed-blanked.txt\", index=False, sep=',')\n"
     ],
     "language": "python",
     "metadata": {},
     "outputs": [],
     "prompt_number": 7
    }
   ],
   "metadata": {}
  }
 ]
}