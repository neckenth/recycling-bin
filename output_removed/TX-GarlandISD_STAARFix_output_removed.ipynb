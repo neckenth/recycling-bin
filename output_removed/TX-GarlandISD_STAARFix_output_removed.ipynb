{
 "metadata": {
  "kernelspec": {
   "display_name": "Python 2",
   "language": "python",
   "name": "python2"
  },
  "language_info": {
   "codemirror_mode": {
    "name": "ipython",
    "version": 2
   },
   "file_extension": ".py",
   "mimetype": "text/x-python",
   "name": "python",
   "nbconvert_exporter": "python",
   "pygments_lexer": "ipython2",
   "version": "2.7.11"
  },
  "name": ""
 },
 "nbformat": 3,
 "nbformat_minor": 0,
 "worksheets": [
  {
   "cells": [
    {
     "cell_type": "code",
     "collapsed": false,
     "input": [
      "import pandas as pd\n",
      "import numpy as np\n",
      "import glob\n",
      "import os\n",
      "\n",
      "from pyep.settings import WORKSPACE_ROOT\n",
      "\n",
      "district = 'tx-garlandisd'\n",
      "\n",
      "for f in glob.glob('{}/{}/staar/temp/*.txt'.format(WORKSPACE_ROOT, district)):\n",
      "    print '.'\n",
      "    df = pd.read_csv(f, dtype=str, sep=',')\n",
      "    new_ix = df.index[-1]+ 1\n",
      "    row = pd.DataFrame(df[-1:].values, index=[new_ix], columns=df.columns)\n",
      "    row.loc[:, ['StudentTestID', 'StudentLocalID']] = np.NaN\n",
      "#     row.loc[:, 'StudentTestID'] = np.NaN\n",
      "#     row.loc[:, 'StudentLocalID'] = np.NaN\n",
      "    df = df.append(row)\n",
      "    df.to_csv(r'{}/{}/staar/temp/ELLSTDTST_{}'.format(WORKSPACE_ROOT, district, os.path.split(f)[1]), sep=',', index=False)\n",
      "    "
     ],
     "language": "python",
     "metadata": {},
     "outputs": [],
     "prompt_number": 3
    }
   ],
   "metadata": {}
  }
 ]
}