{
 "metadata": {
  "kernelspec": {
   "display_name": "Python 2",
   "language": "python",
   "name": "python2"
  },
  "language_info": {
   "codemirror_mode": {
    "name": "ipython",
    "version": 2
   },
   "file_extension": ".py",
   "mimetype": "text/x-python",
   "name": "python",
   "nbconvert_exporter": "python",
   "pygments_lexer": "ipython2",
   "version": "2.7.11"
  },
  "name": ""
 },
 "nbformat": 3,
 "nbformat_minor": 0,
 "worksheets": [
  {
   "cells": [
    {
     "cell_type": "code",
     "collapsed": false,
     "input": [
      "import pandas as pd\n",
      "\n",
      "df = pd.read_csv(r\"C:\\Workspace\\ar-rogers\\elpa 21\\ELPA scores 2017 for Ellevation.csv\", dtype=str)\n",
      "\n",
      "df.head()\n",
      "print len(df)\n",
      "df = df.dropna(axis=0, how='all')\n",
      "df.to_csv(r\"C:\\Workspace\\ar-rogers\\elpa 21\\ELPA scores 2017 for Ellevation_processed.csv\", index=False)"
     ],
     "language": "python",
     "metadata": {},
     "outputs": [],
     "prompt_number": 6
    },
    {
     "cell_type": "code",
     "collapsed": false,
     "input": [
      "import pandas as pd\n",
      "import numpy as np\n",
      "import glob\n",
      "import os\n",
      "\n",
      "from pyep.settings import WORKSPACE_ROOT\n",
      "\n",
      "\n",
      "subset = []\n",
      "for f in glob.glob('{}/ar-rogers/elpa 21/*.xls'.format(WORKSPACE_ROOT)):\n",
      "    df = pd.read_csv(f, sep='\\t', dtype=str)\n",
      "    subset.append(df)\n",
      "    \n",
      "df = pd.concat(subset)\n",
      "\n",
      "print df.head()\n",
      "\n",
      "df[['Listening Performance Level',\n",
      "   'Reading Performance Level',\n",
      "   'Speaking Performance Level',\n",
      "   'Writing Performance Level']] = df[['Listening Performance Level',\n",
      "                                       'Reading Performance Level',\n",
      "                                       'Speaking Performance Level',\n",
      "                                       'Writing Performance Level']].applymap(\n",
      "        lambda x: str(x).split(' ')[1] if 'Level' in x else np.NaN)\n",
      "\n",
      "df[['Listening Scale Score',\n",
      "   'Reading Scale Score',\n",
      "   'Speaking Scale Score',\n",
      "   'Writing Scale Score']] = df[['Listening Scale Score',\n",
      "                                       'Reading Scale Score',\n",
      "                                       'Speaking Scale Score',\n",
      "                                       'Writing Scale Score']].applymap(\n",
      "        lambda x: x if not x == 'Not Attempted' else np.NaN)\n",
      "\n",
      "df[['Listening Performance Status',\n",
      "   'Reading Performance Status',\n",
      "   'Speaking Performance Status',\n",
      "   'Writing Performance Status']] = df[['Listening Performance Status',\n",
      "                                       'Reading Performance Status',\n",
      "                                       'Speaking Performance Status',\n",
      "                                       'Writing Performance Status']].applymap(\n",
      "        lambda x: x if not x == 'Not Attempted' else np.NaN)\n",
      "\n",
      "df = df[~df.loc[:, 'ELPA21 Proficiency Status'].isin(['Invalidated', 'Not Attempted'])]\n",
      "print len(df)\n",
      "\n",
      "df = df[df.loc[:, 'Listening Performance Status'].notnull() & df.loc[:, 'Reading Performance Status'].notnull() & \n",
      "       df.loc[:, 'Speaking Performance Status'].notnull() & df.loc[:, 'Writing Performance Status'].notnull()]\n",
      "\n",
      "print len(df)\n",
      "\n",
      "df.to_csv(r\"C:\\Workspace\\ar-rogers\\elpa 21\\combined_processed.csv\", index=False)\n",
      "\n"
     ],
     "language": "python",
     "metadata": {},
     "outputs": [],
     "prompt_number": 6
    }
   ],
   "metadata": {}
  }
 ]
}