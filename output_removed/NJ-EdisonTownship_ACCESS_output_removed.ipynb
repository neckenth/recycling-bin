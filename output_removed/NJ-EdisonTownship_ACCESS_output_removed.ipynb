{
 "metadata": {
  "kernelspec": {
   "display_name": "Python 2",
   "language": "python",
   "name": "python2"
  },
  "language_info": {
   "codemirror_mode": {
    "name": "ipython",
    "version": 2
   },
   "file_extension": ".py",
   "mimetype": "text/x-python",
   "name": "python",
   "nbconvert_exporter": "python",
   "pygments_lexer": "ipython2",
   "version": "2.7.11"
  },
  "name": ""
 },
 "nbformat": 3,
 "nbformat_minor": 0,
 "worksheets": [
  {
   "cells": [
    {
     "cell_type": "code",
     "collapsed": false,
     "input": [
      "import pandas as pd\n",
      "import os\n",
      "\n",
      "from pyep.settings import WORKSPACE_ROOT\n",
      "\n",
      "subset=[]\n",
      "\n",
      "for file in os.listdir(WORKSPACE_ROOT + '/nj-edisontownship/access/'):\n",
      "    df = pd.read_excel(WORKSPACE_ROOT + '/nj-edisontownship/access/' + file)\n",
      "    subset.append(df)\n",
      "    \n",
      "df = pd.concat(subset)\n",
      "\n",
      "df.to_csv(r\"C:\\Workspace\\nj-edisontownship\\access\\combined_processed.csv\", index=False)"
     ],
     "language": "python",
     "metadata": {},
     "outputs": [],
     "prompt_number": 3
    }
   ],
   "metadata": {}
  }
 ]
}