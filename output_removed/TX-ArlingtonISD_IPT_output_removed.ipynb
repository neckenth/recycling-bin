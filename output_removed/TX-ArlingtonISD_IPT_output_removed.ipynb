{
 "metadata": {
  "kernelspec": {
   "display_name": "Python 2",
   "language": "python",
   "name": "python2"
  },
  "language_info": {
   "codemirror_mode": {
    "name": "ipython",
    "version": 2
   },
   "file_extension": ".py",
   "mimetype": "text/x-python",
   "name": "python",
   "nbconvert_exporter": "python",
   "pygments_lexer": "ipython2",
   "version": "2.7.11"
  },
  "name": ""
 },
 "nbformat": 3,
 "nbformat_minor": 0,
 "worksheets": [
  {
   "cells": [
    {
     "cell_type": "code",
     "collapsed": false,
     "input": [
      "import pandas as pd\n",
      "import numpy as np\n",
      "\n",
      "from common import is_null\n",
      "\n",
      "df = pd.read_csv(r\"C:\\Workspace\\tx-arlingtonisd\\ipt\\Pre-IPT Testing- Arlington ISD.csv\")\n",
      "\n",
      "def fill_blanks_designation(row):\n",
      "    if is_null(row.loc['Oral_Designation IPT I-Oral English Form G (1st Ed.)']) and not is_null(row.loc['Oral_Designation IPT I-Oral English Form H (1st Ed.)']):\n",
      "        return row.loc['Oral_Designation IPT I-Oral English Form H (1st Ed.)']\n",
      "    elif not is_null(row.loc['Oral_Designation IPT I-Oral English Form G (1st Ed.)']):\n",
      "        return row.loc['Oral_Designation IPT I-Oral English Form G (1st Ed.)']\n",
      "\n",
      "def fill_blanks_level(row):\n",
      "    if is_null(row.loc['Oral_Score_Level IPT I-Oral English Form G (1st Ed.)']) and not is_null(row.loc['Oral_Score_Level IPT I-Oral English Form H (1st Ed.)']):\n",
      "        return row.loc['Oral_Score_Level IPT I-Oral English Form H (1st Ed.)']\n",
      "    elif not is_null(row.loc['Oral_Score_Level IPT I-Oral English Form G (1st Ed.)']):\n",
      "        return row.loc['Oral_Score_Level IPT I-Oral English Form G (1st Ed.)']\n",
      "\n",
      "    \n",
      "df_1 = pd.pivot_table(data=df,\n",
      "                    index=['Student_ID', 'Grade', 'Oral_Test_Date'],\n",
      "                  columns='Oral_Test_Form',\n",
      "                 values=['Oral_Designation', 'Oral_Score_Level'],\n",
      "                 aggfunc=np.max).reset_index(col_level=1)\n",
      "\n",
      "df_1.columns=[' '.join(col).strip() for col in df_1.columns.tolist()]\n",
      "\n",
      "df_1.loc[:, 'Elv_Oral_Designation IPT I-Oral English'] = df_1.apply(fill_blanks_designation, axis=1)\n",
      "df_1.loc[:, 'Elv_Oral_Score_Level IPT I-Oral English'] = df_1.apply(fill_blanks_level, axis=1)\n",
      "\n",
      "\n",
      "df_1.to_csv(r\"C:\\Workspace\\tx-arlingtonisd\\ipt\\Pre-IPT Testing- Arlington ISD_processed.csv\", index=False)"
     ],
     "language": "python",
     "metadata": {},
     "outputs": [],
     "prompt_number": 1
    },
    {
     "cell_type": "code",
     "collapsed": false,
     "input": [
      "# one-time load\n",
      "\n",
      "import pandas as pd\n",
      "\n",
      "df = pd.read_excel(\"C:\\Users\\NancyE\\Downloads\\Arlington ISD One Time Load.xlsx\")\n",
      "\n",
      "print len(df)\n",
      "df.drop_duplicates(inplace=True)\n",
      "\n",
      "df.to_csv(r\"C:\\Users\\NancyE\\Downloads\\Arlington ISD One Time Load_processed.csv\", index=False)"
     ],
     "language": "python",
     "metadata": {},
     "outputs": [],
     "prompt_number": 9
    },
    {
     "cell_type": "code",
     "collapsed": false,
     "input": [
      "import pandas as pd\n",
      "import numpy as np\n",
      "\n",
      "from common import is_null\n",
      "\n",
      "df = pd.read_excel(r\"C:\\Workspace\\tx-arlingtonisd\\ipt\\Pre-IPT Testing- Arlington ISD.xlsx\")\n",
      "\n",
      "def fill_blanks_designation(row):\n",
      "    if is_null(row.loc['Oral_Designation IPT I-Oral English Form G (1st Ed.)']) and not is_null(row.loc['Oral_Designation IPT I-Oral English Form H (1st Ed.)']):\n",
      "        return row.loc['Oral_Designation IPT I-Oral English Form H (1st Ed.)']\n",
      "    elif not is_null(row.loc['Oral_Designation IPT I-Oral English Form G (1st Ed.)']):\n",
      "        return row.loc['Oral_Designation IPT I-Oral English Form G (1st Ed.)']\n",
      "\n",
      "def fill_blanks_level(row):\n",
      "    if is_null(row.loc['Oral_Score_Level IPT I-Oral English Form G (1st Ed.)']) and not is_null(row.loc['Oral_Score_Level IPT I-Oral English Form H (1st Ed.)']):\n",
      "        return row.loc['Oral_Score_Level IPT I-Oral English Form H (1st Ed.)']\n",
      "    elif not is_null(row.loc['Oral_Score_Level IPT I-Oral English Form G (1st Ed.)']):\n",
      "        return row.loc['Oral_Score_Level IPT I-Oral English Form G (1st Ed.)']\n",
      "\n",
      "    \n",
      "df_1 = pd.pivot_table(data=df,\n",
      "                    index=['Student_ID', 'Grade', 'Oral_Test_Date'],\n",
      "                  columns='Oral_Test_Form',\n",
      "                 values=['Oral_Designation', 'Oral_Score_Level'],\n",
      "                 aggfunc=np.max).reset_index(col_level=1)\n",
      "\n",
      "df_1.columns=[' '.join(col).strip() for col in df_1.columns.tolist()]\n",
      "\n",
      "df_1.loc[:, 'Elv_Oral_Designation IPT I-Oral English'] = df_1.apply(fill_blanks_designation, axis=1)\n",
      "df_1.loc[:, 'Elv_Oral_Score_Level IPT I-Oral English'] = df_1.apply(fill_blanks_level, axis=1)\n",
      "\n",
      "df_1.head()"
     ],
     "language": "python",
     "metadata": {},
     "outputs": [],
     "prompt_number": 6
    }
   ],
   "metadata": {}
  }
 ]
}