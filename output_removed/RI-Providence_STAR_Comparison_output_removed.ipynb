{
 "metadata": {
  "kernelspec": {
   "display_name": "Python 2",
   "language": "python",
   "name": "python2"
  },
  "language_info": {
   "codemirror_mode": {
    "name": "ipython",
    "version": 2
   },
   "file_extension": ".py",
   "mimetype": "text/x-python",
   "name": "python",
   "nbconvert_exporter": "python",
   "pygments_lexer": "ipython2",
   "version": "2.7.11"
  },
  "name": ""
 },
 "nbformat": 3,
 "nbformat_minor": 0,
 "worksheets": [
  {
   "cells": [
    {
     "cell_type": "code",
     "collapsed": false,
     "input": [
      "import pandas as pd\n",
      "\n",
      "new = pd.read_csv(r\"C:\\Workspace\\ri-providence\\star\\ELLSTDTST_RI-Providence_STAR_16-17.csv\", dtype=str)\n",
      "\n",
      "new_el = new[new.loc[:, 'TestTypeName'] == 'STAR Early Literacy']\n",
      "new_read = new[new.loc[:, 'TestTypeName'] == 'STAR Reading']\n",
      "\n",
      "existing_el = pd.read_csv(r\"C:\\Workspace\\ri-providence\\star\\existing_early_literacy.csv\", dtype=str)\n",
      "existing_read = pd.read_csv(r\"C:\\Workspace\\ri-providence\\star\\existing_reading.csv\", dtype=str)\n",
      "\n",
      "existing_el.rename(columns={\n",
      "        'AssessmentDate' : 'TestAdministrationDate',\n",
      "        'StudentStateID' : 'StudentTestID'\n",
      "    }, inplace=True)\n",
      "\n",
      "existing_read.rename(columns={\n",
      "        'AssessmentDate' : 'TestAdministrationDate',\n",
      "        'StudentStateID' : 'StudentTestID'\n",
      "    }, inplace=True)\n",
      "\n",
      "df_el = pd.merge(left=new_el, right=existing_el, on=['StudentTestID', 'StudentGradeLevel', 'TestAdministrationDate'], how='outer', indicator=True)\n",
      "df_read = pd.merge(left=new_read, right=existing_read, on=['StudentTestID', 'StudentGradeLevel', 'TestAdministrationDate'], how='outer', indicator=True)\n",
      "\n",
      "df_el = df_el[df_el.loc[:, '_merge'] == 'left_only']\n",
      "df_read = df_read[df_read.loc[:, '_merge'] == 'left_only']\n",
      "df_math = new[new.loc[:, 'TestTypeName'] == 'STAR Math']\n",
      "\n",
      "final = pd.concat(objs=[df_el, df_read, df_math])\n",
      "\n",
      "final.loc[:, new.columns.tolist()].to_csv(r\"C:\\Workspace\\ri-providence\\star\\ELLSTDTST_RI-Providence_STAR_16-17_filtered.csv\", index=False)\n"
     ],
     "language": "python",
     "metadata": {},
     "outputs": [],
     "prompt_number": 18
    }
   ],
   "metadata": {}
  }
 ]
}