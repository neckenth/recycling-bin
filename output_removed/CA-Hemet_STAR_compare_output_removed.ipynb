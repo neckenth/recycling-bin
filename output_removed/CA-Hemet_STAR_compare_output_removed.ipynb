{
 "metadata": {
  "kernelspec": {
   "display_name": "Python 2",
   "language": "python",
   "name": "python2"
  },
  "language_info": {
   "codemirror_mode": {
    "name": "ipython",
    "version": 2
   },
   "file_extension": ".py",
   "mimetype": "text/x-python",
   "name": "python",
   "nbconvert_exporter": "python",
   "pygments_lexer": "ipython2",
   "version": "2.7.11"
  },
  "name": ""
 },
 "nbformat": 3,
 "nbformat_minor": 0,
 "worksheets": [
  {
   "cells": [
    {
     "cell_type": "code",
     "collapsed": false,
     "input": [
      "import pandas as pd\n",
      "\n",
      "export = pd.read_csv(r\"C:\\Users\\NancyE\\Downloads\\EllevationExport_20161213_1034.csv\", dtype=str)\n",
      "\n",
      "scores = pd.read_csv(r\"C:\\Workspace\\ca-hemetunified\\STAR\\STAR test results- Dec 2016 (1).csv\", dtype=str)\n",
      "\n",
      "compare = pd.merge(left=export, right=scores, left_on='Student #', right_on='Student ID', indicator=True)\n",
      "\n",
      "compare._merge.value_counts()\n",
      "\n",
      "#compare.to_csv(r\"C:\\Workspace\\ca-hemetunified\\STAR\\STAR_compare.csv\")"
     ],
     "language": "python",
     "metadata": {},
     "outputs": [],
     "prompt_number": 6
    }
   ],
   "metadata": {}
  }
 ]
}