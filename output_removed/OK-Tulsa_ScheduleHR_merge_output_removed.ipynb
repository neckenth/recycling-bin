{
 "metadata": {
  "kernelspec": {
   "display_name": "Python 2",
   "language": "python",
   "name": "python2"
  },
  "language_info": {
   "codemirror_mode": {
    "name": "ipython",
    "version": 2
   },
   "file_extension": ".py",
   "mimetype": "text/x-python",
   "name": "python",
   "nbconvert_exporter": "python",
   "pygments_lexer": "ipython2",
   "version": "2.7.11"
  },
  "name": ""
 },
 "nbformat": 3,
 "nbformat_minor": 0,
 "worksheets": [
  {
   "cells": [
    {
     "cell_type": "code",
     "collapsed": false,
     "input": [
      "import pandas as pd\n",
      "import numpy as np\n",
      "\n",
      "sched = pd.read_csv(r\"C:\\Workspace\\ok-tulsa\\schedule\\tps_roster_20171120.csv\", dtype=str)\n",
      "hr = pd.read_csv(r\"C:\\Workspace\\ok-tulsa\\schedule\\ESLREPS-OK-TULSA_Tulsa_Consult_HR_Auto_3241.23.20171128_2100.csv\", dtype=str)\n",
      "\n",
      "print sched.columns.tolist()\n",
      "hr.rename(columns={\n",
      "        'Student #': 'StudentID',\n",
      "        'Teacher': 'TeacherName'\n",
      "    }, inplace=True)\n",
      "\n",
      "hr.loc[:, 'CourseNumber'] = 'Consult'\n",
      "hr.loc[:, 'CourseName'] = 'Homeroom'\n",
      "hr.loc[:, 'Term'] = '2700'\n",
      "\n",
      "df = pd.concat(objs=[sched, hr], axis=0)\n",
      "\n",
      "headers = ['SchoolNumber', \n",
      "           'StudentID', \n",
      "           'CourseNumber', \n",
      "           'CourseName', \n",
      "           'Term', \n",
      "           'Section', \n",
      "           'Period', \n",
      "           'TeacherName', \n",
      "           'TeacherNumber', \n",
      "           'TeacherID', \n",
      "           'DateEnrolled', \n",
      "           'DateLeft', \n",
      "           'ok_idea', \n",
      "           'tps_ss_course', \n",
      "           'tps_ss_zone']\n",
      "\n",
      "df.loc[:, headers].to_csv(r\"C:\\Workspace\\ok-tulsa\\schedule\\tps_roster_20171120_processed.csv\", index=False)\n",
      "\n",
      "\n"
     ],
     "language": "python",
     "metadata": {},
     "outputs": [],
     "prompt_number": 7
    }
   ],
   "metadata": {}
  }
 ]
}