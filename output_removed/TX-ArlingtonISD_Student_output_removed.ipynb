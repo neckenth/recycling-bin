{
 "metadata": {
  "kernelspec": {
   "display_name": "Python 2",
   "language": "python",
   "name": "python2"
  },
  "language_info": {
   "codemirror_mode": {
    "name": "ipython",
    "version": 2
   },
   "file_extension": ".py",
   "mimetype": "text/x-python",
   "name": "python",
   "nbconvert_exporter": "python",
   "pygments_lexer": "ipython2",
   "version": "2.7.11"
  },
  "name": ""
 },
 "nbformat": 3,
 "nbformat_minor": 0,
 "worksheets": [
  {
   "cells": [
    {
     "cell_type": "code",
     "collapsed": false,
     "input": [
      "import pandas as pd\n",
      "import numpy as np\n",
      "\n",
      "from common import is_null\n",
      "\n",
      "from pyep.transform import derive_from_date_exited_4y\n",
      "\n",
      "df = pd.read_csv(r\"C:\\Workspace\\tx-arlingtonisd\\student\\Student_Demographics.csv\", dtype=str)\n",
      "\n",
      "df.columns.tolist()\n",
      "\n",
      "def blank_lep_status(row):\n",
      "    if not is_null(row.loc['DATE_ENTERED_LEP']):\n",
      "        return 'ELL'\n",
      "    elif is_null(row.loc['DATE_ENTERED_LEP']):\n",
      "        return np.NaN\n",
      "\n",
      "df.loc[:, 'Elv_NativeLang'] = df.apply(\n",
      "    lambda x: x.loc['NATIVE_LANGUAGE'] if not is_null(x.loc['NATIVE_LANGUAGE']) else x.loc['HOME_LANGUAGE'], axis=1)\n",
      "\n",
      "df.loc[:, 'Elv_LEPStatus'] = df.apply(\n",
      "    lambda x: derive_from_date_exited_4y(x.loc['DATE_MONITORING_STARTED']) if \n",
      "    not is_null(x.loc['DATE_ENTERED_LEP']) and \n",
      "    not is_null(x.loc['DATE_MONITORING_STARTED']) \n",
      "    else blank_lep_status(x), \n",
      "    axis=1)\n",
      "\n",
      "df.loc[df['PARENT_PERMISSION_CD'] == 'C', 'Elv_LEPStatus'] = 'Parent Denial' \n",
      "\n",
      "df.loc[:, 'Elv_LEPStatus'].unique()\n",
      "\n",
      "df.loc[:, 'Elv_PARENT_PERMISSION_CD'] = df.apply(\n",
      "    lambda x: x.loc['PARENT_PERMISSION_CD'] if not x.loc['Elv_LEPStatus'] in ('Fully_Exited', 'Monitored_Year_4',\n",
      "                                                                             'Monitored_Year_3', 'Monitored_Year_2',\n",
      "                                                                             'Monitored_Year_1') else np.NaN, axis=1)\n",
      "\n",
      "# df.to_csv(r\"C:\\Workspace\\tx-arlingtonisd\\student\\Student_Demographics_processed.csv\", index=False)"
     ],
     "language": "python",
     "metadata": {},
     "outputs": [],
     "prompt_number": 1
    }
   ],
   "metadata": {}
  }
 ]
}