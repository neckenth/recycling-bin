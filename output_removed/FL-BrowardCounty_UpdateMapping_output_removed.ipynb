{
 "metadata": {
  "kernelspec": {
   "display_name": "Python 2",
   "language": "python",
   "name": "python2"
  },
  "language_info": {
   "codemirror_mode": {
    "name": "ipython",
    "version": 2
   },
   "file_extension": ".py",
   "mimetype": "text/x-python",
   "name": "python",
   "nbconvert_exporter": "python",
   "pygments_lexer": "ipython2",
   "version": "2.7.11"
  },
  "name": ""
 },
 "nbformat": 3,
 "nbformat_minor": 0,
 "worksheets": [
  {
   "cells": [
    {
     "cell_type": "code",
     "collapsed": false,
     "input": [
      "import pandas as pd\n",
      "\n",
      "df = pd.read_csv(r\"C:\\Workspace\\fl-browardcounty\\student\\BCPS_Stdt_Demo_newupdate-20171127-processed.csv\", dtype=str)\n",
      "\n",
      "# df.columns.tolist()\n",
      "\n",
      "df.loc[:, 'Lep Status Cd'].unique()\n",
      "\n",
      "df = df[df.loc[:, 'Sex'] == 'F']\n",
      "\n",
      "df = df[df.loc[:, 'Lep Status Cd'] == 'LY']\n",
      "\n",
      "df.to_csv(r\"C:\\Workspace\\fl-browardcounty\\student\\BCPS_Stdt_Demo_newupdate-20171127-processed_halved_LY_only.csv\", index=False)"
     ],
     "language": "python",
     "metadata": {},
     "outputs": [],
     "prompt_number": 8
    }
   ],
   "metadata": {}
  }
 ]
}