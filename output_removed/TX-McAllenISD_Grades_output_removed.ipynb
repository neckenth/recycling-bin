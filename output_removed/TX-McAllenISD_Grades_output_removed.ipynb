{
 "metadata": {
  "kernelspec": {
   "display_name": "Python 2",
   "language": "python",
   "name": "python2"
  },
  "language_info": {
   "codemirror_mode": {
    "name": "ipython",
    "version": 2
   },
   "file_extension": ".py",
   "mimetype": "text/x-python",
   "name": "python",
   "nbconvert_exporter": "python",
   "pygments_lexer": "ipython2",
   "version": "2.7.11"
  },
  "name": ""
 },
 "nbformat": 3,
 "nbformat_minor": 0,
 "worksheets": [
  {
   "cells": [
    {
     "cell_type": "code",
     "collapsed": false,
     "input": [
      "import pandas as pd\n",
      "import glob\n",
      "\n",
      "from pyep.settings import WORKSPACE_ROOT\n",
      "\n",
      "subset = []\n",
      "\n",
      "for f in glob.glob('{}/tx-mcallenisd/grades/cycle6/student_grades*.csv'.format(WORKSPACE_ROOT)):\n",
      "    df = pd.read_csv(f, dtype=str)\n",
      "    subset.append(df)\n",
      "    \n",
      "df = pd.concat(subset)\n",
      "\n",
      "df.head()\n",
      "\n",
      "print len(df)\n",
      "df.drop_duplicates(inplace=True)\n",
      "print len(df)\n",
      "\n",
      "df.to_csv(r\"C:\\Workspace\\tx-mcallenisd\\grades\\cycle6\\combined_grades.csv\", index=False)"
     ],
     "language": "python",
     "metadata": {},
     "outputs": [],
     "prompt_number": 1
    },
    {
     "cell_type": "code",
     "collapsed": true,
     "input": [
      "from pyep.csvutil import ingest_data_file, generate_data_file\n",
      "\n",
      "path = r\"C:\\Workspace\\tx-mcallenisd\\grades\\cycle6\\combined_grades.csv\"\n",
      "\n",
      "destination_path = path\n",
      "data = ingest_data_file(destination_path)\n",
      "files = generate_data_file(data, destination_path, chunkSize=20000)"
     ],
     "language": "python",
     "metadata": {},
     "outputs": [],
     "prompt_number": 2
    }
   ],
   "metadata": {}
  }
 ]
}