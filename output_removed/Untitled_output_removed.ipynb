{
 "metadata": {
  "kernelspec": {
   "display_name": "Python 2",
   "language": "python",
   "name": "python2"
  },
  "language_info": {
   "codemirror_mode": {
    "name": "ipython",
    "version": 2
   },
   "file_extension": ".py",
   "mimetype": "text/x-python",
   "name": "python",
   "nbconvert_exporter": "python",
   "pygments_lexer": "ipython2",
   "version": "2.7.11"
  },
  "name": ""
 },
 "nbformat": 3,
 "nbformat_minor": 0,
 "worksheets": [
  {
   "cells": [
    {
     "cell_type": "code",
     "collapsed": true,
     "input": [
      "# DI-4626: Separate Screener Score file into data frames based on test type and grade level\n",
      "\n",
      "import pandas as pd\n",
      "  \n",
      "header = ['StudentID', 'TestDate', 'Entry/Grade Level', 'Composite Prof Level', 'Listening Prof Level', 'Listening Raw Score', 'Literacy Prof Level', 'Oral Prof Level', 'Reading Prof Level', 'Reading Raw Score', 'Speaking Prof Level', 'Speaking Raw Score', 'Test Taken', 'Writing Prof Level', 'Writing Raw Score']\n",
      "  \n",
      "tests = [\n",
      "    {'FirstName': 'David', 'LastName': 'MacEachern', 'FatherLastName': 'Montero', 'FatherFirstName': 'Lavrenti', 'StudentTestID': '563297860', 'GuardianName': 'Tore Janssens'},\n",
      "    {'FirstName': 'Duy', 'LastName': 'Nguyen', 'FatherLastName': 'Flanagon', 'FatherFirstName': 'Murtagh', 'StudentTestID': '401183403', 'GuardianName': 'Moira McGuinness'},\n",
      "    {'FirstName': 'Hal', 'LastName': 'Bredbenner', 'FatherLastName': 'MacDaniel', 'FatherFirstName': 'Xiang', 'StudentTestID': '185950232', 'GuardianName': 'Drusilla Hopkins'},\n",
      "    {'FirstName': 'Jada', 'LastName': 'He', 'FatherLastName': 'Aleksandrov', 'FatherFirstName': 'Volodymyr', 'StudentTestID': '957184354', 'GuardianName': 'Sheryl Pickle'},\n",
      "    {'FirstName': 'Molly', 'LastName': 'Sloane', 'FatherLastName': 'OShea', 'FatherFirstName': 'Hallsteinn', 'StudentTestID': '256386842', 'GuardianName': 'Tatiana Gerhardsson'},\n",
      "    {'FirstName': 'Timna', 'LastName': 'Molberger', 'FatherLastName': 'Koenigsmann', 'FatherFirstName': 'Aristeidis', 'StudentTestID': '473452561', 'GuardianName': 'Ute Chownyk'}]\n",
      "  \n",
      "df = pd.DataFrame(students)[header]"
     ],
     "language": "python",
     "metadata": {},
     "outputs": [],
     "prompt_number": null
    },
    {
     "cell_type": "code",
     "collapsed": false,
     "input": [
      "import pandas as pd \n",
      "\n",
      "df = pd.read_csv('~/Desktop/ScreenScores.csv')\n",
      "\n",
      "screener_scores = df\n",
      "\n",
      "df['Test Taken']\n",
      "\n",
      "\n",
      "\n",
      "\n",
      "\n",
      "#headers = list(df.columns.values)\n",
      "\n",
      "#headers\n",
      "\n",
      "\n"
     ],
     "language": "python",
     "metadata": {},
     "outputs": [],
     "prompt_number": 14
    },
    {
     "cell_type": "code",
     "collapsed": true,
     "input": [],
     "language": "python",
     "metadata": {},
     "outputs": [],
     "prompt_number": null
    }
   ],
   "metadata": {}
  }
 ]
}