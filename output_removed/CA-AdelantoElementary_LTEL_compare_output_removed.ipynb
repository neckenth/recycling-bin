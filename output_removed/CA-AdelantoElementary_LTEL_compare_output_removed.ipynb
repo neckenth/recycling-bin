{
 "metadata": {
  "kernelspec": {
   "display_name": "Python 2",
   "language": "python",
   "name": "python2"
  },
  "language_info": {
   "codemirror_mode": {
    "name": "ipython",
    "version": 2
   },
   "file_extension": ".py",
   "mimetype": "text/x-python",
   "name": "python",
   "nbconvert_exporter": "python",
   "pygments_lexer": "ipython2",
   "version": "2.7.11"
  },
  "name": ""
 },
 "nbformat": 3,
 "nbformat_minor": 0,
 "worksheets": [
  {
   "cells": [
    {
     "cell_type": "code",
     "collapsed": false,
     "input": [
      "import pandas as pd\n",
      "\n",
      "ltel=pd.read_csv(r\"C:\\Workspace\\ca-adelantoelementary\\ltel\\ltel_with_headers.csv\", sep=',', dtype=str)\n",
      "\n",
      "export=pd.read_csv(r\"C:\\Users\\NancyE\\Downloads\\EllevationExport_20161129_1004.csv\", sep=',', dtype=str)\n",
      "\n",
      "result = pd.merge(left=ltel, right=export, left_on='State ID', right_on='Test ID #', how='outer', indicator=True)\n",
      "\n",
      "result.to_csv(r\"C:\\Workspace\\ca-adelantoelementary\\ltel\\compare.csv\", index=False)"
     ],
     "language": "python",
     "metadata": {},
     "outputs": [],
     "prompt_number": 5
    }
   ],
   "metadata": {}
  }
 ]
}