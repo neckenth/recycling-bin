{
 "metadata": {
  "kernelspec": {
   "display_name": "Python 2",
   "language": "python",
   "name": "python2"
  },
  "language_info": {
   "codemirror_mode": {
    "name": "ipython",
    "version": 2
   },
   "file_extension": ".py",
   "mimetype": "text/x-python",
   "name": "python",
   "nbconvert_exporter": "python",
   "pygments_lexer": "ipython2",
   "version": "2.7.11"
  },
  "name": ""
 },
 "nbformat": 3,
 "nbformat_minor": 0,
 "worksheets": [
  {
   "cells": [
    {
     "cell_type": "code",
     "collapsed": false,
     "input": [
      "import pandas as pd\n",
      "\n",
      "df = pd.read_csv(r\"C:\\Workspace\\tx-arlingtonisd\\grades\\Arlington ISD_Course_Grades Revised Cycle 5.csv\", dtype=str)\n",
      "\n",
      "print df.loc[:, 'GRADING_PERIOD'].unique()\n",
      "\n",
      "print len(df)\n",
      "df = df[df.loc[:, 'GRADING_PERIOD'] == '5th Six Weeks']\n",
      "print len(df)\n",
      "\n",
      "df.to_csv(r\"C:\\Workspace\\tx-arlingtonisd\\grades\\Arlington ISD_Course_Grades Revised Cycle 5_processed.csv\", index=False)\n",
      "\n",
      "\n"
     ],
     "language": "python",
     "metadata": {},
     "outputs": [],
     "prompt_number": 1
    },
    {
     "cell_type": "code",
     "collapsed": true,
     "input": [
      "from pyep.csvutil import ingest_data_file, generate_data_file\n",
      "\n",
      "path = r\"C:\\Workspace\\tx-arlingtonisd\\grades\\Arlington ISD_Course_Grades Revised Cycle 5_processed.csv\"\n",
      "\n",
      "destination_path = path\n",
      "data = ingest_data_file(destination_path)\n",
      "files = generate_data_file(data, destination_path, chunkSize=15000)\n",
      "\n"
     ],
     "language": "python",
     "metadata": {},
     "outputs": [],
     "prompt_number": 2
    },
    {
     "cell_type": "code",
     "collapsed": false,
     "input": [
      "import pandas as pd\n",
      "\n",
      "df = pd.read_csv(r\"C:\\Workspace\\tx-arlingtonisd\\grades\\Course_Grades.csv\", dtype=str)\n",
      "subj = pd.read_csv(r\"C:\\Workspace\\tx-arlingtonisd\\grades\\Revised Subjects_Arlington.csv\", dtype=str)\n",
      "\n",
      "df = df[df.loc[:, 'GRADING_PERIOD'] == '5th Six Weeks']\n",
      "\n",
      "def derive_subject(x):\n",
      "    course_name = x.loc['COURSE_NAME'].lower()\n",
      "    if 'reading' in course_name or 'writing' in course_name or 'read' in course_name:\n",
      "        return 'English Language Arts'\n",
      "    elif 'math' in course_name:\n",
      "        return 'Math'\n",
      "    elif 'science' in course_name:\n",
      "        return 'Science'\n",
      "    elif 'social' in course_name:\n",
      "        return 'History and Social Science'\n",
      "    else:\n",
      "        return x.loc['SUBJECT']\n",
      "    \n",
      "df.loc[:, 'Elv_CourseSubject'] = df.apply(\n",
      "    lambda x: derive_subject(x), axis=1)\n",
      "\n",
      "subj_dict = subj.set_index('Course Name').to_dict()['Correct Course Subject']\n",
      "\n",
      "df.loc[df.loc[:, 'Elv_CourseSubject'] == 'Other Electives', 'Elv_CourseSubject'] = df.loc[df.loc[:, 'Elv_CourseSubject'] == 'Other Electives', 'COURSE_NAME'].map(subj_dict)\n",
      "\n",
      "print df.loc[:, 'Elv_CourseSubject'].unique()\n",
      "\n",
      "df.to_csv(r\"C:\\Workspace\\tx-arlingtonisd\\grades\\Course_Grades_processed.csv\", index=False)\n"
     ],
     "language": "python",
     "metadata": {},
     "outputs": [],
     "prompt_number": 4
    },
    {
     "cell_type": "code",
     "collapsed": true,
     "input": [
      "from pyep.csvutil import ingest_data_file, generate_data_file\n",
      "\n",
      "path = r\"C:\\Workspace\\tx-arlingtonisd\\grades\\Course_Grades_processed.csv\"\n",
      "\n",
      "destination_path = path\n",
      "data = ingest_data_file(destination_path)\n",
      "files = generate_data_file(data, destination_path, chunkSize=15000)"
     ],
     "language": "python",
     "metadata": {},
     "outputs": [],
     "prompt_number": 5
    },
    {
     "cell_type": "code",
     "collapsed": true,
     "input": [
      "from pyep.csvutil import ingest_data_file, generate_data_file\n",
      "\n",
      "path = r\"C:\\Workspace\\tx-arlingtonisd\\grades\\ArlingtonISD_0601_Course_Grades (6).csv\"\n",
      "\n",
      "destination_path = path\n",
      "data = ingest_data_file(destination_path)\n",
      "files = generate_data_file(data, destination_path, chunkSize=15000)"
     ],
     "language": "python",
     "metadata": {},
     "outputs": [],
     "prompt_number": 1
    }
   ],
   "metadata": {}
  }
 ]
}