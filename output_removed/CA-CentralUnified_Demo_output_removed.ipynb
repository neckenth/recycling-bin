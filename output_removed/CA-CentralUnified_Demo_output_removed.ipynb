{
 "metadata": {
  "kernelspec": {
   "display_name": "Python 2",
   "language": "python",
   "name": "python2"
  },
  "language_info": {
   "codemirror_mode": {
    "name": "ipython",
    "version": 2
   },
   "file_extension": ".py",
   "mimetype": "text/x-python",
   "name": "python",
   "nbconvert_exporter": "python",
   "pygments_lexer": "ipython2",
   "version": "2.7.11"
  },
  "name": ""
 },
 "nbformat": 3,
 "nbformat_minor": 0,
 "worksheets": [
  {
   "cells": [
    {
     "cell_type": "code",
     "collapsed": false,
     "input": [
      "import numpy as np\n",
      "from common import is_null\n",
      "from datetime import datetime as dt\n",
      "import pandas as pd\n",
      "from pyep.transform import derive_from_date_exited_4y\n",
      "\n",
      "df=pd.read_csv(r\"C:\\Workspace\\ca-centralunified\\student\\StudentDemographics.csv\", sep=',', dtype=object)\n",
      "\n",
      "df['ELV_LepStatus'] = df.apply(\n",
      "    lambda x: derive_from_date_exited_4y(x['Date Entered RFEP'])\n",
      "    if x['LEP Status'] == 'RFEP' else x['LEP Status'],\n",
      "    axis=1)\n",
      "\n",
      "df['Elv_Yrs_USSchools'] = df['Date Enrolled in the US'].map(\n",
      "    lambda x: np.NaN if is_null(x) \n",
      "    else (dt.today()-pd.to_datetime(x)).days / 365)\n",
      "\n",
      "df.to_csv(r\"C:\\Workspace\\ca-centralunified\\student\\StudentDemographics_processed.csv\", sep=',', index=False)"
     ],
     "language": "python",
     "metadata": {},
     "outputs": [],
     "prompt_number": 3
    }
   ],
   "metadata": {}
  }
 ]
}