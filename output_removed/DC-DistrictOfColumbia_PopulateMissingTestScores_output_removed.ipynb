{
 "metadata": {
  "kernelspec": {
   "display_name": "Python 2",
   "language": "python",
   "name": "python2"
  },
  "language_info": {
   "codemirror_mode": {
    "name": "ipython",
    "version": 2
   },
   "file_extension": ".py",
   "mimetype": "text/x-python",
   "name": "python",
   "nbconvert_exporter": "python",
   "pygments_lexer": "ipython2",
   "version": "2.7.11"
  },
  "name": ""
 },
 "nbformat": 3,
 "nbformat_minor": 0,
 "worksheets": [
  {
   "cells": [
    {
     "cell_type": "code",
     "collapsed": false,
     "input": [
      "import pandas as pd\n",
      "\n",
      "dates = pd.read_excel(r\"C:\\Workspace\\dc-districtofcolumbia\\student\\Old Test Dates 3-23-18.xlsx\")\n",
      "missing = pd.read_excel(r\"C:\\Workspace\\dc-districtofcolumbia\\student\\Missing ELP Test Date From Old File 3-23-18.xlsx\")\n",
      "\n",
      "df = pd.merge(left=missing, right=dates, left_on='Student Number #', right_on='student', how='left')\n",
      "\n",
      "df.rename(columns={\n",
      "        'Latest ELP Test Date_x' : 'Latest ELP Test Date'\n",
      "    }, inplace=True)\n",
      "\n",
      "df.loc[df.loc[:, 'Latest ELP Test Date'].isnull(), 'Latest ELP Test Date'] = df.loc[df.loc[:, 'Latest ELP Test Date'].isnull(), 'Latest ELP Test Date_y']\n",
      "\n",
      "df = df[df.loc[:, 'Comment'].notnull()]\n",
      "print len(df)\n",
      "\n",
      "df[missing.columns.tolist()].to_csv(r\"C:\\Workspace\\dc-districtofcolumbia\\student\\Missing ELP Test Date From Old File 3-23-18_processed_filtered.csv\", index=False)"
     ],
     "language": "python",
     "metadata": {},
     "outputs": [],
     "prompt_number": 8
    },
    {
     "cell_type": "code",
     "collapsed": false,
     "input": [
      "import pandas as pd\n",
      "import numpy as np\n",
      "from common import is_null\n",
      "\n",
      "df = pd.read_csv(r\"C:\\Workspace\\dc-districtofcolumbia\\student\\ELLs Missing Valen 3-26-18_processed.csv\", dtype=str)\n",
      "\n",
      "comments = pd.read_csv(r\"C:\\Workspace\\dc-districtofcolumbia\\student\\ELLs Missing Valen 3-26-18_comments.csv\", dtype=str, sep=',')\n",
      "\n",
      "merged = pd.merge(left=df, right=comments, left_on='Student Number #', right_on='\\xef\\xbb\\xbfstudentlocalid', how='inner')\n",
      "\n",
      "merged.loc[merged.loc[:, 'Comments'].notnull() & merged.loc[:, 'StudentComment'].notnull(), 'Comments'] = merged.loc[merged.loc[:, 'Comments'].notnull() & merged.loc[:, 'StudentComment'].notnull()].apply(\n",
      "    lambda x: '{}, {}'.format(x.loc['StudentComment'], x.loc['Comments']), axis=1)\n",
      "\n",
      "merged.loc[:, df.columns.tolist()].to_csv(r\"C:\\Workspace\\dc-districtofcolumbia\\student\\ELLs Missing Valen 3-26-18_processed_filtered_comments_fixed_8.csv\", index=False)"
     ],
     "language": "python",
     "metadata": {},
     "outputs": [],
     "prompt_number": 31
    }
   ],
   "metadata": {}
  }
 ]
}