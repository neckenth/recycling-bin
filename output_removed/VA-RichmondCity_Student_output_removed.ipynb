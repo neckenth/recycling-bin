{
 "metadata": {
  "kernelspec": {
   "display_name": "Python 2",
   "language": "python",
   "name": "python2"
  },
  "language_info": {
   "codemirror_mode": {
    "name": "ipython",
    "version": 2
   },
   "file_extension": ".py",
   "mimetype": "text/x-python",
   "name": "python",
   "nbconvert_exporter": "python",
   "pygments_lexer": "ipython2",
   "version": "2.7.11"
  },
  "name": ""
 },
 "nbformat": 3,
 "nbformat_minor": 0,
 "worksheets": [
  {
   "cells": [
    {
     "cell_type": "code",
     "collapsed": false,
     "input": [
      "import pandas as pd\n",
      "import numpy as np\n",
      "\n",
      "from pyep.transform import derive_from_date_exited_4y\n",
      "\n",
      "df = pd.read_csv(r\"C:\\Workspace\\va-richmondcity\\student\\EllevationStudents08222017.csv\", dtype=str)\n",
      "\n",
      "df = df[df.loc[:, 'LEP Status'].notnull()]\n",
      "\n",
      "def derive_lep_status(row):\n",
      "    if row.loc['LEP Status'] == 'Receives EL Services':\n",
      "        return 'ELL'\n",
      "    elif row.loc['LEP Status'] == 'Refused EL services':\n",
      "        return 'Opt Out'\n",
      "    elif row.loc['LEP Status'] == '3' or row.loc['LEP Status'] == 'Formerly EL within 4 yrs after exiting EL pgm':\n",
      "        return 'Monitored'\n",
      "        \n",
      "df.loc[:, 'Elv_LEPStatus'] = df.apply(derive_lep_status, axis=1)\n",
      "\n",
      "df.loc[:, 'Elv_LEPExitDate'] = df.apply(\n",
      "    lambda x: x.loc['Exited LEP Date'] if (x.loc['LEP Status'] == '3' or x.loc['LEP Status'] == 'Formerly EL within 4 yrs after exiting EL pgm') else np.NaN, axis=1)\n",
      "\n",
      "df.loc[:, 'Elv_LEPStatus'] = df.apply(\n",
      "    lambda x: x.loc['Elv_LEPStatus'] if not x.loc['Elv_LEPStatus'] == 'Monitored' \n",
      "    else derive_from_date_exited_4y(x.loc['Elv_LEPExitDate']), axis=1) \n",
      "\n",
      "df.to_csv(r\"C:\\Workspace\\va-richmondcity\\student\\EllevationStudents08222017_processed.csv\", index=False)\n",
      "\n"
     ],
     "language": "python",
     "metadata": {},
     "outputs": [],
     "prompt_number": 11
    }
   ],
   "metadata": {}
  }
 ]
}