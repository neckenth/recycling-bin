{
 "metadata": {
  "kernelspec": {
   "display_name": "Python 2",
   "language": "python",
   "name": "python2"
  },
  "language_info": {
   "codemirror_mode": {
    "name": "ipython",
    "version": 2
   },
   "file_extension": ".py",
   "mimetype": "text/x-python",
   "name": "python",
   "nbconvert_exporter": "python",
   "pygments_lexer": "ipython2",
   "version": "2.7.11"
  },
  "name": ""
 },
 "nbformat": 3,
 "nbformat_minor": 0,
 "worksheets": [
  {
   "cells": [
    {
     "cell_type": "code",
     "collapsed": false,
     "input": [
      "import pandas as pd\n",
      "import numpy as np\n",
      "\n",
      "from pyep.transform import derive_from_date_exited_4y\n",
      "\n",
      "df = pd.read_csv(r\"C:\\Workspace\\ny-valleystream13\\student\\20171019_Students.csv\", dtype=str)\n",
      "\n",
      "df.loc[:, 'Elv_LEPStatus'] = df.apply(\n",
      "        lambda x: derive_from_date_exited_4y(x.loc['Date Exited LEP'])\n",
      "        if x.loc['LEP Status'] != 'Current ELL' else x.loc['LEP Status'],\n",
      "        axis=1)\n",
      "\n",
      "df.loc[:, 'Date Entered US'] = df.loc[:, 'Date Entered US'].map(\n",
      "    lambda x: x if not x == '01/01/1900' else np.NaN)\n",
      "\n",
      "df.to_csv(r\"C:\\Workspace\\ny-valleystream13\\student\\20171019_Students_processed.csv\", index=False)"
     ],
     "language": "python",
     "metadata": {},
     "outputs": [],
     "prompt_number": 5
    }
   ],
   "metadata": {}
  }
 ]
}