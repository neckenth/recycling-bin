{
 "metadata": {
  "kernelspec": {
   "display_name": "Python 2",
   "language": "python",
   "name": "python2"
  },
  "language_info": {
   "codemirror_mode": {
    "name": "ipython",
    "version": 2
   },
   "file_extension": ".py",
   "mimetype": "text/x-python",
   "name": "python",
   "nbconvert_exporter": "python",
   "pygments_lexer": "ipython2",
   "version": "2.7.11"
  },
  "name": ""
 },
 "nbformat": 3,
 "nbformat_minor": 0,
 "worksheets": [
  {
   "cells": [
    {
     "cell_type": "code",
     "collapsed": false,
     "input": [
      "import pandas as pd\n",
      "\n",
      "df=pd.read_csv(r\"C:\\Workspace\\ca-sanmateounionhigh\\person\\ELL_Student_Staff.txt\", sep=',', dtype=object)\n",
      "\n",
      "dups = df.loc[df['EMAIL'].duplicated(), 'EMAIL']\n",
      "\n",
      "deduplicated = df[~(df.loc[:, 'EMAIL'].isin(dups) & (df.loc[:, 'JOB_CLASS'].isnull()))]\n",
      "\n",
      "deduplicated.to_csv(r\"C:\\Workspace\\ca-sanmateounionhigh\\person\\ELL_Student_Staff_processed.txt\", sep='\\t', index=False)"
     ],
     "language": "python",
     "metadata": {},
     "outputs": [],
     "prompt_number": 1
    }
   ],
   "metadata": {}
  }
 ]
}