{
 "metadata": {
  "kernelspec": {
   "display_name": "Python 2",
   "language": "python",
   "name": "python2"
  },
  "language_info": {
   "codemirror_mode": {
    "name": "ipython",
    "version": 2
   },
   "file_extension": ".py",
   "mimetype": "text/x-python",
   "name": "python",
   "nbconvert_exporter": "python",
   "pygments_lexer": "ipython2",
   "version": "2.7.11"
  },
  "name": ""
 },
 "nbformat": 3,
 "nbformat_minor": 0,
 "worksheets": [
  {
   "cells": [
    {
     "cell_type": "code",
     "collapsed": false,
     "input": [
      "import pandas as pd\n",
      "\n",
      "df = pd.read_csv(r\"C:\\Workspace\\ma-framingham\\elp-test-score\\Access Scores Jan 16.csv\", sep=',', dtype=str)\n",
      "\n",
      "df_alt=df[df.loc[:, 'TIER'] == 'ALT']\n",
      "\n",
      "print len(df_alt)\n",
      "\n",
      "df=df[df.loc[:, 'TIER'] != 'ALT']\n",
      "\n",
      "print len(df)\n",
      "\n",
      "df_alt.to_csv(r\"C:\\Workspace\\ma-framingham\\elp-test-score\\Access Scores Jan 16_alt.csv\", index=False)\n",
      "\n",
      "df.to_csv(r\"C:\\Workspace\\ma-framingham\\elp-test-score\\Access Scores Jan 16_not_alt.csv\", index=False)"
     ],
     "language": "python",
     "metadata": {},
     "outputs": [],
     "prompt_number": 4
    }
   ],
   "metadata": {}
  }
 ]
}