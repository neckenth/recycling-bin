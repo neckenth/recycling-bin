{
 "metadata": {
  "kernelspec": {
   "display_name": "Python 2",
   "language": "python",
   "name": "python2"
  },
  "language_info": {
   "codemirror_mode": {
    "name": "ipython",
    "version": 2
   },
   "file_extension": ".py",
   "mimetype": "text/x-python",
   "name": "python",
   "nbconvert_exporter": "python",
   "pygments_lexer": "ipython2",
   "version": "2.7.11"
  },
  "name": ""
 },
 "nbformat": 3,
 "nbformat_minor": 0,
 "worksheets": [
  {
   "cells": [
    {
     "cell_type": "code",
     "collapsed": false,
     "input": [
      "import pandas as pd\n",
      "\n",
      "scores = pd.read_csv(r\"C:\\Workspace\\tx-clevelandisd\\staar\\ELLSTDTST_tx-clevelandisd-146901_EOC122017R_1217_I_STAAR_EOC_RPTG_20180107120538234 (1)-9dd78e2535a74bd09b61a3c6143e2081-processed.txt\", sep=',', dtype=str)\n",
      "\n",
      "students = pd.read_csv(r\"C:\\Users\\NancyE\\Downloads\\EllevationExport_20180121_2124.csv\", sep=',', dtype=str)\n",
      "\n",
      "matches = pd.merge(left=scores, right=students, left_on='StudentTestID', right_on='Test ID #', indicator=True)\n",
      "\n"
     ],
     "language": "python",
     "metadata": {},
     "outputs": [],
     "prompt_number": 5
    }
   ],
   "metadata": {}
  }
 ]
}