{
 "metadata": {
  "kernelspec": {
   "display_name": "Python 2",
   "language": "python",
   "name": "python2"
  },
  "language_info": {
   "codemirror_mode": {
    "name": "ipython",
    "version": 2
   },
   "file_extension": ".py",
   "mimetype": "text/x-python",
   "name": "python",
   "nbconvert_exporter": "python",
   "pygments_lexer": "ipython2",
   "version": "2.7.11"
  },
  "name": ""
 },
 "nbformat": 3,
 "nbformat_minor": 0,
 "worksheets": [
  {
   "cells": [
    {
     "cell_type": "code",
     "collapsed": false,
     "input": [
      "# metching on Email\n",
      "\n",
      "import pandas as pd\n",
      "\n",
      "existing = pd.read_csv(r\"C:\\Workspace\\ok-tulsa\\person\\PEOPLE01Standard.csv\", dtype=str, sep=',')\n",
      "\n",
      "new = pd.read_csv(r\"C:\\Workspace\\ok-tulsa\\person\\tps_staff_20170519.csv\", dtype=str, sep=',')\n",
      "new = new[~new.loc[:, 'SchoolName'].isin(['ADDAMS ELEMENTARY', 'BARNARD ELEMENTARY', 'INACTIVE SCHOOL'])]\n",
      "\n",
      "df_email_match = pd.merge(left=existing, right=new, left_on='EMAIL', right_on='EmailAddress', how='outer', indicator=True)\n",
      "\n",
      "df_email_match._merge.value_counts()\n",
      "\n"
     ],
     "language": "python",
     "metadata": {},
     "outputs": [],
     "prompt_number": 18
    },
    {
     "cell_type": "code",
     "collapsed": false,
     "input": [
      "# matching on Staff ID\n",
      "\n",
      "df_staffid_match = pd.merge(left=existing, right=new, left_on='STAFF ID', right_on='TeacherNumber', how='outer', indicator=True)\n",
      "df_staffid_match._merge.value_counts()"
     ],
     "language": "python",
     "metadata": {},
     "outputs": [],
     "prompt_number": 19
    }
   ],
   "metadata": {}
  }
 ]
}