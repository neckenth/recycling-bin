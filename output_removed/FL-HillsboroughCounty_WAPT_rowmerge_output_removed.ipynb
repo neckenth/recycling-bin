{
 "metadata": {
  "kernelspec": {
   "display_name": "Python 2",
   "language": "python",
   "name": "python2"
  },
  "language_info": {
   "codemirror_mode": {
    "name": "ipython",
    "version": 2
   },
   "file_extension": ".py",
   "mimetype": "text/x-python",
   "name": "python",
   "nbconvert_exporter": "python",
   "pygments_lexer": "ipython2",
   "version": "2.7.11"
  },
  "name": ""
 },
 "nbformat": 3,
 "nbformat_minor": 0,
 "worksheets": [
  {
   "cells": [
    {
     "cell_type": "code",
     "collapsed": false,
     "input": [
      "import pandas as pd\n",
      "\n",
      "df = pd.read_csv(r\"C:\\Workspace\\fl-hillsboroughcounty\\elp-test-score\\20180404_HCPS_ASSESSMENT_WPT_WID-processed.csv\", dtype=str)\n",
      "\n",
      "df.sort_values(by=['Student_Number', 'ELV_Date_Admin'], inplace=True)\n",
      "\n",
      "df = df.groupby(['Test_Type', 'Test_Name', 'Student_Number']).last().reset_index()\n",
      "\n",
      "# df = df[df.loc[:, 'Student_Number'] == '6903976']\n",
      "\n",
      "df.head()"
     ],
     "language": "python",
     "metadata": {},
     "outputs": [],
     "prompt_number": 14
    }
   ],
   "metadata": {}
  }
 ]
}