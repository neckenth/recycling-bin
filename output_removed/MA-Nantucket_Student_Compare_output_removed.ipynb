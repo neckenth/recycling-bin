{
 "metadata": {
  "kernelspec": {
   "display_name": "Python 2",
   "language": "python",
   "name": "python2"
  },
  "language_info": {
   "codemirror_mode": {
    "name": "ipython",
    "version": 2
   },
   "file_extension": ".py",
   "mimetype": "text/x-python",
   "name": "python",
   "nbconvert_exporter": "python",
   "pygments_lexer": "ipython2",
   "version": "2.7.11"
  },
  "name": ""
 },
 "nbformat": 3,
 "nbformat_minor": 0,
 "worksheets": [
  {
   "cells": [
    {
     "cell_type": "code",
     "collapsed": true,
     "input": [
      "import pandas as pd\n",
      "\n",
      "export = pd.read_csv(r\"C:\\Users\\NancyE\\Downloads\\EllevationExport_20170911_1724.csv\", dtype=str)\n",
      "student = pd.read_csv(r\"C:\\Workspace\\ma-nantucket\\student\\Students-20170911-processed.csv\", dtype=str)\n",
      "\n",
      "df = pd.merge(left=export, right=student, left_on='Student #', right_on='LASID', how='outer', indicator=True)\n",
      "\n",
      "df.to_csv(r\"C:\\Workspace\\ma-nantucket\\student\\Students-20170911_compare.csv\", index=False)"
     ],
     "language": "python",
     "metadata": {},
     "outputs": [],
     "prompt_number": 1
    }
   ],
   "metadata": {}
  }
 ]
}