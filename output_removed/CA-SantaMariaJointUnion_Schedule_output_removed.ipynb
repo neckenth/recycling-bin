{
 "metadata": {
  "kernelspec": {
   "display_name": "Python 2",
   "language": "python",
   "name": "python2"
  },
  "language_info": {
   "codemirror_mode": {
    "name": "ipython",
    "version": 2
   },
   "file_extension": ".py",
   "mimetype": "text/x-python",
   "name": "python",
   "nbconvert_exporter": "python",
   "pygments_lexer": "ipython2",
   "version": "2.7.11"
  },
  "name": ""
 },
 "nbformat": 3,
 "nbformat_minor": 0,
 "worksheets": [
  {
   "cells": [
    {
     "cell_type": "code",
     "collapsed": false,
     "input": [
      "import pandas as pd\n",
      "import os\n",
      "\n",
      "from pyep.settings import WORKSPACE_ROOT\n",
      "from pyep import read_delimited\n",
      "\n",
      "subset = []\n",
      "\n",
      "for file in os.listdir (WORKSPACE_ROOT + '/ca-santamariajointunion/schedule/'):\n",
      "    #print file\n",
      "    df = read_delimited((WORKSPACE_ROOT + '/ca-santamariajointunion/schedule/' + file))\n",
      "    #print len(df)\n",
      "    #print df.columns.tolist()\n",
      "    subset.append(df)\n",
      "                        \n",
      "df = pd.concat(subset)\n",
      "\n",
      "#print df.columns\n",
      "\n",
      "\n",
      "\n",
      "df.to_csv(r\"C:\\Workspace\\ca-santamariajointunion\\schedule\\combined.txt\", sep='\\t', index=False)"
     ],
     "language": "python",
     "metadata": {},
     "outputs": [],
     "prompt_number": 10
    },
    {
     "cell_type": "code",
     "collapsed": false,
     "input": [
      "for column in df.columns.tolist():\n",
      "    print max(df[column].map(\n",
      "        lambda x: len(str(x))))\n",
      "    #print df[column].map(type)\n",
      "    print column\n",
      "    \n",
      "#df['Period'].unique()\n",
      "\n",
      "#print df['Period'].map(type)"
     ],
     "language": "python",
     "metadata": {},
     "outputs": [],
     "prompt_number": 11
    }
   ],
   "metadata": {}
  }
 ]
}