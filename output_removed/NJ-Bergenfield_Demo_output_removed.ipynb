{
 "metadata": {
  "kernelspec": {
   "display_name": "Python 2",
   "language": "python",
   "name": "python2"
  },
  "language_info": {
   "codemirror_mode": {
    "name": "ipython",
    "version": 2
   },
   "file_extension": ".py",
   "mimetype": "text/x-python",
   "name": "python",
   "nbconvert_exporter": "python",
   "pygments_lexer": "ipython2",
   "version": "2.7.11"
  },
  "name": ""
 },
 "nbformat": 3,
 "nbformat_minor": 0,
 "worksheets": [
  {
   "cells": [
    {
     "cell_type": "code",
     "collapsed": false,
     "input": [
      "import pandas as pd\n",
      "\n",
      "from pyep.transform import derive_from_date_exited_4y\n",
      "from common import is_null\n",
      "\n",
      "df = pd.read_excel(r\"C:\\Workspace\\nj-bergenfield\\student\\Student Demographics.xlsx\", converters={'Last Name': str,\n",
      "                                                                                                 'DateExitedLEP':str,\n",
      "                                                                                                 'Parent Denied Permission': str,\n",
      "                                                                                                'Date Withdrawn':str,\n",
      "                                                                                                'Refused ESL/ELD Services':str},\n",
      "                  keep_default_na=False, na_values=[''])\n",
      "\n",
      "print df.columns.tolist()\n",
      "\n",
      "df.loc[df.loc[:, 'DateExitedLEP'].notnull(), 'Elv_LEPStatus'] = df.loc[df.loc[:, 'DateExitedLEP'].notnull()].apply(\n",
      "    lambda x: derive_from_date_exited_4y(x.loc['DateExitedLEP']), axis=1)\n",
      "\n",
      "df.loc[df.loc[:, 'Elv_LEPStatus'].isnull(), 'Elv_LEPStatus'] = 'ELL'\n",
      "\n",
      "df.loc[df.loc[:, 'Parent Denied Permission'].notnull(), 'Elv_LEPStatus'] = 'Parent Denial'\n",
      "       \n",
      "# df.loc[:, 'Elv_Withdrawn'] = df.loc[:, 'Date Withdrawn'].map(\n",
      "#     lambda x: 'Y' if not is_null(x) else 'N')\n",
      "\n",
      "df.loc[:, 'Elv_ReceivingServices'] = df.apply(\n",
      "    lambda x: 'Y' if x.loc['Elv_LEPStatus'] == 'ELL' and x.loc['Refused ESL/ELD Services'] == '0' else 'N', axis=1)\n",
      "\n",
      "df.to_csv(r\"C:\\Workspace\\nj-bergenfield\\student\\Student Demographics_processed.csv\", index=False)\n",
      "\n"
     ],
     "language": "python",
     "metadata": {},
     "outputs": [],
     "prompt_number": 3
    }
   ],
   "metadata": {}
  }
 ]
}