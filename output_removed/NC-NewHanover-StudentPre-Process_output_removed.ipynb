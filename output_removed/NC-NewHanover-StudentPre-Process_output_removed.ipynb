{
 "metadata": {
  "kernelspec": {
   "display_name": "Python 2",
   "language": "python",
   "name": "python2"
  },
  "language_info": {
   "codemirror_mode": {
    "name": "ipython",
    "version": 2
   },
   "file_extension": ".py",
   "mimetype": "text/x-python",
   "name": "python",
   "nbconvert_exporter": "python",
   "pygments_lexer": "ipython2",
   "version": "2.7.11"
  },
  "name": ""
 },
 "nbformat": 3,
 "nbformat_minor": 0,
 "worksheets": [
  {
   "cells": [
    {
     "cell_type": "code",
     "collapsed": false,
     "input": [
      "# append header\n",
      "# exclude students with blanks in StudentCoreFields.lep_status\n",
      "#from pyep import read_delimited, fetch_header\n",
      "\n",
      "import pandas as pd\n",
      "\n",
      "head = pd.read_csv(r\"C:\\Workspace\\nc-newhanover\\student\\nc-newhanover-headers.txt\", sep = '\\t')\n",
      "\n",
      "#head=fetch_header(r\"C:\\Workspace\\nc-newhanover\\student\\nc-newhanover-headers.txt\")\n",
      "\n",
      "head_list=head.columns.tolist()\n",
      "\n",
      "df = pd.read_csv(r\"C:\\Workspace\\nc-newhanover\\student\\Ellevation.txt\", names=head_list, sep ='\\t', dtype= object)\n",
      "\n",
      "filtered = df[~df.loc[:,'StudentCoreFields.lep_status'].isnull()]\n",
      "\n",
      "# print len(filtered)\n",
      "\n",
      "filtered.to_csv(r\"C:\\Workspace\\nc-newhanover\\student\\nc-newhanover-filtered_withheaders.txt\", sep='\\t', index=False)"
     ],
     "language": "python",
     "metadata": {},
     "outputs": [],
     "prompt_number": 11
    }
   ],
   "metadata": {}
  }
 ]
}