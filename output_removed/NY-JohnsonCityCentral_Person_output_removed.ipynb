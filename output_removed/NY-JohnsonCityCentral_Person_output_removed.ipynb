{
 "metadata": {
  "kernelspec": {
   "display_name": "Python 2",
   "language": "python",
   "name": "python2"
  },
  "language_info": {
   "codemirror_mode": {
    "name": "ipython",
    "version": 2
   },
   "file_extension": ".py",
   "mimetype": "text/x-python",
   "name": "python",
   "nbconvert_exporter": "python",
   "pygments_lexer": "ipython2",
   "version": "2.7.11"
  },
  "name": ""
 },
 "nbformat": 3,
 "nbformat_minor": 0,
 "worksheets": [
  {
   "cells": [
    {
     "cell_type": "code",
     "collapsed": false,
     "input": [
      "import pandas as pd\n",
      "\n",
      "df = pd.read_excel(r\"C:\\Workspace\\ny-johnsoncitycentral\\person\\staff 12122016 (2).xlsx\", converters={'ID': str, \n",
      "                                                                                                     'Group': str, \n",
      "                                                                                                     'TeacherNumber': str, \n",
      "                                                                                                     'SchoolID': str})\n",
      "\n",
      "print len(df)\n",
      "\n",
      "df = df[~df.loc[:, 'SchoolID'].isin(['974'])]\n",
      "\n",
      "print len(df)\n",
      "\n",
      "df.to_csv(r\"C:\\Workspace\\ny-johnsoncitycentral\\person\\staff 12122016 (2)_processed.csv\", sep=',', index=False)"
     ],
     "language": "python",
     "metadata": {},
     "outputs": [],
     "prompt_number": 6
    }
   ],
   "metadata": {}
  }
 ]
}