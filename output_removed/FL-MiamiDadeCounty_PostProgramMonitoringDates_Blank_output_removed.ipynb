{
 "metadata": {
  "kernelspec": {
   "display_name": "Python 2",
   "language": "python",
   "name": "python2"
  },
  "language_info": {
   "codemirror_mode": {
    "name": "ipython",
    "version": 2
   },
   "file_extension": ".py",
   "mimetype": "text/x-python",
   "name": "python",
   "nbconvert_exporter": "python",
   "pygments_lexer": "ipython2",
   "version": "2.7.11"
  },
  "name": ""
 },
 "nbformat": 3,
 "nbformat_minor": 0,
 "worksheets": [
  {
   "cells": [
    {
     "cell_type": "code",
     "collapsed": false,
     "input": [
      "import pandas as pd\n",
      "import glob\n",
      "\n",
      "from pyep.settings import WORKSPACE_ROOT\n",
      "\n",
      "district = 'fl-miamidadecounty'\n",
      "\n",
      "subset = []\n",
      "\n",
      "for f in glob.glob('{}/{}/student/ELLEVATION_DEMOGRAPHIC-20180801-*-processed.csv'.format(WORKSPACE_ROOT, district)):\n",
      "    df = pd.read_csv(f, dtype=str)\n",
      "    condition1 = df.loc[:, 'DateExitedLEP'].notnull()\n",
      "    condition2 = pd.to_datetime(df.loc[:, 'DateExitedLEP']) >= pd.to_datetime('08/01/2016')\n",
      "    condition3 = df.loc[:, 'Elv_MeetingDate1'].isnull()\n",
      "    df = df[condition1 & condition2 & condition3]\n",
      "    subset.append(df)\n",
      "    \n",
      "df = pd.concat(subset)\n",
      "\n",
      "df.to_csv('{}/{}/student/ELLEVATION_DEMOGRAPHIC-20180801-incorrect-date-logic.csv'.format(WORKSPACE_ROOT, district), index=False)"
     ],
     "language": "python",
     "metadata": {},
     "outputs": [],
     "prompt_number": 6
    }
   ],
   "metadata": {}
  }
 ]
}