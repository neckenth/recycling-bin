{
 "metadata": {
  "kernelspec": {
   "display_name": "Python 2",
   "language": "python",
   "name": "python2"
  },
  "language_info": {
   "codemirror_mode": {
    "name": "ipython",
    "version": 2
   },
   "file_extension": ".py",
   "mimetype": "text/x-python",
   "name": "python",
   "nbconvert_exporter": "python",
   "pygments_lexer": "ipython2",
   "version": "2.7.11"
  },
  "name": ""
 },
 "nbformat": 3,
 "nbformat_minor": 0,
 "worksheets": [
  {
   "cells": [
    {
     "cell_type": "code",
     "collapsed": false,
     "input": [
      "import pandas as pd\n",
      "import glob\n",
      "import os\n",
      "import sys\n",
      "\n",
      "from pyep.settings import WORKSPACE_ROOT\n",
      "\n",
      "district = 'tx-kleinisd'\n",
      "\n",
      "path = '{}/{}/telpas/oct/*'.format(WORKSPACE_ROOT, district)\n",
      "files = glob.glob(path)   \n",
      "\n",
      "with open('{}/{}/telpas/oct/output.txt'.format(WORKSPACE_ROOT, district), \"w\") as o:\n",
      "    for name in files:\n",
      "        print os.path.getsize(name)\n",
      "        with open(name, \"r\") as i:\n",
      "                o.write(i.read())\n",
      "                \n",
      "print os.path.getsize('{}/{}/telpas/oct/output.txt'.format(WORKSPACE_ROOT, district))\n"
     ],
     "language": "python",
     "metadata": {
      "scrolled": true
     },
     "outputs": [],
     "prompt_number": 5
    }
   ],
   "metadata": {}
  }
 ]
}