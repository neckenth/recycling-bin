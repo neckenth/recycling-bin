{
 "metadata": {
  "kernelspec": {
   "display_name": "Python 2",
   "language": "python",
   "name": "python2"
  },
  "language_info": {
   "codemirror_mode": {
    "name": "ipython",
    "version": 2
   },
   "file_extension": ".py",
   "mimetype": "text/x-python",
   "name": "python",
   "nbconvert_exporter": "python",
   "pygments_lexer": "ipython2",
   "version": "2.7.11"
  },
  "name": ""
 },
 "nbformat": 3,
 "nbformat_minor": 0,
 "worksheets": [
  {
   "cells": [
    {
     "cell_type": "code",
     "collapsed": false,
     "input": [
      "import pandas as pd\n",
      "from common import is_null\n",
      "import numpy as np\n",
      "\n",
      "head=pd.read_csv(r\"C:\\Workspace\\ny-deerpark\\elp-test-score\\ELL NYSITELL Header row.csv\", dtype=str)\n",
      "\n",
      "df=pd.read_csv(r\"C:\\Workspace\\ny-deerpark\\elp-test-score\\20160925_ELLNYSIT.CSV\", names=head, dtype=str)\n",
      "\n",
      "df = df.applymap(lambda x: np.NaN if is_null(x) else x)\n",
      "\n",
      "df.head()\n",
      "\n",
      "# df=df[df.loc[:, 'gradeLevel'].notnull()]\n",
      "# print len(df)\n",
      "\n",
      "# df.to_csv(r\"C:\\Workspace\\ny-deerpark\\elp-test-score\\20160925_ELLNYSIT_processed.CSV\", index=False, sep=',')"
     ],
     "language": "python",
     "metadata": {},
     "outputs": [],
     "prompt_number": 13
    },
    {
     "cell_type": "code",
     "collapsed": false,
     "input": [
      "import sys\n",
      "import pandas as pd\n",
      "import numpy as np\n",
      "import datetime as dt\n",
      "\n",
      "from pyep import qualify_file_name, read_delimited, fetch_header\n",
      "from pyep.settings import WORKSPACE_ROOT\n",
      "from common import is_null\n",
      "\n",
      "\n",
      "\n",
      "def main():\n",
      "    \n",
      "    filename = WORKSPACE_ROOT + '/ny-deerpark/elp-test-score/20160925_ELLNYSIT.CSV'\n",
      "\n",
      "    # Read the file as a stream of text and store it in a list.\n",
      "    with open(filename, 'rb') as file:\n",
      "        f = file.read().split('\\n')\n",
      "\n",
      "    # Replace each null byte with an empty string.\n",
      "    processed = []\n",
      "    for record in f:\n",
      "        processed.append(record.replace('\\x00', '') + '\\n')\n",
      "\n",
      "    # Write the list to a file.\n",
      "    tempfile = qualify_file_name(filename, 'temp')\n",
      "    with open(tempfile, 'wb') as file:\n",
      "        file.writelines(processed)\n",
      "\n",
      "    header = fetch_header(WORKSPACE_ROOT + '/ny-deerpark/elp-test-score/headers-ny-deerpark.csv')\n",
      "\n",
      "    df = read_delimited(tempfile, header=None, names=header, isInteractive=False)\n",
      "    df = df.applymap(lambda x: np.NaN if is_null(x) else x)\n",
      "    \n",
      "    df=df[df.loc[:, 'gradeLevel'].notnull()]\n",
      "    df['testDate'] = pd.to_datetime(df['testDate'], format='%m/%d/%Y', errors='coerce')\n",
      "    \n",
      "    df_pre_2015 = df[(df['testDate'] <= pd.to_datetime('2015/01/01'))]\n",
      "    \n",
      "    print len(df_pre_2015)\n",
      "    \n",
      "    df_2015_forward = df[(df['testDate'] >= pd.to_datetime('2015-01-01'))]\n",
      "    \n",
      "    print len(df_2015_forward)\n",
      "\n",
      "    df_pre_2015.to_csv(qualify_file_name(filename, 'pre-2015-processed'), index=False)\n",
      "    df_2015_forward.to_csv(qualify_file_name(filename, '2015-forward-processed'), index=False)\n",
      "\n",
      "\n",
      "if __name__ == '__main__':\n",
      "    main()\n"
     ],
     "language": "python",
     "metadata": {},
     "outputs": [],
     "prompt_number": 3
    }
   ],
   "metadata": {}
  }
 ]
}