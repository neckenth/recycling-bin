{
 "metadata": {
  "kernelspec": {
   "display_name": "Python 2",
   "language": "python",
   "name": "python2"
  },
  "language_info": {
   "codemirror_mode": {
    "name": "ipython",
    "version": 2
   },
   "file_extension": ".py",
   "mimetype": "text/x-python",
   "name": "python",
   "nbconvert_exporter": "python",
   "pygments_lexer": "ipython2",
   "version": "2.7.11"
  },
  "name": ""
 },
 "nbformat": 3,
 "nbformat_minor": 0,
 "worksheets": [
  {
   "cells": [
    {
     "cell_type": "code",
     "collapsed": false,
     "input": [
      "import pandas as pd\n",
      "import os\n",
      "\n",
      "from pyep import read_delimited\n",
      "from pyep.settings import WORKSPACE_ROOT\n",
      "\n",
      "# subset = []\n",
      "\n",
      "# head = read_delimited(r\"C:\\Workspace\\ma-matchcharter\\schedule\\ma_matchcharter_schedule_headers.txt\", dtype=str)\n",
      "# for file in os.listdir (WORKSPACE_ROOT + '/ma-matchcharter/schedule/'):\n",
      "#     df = read_delimited(WORKSPACE_ROOT + '/ma-matchcharter/schedule/' + file)\n",
      "#     subset.append(df)\n",
      "    \n",
      "subsets = []\n",
      "\n",
      "for file in os.listdir (WORKSPACE_ROOT + '/ma-matchcharter/schedule/'):\n",
      "    subsets.append(read_delimited(WORKSPACE_ROOT + '/ma-matchcharter/schedule/' + file,\n",
      "                              names=head,\n",
      "                                  header=None,\n",
      "                              isInteractive=False,\n",
      "                              castNull=True))\n",
      "    \n",
      "df = pd.concat(subsets)\n",
      "\n",
      "df.to_csv(r\"C:\\Workspace\\ma-matchcharter\\schedule\\merged.txt\", index=False)"
     ],
     "language": "python",
     "metadata": {},
     "outputs": [],
     "prompt_number": 18
    }
   ],
   "metadata": {}
  }
 ]
}