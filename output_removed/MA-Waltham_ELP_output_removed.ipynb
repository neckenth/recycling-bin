{
 "metadata": {
  "kernelspec": {
   "display_name": "Python 2",
   "language": "python",
   "name": "python2"
  },
  "language_info": {
   "codemirror_mode": {
    "name": "ipython",
    "version": 2
   },
   "file_extension": ".py",
   "mimetype": "text/x-python",
   "name": "python",
   "nbconvert_exporter": "python",
   "pygments_lexer": "ipython2",
   "version": "2.7.11"
  },
  "name": ""
 },
 "nbformat": 3,
 "nbformat_minor": 0,
 "worksheets": [
  {
   "cells": [
    {
     "cell_type": "code",
     "collapsed": false,
     "input": [
      "import pandas as pd\n",
      "import numpy as np\n",
      "\n",
      "df = pd.read_csv(r\"C:\\Workspace\\ma-waltham\\students.txt\", sep='\\t', dtype=str)\n",
      "\n",
      "df = df[df.loc[:, 'Type of Test'].notnull()]\n",
      "\n",
      "columns = ['GRADE (16)', 'SASID (02)', 'ELL Test Date', 'Type of Test', 'ELL - Tester', 'Speaking', 'Listening', 'Writing', 'Reading', 'Oral', 'Literacy', 'Overall Score']\n",
      "\n",
      "df = df.loc[:, df.columns.isin(list(columns))]\n",
      "\n",
      "df = df.replace('n/a', np.NaN)\n",
      "\n",
      "model_k = df[df.loc[:, 'Type of Test'].str.contains('\\w{4}\\s\\w{5}\\s\\-?\\s?\\k', regex=True, case=False)]\n",
      "\n",
      "model_1_12 = df[df.loc[:, 'Type of Test'] == 'WIDA Model 1-12']\n",
      "\n",
      "model_k.to_csv(r\"C:\\Workspace\\ma-waltham\\model\\model_k.csv\", sep=',', index=False)\n",
      "model_1_12.to_csv(r\"C:\\Workspace\\ma-waltham\\model\\model_1_12.csv\", sep=',', index=False)"
     ],
     "language": "python",
     "metadata": {
      "scrolled": true
     },
     "outputs": [],
     "prompt_number": 34
    }
   ],
   "metadata": {}
  }
 ]
}