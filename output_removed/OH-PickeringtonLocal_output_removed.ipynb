{
 "metadata": {
  "kernelspec": {
   "display_name": "Python 2",
   "language": "python",
   "name": "python2"
  },
  "language_info": {
   "codemirror_mode": {
    "name": "ipython",
    "version": 2
   },
   "file_extension": ".py",
   "mimetype": "text/x-python",
   "name": "python",
   "nbconvert_exporter": "python",
   "pygments_lexer": "ipython2",
   "version": "2.7.11"
  },
  "name": ""
 },
 "nbformat": 3,
 "nbformat_minor": 0,
 "worksheets": [
  {
   "cells": [
    {
     "cell_type": "code",
     "collapsed": false,
     "input": [
      "import pandas as pd \n",
      "\n",
      "necessary_columns = [\n",
      "    '\\xef\\xbb\\xbfLocalStudentID',\n",
      "    'StateTestingID',\n",
      "    'StaffID', \n",
      "    'TeacherName', \n",
      "    'CourseName', \n",
      "    'CourseCode', \n",
      "    'TermSemesterTrimester']\n",
      "\n",
      "df = pd.read_csv(r\"C:\\Workspace\\oh-pickeringtonlocal\\schedule\\aa-ellevation.schedule (3) (1).csv\", usecols=necessary_columns)\n",
      "\n",
      "print df.columns.tolist()\n",
      "\n",
      "print len(df)\n",
      "\n",
      "df.drop_duplicates(subset = ['\\xef\\xbb\\xbfLocalStudentID', 'StaffID', 'TeacherName', 'CourseName', 'CourseCode', 'TermSemesterTrimester'], inplace=True)\n",
      "\n",
      "print len(df)\n",
      "\n",
      "df.loc[df['TermSemesterTrimester'].isin(['Q1', 'Q2', 'T1']), 'Elv_Term'] = 'Term_1'\n",
      "df.loc[df['TermSemesterTrimester'].isin(['Q3', 'Q4', 'T3']), 'Elv_Term'] = 'Term_2'\n",
      "df.loc[df['TermSemesterTrimester'] == 'T2', 'Elv_Term'] = 'Full_Year'\n",
      "\n",
      "df.drop_duplicates(subset = ['\\xef\\xbb\\xbfLocalStudentID', 'StaffID', 'TeacherName', 'CourseName', 'CourseCode', 'Elv_Term'], inplace=True)\n",
      "\n",
      "print len(df)\n",
      "\n",
      "df.to_csv(r\"C:\\Workspace\\oh-pickeringtonlocal\\schedule\\aa-ellevation.schedule_processed.csv\", index=False)"
     ],
     "language": "python",
     "metadata": {},
     "outputs": [],
     "prompt_number": 26
    }
   ],
   "metadata": {}
  }
 ]
}