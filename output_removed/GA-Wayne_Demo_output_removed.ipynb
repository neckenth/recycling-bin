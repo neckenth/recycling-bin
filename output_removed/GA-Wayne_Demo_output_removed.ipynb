{
 "metadata": {
  "kernelspec": {
   "display_name": "Python 2",
   "language": "python",
   "name": "python2"
  },
  "language_info": {
   "codemirror_mode": {
    "name": "ipython",
    "version": 2
   },
   "file_extension": ".py",
   "mimetype": "text/x-python",
   "name": "python",
   "nbconvert_exporter": "python",
   "pygments_lexer": "ipython2",
   "version": "2.7.11"
  },
  "name": ""
 },
 "nbformat": 3,
 "nbformat_minor": 0,
 "worksheets": [
  {
   "cells": [
    {
     "cell_type": "code",
     "collapsed": false,
     "input": [
      "import pandas as pd\n",
      "from datetime import datetime as dt\n",
      "import numpy as np\n",
      "\n",
      "from common import is_null\n",
      "\n",
      "df=pd.read_csv(r\"C:\\Workspace\\ga-wayne\\student\\demographics.csv\", sep=',', dtype=str)\n",
      "\n",
      "# derive LEP Status based on values from two columns in source file\n",
      "\n",
      "df['Elv_LEPStatus'] = df.loc[df['LEP Status'].isin(['LEP']), 'Elv_LEPStatus'] = 'LEP'\n",
      "\n",
      "df.loc[df['LEP Status'].isin(['Not LEP']) &\n",
      "      df['ELP Designation'].isin(['Exited LEP']), 'Elv_LEPStatus'] = 'EL-F'\n",
      "\n",
      "df.loc[df['LEP Status'].isin(['Not LEP']) &\n",
      "      df['ELP Designation'].isin(['Not LEP']), 'Elv_LEPStatus'] = 'EL-N'\n",
      "\n",
      "df.loc[df['LEP Status'] == '1st Year Monitoring', 'Elv_LEPStatus'] = 'EL-M1'\n",
      "\n",
      "df.loc[df['LEP Status'] == '2nd Year Monitoring', 'Elv_LEPStatus'] = 'EL-M2'\n",
      "\n",
      "# split all contact cells into one for name and one for phone number\n",
      "\n",
      "contact1=df['Contact1 Name and Phone Number'].str.split('(')\n",
      "df['Elv_Contact1_name'] = contact1.str[0]\n",
      "df['Elv_Contact1_number'] = '(' + contact1.str[1]\n",
      "\n",
      "contact2=df['Contact2 Name and Phone Number'].str.split('(')\n",
      "df['Elv_Contact2_name'] = contact2.str[0]\n",
      "df['Elv_Contact2_number'] = '(' + contact2.str[1]\n",
      "\n",
      "guardian=df['Guardians Name and Phone Number'].str.split('(')\n",
      "df['Elv_Guardian_name'] = guardian.str[0]\n",
      "df['Elv_Guardian_number'] = '(' + guardian.str[1]\n",
      "\n",
      "# derive Years in US Schools from Date Enrolled in US\n",
      "\n",
      "pd.to_datetime(df['Date Enrolled un US'])\n",
      "\n",
      "df['Elv_Yrs_USSchools'] = df['Date Enrolled un US'].map(\n",
      "    lambda x: np.NaN if is_null(x) \n",
      "    else (dt.today()-pd.to_datetime(x)).days / 365)\n",
      "\n",
      "df.to_csv(r\"C:\\Workspace\\ga-wayne\\student\\demographics_processed.csv\", index=False)\n"
     ],
     "language": "python",
     "metadata": {},
     "outputs": [],
     "prompt_number": 53
    },
    {
     "cell_type": "code",
     "collapsed": true,
     "input": [],
     "language": "python",
     "metadata": {},
     "outputs": [],
     "prompt_number": null
    }
   ],
   "metadata": {}
  }
 ]
}