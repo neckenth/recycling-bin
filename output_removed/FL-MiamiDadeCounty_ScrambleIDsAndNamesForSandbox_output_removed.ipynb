{
 "metadata": {
  "kernelspec": {
   "display_name": "Python 2",
   "language": "python",
   "name": "python2"
  },
  "language_info": {
   "codemirror_mode": {
    "name": "ipython",
    "version": 2
   },
   "file_extension": ".py",
   "mimetype": "text/x-python",
   "name": "python",
   "nbconvert_exporter": "python",
   "pygments_lexer": "ipython2",
   "version": "2.7.11"
  },
  "name": ""
 },
 "nbformat": 3,
 "nbformat_minor": 0,
 "worksheets": [
  {
   "cells": [
    {
     "cell_type": "code",
     "collapsed": true,
     "input": [
      "import pandas as pd\n",
      "from random import random\n",
      "\n",
      "def scrambler(x):\n",
      "    scrambled = sorted(x, key=lambda i: random())\n",
      "    scrambled = ''.join(scrambled)\n",
      "    return scrambled\n",
      "\n",
      "df = pd.read_csv(r\"C:\\Workspace\\fl-miamidadecounty\\student\\RawChunkForTest.csv\", dtype=str)\n",
      "\n",
      "df.loc[:, 'StudentLocalID'] = df.loc[:, 'StudentLocalID'].map(\n",
      "    lambda x: scrambler(x))\n",
      "\n",
      "df.loc[:, 'StudentTestID'] = df.loc[:, 'StudentTestID'].map(\n",
      "    lambda x: scrambler(x))\n",
      "\n",
      "df.loc[:, 'FirstName'] = df.loc[:, 'FirstName'].map(\n",
      "    lambda x: scrambler(x))\n",
      "\n",
      "df.loc[:, 'LastName'] = df.loc[:, 'LastName'].map(\n",
      "    lambda x: scrambler(x))\n",
      "\n",
      "df.to_csv(r\"C:\\Workspace\\fl-miamidadecounty\\student\\RawChunkForTest_scrambled.csv\", index=False)\n",
      "\n"
     ],
     "language": "python",
     "metadata": {},
     "outputs": [],
     "prompt_number": 1
    }
   ],
   "metadata": {}
  }
 ]
}