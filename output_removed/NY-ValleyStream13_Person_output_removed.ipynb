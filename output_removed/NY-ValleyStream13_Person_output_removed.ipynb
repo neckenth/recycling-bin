{
 "metadata": {
  "kernelspec": {
   "display_name": "Python 2",
   "language": "python",
   "name": "python2"
  },
  "language_info": {
   "codemirror_mode": {
    "name": "ipython",
    "version": 2
   },
   "file_extension": ".py",
   "mimetype": "text/x-python",
   "name": "python",
   "nbconvert_exporter": "python",
   "pygments_lexer": "ipython2",
   "version": "2.7.11"
  },
  "name": ""
 },
 "nbformat": 3,
 "nbformat_minor": 0,
 "worksheets": [
  {
   "cells": [
    {
     "cell_type": "code",
     "collapsed": false,
     "input": [
      "import pandas as pd\n",
      "import numpy as np\n",
      "\n",
      "df = pd.read_csv(r\"C:\\Workspace\\ny-valleystream13\\person\\20171219_Staff.csv\", dtype=str)\n",
      "\n",
      "df = df[~df.loc[:, 'School Assignment (Name)'].isin([\n",
      "            'ValleyStream13-District Office                    ',\n",
      "            'Central Office                                    ',\n",
      "            'Summer School'\n",
      "        ])]\n",
      "\n",
      "df = df[df.loc[:, 'School Email Address'].notnull()]\n",
      "\n",
      "# df = pd.melt(frame=df, id_vars=['School Email Address', 'Staff Last Name', 'Staff First Name', 'School Assignment (LEA Code)',\n",
      "#                                'School Assignment (Name)', 'Staff State ID'], value_vars=['Staff / Employee ID'])\n",
      "\n",
      "dups = df.loc[df.loc[:, 'School Email Address'].duplicated(), 'School Email Address']\n",
      "\n",
      "df.loc[:, 'Elv_Counter'] = df.groupby('School Email Address').cumcount(ascending=True)\n",
      "\n",
      "df.loc[:, 'Elv_Counter'] = df.loc[:, 'Elv_Counter'].map(str)\n",
      "\n",
      "def determine_drop(x):\n",
      "    if x.loc['School Email Address'].isin(dups):\n",
      "        if x.loc['Elv_Counter'] != \n",
      "\n",
      "# df = df.pivot_table(index=['Staff Last Name', 'Staff First Name', 'School Email Address', 'School Assignment (LEA Code)',\n",
      "#                           'School Assignment (Name)', 'Staff State ID', 'Elv_Counter'],\n",
      "#                    columns=['Elv_Counter'],\n",
      "#                    values=['Staff / Employee ID'],\n",
      "#                    aggfunc=np.max).reset_index(col_level=1)\n",
      "\n",
      "# df.columns = [' '.join(col).strip() for col in df.columns.tolist()]\n",
      "\n",
      "# df.loc[:, 'Elv_Tracker'] = df.apply(\n",
      "#     lambda x: 'drop' if x.loc['School Email Address'].isin(dups) and x.loc['Staff / Employee ID 0'] != x.loc['Staff / Employee ID 1'])\n",
      "\n",
      "\n",
      "# # def helper(group):\n",
      "# #     if group.loc[:, 'School Email Address'] ==\n",
      "# #     group.loc[:, 'Elv_match'] = group.loc[:, 'Elv_GradeLevel'].max()\n",
      "# #     return group\n",
      "\n",
      "# # new_df = pd.DataFrame({'count' : df.groupby(['School Email Address']).size(), 'Staff Last Name': df.loc[:, 'Staff Last Name']}).reset_index()\n",
      "                                             \n",
      "                                             \n",
      "\n",
      "df.to_csv(r\"C:\\Workspace\\ny-valleystream13\\person\\20171019_Staff_test_8.csv\", index=False)\n"
     ],
     "language": "python",
     "metadata": {},
     "outputs": [],
     "prompt_number": 49
    },
    {
     "cell_type": "code",
     "collapsed": true,
     "input": [
      "import pandas as pd\n",
      "import numpy as np\n",
      "\n",
      "df = pd.read_csv(r\"C:\\Workspace\\ny-valleystream13\\person\\20171219_Staff.csv\", dtype=str)\n",
      "\n",
      "df = df[~df.loc[:, 'School Assignment (Name)'].isin([\n",
      "            'ValleyStream13-District Office                    ',\n",
      "            'Central Office                                    ',\n",
      "            'Summer School'\n",
      "        ])]\n",
      "\n",
      "df = df[df.loc[:, 'School Email Address'].notnull()]\n",
      "\n",
      "df.drop_duplicates(subset=['Staff / Employee ID'], inplace=True)\n",
      "\n",
      "dups = df.loc[df.loc[:, 'School Email Address'].duplicated(), 'School Email Address']\n",
      "\n",
      "df = df[~df.loc[:, 'School Email Address'].isin(dups)]\n",
      "\n",
      "df.to_csv(r\"C:\\Workspace\\ny-valleystream13\\person\\20171219_Staff_processed.csv\", index=False)"
     ],
     "language": "python",
     "metadata": {},
     "outputs": [],
     "prompt_number": 1
    }
   ],
   "metadata": {}
  }
 ]
}