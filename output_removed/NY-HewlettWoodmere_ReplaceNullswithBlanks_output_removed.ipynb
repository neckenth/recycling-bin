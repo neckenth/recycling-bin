{
 "metadata": {
  "kernelspec": {
   "display_name": "Python 2",
   "language": "python",
   "name": "python2"
  },
  "language_info": {
   "codemirror_mode": {
    "name": "ipython",
    "version": 2
   },
   "file_extension": ".py",
   "mimetype": "text/x-python",
   "name": "python",
   "nbconvert_exporter": "python",
   "pygments_lexer": "ipython2",
   "version": "2.7.11"
  },
  "name": ""
 },
 "nbformat": 3,
 "nbformat_minor": 0,
 "worksheets": [
  {
   "cells": [
    {
     "cell_type": "code",
     "collapsed": false,
     "input": [
      "import pandas as pd\n",
      "import numpy as np\n",
      "\n",
      "df=pd.read_csv(r\"C:\\Workspace\\ny-hewlettwoodmere\\student\\EllevationStudentData.txt\", sep='\\t')\n",
      "\n",
      "df.replace(to_replace='NULL', value='', regex=True)\n",
      "\n",
      "df.to_csv(r\"C:\\Workspace\\ny-hewlettwoodmere\\student\\EllevationStudentData_processed.txt\", sep='\\t', index=False)\n",
      "\n"
     ],
     "language": "python",
     "metadata": {
      "scrolled": false
     },
     "outputs": [],
     "prompt_number": 8
    }
   ],
   "metadata": {}
  }
 ]
}