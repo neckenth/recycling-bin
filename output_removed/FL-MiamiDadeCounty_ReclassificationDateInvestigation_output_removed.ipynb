{
 "metadata": {
  "kernelspec": {
   "display_name": "Python 2",
   "language": "python",
   "name": "python2"
  },
  "language_info": {
   "codemirror_mode": {
    "name": "ipython",
    "version": 2
   },
   "file_extension": ".py",
   "mimetype": "text/x-python",
   "name": "python",
   "nbconvert_exporter": "python",
   "pygments_lexer": "ipython2",
   "version": "2.7.11"
  },
  "name": ""
 },
 "nbformat": 3,
 "nbformat_minor": 0,
 "worksheets": [
  {
   "cells": [
    {
     "cell_type": "code",
     "collapsed": false,
     "input": [
      "import pandas as pd\n",
      "\n",
      "df = pd.read_csv(r\"C:\\Workspace\\fl-miamidadecounty\\student\\ELLEVATION_DEMOGRAPHIC-20171102.csv\", dtype=str)\n",
      "\n",
      "# print df.columns.tolist()\n",
      "\n",
      "df = df[df.loc[:, 'StudentLocalID'] == '0376400']\n",
      "\n",
      "df.to_csv(r\"C:\\Workspace\\fl-miamidadecounty\\student\\ELLEVATION_DEMOGRAPHIC-20171102_processed.csv\", index=False)"
     ],
     "language": "python",
     "metadata": {},
     "outputs": [],
     "prompt_number": 3
    }
   ],
   "metadata": {}
  }
 ]
}