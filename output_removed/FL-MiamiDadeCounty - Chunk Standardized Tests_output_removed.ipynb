{
 "metadata": {
  "kernelspec": {
   "display_name": "Python 2",
   "language": "python",
   "name": "python2"
  },
  "language_info": {
   "codemirror_mode": {
    "name": "ipython",
    "version": 2
   },
   "file_extension": ".py",
   "mimetype": "text/x-python",
   "name": "python",
   "nbconvert_exporter": "python",
   "pygments_lexer": "ipython2",
   "version": "2.7.11"
  },
  "name": ""
 },
 "nbformat": 3,
 "nbformat_minor": 0,
 "worksheets": [
  {
   "cells": [
    {
     "cell_type": "code",
     "collapsed": false,
     "input": [
      "from pyep.csvutil import ingest_data_file, generate_data_file\n",
      "\n",
      "fsa_math_path = r\"C:\\Workspace\\fl-miamidadecounty\\std-test-score\\processed\\ELLSTDTST_ELLEVATION_FSA_MATH-processed.csv\"\n",
      "\n",
      "destination_path = fsa_math_path\n",
      "data = ingest_data_file(destination_path)\n",
      "files = generate_data_file(data, destination_path, chunkSize=4000)"
     ],
     "language": "python",
     "metadata": {},
     "outputs": [],
     "prompt_number": 4
    },
    {
     "cell_type": "code",
     "collapsed": true,
     "input": [
      "from pyep.csvutil import ingest_data_file, generate_data_file\n",
      "\n",
      "path = r\"C:\\Workspace\\fl-miamidadecounty\\student\\ELLEVATION_DEMOGRAPHIC-20171207-delta-processed.csv\"\n",
      "destination_path = path\n",
      "data = ingest_data_file(destination_path)\n",
      "files = generate_data_file(data, destination_path, chunkSize=5000)"
     ],
     "language": "python",
     "metadata": {},
     "outputs": [],
     "prompt_number": 1
    },
    {
     "cell_type": "code",
     "collapsed": true,
     "input": [
      "from pyep.csvutil import ingest_data_file, generate_data_file\n",
      "\n",
      "grades_path = r\"C:\\Workspace\\fl-miamidadecounty\\grades\\q1\\q2_grades-processed.csv\"\n",
      "\n",
      "destination_path = grades_path\n",
      "data = ingest_data_file(destination_path)\n",
      "files = generate_data_file(data, destination_path, chunkSize=20000)"
     ],
     "language": "python",
     "metadata": {},
     "outputs": [],
     "prompt_number": 1
    }
   ],
   "metadata": {}
  }
 ]
}