{
 "metadata": {
  "kernelspec": {
   "display_name": "Python 2",
   "language": "python",
   "name": "python2"
  },
  "language_info": {
   "codemirror_mode": {
    "name": "ipython",
    "version": 2
   },
   "file_extension": ".py",
   "mimetype": "text/x-python",
   "name": "python",
   "nbconvert_exporter": "python",
   "pygments_lexer": "ipython2",
   "version": "2.7.11"
  },
  "name": ""
 },
 "nbformat": 3,
 "nbformat_minor": 0,
 "worksheets": [
  {
   "cells": [
    {
     "cell_type": "code",
     "collapsed": false,
     "input": [
      "import pandas as pd\n",
      "\n",
      "from common import is_null\n",
      "\n",
      "df = pd.read_csv(r\"C:\\Workspace\\nj-woodbridgetownship\\access\\WIDA Access_2015_16.csv\", dtype=str)\n",
      "\n",
      "print df.columns.tolist()\n",
      "\n",
      "df = df[[\n",
      "        'StateStudentID',\n",
      "        'DistrictStudentID',\n",
      "        'Grade',\n",
      "        'Paper Tier',\n",
      "        'ScaleScoreL',\n",
      "        'ScaleScoreS',\n",
      "        'ScaleScoreR',\n",
      "        'ScaleScoreW',\n",
      "        'ComprehensionScore',\n",
      "        'OralScaleScore',\n",
      "        'LiteracyScaleScore',\n",
      "        'CompositeScaleScore',\n",
      "        'ListeningPerformanceLevel',\n",
      "        'SpeakingPerformanceLevel',\n",
      "        'ReadingPerformanceLevel',\n",
      "        'WritingPerformanceLevel',\n",
      "        'ComprehensionPerformanceLevel',\n",
      "        'OralPerformanceLevel',\n",
      "        'LiteracyPerformanceLevel',\n",
      "        'PerformanceLevelComposite',\n",
      "        'Date of Testing',\n",
      "        'ModeL',\n",
      "        'Online tier  Grade 1-12'\n",
      "    ]]\n",
      "\n",
      "df.loc[:, 'Elv_Date of Testing'] = df.loc[:, 'Date of Testing'].map(\n",
      "    lambda x: pd.to_datetime(x, format=('%m%d%y')))\n",
      "\n",
      "# print df.loc[:, 'Elv_Date of Testing'].unique()\n",
      "\n",
      "df.loc[:, 'ELV_Tier'] = df.loc[:, 'Online tier  Grade 1-12'].map(\n",
      "    lambda x: x if not is_null(x) else 'K')\n",
      "\n",
      "df.to_csv(r\"C:\\Workspace\\nj-woodbridgetownship\\access\\WIDA Access_2015_16_processed.csv\", index=False)"
     ],
     "language": "python",
     "metadata": {},
     "outputs": [],
     "prompt_number": 6
    }
   ],
   "metadata": {}
  }
 ]
}