{
 "metadata": {
  "kernelspec": {
   "display_name": "Python 2",
   "language": "python",
   "name": "python2"
  },
  "language_info": {
   "codemirror_mode": {
    "name": "ipython",
    "version": 2
   },
   "file_extension": ".py",
   "mimetype": "text/x-python",
   "name": "python",
   "nbconvert_exporter": "python",
   "pygments_lexer": "ipython2",
   "version": "2.7.11"
  },
  "name": ""
 },
 "nbformat": 3,
 "nbformat_minor": 0,
 "worksheets": [
  {
   "cells": [
    {
     "cell_type": "code",
     "collapsed": false,
     "input": [
      "import pandas as pd\n",
      "from pyep.csvutil import ingest_data_file, generate_data_file\n",
      "\n",
      "df = pd.read_csv( r\"C:\\Workspace\\fl-browardcounty\\student\\BCPS_Stdt_Demo-20171128-processed.csv\", dtype=str)\n",
      "\n",
      "empty = df[df.loc[:, 'Fl Ed Id'].isnull()]\n",
      "\n",
      "empty.to_csv(r\"C:\\Workspace\\fl-browardcounty\\student\\BCPS_Stdt_Demo-20171128-processed_blank_FL_IDs.csv\", index=False)\n",
      "# destination_path = path\n",
      "# data = ingest_data_file(destination_path)\n",
      "# files = generate_data_file(data, destination_path, chunkSize=50000)"
     ],
     "language": "python",
     "metadata": {},
     "outputs": [],
     "prompt_number": 4
    },
    {
     "cell_type": "code",
     "collapsed": false,
     "input": [
      "import pandas as pd\n",
      "from pyep.csvutil import ingest_data_file, generate_data_file\n",
      "\n",
      "path = r\"C:\\Workspace\\fl-browardcounty\\grades\\BCPS_MP_Grades_processed.csv\"\n",
      "\n",
      "destination_path = path\n",
      "data = ingest_data_file(destination_path)\n",
      "files = generate_data_file(data, destination_path, chunkSize=20000)"
     ],
     "language": "python",
     "metadata": {},
     "outputs": [],
     "prompt_number": 1
    }
   ],
   "metadata": {}
  }
 ]
}