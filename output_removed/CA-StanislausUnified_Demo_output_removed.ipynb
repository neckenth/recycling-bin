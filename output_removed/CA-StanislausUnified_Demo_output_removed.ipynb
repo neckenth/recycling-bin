{
 "metadata": {
  "kernelspec": {
   "display_name": "Python 2",
   "language": "python",
   "name": "python2"
  },
  "language_info": {
   "codemirror_mode": {
    "name": "ipython",
    "version": 2
   },
   "file_extension": ".py",
   "mimetype": "text/x-python",
   "name": "python",
   "nbconvert_exporter": "python",
   "pygments_lexer": "ipython2",
   "version": "2.7.11"
  },
  "name": ""
 },
 "nbformat": 3,
 "nbformat_minor": 0,
 "worksheets": [
  {
   "cells": [
    {
     "cell_type": "code",
     "collapsed": false,
     "input": [
      "import pandas as pd\n",
      "import numpy as np\n",
      "from common import is_null\n",
      "from pyep.transform import derive_from_date_exited_4y\n",
      "\n",
      "df=pd.read_csv(r\"C:\\Workspace\\ca-stanislasunion\\student\\StudentDemographics.csv\", sep=',', dtype=str)\n",
      "\n",
      "print len(df)\n",
      "\n",
      "dups = df.loc[df['Student ID'].duplicated(), 'Student ID']\n",
      "\n",
      "print len(dups)\n",
      "\n",
      "deduplicated = df[~(df.loc[:, 'Student ID'].isin(dups) & (df.loc[:, 'ActiveStatus'] == 'No'))]\n",
      "\n",
      "print len(deduplicated)\n",
      "\n",
      "deduplicated['Elv_DateEnteredLEP'] = deduplicated['DateEnteredLEP']\n",
      "deduplicated['Elv_DateExitedLEP'] = deduplicated['DateExitedLEP']\n",
      "\n",
      "deduplicated.loc[deduplicated['LEPStatus'].isin(['TBD', 'IFEP']), 'Elv_DateEnteredLEP'] = np.NaN\n",
      "deduplicated.loc[deduplicated['LEPStatus'].isin(['TBD', 'IFEP']), 'Elv_DateExitedLEP'] = np.NaN\n",
      "\n",
      "deduplicated['Elv_LEPStatus'] = deduplicated.apply(\n",
      "    lambda x: derive_from_date_exited_4y(x['DateExitedLEP'])\n",
      "    if x['LEPStatus'] == 'RFEP' else x['LEPStatus'],\n",
      "    axis=1)\n",
      "\n",
      "deduplicated.head()\n",
      "\n",
      "deduplicated.to_csv(r\"C:\\Workspace\\ca-stanislasunion\\student\\StudentDemographics_processed.csv\", index=False)"
     ],
     "language": "python",
     "metadata": {
      "scrolled": true
     },
     "outputs": [],
     "prompt_number": 14
    }
   ],
   "metadata": {}
  }
 ]
}