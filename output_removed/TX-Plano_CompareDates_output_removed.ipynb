{
 "metadata": {
  "kernelspec": {
   "display_name": "Python 2",
   "language": "python",
   "name": "python2"
  },
  "language_info": {
   "codemirror_mode": {
    "name": "ipython",
    "version": 2
   },
   "file_extension": ".py",
   "mimetype": "text/x-python",
   "name": "python",
   "nbconvert_exporter": "python",
   "pygments_lexer": "ipython2",
   "version": "2.7.11"
  },
  "name": ""
 },
 "nbformat": 3,
 "nbformat_minor": 0,
 "worksheets": [
  {
   "cells": [
    {
     "cell_type": "code",
     "collapsed": false,
     "input": [
      "import pandas as pd\n",
      "\n",
      "df = pd.read_csv(r\"C:\\Users\\NancyE\\Downloads\\EllevationExport_20180725_1521.csv\", dtype=str)\n",
      "\n",
      "df1 = df[df.loc[:, 'Original PISD Enrollment'] != df.loc[:, 'Original Entry']]\n",
      "df2 = df[df.loc[:, 'Original PISD Enrollment'] == df.loc[:, 'Original Entry']]\n",
      "\n",
      "print len(df1)\n",
      "print len(df2)\n",
      "\n",
      "df1.to_csv(r\"C:\\Workspace\\tx-planoisd\\student\\diff_original_dates.csv\", index=False)"
     ],
     "language": "python",
     "metadata": {},
     "outputs": [],
     "prompt_number": 4
    }
   ],
   "metadata": {}
  }
 ]
}