{
 "metadata": {
  "kernelspec": {
   "display_name": "Python 2",
   "language": "python",
   "name": "python2"
  },
  "language_info": {
   "codemirror_mode": {
    "name": "ipython",
    "version": 2
   },
   "file_extension": ".py",
   "mimetype": "text/x-python",
   "name": "python",
   "nbconvert_exporter": "python",
   "pygments_lexer": "ipython2",
   "version": "2.7.11"
  },
  "name": ""
 },
 "nbformat": 3,
 "nbformat_minor": 0,
 "worksheets": [
  {
   "cells": [
    {
     "cell_type": "code",
     "collapsed": false,
     "input": [
      "import pandas as pd\n",
      "import numpy as np\n",
      "\n",
      "df = pd.read_csv(r\"C:\\Workspace\\tx-chapelhillisd\\student\\EllStudent.csv\", dtype=str)\n",
      "\n",
      "df.loc[:, 'Elv_LEPStatus'] = df.apply(\n",
      "    lambda x: x.loc['LEP Status'] if x.loc['Parent Permission Code'] != 'C' else 'Parent Denial', axis=1)\n",
      "\n",
      "df.loc[:, 'Elv_MonitoringStatus'] = df.apply(\n",
      "    lambda x: x.loc['Monitoring Status'] if x.loc['Parent Permission Code'] != 'C' else np.NaN, axis=1)\n",
      "\n",
      "print len(df)\n",
      "df = df[df.loc[:, 'Elv_LEPStatus'].notnull()]\n",
      "print len(df)\n",
      "df.to_csv(r\"C:\\Workspace\\tx-chapelhillisd\\student\\EllStudent_processed.csv\", index=False)"
     ],
     "language": "python",
     "metadata": {},
     "outputs": [],
     "prompt_number": 2
    }
   ],
   "metadata": {}
  }
 ]
}