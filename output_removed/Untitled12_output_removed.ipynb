{
 "metadata": {
  "kernelspec": {
   "display_name": "Python 2",
   "language": "python",
   "name": "python2"
  },
  "language_info": {
   "codemirror_mode": {
    "name": "ipython",
    "version": 2
   },
   "file_extension": ".py",
   "mimetype": "text/x-python",
   "name": "python",
   "nbconvert_exporter": "python",
   "pygments_lexer": "ipython2",
   "version": "2.7.11"
  },
  "name": ""
 },
 "nbformat": 3,
 "nbformat_minor": 0,
 "worksheets": [
  {
   "cells": [
    {
     "cell_type": "code",
     "collapsed": false,
     "input": [
      "import pandas as pd\n",
      "\n",
      "df = pd.read_csv(r\"C:\\Workspace\\ca-centinelavalleyunionhigh\\person\\ELL_Staff_Info.txt\", dtype=str, sep='\\t')\n",
      "\n",
      "# for row in df.apply(lambda x: x, axis=1):\n",
      "#     print row\n",
      "    \n",
      "# df.head()\n",
      "\n",
      "# df.loc[:, 'First'] = df.apply(\n",
      "#     lambda x: x.loc['First_Name'], axis=1)\n",
      "\n",
      "# for name in df.loc[:, 'First']:\n",
      "#     district = name\n",
      "#     print district\n",
      "\n",
      "# df.loc[:, 'District'] = df.apply(\n",
      "#     lambda x: x.loc['District'], axis=1)\n",
      "\n",
      "# for district in df.loc[:, 'First_Name']:\n",
      "#     print district\n",
      "    \n",
      "df.loc[:, 'First'] = df.loc[:, 'First_Name'].map(lambda x: x)\n",
      "\n",
      "# for name in df.loc[:, 'First']:\n",
      "#     print name\n",
      "    \n",
      "# for i in df[0:]:\n",
      "#     print df[i]\n",
      "\n",
      "# for row in df['First_Name']:\n",
      "#     print row\n",
      "    \n",
      "# for x in df:\n",
      "#     for rh\n",
      "#     row = df.loc[:, x]\n",
      "df.columns.tolist()\n",
      "for index, row in df.iterrows():\n",
      "    first_name = row['First_Name']\n",
      "    print first_name\n",
      "#     last_name = row['Last_Name']\n",
      "    \n",
      "# print first_name\n",
      "    \n",
      "    \n",
      "#     district = x.loc['First_Name']\n",
      "#     test = x.loc['Last_Name']\n",
      "#     print district + ' ' + test\n",
      "    \n",
      "\n",
      "# df.loc[:, 'First'] = df.loc[:, 'First_Name'].map(\n",
      "#     lambda x: x)\n"
     ],
     "language": "python",
     "metadata": {},
     "outputs": [],
     "prompt_number": 44
    }
   ],
   "metadata": {}
  }
 ]
}