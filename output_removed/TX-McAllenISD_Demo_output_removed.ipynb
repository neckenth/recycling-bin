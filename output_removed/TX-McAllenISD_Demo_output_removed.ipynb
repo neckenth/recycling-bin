{
 "metadata": {
  "kernelspec": {
   "display_name": "Python 2",
   "language": "python",
   "name": "python2"
  },
  "language_info": {
   "codemirror_mode": {
    "name": "ipython",
    "version": 2
   },
   "file_extension": ".py",
   "mimetype": "text/x-python",
   "name": "python",
   "nbconvert_exporter": "python",
   "pygments_lexer": "ipython2",
   "version": "2.7.11"
  },
  "name": ""
 },
 "nbformat": 3,
 "nbformat_minor": 0,
 "worksheets": [
  {
   "cells": [
    {
     "cell_type": "code",
     "collapsed": false,
     "input": [
      "import pandas as pd\n",
      "import numpy as np\n",
      "\n",
      "from common import is_null\n",
      "from pyep.transform import iderive_lep_status\n",
      "\n",
      "df = pd.read_csv(r\"C:\\Workspace\\tx-mcallenisd\\student\\student_demographics.csv\", dtype=str)\n",
      "\n",
      "df.head()\n",
      "\n",
      "df = df.applymap(lambda x: np.NaN if is_null(x) else x)\n",
      "\n",
      "df['ELV_LEPStatus'] = df.apply(iderive_lep_status,\n",
      "                                axis=1,\n",
      "                                dateEnteredLep='DATE_ENTERED LEP',\n",
      "                                dateExitedLep='DATE EXIT LEP')\n",
      "\n",
      "\n",
      "df.loc[(df['ESLCode'] == \"Y\") & (df['ProgramType'] == '2'), 'ELV_ESL Program'] = 'ESL Content Based'\n",
      "df.loc[(df['ESLCode'] == \"Y\") & (df['ProgramType'] == '3'), 'ELV_ESL Program'] = 'ESL Pull Out'\n",
      "df.loc[(df['BilingualCod'] == \"Y\") & (df['ProgramType'] == '2'), 'ELV_BilingualProgram'] = 'Transitional Bilingual Early Exit'\n",
      "df.loc[(df['BilingualCod'] == \"Y\") & (df['ProgramType'] == '4'), 'ELV_BilingualProgram'] = 'Dual Language 2 Way'\n",
      "df.loc[(df['BilingualCod'] == \"Y\") & (df['ProgramType'] == '5'), 'ELV_BilingualProgram'] = 'Dual Language 1 Way'\n",
      "\n",
      "df.loc[(df['Lep'] == \"Y\") & (df['ParentPermission'].isin(['A', 'a', 'B', 'b', 'D', 'd', 'E', 'e', 'F', 'f', 'J', 'j'])), 'ELV_Receving Services'] = 'Yes'\n",
      "    \n",
      "df.loc[df['date_graduated'].notnull(),'ELV_Graduated']='Y'\n",
      "\n",
      "df['Elv_YrsUSSchool'] = df['ImmgYrs'].map(\n",
      "    lambda x: np.NaN if is_null(x) else round(float(x)))\n",
      "\n",
      "df.to_csv(r\"C:\\Workspace\\tx-mcallenisd\\student\\student_demographics_processed.csv\", index=False)"
     ],
     "language": "python",
     "metadata": {},
     "outputs": [],
     "prompt_number": 1
    }
   ],
   "metadata": {}
  }
 ]
}