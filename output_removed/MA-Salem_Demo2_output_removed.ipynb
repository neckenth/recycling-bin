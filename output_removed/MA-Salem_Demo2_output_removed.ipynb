{
 "metadata": {
  "kernelspec": {
   "display_name": "Python 2",
   "language": "python",
   "name": "python2"
  },
  "language_info": {
   "codemirror_mode": {
    "name": "ipython",
    "version": 2
   },
   "file_extension": ".py",
   "mimetype": "text/x-python",
   "name": "python",
   "nbconvert_exporter": "python",
   "pygments_lexer": "ipython2",
   "version": "2.7.11"
  },
  "name": ""
 },
 "nbformat": 3,
 "nbformat_minor": 0,
 "worksheets": [
  {
   "cells": [
    {
     "cell_type": "code",
     "collapsed": false,
     "input": [
      "import pandas as pd\n",
      "import numpy as np\n",
      "\n",
      "from common import is_null\n",
      "\n",
      "from datetime import datetime as dt\n",
      "\n",
      "df = pd.read_csv(r\"C:\\Workspace\\ma-salem\\student\\SalemEllevation\", sep=',', dtype=str)\n",
      "\n",
      "print len(df)\n",
      "\n",
      "condition_1 = df['FELL'].isnull()\n",
      "condition_2 = df['FELL'] == 'N/A'\n",
      "condition_3 = df['Exited 2 year FELL Date'].isnull()\n",
      "condition_4 = df['DOE26 ELL Program Status'] != 'LEP opting out of ELLPs'\n",
      "condition_5 = df['DOE26 ELL Program Status'] != 'In sheltered Eng immers'\n",
      "condition_6 = df['FELL'] == 'Year 1'\n",
      "condition_7 = df['FELL'] == 'Year 2'\n",
      "condition_8 = df['FELL'] == 'FLEP'\n",
      "\n",
      "df = df[~((condition_1 | condition_2) & condition_3 & (condition_4 | condition_5))]\n",
      "\n",
      "df.loc[~condition_4 | ~condition_5, 'Elv_LEPStatus'] = 'Current ELL'\n",
      "df.loc[~condition_3, 'Elv_LEPStatus'] = 'Fully Exited'\n",
      "df.loc[condition_6 & condition_3, 'Elv_LEPStatus'] = 'FLEP Yr 1'\n",
      "df.loc[condition_7 & condition_3, 'Elv_LEPStatus'] = 'FLEP Yr 2'\n",
      "df.loc[condition_8 & condition_3, 'Elv_LEPStatus'] = 'FLEP - Blank Year'\n",
      "df.loc[~condition_4, 'Elv_LEPStatus'] = 'Opt out'\n",
      "\n",
      "\n",
      "df['Elv_Date of Entry (US)'] = pd.to_datetime(df['Date of Entry (US)'], errors='coerce')\n",
      "                                              \n",
      "df['Elv_Yrs_USSchools'] = df.loc[df.loc[:, 'Elv_Date of Entry (US)'].notnull(), 'Elv_Date of Entry (US)'].map(\n",
      "    lambda x: ((dt.today()-x).days) / 365)\n",
      "\n",
      "df.head()\n",
      "\n",
      "df.to_csv(r\"C:\\Workspace\\ma-salem\\student\\SalemEllevation_processed.csv\", sep=',', index=False)\n",
      "\n"
     ],
     "language": "python",
     "metadata": {},
     "outputs": [],
     "prompt_number": 25
    },
    {
     "cell_type": "code",
     "collapsed": false,
     "input": [
      "pd.to_datetime(df.loc[:, 'Date of Entry (US)'], errors='coerce').notnull()"
     ],
     "language": "python",
     "metadata": {},
     "outputs": [],
     "prompt_number": 17
    }
   ],
   "metadata": {}
  }
 ]
}