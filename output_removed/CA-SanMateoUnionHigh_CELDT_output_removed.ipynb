{
 "metadata": {
  "kernelspec": {
   "display_name": "Python 2",
   "language": "python",
   "name": "python2"
  },
  "language_info": {
   "codemirror_mode": {
    "name": "ipython",
    "version": 2
   },
   "file_extension": ".py",
   "mimetype": "text/x-python",
   "name": "python",
   "nbconvert_exporter": "python",
   "pygments_lexer": "ipython2",
   "version": "2.7.11"
  },
  "name": ""
 },
 "nbformat": 3,
 "nbformat_minor": 0,
 "worksheets": [
  {
   "cells": [
    {
     "cell_type": "code",
     "collapsed": false,
     "input": [
      "import pandas as pd\n",
      "import datetime\n",
      "\n",
      "df=pd.read_csv(r\"C:\\Workspace\\ca-sanmateounionhigh\\CELDT\\ELL_Student_Test_Scores.txt\", sep=',', dtype=object)\n",
      "\n",
      "print len(df)\n",
      "\n",
      "df=df[(df.loc[:, 'GRADE'].isin(['8', '9', '10', '11', '12']))]\n",
      "\n",
      "print len(df)\n",
      "\n",
      "df['TEST_DATE'] = pd.to_datetime(df['TEST_DATE'])\n",
      "\n",
      "df = df[(df.loc[:, 'TEST_DATE'] >= pd.to_datetime('1/1/2013'))]\n",
      "\n",
      "print len(df)\n",
      "       \n",
      "df.to_csv(r\"C:\\Workspace\\ca-sanmateounionhigh\\CELDT\\ELL_Student_Test_Scores_processed.csv\", index=False)"
     ],
     "language": "python",
     "metadata": {
      "scrolled": true
     },
     "outputs": [],
     "prompt_number": 55
    }
   ],
   "metadata": {}
  }
 ]
}