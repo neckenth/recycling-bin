{
 "metadata": {
  "kernelspec": {
   "display_name": "Python 2",
   "language": "python",
   "name": "python2"
  },
  "language_info": {
   "codemirror_mode": {
    "name": "ipython",
    "version": 2
   },
   "file_extension": ".py",
   "mimetype": "text/x-python",
   "name": "python",
   "nbconvert_exporter": "python",
   "pygments_lexer": "ipython2",
   "version": "2.7.11"
  },
  "name": ""
 },
 "nbformat": 3,
 "nbformat_minor": 0,
 "worksheets": [
  {
   "cells": [
    {
     "cell_type": "code",
     "collapsed": false,
     "input": [
      "import pandas as pd\n",
      "\n",
      "df=pd.read_csv(r\"C:\\Workspace\\ma-chelsea\\schedule\\ellsch.csv\", sep=',', dtype=object)\n",
      "\n",
      "df\n",
      "\n",
      "df.loc[df['Term'] == '1234', 'Elv_Term'] = 'Full Year'\n",
      "\n",
      "\n",
      "df['Elv_Term'] = df.map(\n",
      "    lambda x: \n",
      "    if x['Term'] == '1234'\n",
      "    else x['Term'],\n",
      "    axis=1)\n",
      "df.head()\n",
      "\n",
      "df.to_csv(r\"C:\\Workspace\\ma-chelsea\\schedule\\ellsch_processed.csv\", sep='\\t', index=False)"
     ],
     "language": "python",
     "metadata": {},
     "outputs": [],
     "prompt_number": 6
    }
   ],
   "metadata": {}
  }
 ]
}