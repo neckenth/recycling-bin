{
 "metadata": {
  "kernelspec": {
   "display_name": "Python 2",
   "language": "python",
   "name": "python2"
  },
  "language_info": {
   "codemirror_mode": {
    "name": "ipython",
    "version": 2
   },
   "file_extension": ".py",
   "mimetype": "text/x-python",
   "name": "python",
   "nbconvert_exporter": "python",
   "pygments_lexer": "ipython2",
   "version": "2.7.11"
  },
  "name": ""
 },
 "nbformat": 3,
 "nbformat_minor": 0,
 "worksheets": [
  {
   "cells": [
    {
     "cell_type": "code",
     "collapsed": false,
     "input": [
      "import pandas as pd\n",
      "from datetime import datetime as dt\n",
      "from common import is_null\n",
      "\n",
      "df = pd.read_csv(r\"C:\\Workspace\\fl-miamidadecounty\\student\\Demographic with Reclassification date.csv\", dtype=str)\n",
      "\n",
      "base_date = dt.now().strftime('%m/%d/%Y')\n",
      "# function for parsing strings using specific format\n",
      "get_datetime = lambda x: dt.strptime(x, \"%m/%d/%Y\")\n",
      "\n",
      "# print dt.now()\n",
      "\n",
      "\n",
      "def find_next_future_date(x):\n",
      "    date_columns = ['POST_PROGRAM_REVIEW_DATE1', \n",
      "                    'POST_PROGRAM_REVIEW_DATE2', \n",
      "                    'POST_PROGRAM_REVIEW_DATE3', \n",
      "                    'POST_PROGRAM_REVIEW_DATE4']\n",
      "    remaining_date_columns = []\n",
      "    for col in date_columns:\n",
      "        if not (is_null(x.loc[col])):\n",
      "            remaining_date_columns.append(col)\n",
      "        elif (pd.to_datetime(x.loc[col]) < dt.now()):\n",
      "            remaining_date_columns.append(col)\n",
      "    try:\n",
      "        return min(x.loc[remaining_date_columns])\n",
      "    except ValueError:\n",
      "        return max(date_columns)\n",
      "        \n",
      "#     closest_date = min(x.loc[date_columns])\n",
      "#     return closest_date\n",
      "\n",
      "df.loc[:, 'Elv_next_date'] = df.apply(find_closest_date, axis=1)\n",
      "\n",
      "print set(df.loc[:, 'Elv_next_date'])\n",
      "\n",
      "df.to_csv(r\"C:\\Workspace\\fl-miamidadecounty\\student\\Demographic with Reclassification date_test.csv\", index=False)\n",
      "\n",
      "# for col in date_columns:\n",
      "#     col = pd.to_datetime(col)\n",
      "\n",
      "# base = get_datetime(base_date)\n",
      "# list_date = [df.loc[:, 'POST_PROGRAM_REVIEW_DATE1'],\n",
      "#             df.loc[:, 'POST_PROGRAM_REVIEW_DATE2'],\n",
      "#                     df.loc[:, 'POST_PROGRAM_REVIEW_DATE3'],\n",
      "#                     df.loc[:, 'POST_PROGRAM_REVIEW_DATE4']]\n",
      "\n",
      "# print base\n",
      "# later = filter(lambda x: get_datetime(x[0]) > base, list_date)\n",
      "# closest_date = min(later, key = lambda x: get_datetime(x[0]))"
     ],
     "language": "python",
     "metadata": {},
     "outputs": [],
     "prompt_number": 32
    }
   ],
   "metadata": {}
  }
 ]
}