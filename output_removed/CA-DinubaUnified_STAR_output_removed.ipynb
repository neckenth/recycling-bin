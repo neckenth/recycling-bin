{
 "metadata": {
  "kernelspec": {
   "display_name": "Python 2",
   "language": "python",
   "name": "python2"
  },
  "language_info": {
   "codemirror_mode": {
    "name": "ipython",
    "version": 2
   },
   "file_extension": ".py",
   "mimetype": "text/x-python",
   "name": "python",
   "nbconvert_exporter": "python",
   "pygments_lexer": "ipython2",
   "version": "2.7.11"
  },
  "name": ""
 },
 "nbformat": 3,
 "nbformat_minor": 0,
 "worksheets": [
  {
   "cells": [
    {
     "cell_type": "code",
     "collapsed": false,
     "input": [
      "import pandas as pd\n",
      "\n",
      "df = pd.read_csv(r\"C:\\Workspace\\ca-dinubaunified\\star\\STAR Reading Assessment data 2016 17.csv\", dtype=str)\n",
      "\n",
      "df.head()\n",
      "\n",
      "df['Elv_AssessmentDate'] = df['AssessmentDate'].str.split(' ').str[0]\n",
      "df['Elv_AssessmentDate'] = pd.to_datetime(df['Elv_AssessmentDate'], format='%m/%d/%Y', errors='coerce')\n",
      "\n",
      "df['Elv_Lexile'] = df['Lexile(R) measure'].str.rstrip('L')\n",
      "\n",
      "df.head()\n",
      "\n",
      "df.to_csv(r\"C:\\Workspace\\ca-dinubaunified\\star\\STAR Reading Assessment data 2016 17_processed.csv\", index=False)"
     ],
     "language": "python",
     "metadata": {},
     "outputs": [],
     "prompt_number": 13
    }
   ],
   "metadata": {}
  }
 ]
}