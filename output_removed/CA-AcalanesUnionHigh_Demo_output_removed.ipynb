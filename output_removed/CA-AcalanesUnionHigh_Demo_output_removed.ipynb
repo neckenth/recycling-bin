{
 "metadata": {
  "kernelspec": {
   "display_name": "Python 2",
   "language": "python",
   "name": "python2"
  },
  "language_info": {
   "codemirror_mode": {
    "name": "ipython",
    "version": 2
   },
   "file_extension": ".py",
   "mimetype": "text/x-python",
   "name": "python",
   "nbconvert_exporter": "python",
   "pygments_lexer": "ipython2",
   "version": "2.7.11"
  },
  "name": ""
 },
 "nbformat": 3,
 "nbformat_minor": 0,
 "worksheets": [
  {
   "cells": [
    {
     "cell_type": "code",
     "collapsed": false,
     "input": [
      "import pandas as pd\n",
      "import numpy as np\n",
      "\n",
      "from pyep.transform import derive_from_date_exited_4y\n",
      "\n",
      "df = pd.read_csv(r\"C:\\Workspace\\ca-acalanesunionhigh\\student\\ca-acalanesunionhigh.student.csv\", dtype=str)\n",
      "\n",
      "# filter out TBD students\n",
      "df = df[df.loc[:, 'TBD'] != 'Yes']\n",
      "\n",
      "# set conditions based on each individual identifying column and derive 'Elv_LEPStatus'\n",
      "condition_1 = df.loc[:, 'English Learner'] == 'Yes'\n",
      "condition_2 = df.loc[:, 'IFEP'] == 'Yes'\n",
      "condition_3 = df.loc[:, 'RFEP'] == 'Yes'\n",
      "condition_4 = df.loc[:, 'Refused ESL/ELD Services'] == 'Yes'\n",
      "\n",
      "df.loc[condition_1, 'Elv_LEPStatus'] = 'EL'\n",
      "df.loc[condition_2, 'Elv_LEPStatus'] = 'IFEP'\n",
      "df.loc[condition_3, 'Elv_LEPStatus'] = 'RFEP'\n",
      "\n",
      "# clone 'RFEP Date', 'Date Monitoring Started', and 'Date Identified as EL' for the purposes of wiping them out for IFEPs\n",
      "df['Elv_RFEP Date'] = df['RFEP Date']\n",
      "df.loc[condition_2, 'Elv_RFEP Date'] = np.NaN\n",
      "\n",
      "df['Elv_Date Monitoring Started'] = df['Date Monitoring Started']\n",
      "df.loc[condition_2, 'Elv_Date Monitoring Started'] = np.NaN\n",
      "\n",
      "df['Elv_Date Identified as EL'] = df['Date Identified as EL']\n",
      "df.loc[condition_2, 'Elv_Date Identified as EL'] = np.NaN\n",
      "\n",
      "# clone 'IFEP' Date' for the purposes of wiping it out for non-IFEPs\n",
      "df['Elv_IFEP Date'] =  df['IFEP Date']\n",
      "df.loc[~condition_2, 'Elv_IFEP Date'] = np.NaN\n",
      "\n",
      "# derive a more granular 'Elv_lEPStatus' based on 'Elv_RFEP Date' for RFEPs and overwrite with Unknown for blank dates\n",
      "df['Elv_LEPStatus'] = df.apply(\n",
      "    lambda x: derive_from_date_exited_4y(x['Elv_RFEP Date'])\n",
      "    if x['Elv_LEPStatus'] == 'RFEP' else x['Elv_LEPStatus'],\n",
      "    axis=1)\n",
      "\n",
      "df.loc[(df['Elv_LEPStatus'] == 'RFEP') & (df['Elv_RFEP Date'].isnull()), 'Elv_LEPStatus'] = 'RFEP (Unknown)'\n",
      "\n",
      "# derive 'Elv_Receiving Services' based on Refusal columnn and Elv_LEPStatus\n",
      "df.loc[(condition_1 & ~condition_4), 'Elv_Receiving Services'] = 'Yes'\n",
      "\n",
      "df.to_csv(r\"C:\\Workspace\\ca-acalanesunionhigh\\student\\ca-acalanesunionhigh.student_processed.csv\", index=False)"
     ],
     "language": "python",
     "metadata": {},
     "outputs": [],
     "prompt_number": 1
    }
   ],
   "metadata": {}
  }
 ]
}