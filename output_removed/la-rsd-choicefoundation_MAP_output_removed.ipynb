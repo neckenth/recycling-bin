{
 "metadata": {
  "kernelspec": {
   "display_name": "Python 2",
   "language": "python",
   "name": "python2"
  },
  "language_info": {
   "codemirror_mode": {
    "name": "ipython",
    "version": 2
   },
   "file_extension": ".py",
   "mimetype": "text/x-python",
   "name": "python",
   "nbconvert_exporter": "python",
   "pygments_lexer": "ipython2",
   "version": "2.7.11"
  },
  "name": ""
 },
 "nbformat": 3,
 "nbformat_minor": 0,
 "worksheets": [
  {
   "cells": [
    {
     "cell_type": "code",
     "collapsed": false,
     "input": [
      "import pandas as pd\n",
      "import os\n",
      "\n",
      "from pyep import read_delimited\n",
      "from pyep.settings import WORKSPACE_ROOT\n",
      "\n",
      "subset = []\n",
      "\n",
      "for file in os.listdir (WORKSPACE_ROOT + '/la-rsd-choicefoundation/map/'):\n",
      "    df = read_delimited(WORKSPACE_ROOT + '/la-rsd-choicefoundation/map/' + file)\n",
      "    subset.append(df)\n",
      "    \n",
      "df = pd.concat(subset)\n",
      "\n",
      "df.to_csv(r\"C:\\Workspace\\la-rsd-choicefoundation\\map\\combined.csv\", index=False)"
     ],
     "language": "python",
     "metadata": {},
     "outputs": [],
     "prompt_number": 4
    },
    {
     "cell_type": "code",
     "collapsed": false,
     "input": [
      "export = pd.read_csv(r\"C:\\Users\\NancyE\\Downloads\\EllevationExport_20161110_1132.csv\", dtype=str)\n",
      "scores = pd.read_csv(r\"C:\\Workspace\\la-rsd-choicefoundation\\map\\ELLSTDTST_LA-RSD_ChoiceFoundation_MAP_2016.csv\", dtype=str)\n",
      "\n",
      "result = pd.merge(left=export, right=scores, left_on='Student #', right_on='StudentLocalID', how='inner')\n",
      "\n",
      "result.to_csv(r\"C:\\Workspace\\la-rsd-choicefoundation\\map\\ELLSTDTST_LA-RSD_ChoiceFoundation_MAP_2016_merged.csv\", index=False)"
     ],
     "language": "python",
     "metadata": {},
     "outputs": [],
     "prompt_number": 13
    },
    {
     "cell_type": "code",
     "collapsed": false,
     "input": [
      "import pandas as pd\n",
      "\n",
      "export = pd.read_csv(r\"C:\\Users\\NancyE\\Downloads\\EllevationExport_20170213_0954.csv\", dtype=str)\n",
      "scores = pd.read_csv(r\"C:\\Workspace\\la-rsd-choicefoundation\\map\\AssessmentResultsCombined.csv\", dtype=str)\n",
      "\n",
      "result=pd.merge(left=export, right=scores, left_on='Student #', right_on='StudentID', how='inner')\n",
      "\n",
      "result.to_csv(r\"C:\\Workspace\\la-rsd-choicefoundation\\map\\result.csv\", index=False)"
     ],
     "language": "python",
     "metadata": {},
     "outputs": [],
     "prompt_number": 2
    }
   ],
   "metadata": {}
  }
 ]
}