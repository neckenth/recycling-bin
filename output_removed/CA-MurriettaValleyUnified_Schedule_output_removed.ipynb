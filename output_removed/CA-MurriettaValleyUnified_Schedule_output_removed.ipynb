{
 "metadata": {
  "kernelspec": {
   "display_name": "Python 2",
   "language": "python",
   "name": "python2"
  },
  "language_info": {
   "codemirror_mode": {
    "name": "ipython",
    "version": 2
   },
   "file_extension": ".py",
   "mimetype": "text/x-python",
   "name": "python",
   "nbconvert_exporter": "python",
   "pygments_lexer": "ipython2",
   "version": "2.7.11"
  },
  "name": ""
 },
 "nbformat": 3,
 "nbformat_minor": 0,
 "worksheets": [
  {
   "cells": [
    {
     "cell_type": "code",
     "collapsed": false,
     "input": [
      "import pandas as pd\n",
      "\n",
      "schedule = pd.read_csv(r\"C:\\Workspace\\ca-murrietavalleyunified\\schedule\\aa-ellevation.schedule.csv\", dtype=str)\n",
      "\n",
      "codes = pd.read_csv(r\"C:\\Workspace\\ca-murrietavalleyunified\\schedule\\DepartmentCodes.csv\", dtype=str)\n",
      "\n",
      "result = pd.merge(left=schedule, right=codes, left_on='MasterSubjectArea', right_on='Code', how='outer')\n",
      "\n",
      "result.to_csv(r\"C:\\Workspace\\ca-murrietavalleyunified\\schedule\\schedule_processed.csv\", index=False)\n",
      "\n"
     ],
     "language": "python",
     "metadata": {},
     "outputs": [],
     "prompt_number": 4
    }
   ],
   "metadata": {}
  }
 ]
}