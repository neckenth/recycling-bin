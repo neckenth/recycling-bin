{
 "metadata": {
  "kernelspec": {
   "display_name": "Python 2",
   "language": "python",
   "name": "python2"
  },
  "language_info": {
   "codemirror_mode": {
    "name": "ipython",
    "version": 2
   },
   "file_extension": ".py",
   "mimetype": "text/x-python",
   "name": "python",
   "nbconvert_exporter": "python",
   "pygments_lexer": "ipython2",
   "version": "2.7.11"
  },
  "name": ""
 },
 "nbformat": 3,
 "nbformat_minor": 0,
 "worksheets": [
  {
   "cells": [
    {
     "cell_type": "code",
     "collapsed": false,
     "input": [
      "import pandas as pd\n",
      "import numpy as np\n",
      "\n",
      "from pyep.transform import derive_from_date_exited_4y\n",
      "\n",
      "dates_header = ['LASID', 'Date', 'Name', 'LEP', 'Type', 'Status', 'Elv_Date']\n",
      "\n",
      "student = pd.read_csv(r\"C:\\Workspace\\ma-nantucket\\student\\Students.txt\", dtype=str, sep=',')\n",
      "print len(student)\n",
      "dates = pd.read_csv(r\"C:\\Workspace\\ma-nantucket\\student\\Dates.txt\", dtype=str, sep=',', skiprows=0, names=dates_header)\n",
      "\n",
      "dates = dates[dates.loc[:, 'Type'].isin(['E', 'W'])]\n",
      "print len(dates)\n",
      "\n",
      "dates.loc[:, 'Elv_Date'] = pd.to_datetime(dates.loc[:, 'Date'])\n",
      "\n",
      "dates = dates.sort_values(by=['Elv_Date', 'LASID'], ascending=True)\n",
      "\n",
      "\n",
      "dates.drop_duplicates('LASID', keep='last', inplace=True)\n",
      "\n",
      "dates.loc[:, 'Elv_Active'] = dates.loc[:, 'Type'].map(\n",
      "    lambda x: 'Y' if x == 'E' else 'N')\n",
      "\n",
      "dates.loc[:, 'Elv_WithdrawnDate'] = dates.apply(\n",
      "    lambda x: x.loc['Elv_Date'] if x.loc['Type'] == 'W' else np.NaN, axis=1)\n",
      "\n",
      "dates.loc[:, 'Elv_DistrictEnrollment'] = dates.apply(\n",
      "    lambda x: x.loc['Elv_Date'] if x.loc['Type'] == 'E' else np.NaN, axis=1)\n",
      "\n",
      "df = pd.merge(right=student, left=dates, on='LASID', how='right')\n",
      "print len(df)\n",
      "\n",
      "df.loc[df['MiddleName'] == 'NMN', 'MiddleName'] = np.NaN\n",
      "\n",
      "df['Elv_LEPStatus'] = df.apply(\n",
      "    lambda x: derive_from_date_exited_4y(x['FLEP'])\n",
      "    if x['ELL'] == 'Not enrolled in an ELLP' else x['ELL'],\n",
      "    axis=1)\n",
      "\n",
      "condition_1=df.loc[:, 'ELL'] == 'Not enrolled in an ELLP'\n",
      "condition_2=df.loc[:, 'FLEP'].isnull()\n",
      "\n",
      "df.loc[condition_1 & condition_2, 'Elv_LEPStatus'] = 'Never Identified'\n",
      "df.head()\n",
      "\n",
      "df.to_csv(r\"C:\\Workspace\\ma-nantucket\\student\\combined_processed.txt\", sep='\\t', index=False)\n"
     ],
     "language": "python",
     "metadata": {
      "scrolled": false
     },
     "outputs": [],
     "prompt_number": 2
    },
    {
     "cell_type": "code",
     "collapsed": false,
     "input": [
      "import pandas as pd\n",
      "\n",
      "student = pd.read_csv(r\"C:\\Workspace\\ma-nantucket\\student\\Students.csv\", dtype=str)\n",
      "dates = pd.read_csv(r\"C:\\Workspace\\ma-nantucket\\student\\Dates.csv\", dtype=str)\n",
      "\n",
      "result = pd.merge(student, dates, on='LASID', indicator=True)\n",
      "\n",
      "result._merge.value_counts()"
     ],
     "language": "python",
     "metadata": {},
     "outputs": [],
     "prompt_number": 2
    }
   ],
   "metadata": {}
  }
 ]
}