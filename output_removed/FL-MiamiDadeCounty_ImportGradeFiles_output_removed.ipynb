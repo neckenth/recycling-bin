{
 "metadata": {
  "kernelspec": {
   "display_name": "Python 2",
   "language": "python",
   "name": "python2"
  },
  "language_info": {
   "codemirror_mode": {
    "name": "ipython",
    "version": 2
   },
   "file_extension": ".py",
   "mimetype": "text/x-python",
   "name": "python",
   "nbconvert_exporter": "python",
   "pygments_lexer": "ipython2",
   "version": "2.7.11"
  },
  "name": ""
 },
 "nbformat": 3,
 "nbformat_minor": 0,
 "worksheets": [
  {
   "cells": [
    {
     "cell_type": "code",
     "collapsed": false,
     "input": [
      "import pandas as pd\n",
      "import os\n",
      "import time\n",
      "\n",
      "from pyep.settings import WORKSPACE_ROOT\n",
      "\n",
      "def main():\n",
      "    \n",
      "    list_of_files = []\n",
      "\n",
      "    for file in os.listdir(\"D:\\\\Ellevation\\\\DataFiles\\\\import\\\\fl-miamidadecounty\\\\grades\\\\temp\\\\\"):\n",
      "        list_of_files.append(\"D:\\\\Ellevation\\\\DataFiles\\\\import\\\\fl-miamidadecounty\\\\grades\\\\temp\\\\\" + file)\n",
      "\n",
      "    every_five_files = [list_of_files [x:x+5] for x in range(0, len(list_of_files),5)]\n",
      "\n",
      "    for individual_list in every_five_files:\n",
      "        for each_file in individual_list:\n",
      "            print (os.path.split(each_file)[0]) + '/' + (os.path.split(each_file)[1])\n",
      "            os.rename((os.path.split(each_file)[0]) + '/' + (os.path.split(each_file)[1]), \"D:\\\\App_Files\\\\Import_Files\\\\Ellevation\\\\Uploaded\\\\ESLREPS-FL-MIAMIDADECOUNTY\\\\CourseGrades\\\\\" + (os.path.split(each_file)[1])) \n",
      "        time.sleep(60)\n",
      "        \n",
      "main()\n",
      "    \n",
      "    \n"
     ],
     "language": "python",
     "metadata": {},
     "outputs": [],
     "prompt_number": 32
    },
    {
     "cell_type": "code",
     "collapsed": false,
     "input": [
      "current_path = \"D:\\Ellevation\\DataFiles\\import\\fl-miamidadecounty\\grades\\temp\\ELLEVATION_GRADES-Dance-0-processed.csv\"\n",
      "future_path = \"D:\\App_Files\\Import_Files\\Ellevation\\Uploaded\\ESLREPS-FL-MIAMIDADECOUNTY\\CourseGrades\\ELLEVATION_GRADES-Dance-0-processed.csv\"\n",
      "\n",
      "print os.path.split(current_path)"
     ],
     "language": "python",
     "metadata": {},
     "outputs": [],
     "prompt_number": 18
    }
   ],
   "metadata": {}
  }
 ]
}