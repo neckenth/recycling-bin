{
 "metadata": {
  "kernelspec": {
   "display_name": "Python 2",
   "language": "python",
   "name": "python2"
  },
  "language_info": {
   "codemirror_mode": {
    "name": "ipython",
    "version": 2
   },
   "file_extension": ".py",
   "mimetype": "text/x-python",
   "name": "python",
   "nbconvert_exporter": "python",
   "pygments_lexer": "ipython2",
   "version": "2.7.11"
  },
  "name": ""
 },
 "nbformat": 3,
 "nbformat_minor": 0,
 "worksheets": [
  {
   "cells": [
    {
     "cell_type": "code",
     "collapsed": false,
     "input": [
      "import pandas as pd\n",
      "\n",
      "head = pd.read_csv(r\"C:\\Workspace\\ny-johnsoncitycentral\\elp-test-score\\NY031502_AssessmentFact_SFTP_201609060333.csv\", dtype=str)\n",
      "df = pd.read_csv(r\"C:\\Workspace\\ny-johnsoncitycentral\\elp-test-score\\NY031502_AssessmentFact_SFTP_201606150819.csv\", dtype=str, names=head)\n",
      "\n",
      "df.to_csv(r\"C:\\Workspace\\ny-johnsoncitycentral\\elp-test-score\\NY031502_AssessmentFact_SFTP_withheader.csv\", index=False)"
     ],
     "language": "python",
     "metadata": {
      "scrolled": true
     },
     "outputs": [],
     "prompt_number": 4
    }
   ],
   "metadata": {}
  }
 ]
}