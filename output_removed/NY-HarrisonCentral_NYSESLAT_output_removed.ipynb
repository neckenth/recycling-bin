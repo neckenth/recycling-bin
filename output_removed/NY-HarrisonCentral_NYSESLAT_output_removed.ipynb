{
 "metadata": {
  "kernelspec": {
   "display_name": "Python 2",
   "language": "python",
   "name": "python2"
  },
  "language_info": {
   "codemirror_mode": {
    "name": "ipython",
    "version": 2
   },
   "file_extension": ".py",
   "mimetype": "text/x-python",
   "name": "python",
   "nbconvert_exporter": "python",
   "pygments_lexer": "ipython2",
   "version": "2.7.11"
  },
  "name": ""
 },
 "nbformat": 3,
 "nbformat_minor": 0,
 "worksheets": [
  {
   "cells": [
    {
     "cell_type": "code",
     "collapsed": false,
     "input": [
      "#2014/2015\n",
      "import pandas as pd\n",
      "import numpy as np\n",
      "import os\n",
      "import re\n",
      "\n",
      "from pyep import read_delimited\n",
      "from pyep.settings import WORKSPACE_ROOT\n",
      "\n",
      "subset = []\n",
      "\n",
      "for file in os.listdir(WORKSPACE_ROOT + '/ny-harrisoncentral/NYSESLAT/CSV Versions/'):\n",
      "    df=read_delimited(WORKSPACE_ROOT + '/ny-harrisoncentral/NYSESLAT/CSV Versions/' + file,\n",
      "                  skiprows=[0,1])\n",
      "    subset.append(df)\n",
      "\n",
      "df = pd.concat(subset)\n",
      "\n",
      "# df['Assessment Name'].str.extract('(\\w{8}:\\s)(.-?\\d{0,2}?\\s)(\\w{2,}\\s?\\w{5}?)')\n",
      "\n",
      "#df['Assessment Name'].unique()\n",
      "\n",
      "df['Elv_Domain'] = df['Assessment Name'].str.extract('\\w{8}:\\s.-?\\d{0,2}?\\s(\\w{2,}\\s?\\w{5}?)')\n",
      "\n",
      "\n",
      "df['Elv_Domain'].unique()\n",
      "\n",
      "# df=df.pivot_table(index=['Student ID', 'Grade Level'],\n",
      "#                  columns='Elv_Domain',\n",
      "#                  values=['Performance Level', 'Score'],\n",
      "#                  aggfunc=np.max).reset_index(col_level=1)\n",
      "\n",
      "# df.columns=[' '.join(col).strip() for col in df.columns.tolist()]\n",
      "\n",
      "# df.to_csv(r\"C:\\Workspace\\ny-harrisoncentral\\NYSESLAT\\NYSESLAT_combined_processed.csv\", index=False)\n",
      "\n",
      "\n",
      "\n"
     ],
     "language": "python",
     "metadata": {},
     "outputs": [],
     "prompt_number": 7
    },
    {
     "cell_type": "code",
     "collapsed": false,
     "input": [
      "#2015-2016\n",
      "import pandas as pd\n",
      "import numpy as np\n",
      "import os\n",
      "import re\n",
      "\n",
      "from pyep import read_delimited\n",
      "from pyep.settings import WORKSPACE_ROOT\n",
      "\n",
      "df = read_delimited(r\"C:\\Workspace\\ny-harrisoncentral\\NYSESLAT\\6.2 NYSESLAT Scores.csv\")\n",
      "\n",
      "def helper(group):\n",
      "    group.loc[:, 'Elv_GradeLevel'] = group.loc[:, 'Elv_GradeLevel'].max()\n",
      "    return group\n",
      "\n",
      "df['Test Name'].str.extract('(\\w{8}:\\s)(.-?\\d{0,2}?\\s)(\\w{2,}\\s?\\w{5}?)')\n",
      "\n",
      "df.loc[df['Test Name'].str.contains('Total Score'), 'Elv_GradeLevel'] = df['Test Name'].str.extract('\\w{8}:\\s(.-?\\d{0,2}?\\s)\\w{2,}\\s?\\w{5}?')\n",
      "\n",
      "df = df.groupby('Student ID').apply(helper)\n",
      "\n",
      "df['Elv_Domain'] = df['Test Name'].str.extract('\\w{8}:\\s.-?\\d{0,2}?\\s(\\w{2,}\\s?\\w{5}?)')\n",
      "\n",
      "df=df.pivot_table(index=['Student ID', 'Testing Period Start Date', 'Elv_GradeLevel'],\n",
      "                  columns='Elv_Domain',\n",
      "                 values=['Performance Level', 'Score'],\n",
      "                 aggfunc=np.max).reset_index(col_level=1)\n",
      "\n",
      "df.columns=[' '.join(col).strip() for col in df.columns.tolist()]\n",
      "\n",
      "df.head()\n",
      "\n",
      "df.to_csv(r\"C:\\Workspace\\ny-harrisoncentral\\NYSESLAT\\6.2 NYSESLAT Scores_processed.csv\", index=False)\n"
     ],
     "language": "python",
     "metadata": {},
     "outputs": [],
     "prompt_number": 99
    },
    {
     "cell_type": "code",
     "collapsed": true,
     "input": [
      "\"\"\"\n",
      "GROUP BY Template\n",
      "\n",
      "def helper(group):\n",
      "    group.loc[:, <field_name>] = <value>\n",
      "    return group\n",
      "\n",
      "\n",
      "df.groupby(<student_id>).apply(helper)\n",
      "\"\"\"\n",
      "\n",
      "\n",
      "def helper(group):\n",
      "    group.loc[:, 'Elv_GradeLevel'] = group.loc[:, 'Elv_GradeLevel'].max()\n",
      "    return group\n",
      "\n",
      "\n",
      "df.groupby('StudentID').apply(helper)"
     ],
     "language": "python",
     "metadata": {},
     "outputs": [],
     "prompt_number": null
    },
    {
     "cell_type": "code",
     "collapsed": true,
     "input": [],
     "language": "python",
     "metadata": {},
     "outputs": [],
     "prompt_number": null
    }
   ],
   "metadata": {}
  }
 ]
}