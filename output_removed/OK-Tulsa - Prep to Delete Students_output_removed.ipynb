{
 "metadata": {
  "kernelspec": {
   "display_name": "Python 2",
   "language": "python",
   "name": "python2"
  },
  "language_info": {
   "codemirror_mode": {
    "name": "ipython",
    "version": 2
   },
   "file_extension": ".py",
   "mimetype": "text/x-python",
   "name": "python",
   "nbconvert_exporter": "python",
   "pygments_lexer": "ipython2",
   "version": "2.7.11"
  },
  "name": ""
 },
 "nbformat": 3,
 "nbformat_minor": 0,
 "worksheets": [
  {
   "cells": [
    {
     "cell_type": "code",
     "collapsed": false,
     "input": [
      "import pandas as pd\n",
      "\n",
      "export = pd.read_csv(r\"C:\\Users\\NancyE\\Downloads\\EllevationExport_20170516_1203.csv\", dtype=str)\n",
      "\n",
      "print len(export)\n",
      "\n",
      "need = pd.read_csv(r\"C:\\Users\\NancyE\\Downloads\\Ellevation - Need to delete (1).csv\", dtype=str)\n",
      "\n",
      "print len(need)\n",
      "\n",
      "to_delete = pd.merge(export, need, on='Student #', how='inner')\n",
      "\n",
      "print len(to_delete)\n",
      "\n",
      "to_delete.to_csv(r\"C:\\Users\\NancyE\\Downloads\\Elv_to_delete.csv\", index=False)"
     ],
     "language": "python",
     "metadata": {},
     "outputs": [],
     "prompt_number": 4
    }
   ],
   "metadata": {}
  }
 ]
}