{
 "metadata": {
  "kernelspec": {
   "display_name": "Python 2",
   "language": "python",
   "name": "python2"
  },
  "language_info": {
   "codemirror_mode": {
    "name": "ipython",
    "version": 2
   },
   "file_extension": ".py",
   "mimetype": "text/x-python",
   "name": "python",
   "nbconvert_exporter": "python",
   "pygments_lexer": "ipython2",
   "version": "2.7.11"
  },
  "name": ""
 },
 "nbformat": 3,
 "nbformat_minor": 0,
 "worksheets": [
  {
   "cells": [
    {
     "cell_type": "code",
     "collapsed": false,
     "input": [
      "import pandas as pd\n",
      "import numpy as np\n",
      "\n",
      "from pyep.transform import derive_from_date_exited_4y\n",
      "from common import is_null\n",
      "\n",
      "df = pd.read_csv(r\"C:\\Workspace\\ma-nantucket\\student\\StudentDem113016.txt\", sep=',', dtype=str)\n",
      "\n",
      "df.head()\n",
      "\n",
      "df.loc[df['MiddleName'] == 'NMN', 'MiddleName'] = np.NaN\n",
      "\n",
      "df['Elv_LEPStatus'] = df.apply(\n",
      "    lambda x: derive_from_date_exited_4y(x['FLEP'])\n",
      "    if x['ELL'] == 'Not enrolled in an ELLP' else x['ELL'],\n",
      "    axis=1)\n",
      "\n",
      "condition_1=df.loc[:, 'ELL'] == 'Not enrolled in an ELLP'\n",
      "condition_2=df.loc[:, 'FLEP'].isnull()\n",
      "\n",
      "df.loc[condition_1 & condition_2, 'Elv_LEPStatus'] = 'TDNQ'\n",
      "\n",
      "df.to_csv(r\"C:\\Workspace\\ma-nantucket\\student\\StudentDem113016_processed.csv\", index=False)\n",
      "\n",
      "\n",
      "\n",
      "\n",
      "\n"
     ],
     "language": "python",
     "metadata": {},
     "outputs": [],
     "prompt_number": 31
    },
    {
     "cell_type": "code",
     "collapsed": true,
     "input": [],
     "language": "python",
     "metadata": {},
     "outputs": [],
     "prompt_number": null
    }
   ],
   "metadata": {}
  }
 ]
}