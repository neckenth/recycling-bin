{
 "metadata": {
  "kernelspec": {
   "display_name": "Python 2",
   "language": "python",
   "name": "python2"
  },
  "language_info": {
   "codemirror_mode": {
    "name": "ipython",
    "version": 2
   },
   "file_extension": ".py",
   "mimetype": "text/x-python",
   "name": "python",
   "nbconvert_exporter": "python",
   "pygments_lexer": "ipython2",
   "version": "2.7.11"
  },
  "name": ""
 },
 "nbformat": 3,
 "nbformat_minor": 0,
 "worksheets": [
  {
   "cells": [
    {
     "cell_type": "code",
     "collapsed": false,
     "input": [
      "import pandas as pd\n",
      "\n",
      "from pyep.transform import derive_from_date_exited_4y\n",
      "from common import is_null\n",
      "\n",
      "df = pd.read_csv(r\"C:\\Workspace\\ct-hamdenpublicschools\\student\\hamdenStudent File (1).csv\", dtype=str)\n",
      "\n",
      "df = df[df.loc[:, 'Type Status'] == '1']\n",
      "\n",
      "df['Elv_LEPStatus'] = df.apply(\n",
      "    lambda x: derive_from_date_exited_4y(x['Exit Date']) if not is_null(x['Exit Date'])\n",
      "    else 'ELL',\n",
      "    axis=1)\n",
      "\n",
      "df.to_csv(r\"C:\\Workspace\\ct-hamdenpublicschools\\student\\hamdenStudent File (1)_processed.csv\", index=False)"
     ],
     "language": "python",
     "metadata": {},
     "outputs": [],
     "prompt_number": 11
    },
    {
     "cell_type": "code",
     "collapsed": false,
     "input": [
      "import pandas as pd\n",
      "\n",
      "from pyep.transform import derive_from_date_exited_4y\n",
      "from common import is_null\n",
      "\n",
      "df = pd.read_csv(r\"C:\\Workspace\\ct-hamdenpublicschools\\student\\HamdenExitStudentsRevised.csv\", dtype=str)\n",
      "\n",
      "df['Elv_LEPStatus'] = df.apply(\n",
      "    lambda x: derive_from_date_exited_4y(x['Exit Date']), axis=1)\n",
      "\n",
      "df.to_csv(r\"C:\\Workspace\\ct-hamdenpublicschools\\student\\HamdenExitStudentsRevised_processed.csv\", index=False)"
     ],
     "language": "python",
     "metadata": {},
     "outputs": [],
     "prompt_number": 2
    },
    {
     "cell_type": "code",
     "collapsed": false,
     "input": [
      "import pandas as pd\n",
      "\n",
      "from pyep.transform import derive_from_date_exited_4y\n",
      "from common import is_null\n",
      "\n",
      "head = pd.read_csv(r\"C:\\Workspace\\ct-hamdenpublicschools\\student\\ct-hamdenpublicschools-student-headers.txt\", dtype=str, sep='\\t')\n",
      "\n",
      "df = pd.read_csv(r\"C:\\Workspace\\ct-hamdenpublicschools\\student\\EllevationStudentFile.txt\", names=head, dtype=str, sep='\\t')\n",
      "\n",
      "# df['Elv_ReceivingServices'] = df.apply(\n",
      "#     lambda x: derive_from_date_exited_4y(x.loc['exitdate']) if not is_null(x.loc['exitdate']) else 'ELL',\n",
      "#     axis=1)\n",
      "\n",
      "# df.head()\n",
      "\n",
      "df = df[df.loc[:, '39Name'] != 'Outplaced School']\n",
      "\n",
      "df.columns.tolist()\n",
      "\n",
      "df.loc[:, 'CT_ELL'].value_counts()\n",
      "# df.loc[:, 'CT_ELL_Code'].value_counts()\n",
      "\n",
      "df = df[df.loc[:, 'CT_ELL'] == 'Y']\n",
      "\n",
      "df.to_csv(r\"C:\\Workspace\\ct-hamdenpublicschools\\student\\EllevationStudentFile_processed.txt\", sep='\\t', index=False)"
     ],
     "language": "python",
     "metadata": {},
     "outputs": [],
     "prompt_number": 4
    }
   ],
   "metadata": {}
  }
 ]
}