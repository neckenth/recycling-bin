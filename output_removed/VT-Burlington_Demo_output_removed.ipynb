{
 "metadata": {
  "kernelspec": {
   "display_name": "Python 2",
   "language": "python",
   "name": "python2"
  },
  "language_info": {
   "codemirror_mode": {
    "name": "ipython",
    "version": 2
   },
   "file_extension": ".py",
   "mimetype": "text/x-python",
   "name": "python",
   "nbconvert_exporter": "python",
   "pygments_lexer": "ipython2",
   "version": "2.7.11"
  },
  "name": ""
 },
 "nbformat": 3,
 "nbformat_minor": 0,
 "worksheets": [
  {
   "cells": [
    {
     "cell_type": "code",
     "collapsed": false,
     "input": [
      "import pandas as pd\n",
      "\n",
      "df = pd.read_csv(r\"C:\\Workspace\\vt-burlington\\student\\StudentDemographics_BurlingtonVT_12_16_2016.csv\", dtype=str)\n",
      "\n",
      "print len(df)\n",
      "\n",
      "df = df[~df.loc[:, 'SCHOOLNAME'].isin(['EE Clinic', 'Special Circumstances'])]\n",
      "\n",
      "print len(df)\n",
      "\n",
      "df = df[~df.loc[:, 'GRADELEVEL'].isin(['-2'])]\n",
      "\n",
      "print len(df)\n",
      "\n",
      "df.to_csv(r\"C:\\Workspace\\vt-burlington\\student\\StudentDemographics_BurlingtonVT_12_16_2016_processed.csv\", index=False)"
     ],
     "language": "python",
     "metadata": {},
     "outputs": [],
     "prompt_number": 5
    },
    {
     "cell_type": "code",
     "collapsed": false,
     "input": [
      "import pandas as pd\n",
      "import os\n",
      "\n",
      "\n",
      "from pyep import read_delimited\n",
      "from pyep.settings import WORKSPACE_ROOT\n",
      "from pyep.transform import derive_from_date_exited_4y\n",
      "from common import is_null\n",
      "\n",
      "subset = []\n",
      "\n",
      "for file in os.listdir (WORKSPACE_ROOT + '/vt-burlington/student/'):\n",
      "    #print file\n",
      "    df = read_delimited((WORKSPACE_ROOT + '/vt-burlington/student/' + file), inferDialect=False, sep='\\t')\n",
      "    #print len(df)\n",
      "    #print df.columns.tolist()\n",
      "    subset.append(df)\n",
      "                        \n",
      "df = pd.concat(subset)\n",
      "\n",
      "#print len(df)\n",
      "df = df[~df.loc[:, 'STUDENTS.SchoolID'].isin(['2', '10'])]\n",
      "#print len(df)\n",
      "df = df[~df.loc[:, 'STUDENTS.Grade_Level'].isin(['-2'])]\n",
      "\n",
      "df['Elv_LEPStatus'] = df.apply(\n",
      "    lambda x: derive_from_date_exited_4y(x['U_DEF_EXT_STUDENTS.el_monitor_start_date'])\n",
      "    if not is_null(x['U_DEF_EXT_STUDENTS.el_monitor_start_date'])\n",
      "    else 'ELL', \n",
      "    axis=1)\n",
      "\n",
      "df.head()\n",
      "df.to_csv(r\"C:\\Workspace\\vt-burlington\\student\\combined.csv\", index=False)"
     ],
     "language": "python",
     "metadata": {},
     "outputs": [],
     "prompt_number": 7
    }
   ],
   "metadata": {}
  }
 ]
}