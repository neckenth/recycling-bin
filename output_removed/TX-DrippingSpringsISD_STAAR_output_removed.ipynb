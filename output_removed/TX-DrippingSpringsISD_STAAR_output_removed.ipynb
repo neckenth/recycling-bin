{
 "metadata": {
  "kernelspec": {
   "display_name": "Python 2",
   "language": "python",
   "name": "python2"
  },
  "language_info": {
   "codemirror_mode": {
    "name": "ipython",
    "version": 2
   },
   "file_extension": ".py",
   "mimetype": "text/x-python",
   "name": "python",
   "nbconvert_exporter": "python",
   "pygments_lexer": "ipython2",
   "version": "2.7.11"
  },
  "name": ""
 },
 "nbformat": 3,
 "nbformat_minor": 0,
 "worksheets": [
  {
   "cells": [
    {
     "cell_type": "code",
     "collapsed": false,
     "input": [
      "import pandas as pd\n",
      "import glob\n",
      "\n",
      "from pyep.settings import WORKSPACE_ROOT\n",
      "\n",
      "district = 'tx-drippingspringsisd'\n",
      "\n",
      "subset = []\n",
      "\n",
      "for file in glob.glob('{}/{}/staar/TX-*'.format(WORKSPACE_ROOT, district)):\n",
      "    df = pd.read_csv(file)\n",
      "    print len(df)\n",
      "    subset.append(df)\n",
      "    \n",
      "df = pd.concat(subset)\n",
      "\n",
      "df.head()\n",
      "\n",
      "export = pd.read_csv(r\"C:\\Users\\NancyE\\Downloads\\EllevationExport_20170918_0838.csv\", dtype=str)\n",
      "\n",
      "result = pd.merge(left=df, right=export, left_on='StudentLocalID', right_on='Student #', how='outer', indicator=True)\n",
      "\n",
      "result = result[result.loc[:, '_merge'] == 'both']\n",
      "\n",
      "result.to_csv('{}/{}/staar/compare.csv'.format(WORKSPACE_ROOT, district), index=False)\n"
     ],
     "language": "python",
     "metadata": {},
     "outputs": [],
     "prompt_number": 8
    }
   ],
   "metadata": {}
  }
 ]
}