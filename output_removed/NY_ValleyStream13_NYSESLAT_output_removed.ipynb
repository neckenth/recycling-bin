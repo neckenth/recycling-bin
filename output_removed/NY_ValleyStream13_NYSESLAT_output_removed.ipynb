{
 "metadata": {
  "kernelspec": {
   "display_name": "Python 2",
   "language": "python",
   "name": "python2"
  },
  "language_info": {
   "codemirror_mode": {
    "name": "ipython",
    "version": 2
   },
   "file_extension": ".py",
   "mimetype": "text/x-python",
   "name": "python",
   "nbconvert_exporter": "python",
   "pygments_lexer": "ipython2",
   "version": "2.7.11"
  },
  "name": ""
 },
 "nbformat": 3,
 "nbformat_minor": 0,
 "worksheets": [
  {
   "cells": [
    {
     "cell_type": "code",
     "collapsed": false,
     "input": [
      "import pandas as pd\n",
      "import glob\n",
      "import os\n",
      "\n",
      "from pyep import qualify_file_name\n",
      "from pyep.settings import WORKSPACE_ROOT\n",
      "\n",
      "district = 'ny-valleystream13'\n",
      "\n",
      "subset = []\n",
      "\n",
      "for f in glob.glob('{}/{}/elp-test-score/NYSESLAT*'.format(WORKSPACE_ROOT, district)):\n",
      "    df = pd.read_csv('{}/{}/elp-test-score/{}'.format(WORKSPACE_ROOT, district, os.path.split(f)[1]), dtype=str)\n",
      "    cols = [col for col in df.columns if 'unnamed' not in col.lower()]\n",
      "    df = df[cols]\n",
      "    if '1516' in f:\n",
      "        df.loc[:, 'Elv_DateGiven'] = pd.to_datetime('4/1/2016')\n",
      "    elif '1617' in f:\n",
      "        df.loc[:, 'Elv_DateGiven'] = pd.to_datetime('4/3/2017')\n",
      "    print len(df)\n",
      "    subset.append(df)\n",
      "    \n",
      "df = pd.concat(subset)\n",
      "\n",
      "df = df[df.loc[:, 'Grade'].notnull()]\n",
      "\n",
      "df.to_csv('{}/{}/elp-test-score/two_years_NYSESLAT.csv'.format(WORKSPACE_ROOT, district), index=False)"
     ],
     "language": "python",
     "metadata": {},
     "outputs": [],
     "prompt_number": 23
    }
   ],
   "metadata": {}
  }
 ]
}