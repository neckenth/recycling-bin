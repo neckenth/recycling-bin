{
 "metadata": {
  "kernelspec": {
   "display_name": "Python 2",
   "language": "python",
   "name": "python2"
  },
  "language_info": {
   "codemirror_mode": {
    "name": "ipython",
    "version": 2
   },
   "file_extension": ".py",
   "mimetype": "text/x-python",
   "name": "python",
   "nbconvert_exporter": "python",
   "pygments_lexer": "ipython2",
   "version": "2.7.11"
  },
  "name": ""
 },
 "nbformat": 3,
 "nbformat_minor": 0,
 "worksheets": [
  {
   "cells": [
    {
     "cell_type": "code",
     "collapsed": false,
     "input": [
      "import pandas as pd\n",
      "\n",
      "from common import is_null\n",
      "\n",
      "df = pd.read_csv(r\"C:\\Workspace\\ar-lakehamilton\\student\\Student Report.csv\", dtype=str)\n",
      "\n",
      "\n",
      "def derive_elv_lepstatus(row):\n",
      "    condition_1 = row.loc['ELL Status'] == 'Y'\n",
      "    condition_2 = is_null(row.loc['ELL Waived Date'])\n",
      "    condition_3 = row.loc['ELL Monitored'] == 'M1'\n",
      "    condition_4 = row.loc['ELL Monitored'] == 'M2'\n",
      "    condition_5 = is_null(row.loc['ELL Monitored'])\n",
      "    condition_6 = is_null(row.loc['End Date - Student Program'])\n",
      "    if condition_1 & condition_2:\n",
      "        return 'ELL'\n",
      "    elif condition_1 & ~condition_2:\n",
      "        return 'Parent Denial'\n",
      "    elif condition_3:\n",
      "        return 'M1'\n",
      "    elif condition_4:\n",
      "        return 'M2'\n",
      "    elif condition_5 & ~condition_6:\n",
      "        return 'Fully Exited'\n",
      "    \n",
      "df['ELV_LEPStatus'] = df.apply(derive_elv_lepstatus, axis=1)\n",
      "\n",
      "df['Start Date - Student Program'] = pd.to_datetime(df['Start Date - Student Program'], errors='coerce')\n",
      "\n",
      "df['End Date - Student Program'] = pd.to_datetime(df['End Date - Student Program'], errors='coerce')\n",
      "\n",
      "df['ELV_LEPStatus'].value_counts()\n",
      "\n",
      "# df = df[df.loc[:, 'ELV_LEPStatus'].notnull()]\n",
      "\n",
      "# #df_skipped = df[df.loc[:, 'ELV_LEPStatus'].isnull()]\n",
      "\n",
      "# df.to_csv(r\"C:\\Workspace\\ar-lakehamilton\\student\\Student Report_processed.csv\", index=False)\n",
      "\n",
      "# #df_skipped.to_csv(r\"C:\\Workspace\\ar-lakehamilton\\student\\Student Report_processed_skipped.csv\", index=False)"
     ],
     "language": "python",
     "metadata": {},
     "outputs": [],
     "prompt_number": 3
    },
    {
     "cell_type": "code",
     "collapsed": false,
     "input": [
      "import datetime as dt\n",
      "print dt.datetime.now().strftime('%Y%m%d')"
     ],
     "language": "python",
     "metadata": {},
     "outputs": [],
     "prompt_number": 2
    }
   ],
   "metadata": {}
  }
 ]
}