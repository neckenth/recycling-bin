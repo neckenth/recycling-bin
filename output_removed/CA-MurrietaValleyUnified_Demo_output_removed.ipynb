{
 "metadata": {
  "kernelspec": {
   "display_name": "Python 2",
   "language": "python",
   "name": "python2"
  },
  "language_info": {
   "codemirror_mode": {
    "name": "ipython",
    "version": 2
   },
   "file_extension": ".py",
   "mimetype": "text/x-python",
   "name": "python",
   "nbconvert_exporter": "python",
   "pygments_lexer": "ipython2",
   "version": "2.7.11"
  },
  "name": ""
 },
 "nbformat": 3,
 "nbformat_minor": 0,
 "worksheets": [
  {
   "cells": [
    {
     "cell_type": "code",
     "collapsed": false,
     "input": [
      "import pandas as pd\n",
      "import numpy as np\n",
      "\n",
      "from datetime import datetime as dt\n",
      "\n",
      "from pyep.transform import derive_from_date_exited_4y\n",
      "from common import is_null\n",
      "\n",
      "\n",
      "df = pd.read_csv(r\"C:\\Workspace\\ca-murrietavalleyunified\\student\\aa-ellevation.student.csv\", dtype=str)\n",
      "\n",
      "df = df[df.loc[:, 'ELStatus'].notnull()]\n",
      "\n",
      "df['Elv_LEPStatus'] = df.apply(\n",
      "    lambda x: derive_from_date_exited_4y(x['RFEPDate'])\n",
      "    if x['ELStatus'] == '4' else x['ELStatus'],\n",
      "    axis=1)\n",
      "\n",
      "df['Elv_RedesDate'] = df['RFEPDate']\n",
      "df['Elv_StartDate'] = df['ProgramStartDate']\n",
      "\n",
      "df.loc[df.loc[:, 'ELStatus'].isin(['2','5']), 'Elv_RedesDate'] = np.NaN\n",
      "df.loc[df.loc[:, 'ELStatus'].isin(['2','5']), 'Elv_StartDate'] = np.NaN\n",
      "\n",
      "df['Elv_Yrs_USSchools'] = df['USSchoolEntryDate'].map(\n",
      "    lambda x: np.NaN if is_null(x) \n",
      "    else (dt.today()-pd.to_datetime(x)).days / 365)\n",
      "\n",
      "df.to_csv(r\"C:\\Workspace\\ca-murrietavalleyunified\\student\\aa-ellevation.student_processed.csv\", index=False)"
     ],
     "language": "python",
     "metadata": {},
     "outputs": [],
     "prompt_number": 12
    }
   ],
   "metadata": {}
  }
 ]
}