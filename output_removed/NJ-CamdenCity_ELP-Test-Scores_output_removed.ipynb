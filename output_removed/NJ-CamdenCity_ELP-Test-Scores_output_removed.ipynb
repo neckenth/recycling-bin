{
 "metadata": {
  "kernelspec": {
   "display_name": "Python 2",
   "language": "python",
   "name": "python2"
  },
  "language_info": {
   "codemirror_mode": {
    "name": "ipython",
    "version": 2
   },
   "file_extension": ".py",
   "mimetype": "text/x-python",
   "name": "python",
   "nbconvert_exporter": "python",
   "pygments_lexer": "ipython2",
   "version": "2.7.11"
  },
  "name": ""
 },
 "nbformat": 3,
 "nbformat_minor": 0,
 "worksheets": [
  {
   "cells": [
    {
     "cell_type": "code",
     "collapsed": false,
     "input": [
      "#access\n",
      "\n",
      "import pandas as pd\n",
      "\n",
      "df = pd.read_csv(r\"C:\\Workspace\\nj-camdencity\\elp-test-score\\camdenaccess.csv\", dtype=str)\n",
      "\n",
      "print len(df)\n",
      "df.drop_duplicates(inplace=True)\n",
      "print len(df)\n",
      "\n",
      "df_2 = df[df.loc[:, 'ASSESSMENT YEAR'].map(int) >= 2016]\n",
      "df = df[df.loc[:, 'ASSESSMENT YEAR'].map(int) < 2016]\n",
      "print len(df_2)\n",
      "\n",
      "df.to_csv(r\"C:\\Workspace\\nj-camdencity\\elp-test-score\\camdenaccess_processed.csv\", index=False)\n",
      "df_2.to_csv(r\"C:\\Workspace\\nj-camdencity\\elp-test-score\\camdenaccess2.0._processed.csv\", index=False)"
     ],
     "language": "python",
     "metadata": {},
     "outputs": [],
     "prompt_number": 5
    },
    {
     "cell_type": "code",
     "collapsed": true,
     "input": [
      "import pandas as pd\n",
      "\n",
      "df = pd.read_csv(r\"C:\\Workspace\\nj-camdencity\\access\\camdenaccess.csv\", dtype=str)\n",
      "\n",
      "df.drop_duplicates(inplace=True)\n",
      "\n",
      "df.to_csv(r\"C:\\Workspace\\nj-camdencity\\access\\camdenaccess_processed.csv\", index=False)"
     ],
     "language": "python",
     "metadata": {},
     "outputs": [],
     "prompt_number": 1
    },
    {
     "cell_type": "code",
     "collapsed": false,
     "input": [
      "import pandas as pd\n",
      "\n",
      "df = pd.read_csv(r\"C:\\Workspace\\nj-camdencity\\wapt\\wapt.csv\", dtype=str)\n",
      "\n",
      "df = df[~df.loc[:, 'Grade Level'].isin(['1', 'PK4'])]\n",
      "\n",
      "df.to_csv(r\"C:\\Workspace\\nj-camdencity\\wapt\\wapt_processed.csv\", index=False)"
     ],
     "language": "python",
     "metadata": {},
     "outputs": [],
     "prompt_number": 2
    }
   ],
   "metadata": {}
  }
 ]
}