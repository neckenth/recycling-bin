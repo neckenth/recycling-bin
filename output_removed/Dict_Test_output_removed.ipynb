{
 "metadata": {
  "kernelspec": {
   "display_name": "Python 2",
   "language": "python",
   "name": "python2"
  },
  "language_info": {
   "codemirror_mode": {
    "name": "ipython",
    "version": 2
   },
   "file_extension": ".py",
   "mimetype": "text/x-python",
   "name": "python",
   "nbconvert_exporter": "python",
   "pygments_lexer": "ipython2",
   "version": "2.7.11"
  },
  "name": ""
 },
 "nbformat": 3,
 "nbformat_minor": 0,
 "worksheets": [
  {
   "cells": [
    {
     "cell_type": "code",
     "collapsed": false,
     "input": [
      "import pandas as pd\n",
      "\n",
      "class_mapping = {\n",
      "    'Math': 'mathematics',\n",
      "    'Reading': 'ela',\n",
      "}\n",
      "\n",
      "df = pd.read_excel(r\"C:\\Users\\NancyE\\Desktop\\dict_test.xlsx\")\n",
      "\n",
      "df.loc[:, 'new_class'] = df.loc[:, 'Class'].map(class_mapping)\n",
      "\n",
      "df.head()"
     ],
     "language": "python",
     "metadata": {},
     "outputs": [],
     "prompt_number": 2
    },
    {
     "cell_type": "code",
     "collapsed": false,
     "input": [
      "import pandas as pd\n",
      "\n",
      "act = pd.read_csv(r\"C:\\Workspace\\fl-miamidadecounty\\std-test-score\\unprocessed\\ELLEVATION_SAT.csv\", dtype=str)\n",
      "\n",
      "act.DateGiven.unique()"
     ],
     "language": "python",
     "metadata": {},
     "outputs": [],
     "prompt_number": 9
    }
   ],
   "metadata": {}
  }
 ]
}