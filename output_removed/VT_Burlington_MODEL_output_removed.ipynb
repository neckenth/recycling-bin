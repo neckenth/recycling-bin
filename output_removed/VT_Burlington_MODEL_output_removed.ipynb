{
 "metadata": {
  "kernelspec": {
   "display_name": "Python 2",
   "language": "python",
   "name": "python2"
  },
  "language_info": {
   "codemirror_mode": {
    "name": "ipython",
    "version": 2
   },
   "file_extension": ".py",
   "mimetype": "text/x-python",
   "name": "python",
   "nbconvert_exporter": "python",
   "pygments_lexer": "ipython2",
   "version": "2.7.11"
  },
  "name": ""
 },
 "nbformat": 3,
 "nbformat_minor": 0,
 "worksheets": [
  {
   "cells": [
    {
     "cell_type": "code",
     "collapsed": false,
     "input": [
      "import pandas as pd\n",
      "\n",
      "df = pd.read_excel(r\"C:\\Workspace\\vt-burlington\\elp-test-score\\MODEL_file_burlington_school_district_5_25_17.xlsx\")\n",
      "\n",
      "df.head()\n",
      "\n",
      "df.to_csv(r\"C:\\Workspace\\vt-burlington\\elp-test-score\\MODEL_file_burlington_school_district_5_25_17_processed.csv\", index=False)"
     ],
     "language": "python",
     "metadata": {},
     "outputs": [],
     "prompt_number": 3
    },
    {
     "cell_type": "code",
     "collapsed": false,
     "input": [
      "import pandas as pd\n",
      "\n",
      "df = pd.read_excel(r\"C:\\Users\\NancyE\\Downloads\\MODEL_file_burlington_school_district_5_26_17v2.xlsx\")\n",
      "\n",
      "model = df[df.loc[:, 'Test Name'] == 'MODEL']\n",
      "\n",
      "print len(model)\n",
      "\n",
      "model_k = df[df.loc[:, 'Test Name'] == 'MODEL K']\n",
      "\n",
      "print len(model_k)\n",
      "\n",
      "model.to_csv(r\"C:\\Workspace\\vt-burlington\\elp-test-score\\MODEL_processed.csv\", index=False)\n",
      "\n",
      "model_k.to_csv(r\"C:\\Workspace\\vt-burlington\\elp-test-score\\MODEL_K_processed.csv\", index=False)"
     ],
     "language": "python",
     "metadata": {},
     "outputs": [],
     "prompt_number": 2
    }
   ],
   "metadata": {}
  }
 ]
}