{
 "metadata": {
  "kernelspec": {
   "display_name": "Python 2",
   "language": "python",
   "name": "python2"
  },
  "language_info": {
   "codemirror_mode": {
    "name": "ipython",
    "version": 2
   },
   "file_extension": ".py",
   "mimetype": "text/x-python",
   "name": "python",
   "nbconvert_exporter": "python",
   "pygments_lexer": "ipython2",
   "version": "2.7.11"
  },
  "name": ""
 },
 "nbformat": 3,
 "nbformat_minor": 0,
 "worksheets": [
  {
   "cells": [
    {
     "cell_type": "code",
     "collapsed": false,
     "input": [
      "import pandas as pd\n",
      "\n",
      "df = pd.read_csv(r\"C:\\Workspace\\ar-springdale\\person\\ellevation-staff-data.csv\", dtype=str)\n",
      "\n",
      "print len(df)\n",
      "\n",
      "df.drop_duplicates(inplace=True)\n",
      "\n",
      "df.to_csv(r\"C:\\Workspace\\ar-springdale\\person\\ellevation-staff-data_processed.csv\", index=False)"
     ],
     "language": "python",
     "metadata": {},
     "outputs": [],
     "prompt_number": 4
    },
    {
     "cell_type": "code",
     "collapsed": false,
     "input": [
      "in_elv = pd.read_csv(r\"C:\\Workspace\\ar-springdale\\person\\CurrentUsersNonUsers.csv\", dtype=str)\n",
      "\n",
      "#non-users only\n",
      "in_elv = in_elv[in_elv.loc[:, 'ACCOUNTID'].isnull()]\n",
      "\n",
      "df = pd.read_csv(r\"C:\\Workspace\\ar-springdale\\person\\ellevation-staff-data_processed.csv\", dtype=str)\n",
      "\n",
      "compare = pd.merge(left=in_elv, right=df, left_on='EMAIL', right_on='Staff Email Address', how='outer', indicator=True)\n",
      "\n",
      "compare['_merge'].value_counts()\n",
      "\n",
      "#records that exist only in the left (in ellevation)\n",
      "to_remove = compare[compare.loc[:, '_merge'] == 'left_only']\n",
      "\n",
      "#keep just the PERSONID so that i can use the batch delete people feature in Product Admin\n",
      "to_remove = to_remove[['PERSONID']]\n",
      "\n",
      "to_remove.to_csv(r\"C:\\Workspace\\ar-springdale\\person\\people_to_remove.csv\", index=False)\n",
      "\n"
     ],
     "language": "python",
     "metadata": {},
     "outputs": [],
     "prompt_number": 14
    }
   ],
   "metadata": {}
  }
 ]
}