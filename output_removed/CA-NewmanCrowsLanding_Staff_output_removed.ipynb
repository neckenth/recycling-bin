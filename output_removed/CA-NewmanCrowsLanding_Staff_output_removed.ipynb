{
 "metadata": {
  "kernelspec": {
   "display_name": "Python 2",
   "language": "python",
   "name": "python2"
  },
  "language_info": {
   "codemirror_mode": {
    "name": "ipython",
    "version": 2
   },
   "file_extension": ".py",
   "mimetype": "text/x-python",
   "name": "python",
   "nbconvert_exporter": "python",
   "pygments_lexer": "ipython2",
   "version": "2.7.11"
  },
  "name": ""
 },
 "nbformat": 3,
 "nbformat_minor": 0,
 "worksheets": [
  {
   "cells": [
    {
     "cell_type": "code",
     "collapsed": false,
     "input": [
      "import pandas as pd\n",
      "\n",
      "head = pd.read_csv(r\"C:\\Workspace\\ca-newmancrowslanding\\person\\ca-newmancrowslanding-headers.txt\", sep='\\t', dtype=object)\n",
      "\n",
      "df = pd.read_csv(r\"C:\\Workspace\\ca-newmancrowslanding\\person\\staff.txt\", names=head, sep='\\t', dtype=object)\n",
      "\n",
      "condition = df.loc[:, 'School ID'].isin(\n",
      "        ['0', '500000001', '5030150', '5030150', '6118343'])\n",
      "\n",
      "df = df[~condition]\n",
      "\n",
      "df.to_csv(r\"C:\\Workspace\\ca-newmancrowslanding\\person\\staff_processed.txt\", index=False, sep='\\t')"
     ],
     "language": "python",
     "metadata": {},
     "outputs": [],
     "prompt_number": 2
    }
   ],
   "metadata": {}
  }
 ]
}