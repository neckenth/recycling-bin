{
 "metadata": {
  "kernelspec": {
   "display_name": "Python 2",
   "language": "python",
   "name": "python2"
  },
  "language_info": {
   "codemirror_mode": {
    "name": "ipython",
    "version": 2
   },
   "file_extension": ".py",
   "mimetype": "text/x-python",
   "name": "python",
   "nbconvert_exporter": "python",
   "pygments_lexer": "ipython2",
   "version": "2.7.11"
  },
  "name": ""
 },
 "nbformat": 3,
 "nbformat_minor": 0,
 "worksheets": [
  {
   "cells": [
    {
     "cell_type": "code",
     "collapsed": false,
     "input": [
      "import pandas as pd\n",
      "\n",
      "df = pd.read_csv(r\"C:\\Workspace\\ny-bedfordcentral\\elp-test-score\\20170301_NYSITELLscores.csv\", dtype=str)\n",
      "\n",
      "condition_1 = df.loc[:, 'Grade Level at Testing'] == 'K'\n",
      "condition_2 = df.loc[:, 'Listening Raw Score'].notnull()\n",
      "condition_3 = df.loc[:, 'Speaking Raw Score'].notnull()\n",
      "condition_4 = df.loc[:, 'Listening Raw Score'] != '0'\n",
      "condition_5 = df.loc[:, 'Speaking Raw Score'] != '0'\n",
      "condition_6 = df.loc[:, 'Reading Raw Score'] != '0'\n",
      "condition_7 = df.loc[:, 'Writing Raw Score'] != '0'\n",
      "condition_8 = df.loc[:, 'Total Raw Score'] != '0'\n",
      "\n",
      "print len(df)\n",
      "\n",
      "df = df[df.loc[:, 'Grade Level at Testing'].notnull()]\n",
      "\n",
      "print len(df)\n",
      "\n",
      "df = df.loc[(condition_2 & condition_3)]\n",
      "\n",
      "print len(df)\n",
      "\n",
      "#df = df.loc[(condition_4 & condition_5 & condition_6 & condition_7 & condition_8)]\n",
      "df = df[df.loc[:, 'Total Raw Score'] != '0']\n",
      "\n",
      "print len(df)\n",
      "\n",
      "df.to_csv(r\"C:\\Workspace\\ny-bedfordcentral\\elp-test-scores\\20170301_NYSITELLscores_processed.csv\", index=False)\n",
      "\n",
      "\n",
      "\n"
     ],
     "language": "python",
     "metadata": {},
     "outputs": [],
     "prompt_number": 17
    },
    {
     "cell_type": "code",
     "collapsed": false,
     "input": [
      "#NYSESLAT\n",
      "import pandas as pd\n",
      "\n",
      "df = pd.read_csv(r\"C:\\Workspace\\ny-bedfordcentral\\elp-test-scores\\20170224_NYSESLATscores.csv\", dtype=str)\n",
      "\n",
      "df = df[df.loc[:, 'Grade Level at Testing'].notnull()]\n",
      "\n",
      "df.to_csv(r\"C:\\Workspace\\ny-bedfordcentral\\elp-test-scores\\20170224_NYSESLATscores_processed.csv\", index=False)"
     ],
     "language": "python",
     "metadata": {},
     "outputs": [],
     "prompt_number": 2
    }
   ],
   "metadata": {}
  }
 ]
}