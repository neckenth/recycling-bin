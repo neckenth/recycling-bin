{
 "metadata": {
  "kernelspec": {
   "display_name": "Python 2",
   "language": "python",
   "name": "python2"
  },
  "language_info": {
   "codemirror_mode": {
    "name": "ipython",
    "version": 2
   },
   "file_extension": ".py",
   "mimetype": "text/x-python",
   "name": "python",
   "nbconvert_exporter": "python",
   "pygments_lexer": "ipython2",
   "version": "2.7.11"
  },
  "name": ""
 },
 "nbformat": 3,
 "nbformat_minor": 0,
 "worksheets": [
  {
   "cells": [
    {
     "cell_type": "code",
     "collapsed": false,
     "input": [
      "import pandas as pd\n",
      "import os\n",
      "\n",
      "df = pd.read_csv(r\"C:\\Workspace\\projects\\files_to_prioritize_migrating.txt\", names=['filename'], sep='\\t', dtype=str)\n",
      "\n",
      "df['path'] = df['filename'].map(\n",
      "    lambda x: os.path.split(x)[0])\n",
      "\n",
      "df['file_name'] = df['filename'].map(\n",
      "    lambda x: os.path.split(x)[1])\n",
      "\n",
      "\n",
      "df['data_type'] = df['path'].map(\n",
      "    lambda x: os.path.split(x)[1])\n",
      "\n",
      "df['district'] = df['path'].map(\n",
      "    lambda x: os.path.split(x)[0])\n",
      "\n",
      "df['district'] = df['district'].map(\n",
      "    lambda x: os.path.split(x)[1])\n",
      "\n",
      "df = df[['district', 'data_type', 'file_name']]\n",
      "\n",
      "df.to_csv(r\"C:\\Workspace\\projects\\files_to_prioritize_migrating.csv\", index=False)\n",
      "\n",
      "\n",
      "\n",
      "\n"
     ],
     "language": "python",
     "metadata": {},
     "outputs": [],
     "prompt_number": 46
    }
   ],
   "metadata": {}
  }
 ]
}