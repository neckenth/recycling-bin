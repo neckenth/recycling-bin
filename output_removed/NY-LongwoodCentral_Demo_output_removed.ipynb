{
 "metadata": {
  "kernelspec": {
   "display_name": "Python 2",
   "language": "python",
   "name": "python2"
  },
  "language_info": {
   "codemirror_mode": {
    "name": "ipython",
    "version": 2
   },
   "file_extension": ".py",
   "mimetype": "text/x-python",
   "name": "python",
   "nbconvert_exporter": "python",
   "pygments_lexer": "ipython2",
   "version": "2.7.11"
  },
  "name": ""
 },
 "nbformat": 3,
 "nbformat_minor": 0,
 "worksheets": [
  {
   "cells": [
    {
     "cell_type": "code",
     "collapsed": false,
     "input": [
      "import pandas as pd\n",
      "#from pyep import derive_from_date_exited_4y\n",
      "\n",
      "head=pd.read_csv(r\"C:\\Workspace\\ny-longwoodcentral\\student\\ny-longwoodcentral_student_headers.csv\", dtype=str)\n",
      "df=pd.read_csv(r\"C:\\Workspace\\ny-longwoodcentral\\student\\students_district.csv\", dtype=str, names=head)\n",
      "\n",
      "df.to_csv(r\"C:\\Workspace\\ny-longwoodcentral\\student\\students_district_processed.csv\", index=False)\n",
      "\n",
      "# df['Elv_MonitoringStatus'] = df.apply(\n",
      "#     lambda x: derive_from_date_exited_4y(x['DateExitedLEP'])\n",
      "#     if x['EL Status'] == 'RFEP' else x['EL Status'],\n",
      "#     axis=1)\n",
      "\n"
     ],
     "language": "python",
     "metadata": {},
     "outputs": [],
     "prompt_number": 5
    },
    {
     "cell_type": "code",
     "collapsed": false,
     "input": [
      "import pandas as pd\n",
      "\n",
      "head=pd.read_csv(r\"C:\\Workspace\\ny-longwoodcentral\\student\\ny-longwoodcentral_student_headers.txt\", sep='\\t', dtype=str)\n",
      "df=pd.read_csv(r\"C:\\Workspace\\ny-longwoodcentral\\student\\students_district.txt\", sep='\\t', dtype=str, names=head)\n",
      "\n",
      "df = df[df.loc[:, 'StudentCoreFields.lep_status'].notnull()]\n",
      "\n",
      "df.to_csv(r\"C:\\Workspace\\ny-longwoodcentral\\student\\students_district_processed.csv\", index=False, sep=',')"
     ],
     "language": "python",
     "metadata": {},
     "outputs": [],
     "prompt_number": 4
    }
   ],
   "metadata": {}
  }
 ]
}