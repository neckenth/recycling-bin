{
 "metadata": {
  "kernelspec": {
   "display_name": "Python 2",
   "language": "python",
   "name": "python2"
  },
  "language_info": {
   "codemirror_mode": {
    "name": "ipython",
    "version": 2
   },
   "file_extension": ".py",
   "mimetype": "text/x-python",
   "name": "python",
   "nbconvert_exporter": "python",
   "pygments_lexer": "ipython2",
   "version": "2.7.11"
  },
  "name": ""
 },
 "nbformat": 3,
 "nbformat_minor": 0,
 "worksheets": [
  {
   "cells": [
    {
     "cell_type": "code",
     "collapsed": false,
     "input": [
      "import pandas as pd\n",
      "import glob\n",
      "import os\n",
      "\n",
      "from pyep.settings import WORKSPACE_ROOT\n",
      "\n",
      "district='tx-kleinisd'\n",
      "\n",
      "for file in glob.glob('{}/{}/sirs/*'.format(WORKSPACE_ROOT, district)):\n",
      "    df = pd.read_csv(file, dtype=str)\n",
      "    print len(df[1].str, axis=0)\n",
      "#     print os.path.split(os.path.splitext(file)[0])[1][-4:]"
     ],
     "language": "python",
     "metadata": {},
     "outputs": [],
     "prompt_number": 10
    },
    {
     "cell_type": "code",
     "collapsed": true,
     "input": [],
     "language": "python",
     "metadata": {},
     "outputs": [],
     "prompt_number": null
    }
   ],
   "metadata": {}
  }
 ]
}