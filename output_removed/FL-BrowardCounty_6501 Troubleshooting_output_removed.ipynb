{
 "metadata": {
  "kernelspec": {
   "display_name": "Python 2",
   "language": "python",
   "name": "python2"
  },
  "language_info": {
   "codemirror_mode": {
    "name": "ipython",
    "version": 2
   },
   "file_extension": ".py",
   "mimetype": "text/x-python",
   "name": "python",
   "nbconvert_exporter": "python",
   "pygments_lexer": "ipython2",
   "version": "2.7.11"
  },
  "name": ""
 },
 "nbformat": 3,
 "nbformat_minor": 0,
 "worksheets": [
  {
   "cells": [
    {
     "cell_type": "code",
     "collapsed": false,
     "input": [
      "import pandas as pd\n",
      "\n",
      "df = pd.read_csv(r\"C:\\Workspace\\fl-browardcounty\\student\\BCPS_Stdt_Demo-20171004-processed.csv\", dtype=str)\n",
      "\n",
      "# df.columns.tolist()\n",
      "\n",
      "condition_1 = df.loc[:, 'Schl_and_Nbr'].str.contains('6501')\n",
      "condition_2 = df.loc[:, 'Schl_and_Nbr'].str.contains('0592')\n",
      "condition_3 = df.loc[:, 'Schl_and_Nbr'].str.contains('Campus')\n",
      "\n",
      "df = df.loc[condition_3]\n",
      "print len(df)"
     ],
     "language": "python",
     "metadata": {},
     "outputs": [],
     "prompt_number": 7
    }
   ],
   "metadata": {}
  }
 ]
}