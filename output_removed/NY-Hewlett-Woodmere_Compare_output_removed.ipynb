{
 "metadata": {
  "kernelspec": {
   "display_name": "Python 2",
   "language": "python",
   "name": "python2"
  },
  "language_info": {
   "codemirror_mode": {
    "name": "ipython",
    "version": 2
   },
   "file_extension": ".py",
   "mimetype": "text/x-python",
   "name": "python",
   "nbconvert_exporter": "python",
   "pygments_lexer": "ipython2",
   "version": "2.7.11"
  },
  "name": ""
 },
 "nbformat": 3,
 "nbformat_minor": 0,
 "worksheets": [
  {
   "cells": [
    {
     "cell_type": "code",
     "collapsed": false,
     "input": [
      "import pandas as pd\n",
      "\n",
      "test = pd.read_csv(r\"C:\\Workspace\\ny-hewlettwoodmere\\troubleshooting\\Compare.csv\", dtype=str)\n",
      "\n",
      "existing = pd.read_csv(r\"C:\\Users\\NancyE\\Downloads\\EllevationExport_20170424_1150.csv\", dtype=str)\n",
      "\n",
      "compare = pd.merge(left=test, right=existing, left_on='personID', right_on='Test #', indicator=True, how='outer')\n",
      "\n",
      "compare['_merge'].value_counts()"
     ],
     "language": "python",
     "metadata": {},
     "outputs": [],
     "prompt_number": 2
    },
    {
     "cell_type": "code",
     "collapsed": false,
     "input": [
      "import pandas as pd\n",
      "\n",
      "old = pd.read_csv(r\"C:\\Workspace\\ny-hewlettwoodmere\\troubleshooting\\old_query_4_7_17.csv\", sep='\\t', dtype=str)\n",
      "\n",
      "new = pd.read_csv(r\"C:\\Workspace\\ny-hewlettwoodmere\\troubleshooting\\Active_and_Withdrawn_4_24_17.csv\", sep=',',dtype=str)\n",
      "\n",
      "result = pd.merge(old, new, on='StudentLocalID', how='outer', indicator=True)\n",
      "\n",
      "result['_merge'].value_counts()\n",
      "\n",
      "result.to_csv(r\"C:\\Workspace\\ny-hewlettwoodmere\\troubleshooting\\comparison.csv\", index=False)"
     ],
     "language": "python",
     "metadata": {},
     "outputs": [],
     "prompt_number": 2
    },
    {
     "cell_type": "code",
     "collapsed": false,
     "input": [
      "import pandas as pd\n",
      "\n",
      "processed = pd.read_csv(r\"C:\\Workspace\\ny-hewlettwoodmere\\student\\EllevationStudentData-20170510-processed.txt\", sep='\\t', dtype=str)\n",
      "\n",
      "withdrawn = pd.read_csv(r\"C:\\Workspace\\ny-hewlettwoodmere\\troubleshooting\\ShouldBeWithdrawn.csv\", sep=',', dtype=str)\n",
      "\n",
      "compare = pd.merge(left=processed, right=withdrawn, left_on='StudentLocalID', right_on='ShouldBeWithdrawn', how='outer', indicator=True)\n",
      "\n",
      "compare._merge.value_counts()\n",
      "\n",
      "compare.to_csv(r\"C:\\Workspace\\ny-hewlettwoodmere\\troubleshooting\\EllevationStudentDataCompare_5_12_17.csv\", index=False)"
     ],
     "language": "python",
     "metadata": {},
     "outputs": [],
     "prompt_number": 5
    }
   ],
   "metadata": {}
  }
 ]
}