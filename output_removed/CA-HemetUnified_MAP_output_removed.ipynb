{
 "metadata": {
  "kernelspec": {
   "display_name": "Python 2",
   "language": "python",
   "name": "python2"
  },
  "language_info": {
   "codemirror_mode": {
    "name": "ipython",
    "version": 2
   },
   "file_extension": ".py",
   "mimetype": "text/x-python",
   "name": "python",
   "nbconvert_exporter": "python",
   "pygments_lexer": "ipython2",
   "version": "2.7.11"
  },
  "name": ""
 },
 "nbformat": 3,
 "nbformat_minor": 0,
 "worksheets": [
  {
   "cells": [
    {
     "cell_type": "code",
     "collapsed": false,
     "input": [
      "import pandas as pd\n",
      "\n",
      "df=pd.read_csv(r\"C:\\Workspace\\ca-hemetunified\\MAP\\stumap.csv\", dtype=str)\n",
      "\n",
      "df['Elv_DateGiven'] = pd.to_datetime(df['TestAdministrationDate'])\n",
      "print len(df)\n",
      "\n",
      "\n",
      "df=df[df.loc[:, 'Elv_DateGiven'] >= '2016-08-01']\n",
      "\n",
      "df.to_csv(r\"C:\\Workspace\\ca-hemetunified\\MAP\\stumap_processed.csv\", index=False)"
     ],
     "language": "python",
     "metadata": {},
     "outputs": [],
     "prompt_number": 1
    }
   ],
   "metadata": {}
  }
 ]
}