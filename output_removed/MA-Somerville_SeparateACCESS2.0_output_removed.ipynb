{
 "metadata": {
  "kernelspec": {
   "display_name": "Python 2",
   "language": "python",
   "name": "python2"
  },
  "language_info": {
   "codemirror_mode": {
    "name": "ipython",
    "version": 2
   },
   "file_extension": ".py",
   "mimetype": "text/x-python",
   "name": "python",
   "nbconvert_exporter": "python",
   "pygments_lexer": "ipython2",
   "version": "2.7.11"
  },
  "name": ""
 },
 "nbformat": 3,
 "nbformat_minor": 0,
 "worksheets": [
  {
   "cells": [
    {
     "cell_type": "code",
     "collapsed": false,
     "input": [
      "import pandas as pd\n",
      "from pyep import read_excel\n",
      "\n",
      "df=read_excel(r\"C:\\Workspace\\ma-somerville\\test scores\\ACCESS 16 Somerville.xlsx\")\n",
      "\n",
      "condition1 = df.Grade == 'K'\n",
      "condition2 = df.teststatus == 'ALT'\n",
      "\n",
      "df_1_12 = df[~(condition1 | condition2)]\n",
      "\n",
      "df.head()\n",
      "\n",
      "# df_K = df[condition1]\n",
      "\n",
      "# print len(df_K)\n",
      "\n",
      "# df_alt = df[condition2]\n",
      "\n",
      "# print len(df_alt)\n",
      "\n",
      "# # df_1_12.to_csv(r\"C:\\Workspace\\ma-somerville\\test scores\\ACCESS 16 Somerville_1-12.csv\", index=False)\n",
      "\n",
      "# # df_K.to_csv(r\"C:\\Workspace\\ma-somerville\\test scores\\ACCESS 16 Somerville_K.csv\", index=False)\n",
      "\n",
      "# # df_alt.to_csv(r\"C:\\Workspace\\ma-somerville\\test scores\\ACCESS 16 Somerville_alt.csv\", index=False)"
     ],
     "language": "python",
     "metadata": {},
     "outputs": [],
     "prompt_number": null
    },
    {
     "cell_type": "code",
     "collapsed": false,
     "input": [
      "import pandas as pd\n",
      "# do not duplicate scores - outer join - only import records that are not existing\n",
      "\n",
      "#new\n",
      "df1=pd.read_csv(r\"C:\\Workspace\\ma-somerville\\test scores\\ACCESS 16 Somerville_1-12.csv\", sep=',', dtype=str)\n",
      "\n",
      "df1=left\n",
      "#existing\n",
      "df2=pd.read_csv(r\"C:\\Workspace\\ma-somerville\\test scores\\Existing_Scores.csv\", sep=',', dtype=str)\n",
      "df2=right\n",
      "df3=pd.merge(left, right, left_on='sasid', right_on='Test ID #', how='outer')\n",
      "\n",
      "df3.head()\n",
      "\n",
      "df3.to_csv(r\"C:\\Workspace\\ma-somerville\\test scores\\outer_join.csv\", index=False)"
     ],
     "language": "python",
     "metadata": {},
     "outputs": [],
     "prompt_number": 9
    }
   ],
   "metadata": {}
  }
 ]
}