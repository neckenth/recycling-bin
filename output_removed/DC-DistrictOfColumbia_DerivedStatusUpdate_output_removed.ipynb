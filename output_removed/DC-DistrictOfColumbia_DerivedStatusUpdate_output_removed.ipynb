{
 "metadata": {
  "kernelspec": {
   "display_name": "Python 2",
   "language": "python",
   "name": "python2"
  },
  "language_info": {
   "codemirror_mode": {
    "name": "ipython",
    "version": 2
   },
   "file_extension": ".py",
   "mimetype": "text/x-python",
   "name": "python",
   "nbconvert_exporter": "python",
   "pygments_lexer": "ipython2",
   "version": "2.7.11"
  },
  "name": ""
 },
 "nbformat": 3,
 "nbformat_minor": 0,
 "worksheets": [
  {
   "cells": [
    {
     "cell_type": "code",
     "collapsed": false,
     "input": [
      "import pandas as pd\n",
      "\n",
      "df = pd.read_csv(r\"C:\\Workspace\\dc-districtofcolumbia\\student\\UpdateDetailedLepStatus-20171117.csv\", dtype=str)\n",
      "\n",
      "# df = df[df.loc[:, 'StudentUserList6'] != df.loc[:, 'derived_status']]\n",
      "\n",
      "df.to_csv(r\"C:\\Workspace\\dc-districtofcolumbia\\student\\UpdateDetailedLepStatus-20171117_updates.csv\", index=False)"
     ],
     "language": "python",
     "metadata": {},
     "outputs": [],
     "prompt_number": 3
    },
    {
     "cell_type": "code",
     "collapsed": false,
     "input": [
      "import pandas as pd\n",
      "\n",
      "df = pd.read_csv(r\"C:\\Users\\NancyE\\Downloads\\EllevationExport_20171114_1058.csv\", dtype=str)\n",
      "\n",
      "# df = df[df.loc[:, 'Grade Level'] != df.loc[:, 'Detailed Grade']]\n",
      "\n",
      "df.head()\n",
      "\n",
      "# df.to_csv(r\"C:\\Workspace\\dc-districtofcolumbia\\student\\grade_level_mappings.csv\", index=False)"
     ],
     "language": "python",
     "metadata": {},
     "outputs": [],
     "prompt_number": 8
    }
   ],
   "metadata": {}
  }
 ]
}