{
 "metadata": {
  "kernelspec": {
   "display_name": "Python 2",
   "language": "python",
   "name": "python2"
  },
  "language_info": {
   "codemirror_mode": {
    "name": "ipython",
    "version": 2
   },
   "file_extension": ".py",
   "mimetype": "text/x-python",
   "name": "python",
   "nbconvert_exporter": "python",
   "pygments_lexer": "ipython2",
   "version": "2.7.11"
  },
  "name": ""
 },
 "nbformat": 3,
 "nbformat_minor": 0,
 "worksheets": [
  {
   "cells": [
    {
     "cell_type": "code",
     "collapsed": false,
     "input": [
      "#!/usr/bin/env python\n",
      "# -*- coding: utf-8 -*-\n",
      "\n",
      "import pandas as pd\n",
      "from datetime import datetime as dt\n",
      "\n",
      "from pyep.transform import derive_from_date_exited_4y\n",
      "from common import is_null\n",
      "\n",
      "# df = pd.read_excel(r\"C:\\Workspace\\ma-belmont\\student\\student file 3-6-17.xlsx\", \n",
      "#                    header=1, \n",
      "#                    skiprows=0, \n",
      "#                    converters={\n",
      "#         'SASID':str, \n",
      "#         'Date Exit LEP': str, \n",
      "#         'Date Enter LEP': str})\n",
      "\n",
      "df = pd.read_csv(r\"C:\\Workspace\\ma-belmont\\student\\student file 3-6-17.csv\", header=1, skiprows=0, dtype=str)\n",
      "\n",
      "df = df[df.loc[:, 'Date Enter LEP'].notnull()]\n",
      "\n",
      "df.loc[:, 'Elv_LEP1stYr'] = df.loc[:, 'Date Enter LEP'].map(\n",
      "    lambda x: 'Yes' if (dt.today() - pd.to_datetime(x)).days < 365 else 'No')\n",
      "\n",
      "df['Elv_LEPStatus'] = df.apply(\n",
      "    lambda x: derive_from_date_exited_4y(x['Date Exit LEP']) if not x['LIM ENG PROF'] == '01' else 'ELL', axis=1)\n",
      "\n",
      "df['Elv_OptOut'] = df['ENG LANG LEARN'].map(\n",
      "    lambda x: 'Yes' if x == '04' else 'No')\n",
      "\n",
      "df['Elv_ReceivingServices'] = df.apply(\n",
      "    lambda x: 'Yes' if x['Elv_LEPStatus'] == 'ELL' and x['Elv_OptOut'] == 'No' else 'No', axis=1)\n",
      "\n",
      "# for col in df.columns:\n",
      "#     try:\n",
      "#         df[col].map(unicode)\n",
      "#     except UnicodeDecodeError:\n",
      "#         print col\n",
      "        \n",
      "# for cell in df.loc[:, 'PARENT/GUARDIAN']:\n",
      "#     try:\n",
      "#         unicode(cell)\n",
      "#     except UnicodeDecodeError:\n",
      "#         print cell\n",
      "\n",
      "df.to_csv(r\"C:\\Workspace\\ma-belmont\\student\\student file 3-6-17_processed.csv\", sep=',', encoding='utf-8', index=False)\n"
     ],
     "language": "python",
     "metadata": {},
     "outputs": [],
     "prompt_number": 1
    },
    {
     "cell_type": "code",
     "collapsed": false,
     "input": [
      "df.loc[:, 'Elv_LEPStatus'].value_counts()"
     ],
     "language": "python",
     "metadata": {},
     "outputs": [],
     "prompt_number": 2
    }
   ],
   "metadata": {}
  }
 ]
}