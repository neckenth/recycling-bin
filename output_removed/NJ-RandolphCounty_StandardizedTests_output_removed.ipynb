{
 "metadata": {
  "kernelspec": {
   "display_name": "Python 2",
   "language": "python",
   "name": "python2"
  },
  "language_info": {
   "codemirror_mode": {
    "name": "ipython",
    "version": 2
   },
   "file_extension": ".py",
   "mimetype": "text/x-python",
   "name": "python",
   "nbconvert_exporter": "python",
   "pygments_lexer": "ipython2",
   "version": "2.7.11"
  },
  "name": ""
 },
 "nbformat": 3,
 "nbformat_minor": 0,
 "worksheets": [
  {
   "cells": [
    {
     "cell_type": "code",
     "collapsed": false,
     "input": [
      "# PARCC 2015\n",
      "\n",
      "import pandas as pd \n",
      "\n",
      "df=pd.read_csv(r\"C:\\Workspace\\nj-randolphcounty\\PARCC\\PC_spreoy15_NJ-274330_PARCC_District_Summative_Record_File_Spring.csv\", dtype=str)\n",
      "\n",
      "df=df.pivot_table(index=['Student ID', 'Testing Period Start Date', 'Elv_GradeLevel'],\n",
      "                  columns='Elv_Domain',\n",
      "                 values=['Performance Level', 'Score'],\n",
      "                 aggfunc=np.max).reset_index(col_level=1)\n"
     ],
     "language": "python",
     "metadata": {},
     "outputs": [],
     "prompt_number": 1
    }
   ],
   "metadata": {}
  }
 ]
}