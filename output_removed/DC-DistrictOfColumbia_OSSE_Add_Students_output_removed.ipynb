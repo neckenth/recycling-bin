{
 "metadata": {
  "kernelspec": {
   "display_name": "Python 2",
   "language": "python",
   "name": "python2"
  },
  "language_info": {
   "codemirror_mode": {
    "name": "ipython",
    "version": 2
   },
   "file_extension": ".py",
   "mimetype": "text/x-python",
   "name": "python",
   "nbconvert_exporter": "python",
   "pygments_lexer": "ipython2",
   "version": "2.7.11"
  },
  "name": ""
 },
 "nbformat": 3,
 "nbformat_minor": 0,
 "worksheets": [
  {
   "cells": [
    {
     "cell_type": "code",
     "collapsed": false,
     "input": [
      "import pandas as pd\n",
      "\n",
      "df = pd.read_csv(r\"C:\\Workspace\\dc-districtofcolumbia\\student\\OSSE scores for upload 06-20-18.csv\", dtype=str)\n",
      "\n",
      "df.loc[:, 'Comments:'] = df.loc[:, 'Comments:'].str.lstrip(' ').str.rstrip(' ')\n",
      "\n",
      "df.loc[:, 'Elv_Comment'] = df[['Comments:', 'Comments 2:']].apply(\n",
      "    lambda x: ', '.join(x), axis=1)\n",
      "\n",
      "df.loc[:, 'Elv_Comment'].head()\n",
      "\n",
      "df.to_csv(r\"C:\\Workspace\\dc-districtofcolumbia\\student\\OSSE scores for upload 06-20-18_processed.csv\", index=False)"
     ],
     "language": "python",
     "metadata": {},
     "outputs": [],
     "prompt_number": 5
    },
    {
     "cell_type": "code",
     "collapsed": false,
     "input": [
      "# add students via access score file\n",
      "\n",
      "import pandas as pd\n",
      "import numpy as np\n",
      "\n",
      "from common import is_null\n",
      "\n",
      "df = pd.read_excel(\"C:\\Workspace\\dc-districtofcolumbia\\student\\DCPS ACCESS 2.0 Scores 2018 6-26-18 (2).xlsx\", converters={\n",
      "        'Test ID #':str,\n",
      "        'Student #':str,\n",
      "        'Grade':str,\n",
      "    })\n",
      "\n",
      "comments = pd.read_csv(r\"C:\\Workspace\\dc-districtofcolumbia\\student\\student_access20_2018_comments.csv\", dtype=str)\n",
      "\n",
      "# comments.head()\n",
      "\n",
      "df_w_comm = pd.merge(left=df, right=comments, left_on='Student #', right_on='StudentLocalID', how='inner')\n",
      "\n",
      "\n",
      "df_w_comm.replace(to_replace='#N/A', value=np.NaN, inplace=True)\n",
      "\n",
      "# # df_el = df[df.loc[:, 'Composite (Overall) Proficiency Level'].isnull()]\n",
      "\n",
      "# # print len(df_el)\n",
      "\n",
      "df_w_comm.drop_duplicates(inplace=True)\n",
      "\n",
      "\n",
      "\n",
      "# df_w_comm.loc[:, 'Elv_Comment'] = df_w_comm.apply(\n",
      "#     lambda x: (str(x.loc['StudentComment']) + ', ACCESS 2.0 2018: ' + (str(x.loc['School Name']) if not is_null(x.loc['School Name']) else '')) if not is_null(x.loc['StudentComment']) else ('ACCESS 2.0 2018: ' + str(x.loc['School Name'])), axis=1)\n",
      "\n",
      "\n",
      "df_w_comm.loc[:, 'Elv_Comment'] = df_w_comm.apply(\n",
      "    lambda x: x.loc['StudentComment'] + ', ACCESS 2.0 2018: ' + x.loc['School Name'] if not is_null(x.loc['StudentComment']) else 'ACCESS 2.0 2018: ' + x.loc['School Name'], axis=1)\n",
      "\n",
      "df_w_comm.head()\n",
      "\n",
      "\n",
      "# # df.loc[:, 'Elv_FinalComment'] = comments.loc[:, 'StudentComment'] + ' ' + df.loc[:, 'Elv_Comment']\n",
      "\n",
      "# # df_w_comm.loc[:, 'Elv_Comment'] = df_w_comm.loc[:, 'Elv_Comment'].str.rstrip().str.lstrip()\n",
      "\n",
      "# # df_w_comm.replace(to_replace=np.NaN, value='', inplace=True)\n",
      "# print df_w_comm.loc[:, 'Elv_Comment'].unique()\n",
      "# # df_el.loc[:, 'Elv_DetailedELPLevel'] = 'EL'\n",
      "\n",
      "# # df.to_csv(r\"C:\\Workspace\\dc-districtofcolumbia\\student\\DCPS ACCESS 2.0 Scores 2018 6-26-18 (2)_processed.csv\", sep=',', index=False)\n",
      "# # df_el.to_csv(r\"C:\\Workspace\\dc-districtofcolumbia\\student\\DCPS ACCESS 2.0 Scores 2018 6-26-18 (2)_blank_composite.csv\", sep=',', index=False)\n",
      "df_w_comm.to_csv(r\"C:\\Workspace\\dc-districtofcolumbia\\student\\DCPS ACCESS 2.0 Scores 2018 6-26-18 (2)_w_comments.csv\", sep=',', index=False)"
     ],
     "language": "python",
     "metadata": {},
     "outputs": [],
     "prompt_number": 30
    },
    {
     "cell_type": "code",
     "collapsed": true,
     "input": [
      "# add students via access score file\n",
      "\n",
      "import pandas as pd\n",
      "import numpy as np\n",
      "\n",
      "from common import is_null\n",
      "\n",
      "df = pd.read_excel(\"C:\\Workspace\\dc-districtofcolumbia\\student\\DCPS ACCESS 2.0 Scores 2018 6-26-18 (2).xlsx\", converters={\n",
      "        'Test ID #':str,\n",
      "        'Student #':str,\n",
      "        'Grade':str,\n",
      "    })\n",
      "\n",
      "comments = pd.read_csv(r\"C:\\Workspace\\dc-districtofcolumbia\\student\\student_access20_2018_comments.csv\", dtype=str)\n",
      "\n",
      "df_w_comm = pd.merge(left=df, right=comments, left_on='Student #', right_on='StudentLocalID', how='inner')\n",
      "\n",
      "df_w_comm.replace(to_replace='#N/A', value=np.NaN, inplace=True)\n",
      "\n",
      "df_w_comm.drop_duplicates(inplace=True)\n",
      "\n",
      "df_w_comm.loc[:, 'Elv_Comment'] = df_w_comm.apply(\n",
      "    lambda x: x.loc['StudentComment'] + ', ACCESS 2.0 2018: ' + x.loc['School Name'] if not is_null(x.loc['StudentComment']) else 'ACCESS 2.0 2018: ' + x.loc['School Name'], axis=1)\n",
      "\n",
      "df_w_comm.to_csv(r\"C:\\Workspace\\dc-districtofcolumbia\\student\\DCPS ACCESS 2.0 Scores 2018 6-26-18 (2)_w_comments.csv\", sep=',', index=False)"
     ],
     "language": "python",
     "metadata": {},
     "outputs": [],
     "prompt_number": null
    },
    {
     "cell_type": "code",
     "collapsed": true,
     "input": [
      "# native language updates\n",
      "\n",
      "import pandas as np\n",
      "\n",
      "df = pd.read_excel(\"C:\\Workspace\\dc-districtofcolumbia\\student\\Language Update 7-9-18.xlsx\", converters={'Student #': str})\n",
      "\n",
      "df = df[df.loc[:, 'Native Language'] != 'United States']\n",
      "\n",
      "df.to_csv(r\"C:\\Workspace\\dc-districtofcolumbia\\student\\Language Update 7-9-18_processed.csv\", sep=',', index=False)"
     ],
     "language": "python",
     "metadata": {},
     "outputs": [],
     "prompt_number": 31
    }
   ],
   "metadata": {}
  }
 ]
}