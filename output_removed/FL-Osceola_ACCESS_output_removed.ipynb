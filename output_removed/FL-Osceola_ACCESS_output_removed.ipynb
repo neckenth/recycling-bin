{
 "metadata": {
  "kernelspec": {
   "display_name": "Python 2",
   "language": "python",
   "name": "python2"
  },
  "language_info": {
   "codemirror_mode": {
    "name": "ipython",
    "version": 2
   },
   "file_extension": ".py",
   "mimetype": "text/x-python",
   "name": "python",
   "nbconvert_exporter": "python",
   "pygments_lexer": "ipython2",
   "version": "2.7.11"
  },
  "name": ""
 },
 "nbformat": 3,
 "nbformat_minor": 0,
 "worksheets": [
  {
   "cells": [
    {
     "cell_type": "code",
     "collapsed": false,
     "input": [
      "import pandas as pd\n",
      "import numpy as np\n",
      "\n",
      "from common import is_null\n",
      "\n",
      "df = pd.read_csv(r\"C:\\Workspace\\fl-osceola\\elp-test-score\\ELLevation-Scores.csv\", dtype=str)\n",
      "\n",
      "df = df[df.loc[:, 'DATE GIVEN'].notnull()]\n",
      "df = df[df.loc[:, 'GRADELEVEL'].notnull()]\n",
      "\n",
      "df.rename(columns={'O_PROF_LEVEL': 'ORAL_PROF_LEVEL'}, inplace=True)\n",
      "\n",
      "scores = ['R', 'W', 'S', 'L', 'COMP', 'LIT', 'ORAL', 'OV']\n",
      "\n",
      "for s in scores:\n",
      "    df.loc[df.loc[:, '{}-SCALE.SCORE'.format(s)].notnull(), \n",
      "           'Elv_{}-PL'.format(s)] = df.loc[df.loc[:, '{}-SCALE.SCORE'.format(s)].notnull()].apply(\n",
      "        lambda x: x.loc['{}-SCALE.SCORE'.format(s)] if float(x.loc['{}-SCALE.SCORE'.format(s)]) < 100 else x.loc['{}_PROF_LEVEL'.format(s)], axis=1)\n",
      "    \n",
      "df.drop_duplicates(inplace=True)\n",
      "\n",
      "df_2 = df[pd.to_datetime(df.loc[:, 'DATE GIVEN']) >= pd.to_datetime('01/01/2016')]\n",
      "\n",
      "df_ells = df[pd.to_datetime(df.loc[:, 'DATE GIVEN']) < pd.to_datetime('01/01/2016')]\n",
      "\n",
      "df_2.to_csv(r\"C:\\Workspace\\fl-osceola\\elp-test-score\\ELLevation-Scores_access_2.csv\", index=False)\n",
      "df_ells.to_csv(r\"C:\\Workspace\\fl-osceola\\elp-test-score\\ELLevation-Scores_for_ells.csv\", index=False)"
     ],
     "language": "python",
     "metadata": {},
     "outputs": [],
     "prompt_number": 4
    },
    {
     "cell_type": "code",
     "collapsed": false,
     "input": [
      "import pandas as pd\n",
      "\n",
      "df = pd.read_csv(r\"C:\\Workspace\\fl-osceola\\elp-test-score\\ELLevation-ScoresELL-ALT.csv\", dtype=str)\n",
      "\n",
      "df = df[df.loc[:, 'DATE GIVEN'].notnull()]\n",
      "df = df[df.loc[:, 'GRADELEVEL'].notnull()]\n",
      "\n",
      "df = df[df.loc[:, 'R_PROF_LEVEL'].str.contains('A') | df.loc[:, 'R_PROF_LEVEL'].str.contains('P')]\n",
      "\n",
      "df.to_csv(r\"C:\\Workspace\\fl-osceola\\elp-test-score\\ELLevation-ScoresELL-ALT_processed.csv\", index=False)"
     ],
     "language": "python",
     "metadata": {},
     "outputs": [],
     "prompt_number": 12
    },
    {
     "cell_type": "code",
     "collapsed": true,
     "input": [],
     "language": "python",
     "metadata": {},
     "outputs": [],
     "prompt_number": null
    }
   ],
   "metadata": {}
  }
 ]
}