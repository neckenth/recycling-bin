{
 "metadata": {
  "kernelspec": {
   "display_name": "Python 2",
   "language": "python",
   "name": "python2"
  },
  "language_info": {
   "codemirror_mode": {
    "name": "ipython",
    "version": 2
   },
   "file_extension": ".py",
   "mimetype": "text/x-python",
   "name": "python",
   "nbconvert_exporter": "python",
   "pygments_lexer": "ipython2",
   "version": "2.7.11"
  },
  "name": ""
 },
 "nbformat": 3,
 "nbformat_minor": 0,
 "worksheets": [
  {
   "cells": [
    {
     "cell_type": "code",
     "collapsed": false,
     "input": [
      "import pandas as pd\n",
      "\n",
      "from pyep.transform import derive_from_date_exited_4y\n",
      "from common import is_null\n",
      "\n",
      "head = pd.read_excel(r\"C:\\Workspace\\nj-morris2\\student\\Morris Headers.xlsx\")\n",
      "\n",
      "df = pd.read_csv(r\"C:\\Workspace\\nj-morris2\\student\\Student ELLevation Export.txt\", sep='\\t', header=None, names=head, dtype=str)\n",
      "\n",
      "codes = pd.read_csv(r\"C:\\Workspace\\nj-morris2\\student\\SPED Categories.csv\", dtype=str)\n",
      "\n",
      "codes.rename(columns={'Code' : 'SPED_Code', 'Description' : 'SPED_Description'}, inplace=True)\n",
      "\n",
      "countries = pd.read_csv(r\"C:\\Workspace\\nj-morris2\\student\\Country Codes.csv\", dtype=str)\n",
      "\n",
      "countries.rename(columns={'Code' : 'Country_Code', 'Description' : 'Birth_Country'}, inplace=True)\n",
      "\n",
      "df = pd.merge(right=df, left=codes, right_on='Special_Education', left_on='SPED_Code', how='outer')\n",
      "\n",
      "df = pd.merge(right=df, left=countries, right_on='S_NJ_STU_X.CountryOfBirth', left_on='Country_Code', how='outer')\n",
      "\n",
      "df.loc[:, 'LEPTested_No_Qualified'].unique()\n",
      "\n",
      "df = df[df.loc[:, 'S_NJ_STU_X.LEPBeginDate'].notnull()]\n",
      "\n",
      "df = df[df.loc[:, '[39]name'] != 'Out of District']\n",
      "\n",
      "df.loc[:, 'Elv_LEPStatus'] = df.apply(\n",
      "    lambda x: derive_from_date_exited_4y(x.loc['S_NJ_STU_X.LEPEndDate'])\n",
      "    if not is_null(x.loc['S_NJ_STU_X.LEPEndDate']) else 'ELL', axis=1) \n",
      "\n",
      "df.to_csv(r\"C:\\Workspace\\nj-morris2\\student\\Student ELLevation Export_processed.csv\", sep=',', index=False)"
     ],
     "language": "python",
     "metadata": {},
     "outputs": [],
     "prompt_number": 16
    }
   ],
   "metadata": {}
  }
 ]
}