{
 "metadata": {
  "kernelspec": {
   "display_name": "Python 2",
   "language": "python",
   "name": "python2"
  },
  "language_info": {
   "codemirror_mode": {
    "name": "ipython",
    "version": 2
   },
   "file_extension": ".py",
   "mimetype": "text/x-python",
   "name": "python",
   "nbconvert_exporter": "python",
   "pygments_lexer": "ipython2",
   "version": "2.7.11"
  },
  "name": ""
 },
 "nbformat": 3,
 "nbformat_minor": 0,
 "worksheets": [
  {
   "cells": [
    {
     "cell_type": "code",
     "collapsed": false,
     "input": [
      "import pandas as pd\n",
      "\n",
      "df = pd.read_csv(r\"C:\\Workspace\\fl-miamidadecounty\\student\\ELLEVATION_DEMOGRAPHIC-20170918-3-processed.csv\", dtype=str)\n",
      "\n",
      "df.columns\n",
      "\n",
      "df = df[df.loc[:, 'StudentTestID'] == '0286953']\n",
      "\n",
      "print len(df)"
     ],
     "language": "python",
     "metadata": {},
     "outputs": [],
     "prompt_number": 5
    },
    {
     "cell_type": "code",
     "collapsed": false,
     "input": [
      "import pandas as pd\n",
      "\n",
      "df = pd.read_csv(r\"C:\\Workspace\\fl-miamidadecounty\\student\\ELLEVATION_DEMOGRAPHIC-20170925-1-processed.csv\", dtype=str)\n",
      "\n",
      "\n",
      "condition_1=df.loc[:, 'FirstName'] == 'Valeria'\n",
      "condition_2=df.loc[:, 'LastName'] == 'Ramirez'\n",
      "\n",
      "v = df.loc[condition_1 & condition_2]\n",
      "\n",
      "v.head()"
     ],
     "language": "python",
     "metadata": {},
     "outputs": [],
     "prompt_number": 3
    }
   ],
   "metadata": {}
  }
 ]
}