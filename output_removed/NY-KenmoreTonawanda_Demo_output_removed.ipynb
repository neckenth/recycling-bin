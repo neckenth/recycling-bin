{
 "metadata": {
  "kernelspec": {
   "display_name": "Python 2",
   "language": "python",
   "name": "python2"
  },
  "language_info": {
   "codemirror_mode": {
    "name": "ipython",
    "version": 2
   },
   "file_extension": ".py",
   "mimetype": "text/x-python",
   "name": "python",
   "nbconvert_exporter": "python",
   "pygments_lexer": "ipython2",
   "version": "2.7.11"
  },
  "name": ""
 },
 "nbformat": 3,
 "nbformat_minor": 0,
 "worksheets": [
  {
   "cells": [
    {
     "cell_type": "code",
     "collapsed": false,
     "input": [
      "import pandas as pd\n",
      "from pyep.transform import derive_from_date_exited_4y\n",
      "\n",
      "df = pd.read_csv(r\"C:\\Workspace\\ny-kenmoretonawanda\\student\\20160912Student_Demographics.csv\", sep=',', dtype=str)\n",
      "\n",
      "print len(df)\n",
      "\n",
      "df = df[df.loc[:, 'DateEnteredLep'].notnull()]\n",
      "\n",
      "print len(df)\n",
      "\n",
      "df['Elv_MonitoringStatus'] = df.loc[:, 'DateExitedLep'].map(derive_from_date_exited_4y)\n",
      "\n",
      "df.to_csv(r\"C:\\Workspace\\ny-kenmoretonawanda\\student\\20160912Student_Demographics_processed.csv\", index=False)"
     ],
     "language": "python",
     "metadata": {},
     "outputs": [],
     "prompt_number": 13
    }
   ],
   "metadata": {}
  }
 ]
}