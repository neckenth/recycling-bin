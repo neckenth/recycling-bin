{
 "metadata": {
  "kernelspec": {
   "display_name": "Python 2",
   "language": "python",
   "name": "python2"
  },
  "language_info": {
   "codemirror_mode": {
    "name": "ipython",
    "version": 2
   },
   "file_extension": ".py",
   "mimetype": "text/x-python",
   "name": "python",
   "nbconvert_exporter": "python",
   "pygments_lexer": "ipython2",
   "version": "2.7.11"
  },
  "name": ""
 },
 "nbformat": 3,
 "nbformat_minor": 0,
 "worksheets": [
  {
   "cells": [
    {
     "cell_type": "code",
     "collapsed": false,
     "input": [
      "import sys\n",
      "\n",
      "import pandas as pd\n",
      "import numpy as np\n",
      "\n",
      "from common import is_null\n",
      "from pyep import read_delimited, fetch_header\n",
      "from pyep.settings import WORKSPACE_ROOT\n",
      "from pyep.transform import iderive_lep_status\n",
      "\n",
      "def main():\n",
      "    \n",
      "    account_data = WORKSPACE_ROOT + '/ca-walnutvalleyunified/CELDT/CELDT 2015-2016/'\n",
      "    root = account_data.format('elp-test-score')\n",
      "    \n",
      "    files = ['CELDT_2015-16_SSF_012016_02292016_19734600000 (1).csv',\n",
      "            'CELDT_2015-16_SSF_022016_03232016_19734600000 (4).csv',\n",
      "            'CELDT_2015-16_SSF_032016_04262016_19734600000 (1).csv',\n",
      "            'CELDT_2015-16_SSF_042016_06032016_19734600000 (2).csv',\n",
      "            'CELDT_2015-16_SSF_052016_07072016_19734600000 (1).csv',\n",
      "            'CELDT_2015-16_SSF_092015_10262015_19734600000.csv',\n",
      "            'CELDT_2015-16_SSF_102015_11252015_19734600000 (1).csv',\n",
      "            'CELDT_2015-16_SSF_112015_01222016_19734600000 (1).csv']\n",
      "    \n",
      "    subsets = []\n",
      "    for file in files:\n",
      "        file_path = root + file\n",
      "        df = read_delimited(file_path, \n",
      "                            header=0, \n",
      "                            isInteractive=False, \n",
      "                            sep='\\t', \n",
      "                            names = fetch_header(root + 'header-ca-walnutvalleyunified-celdt.csv'))\n",
      "        df = df.applymap(lambda x: np.NaN if is_null(x) else x)\n",
      "        subsets.append(df)\n",
      "        \n",
      "    df = pd.concat(subsets, ignore_index=True)\n",
      "    \n",
      "    df.to_csv(root + 'combined-processed.txt', index=False, sep='\\t')\n",
      "    \n",
      "    \n",
      "if __name__ == '__main__':\n",
      "    main()"
     ],
     "language": "python",
     "metadata": {},
     "outputs": [],
     "prompt_number": 7
    },
    {
     "cell_type": "code",
     "collapsed": false,
     "input": [
      "import pandas as pd\n",
      "\n",
      "df = pd.read_csv(r\"C:\\Workspace\\ca-walnutvalleyunified\\CELDT\\CELDT 2013-2014\\combined-processed.txt\", sep='\\t', dtype=str)\n",
      "\n",
      "df['Elv_DateGiven'] = pd.to_datetime(df['testDate'], format='%m%d%Y', errors='coerce')\n",
      "\n",
      "df.to_csv(r\"C:\\Workspace\\ca-walnutvalleyunified\\CELDT\\CELDT 2013-2014\\combined-processed_correct_dates.txt\", index=False, sep='\\t')\n"
     ],
     "language": "python",
     "metadata": {},
     "outputs": [],
     "prompt_number": 15
    }
   ],
   "metadata": {}
  }
 ]
}