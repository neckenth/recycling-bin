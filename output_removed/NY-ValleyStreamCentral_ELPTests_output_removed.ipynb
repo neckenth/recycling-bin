{
 "metadata": {
  "kernelspec": {
   "display_name": "Python 2",
   "language": "python",
   "name": "python2"
  },
  "language_info": {
   "codemirror_mode": {
    "name": "ipython",
    "version": 2
   },
   "file_extension": ".py",
   "mimetype": "text/x-python",
   "name": "python",
   "nbconvert_exporter": "python",
   "pygments_lexer": "ipython2",
   "version": "2.7.11"
  },
  "name": ""
 },
 "nbformat": 3,
 "nbformat_minor": 0,
 "worksheets": [
  {
   "cells": [
    {
     "cell_type": "code",
     "collapsed": false,
     "input": [
      "# nevermind - headers are not the same\n",
      "\n",
      "import pandas as pd\n",
      "import glob\n",
      "\n",
      "from pyep.settings import WORKSPACE_ROOT\n",
      "\n",
      "district='ny-valleystreamcentral'\n",
      "\n",
      "subset = []\n",
      "\n",
      "for file in glob.glob('{}/{}/nysitell/*.csv'.format(WORKSPACE_ROOT, district)):\n",
      "    df = pd.read_csv(file)\n",
      "    print len(df)\n",
      "    subset.append(df)\n",
      "    \n",
      "df = pd.concat(subset)\n",
      "print len(df)\n",
      "\n",
      "df.head()"
     ],
     "language": "python",
     "metadata": {},
     "outputs": [],
     "prompt_number": 2
    },
    {
     "cell_type": "code",
     "collapsed": false,
     "input": [
      "import pandas as pd\n",
      "\n",
      "df = pd.read_csv(r\"C:\\Workspace\\ny-valleystreamcentral\\nysitell\\VSCHSD Upload 2017-8.csv\", dtype=str)\n",
      "\n",
      "print len(df)\n",
      "\n",
      "df_nysitell = df[df.loc[:, 'Student Test ID #'].str.contains('NYSITELL')]\n",
      "print len(df_nysitell)\n",
      "df_nyseslat = df[df.loc[:, 'Student Test ID #'].str.contains('NYSESLAT')]\n",
      "print len(df_nyseslat)\n",
      "\n",
      "df_nysitell.to_csv(r\"C:\\Workspace\\ny-valleystreamcentral\\nysitell\\17_18_nysitell.csv\", index=False)\n",
      "df_nyseslat.to_csv(r\"C:\\Workspace\\ny-valleystreamcentral\\nysitell\\17_18_nyseslat.csv\", index=False)"
     ],
     "language": "python",
     "metadata": {},
     "outputs": [],
     "prompt_number": 7
    }
   ],
   "metadata": {}
  }
 ]
}