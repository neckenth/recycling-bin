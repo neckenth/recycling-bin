{
 "metadata": {
  "kernelspec": {
   "display_name": "Python 2",
   "language": "python",
   "name": "python2"
  },
  "language_info": {
   "codemirror_mode": {
    "name": "ipython",
    "version": 2
   },
   "file_extension": ".py",
   "mimetype": "text/x-python",
   "name": "python",
   "nbconvert_exporter": "python",
   "pygments_lexer": "ipython2",
   "version": "2.7.11"
  },
  "name": ""
 },
 "nbformat": 3,
 "nbformat_minor": 0,
 "worksheets": [
  {
   "cells": [
    {
     "cell_type": "code",
     "collapsed": false,
     "input": [
      "# MODEL K\n",
      "\n",
      "import pandas as pd\n",
      "\n",
      "df = pd.read_csv(r\"C:\\Workspace\\ri-providence\\model_k\\K-Model.csv\", dtype=str)\n",
      "\n",
      "df = df[df.loc[:, 'Date'].notnull()]\n",
      "\n",
      "condition_1 = df.loc[:, 'Lit_PL'] == 'N/A'\n",
      "condition_2 = df.loc[:, '']\n",
      "\n",
      "df.to_csv(r\"C:\\Workspace\\ri-providence\\model_k\\K-Model_processed.csv\", index=False)"
     ],
     "language": "python",
     "metadata": {},
     "outputs": [],
     "prompt_number": 1
    },
    {
     "cell_type": "code",
     "collapsed": false,
     "input": [
      "# w-apt\n",
      "\n",
      "import pandas as pd\n",
      "import dateutil.parser as parser\n",
      "\n",
      "df = pd.read_csv(r\"C:\\Workspace\\ri-providence\\w-apt\\wAPT.csv\", dtype=str)\n",
      "\n",
      "df = df[df.loc[:, 'Date'].notnull()]\n",
      "\n",
      "df = df[df.loc[:, 'Test_Name_Spanish'].notnull()]\n",
      "\n",
      "df = df[df.loc[:, 'Test_Name_Spanish'] != 'Grade K']\n",
      "\n",
      "def derive_semester(row):\n",
      "    if str(parser.parse(row.loc['Date']).month) in ['8', '9', '10', '11', '12', '1']:\n",
      "        return 'Semester_1'\n",
      "    else:\n",
      "        return 'Semester_2'\n",
      "    \n",
      "df.loc[:, 'Elv_Semester'] = df.apply(derive_semester, axis=1)\n",
      "\n",
      "df.to_csv(r\"C:\\Workspace\\ri-providence\\w-apt\\wAPT_processed.csv\", index=False)"
     ],
     "language": "python",
     "metadata": {},
     "outputs": [],
     "prompt_number": 24
    },
    {
     "cell_type": "code",
     "collapsed": false,
     "input": [
      "import pandas as pd\n",
      "\n",
      "df = pd.read_csv(r\"C:\\Workspace\\ri-providence\\w-apt\\WAPT_withGrades.csv\", dtype=str)#, castNull=True)\n",
      "\n",
      "df = df[df.loc[:, 'Grade'] != ' ']\n",
      "\n",
      "df = df[df.loc[:, 'Date'] != ' ']\n",
      "\n",
      "df = df[~df.loc[:, 'Grade'].isin(['0', '-1'])]\n",
      "\n",
      "df['Elv_Cluster'] = df['Test_Name_English_LP'].map(\n",
      "    lambda x: str(x).split('W')[0])\n",
      "\n",
      "domains = ['Listen_PL', 'Speak_PL', 'Reading_Eng', 'Write_PL']\n",
      "\n",
      "for domain in domains:\n",
      "    df.loc[:, '{}'.format(domain)] = df.loc[:, '{}'.format(domain)].map(\n",
      "    lambda x: x if len(x) == 1 or (x[-1] == '0' and x[-2] == '.') else 'X')\n",
      "         \n",
      "df1 = df[(df == 'X').any(axis=1)]\n",
      "    \n",
      "df = df[~(df == 'X').any(axis=1)]\n",
      "\n",
      "print df1.loc[:, '\\xef\\xbb\\xbfLASID'].unique()\n",
      "\n",
      "df.to_csv(r\"C:\\Workspace\\ri-providence\\w-apt\\WAPT_withGrades_processed_1.csv\", index=False)"
     ],
     "language": "python",
     "metadata": {},
     "outputs": [],
     "prompt_number": 82
    }
   ],
   "metadata": {}
  }
 ]
}