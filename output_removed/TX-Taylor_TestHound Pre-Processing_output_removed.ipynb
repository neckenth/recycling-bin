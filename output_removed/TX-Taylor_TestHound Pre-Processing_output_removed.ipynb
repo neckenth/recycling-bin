{
 "metadata": {
  "kernelspec": {
   "display_name": "Python 2",
   "language": "python",
   "name": "python2"
  },
  "language_info": {
   "codemirror_mode": {
    "name": "ipython",
    "version": 2
   },
   "file_extension": ".py",
   "mimetype": "text/x-python",
   "name": "python",
   "nbconvert_exporter": "python",
   "pygments_lexer": "ipython2",
   "version": "2.7.11"
  },
  "name": ""
 },
 "nbformat": 3,
 "nbformat_minor": 0,
 "worksheets": [
  {
   "cells": [
    {
     "cell_type": "code",
     "collapsed": false,
     "input": [
      "import pandas as pd\n",
      "\n",
      "df = pd.read_csv(r\"C:\\Workspace\\tx-taylor\\testhound\\ESLREPS-TX-TAYLOR_TestHound_246911_100.1.20170321_0100.csv\", dtype=str)\n",
      "\n",
      "def normalize_length(row):\n",
      "    if len(str(row)) < 6:\n",
      "        row = row.zfill(6)\n",
      "        return row\n",
      "    else:\n",
      "        return row\n",
      "            \n",
      "condition_1 = df.loc[:, 'Student #'].map(type) == str\n",
      "            \n",
      "df.loc[condition_1, 'Student #'] = df.loc[condition_1, 'Student #'].map(normalize_length)\n",
      "\n",
      "df['Student #'].value_counts()\n",
      "\n",
      "df.to_csv(r\"C:\\Workspace\\tx-taylor\\testhound\\ESLREPS-TX-TAYLOR_TestHound_246911_100.1.20170321_0100-processed.csv\", index=False)\n",
      "\n",
      "\n",
      "\n",
      "\n",
      "        "
     ],
     "language": "python",
     "metadata": {},
     "outputs": [],
     "prompt_number": 53
    },
    {
     "cell_type": "code",
     "collapsed": true,
     "input": [
      "import sys\n",
      "import numpy as np\n",
      "\n",
      "from common import is_null\n",
      "from pyep import read_delimited\n",
      "\n",
      "def main():\n",
      "\n",
      "    file_path = 'F:/eslreps/export/tx-taylor/test_accoms/' + sys.argv[1]\n",
      "\n",
      "    df = read_delimited(file_path, sep=',')\n",
      "    df = df.applymap(lambda x: np.NaN if is_null(x) else x)\n",
      "    \n",
      "    def normalize_length(row):\n",
      "        if len(str(row)) < 6:\n",
      "            row = row.zfill(6)\n",
      "            return row\n",
      "        else:\n",
      "            return row\n",
      "            \n",
      "    condition_1 = df.loc[:, 'Student #'].map(type) == str\n",
      "            \n",
      "    df.loc[condition_1, 'Student #'] = df.loc[condition_1, 'Student #'].map(normalize_length)\n",
      "\n",
      "    df.to_csv(file_path, sep=',', index=False)\n",
      "\n",
      "if __name__ == '__main__':\n",
      "    main()"
     ],
     "language": "python",
     "metadata": {},
     "outputs": [],
     "prompt_number": null
    }
   ],
   "metadata": {}
  }
 ]
}