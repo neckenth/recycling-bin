{
 "metadata": {
  "kernelspec": {
   "display_name": "Python 2",
   "language": "python",
   "name": "python2"
  },
  "language_info": {
   "codemirror_mode": {
    "name": "ipython",
    "version": 2
   },
   "file_extension": ".py",
   "mimetype": "text/x-python",
   "name": "python",
   "nbconvert_exporter": "python",
   "pygments_lexer": "ipython2",
   "version": "2.7.11"
  },
  "name": ""
 },
 "nbformat": 3,
 "nbformat_minor": 0,
 "worksheets": [
  {
   "cells": [
    {
     "cell_type": "code",
     "collapsed": false,
     "input": [
      "import pandas as pd\n",
      "\n",
      "df = pd.read_csv(r\"C:\\Workspace\\ca-centinelavalleyunionhigh\\person\\ELL_Staff_Info.txt\", sep='\\t', dtype=str)\n",
      "print len(df)\n",
      "\n",
      "df = df[df.loc[:, 'Email_addr'].notnull()]\n",
      "print len(df)\n",
      "df = df[df.loc[:, 'CA_SEID'].notnull()]\n",
      "\n",
      "\n",
      "df.to_csv(r\"C:\\Workspace\\ca-centinelavalleyunionhigh\\person\\ELL_Staff_Info_processed.txt\", sep='\\t', index=False)"
     ],
     "language": "python",
     "metadata": {},
     "outputs": [],
     "prompt_number": 7
    }
   ],
   "metadata": {}
  }
 ]
}