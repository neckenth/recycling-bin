{
 "metadata": {
  "kernelspec": {
   "display_name": "Python 2",
   "language": "python",
   "name": "python2"
  },
  "language_info": {
   "codemirror_mode": {
    "name": "ipython",
    "version": 2
   },
   "file_extension": ".py",
   "mimetype": "text/x-python",
   "name": "python",
   "nbconvert_exporter": "python",
   "pygments_lexer": "ipython2",
   "version": "2.7.11"
  },
  "name": ""
 },
 "nbformat": 3,
 "nbformat_minor": 0,
 "worksheets": [
  {
   "cells": [
    {
     "cell_type": "code",
     "collapsed": false,
     "input": [
      "import pandas as pd\n",
      "\n",
      "from pyep.transform import derive_from_date_exited_4y\n",
      "from common import is_null\n",
      "\n",
      "df = pd.read_csv(r\"C:\\Workspace\\nj-clifton\\student\\StudentDemographics.csv\", dtype=str)\n",
      "\n",
      "df['Elv_LEPStatus'] = df.apply(\n",
      "    lambda x: derive_from_date_exited_4y(x['DATE EXITED LEP']) if not is_null(x['DATE EXITED LEP']) else 'ELL', axis=1)\n",
      "\n",
      "df['Elv_GraduateFlag'] = df['DATE GRADUATED'].map(\n",
      "    lambda x: 'Y' if not is_null(x) else 'N')\n",
      "\n",
      "df.to_csv(r\"C:\\Workspace\\nj-clifton\\student\\StudentDemographics_processed.csv\", index=False)"
     ],
     "language": "python",
     "metadata": {},
     "outputs": [],
     "prompt_number": 1
    }
   ],
   "metadata": {}
  }
 ]
}