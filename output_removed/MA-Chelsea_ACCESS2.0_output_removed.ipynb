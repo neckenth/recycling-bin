{
 "metadata": {
  "kernelspec": {
   "display_name": "Python 2",
   "language": "python",
   "name": "python2"
  },
  "language_info": {
   "codemirror_mode": {
    "name": "ipython",
    "version": 2
   },
   "file_extension": ".py",
   "mimetype": "text/x-python",
   "name": "python",
   "nbconvert_exporter": "python",
   "pygments_lexer": "ipython2",
   "version": "2.7.11"
  },
  "name": ""
 },
 "nbformat": 3,
 "nbformat_minor": 0,
 "worksheets": [
  {
   "cells": [
    {
     "cell_type": "code",
     "collapsed": false,
     "input": [
      "import pandas as pd\n",
      "import os\n",
      "\n",
      "from pyep import read_delimited\n",
      "from pyep.settings import WORKSPACE_ROOT\n",
      "\n",
      "subset = []\n",
      "\n",
      "for file in os.listdir (WORKSPACE_ROOT + '/ma-chelsea/elp-test-score/access/'):\n",
      "    df = read_delimited((WORKSPACE_ROOT + '/ma-chelsea/elp-test-score/access/' + file), sep=',', dtype=str)\n",
      "    subset.append(df)\n",
      "    \n",
      "df = pd.concat(subset)\n",
      "\n",
      "print len(df)\n",
      "\n",
      "df.drop_duplicates(subset='sasid', inplace=True)\n",
      "\n",
      "print len(df)\n",
      "\n",
      "#df.to_csv(r\"C:\\Workspace\\ma-chelsea\\elp-test-score\\access\\access2016_processed_deduplicated.csv\", index=False) \n",
      "\n"
     ],
     "language": "python",
     "metadata": {},
     "outputs": [],
     "prompt_number": 2
    },
    {
     "cell_type": "code",
     "collapsed": false,
     "input": [
      "df = pd.read_csv(r\"C:\\Workspace\\ma-chelsea\\elp-test-score\\access\\ACCESS2016_00570000 (1).csv\", dtype=str)\n",
      "\n",
      "print len(df)\n",
      "\n",
      "df_k = df[df.loc[:, 'grade'] == 'K']\n",
      "\n",
      "print len(df_k)\n",
      "\n",
      "df_1_12 = df[df.loc[:, 'grade'] != 'K']\n",
      "\n",
      "print len(df_1_12)\n",
      "\n",
      "df_k.to_csv(r\"C:\\Workspace\\ma-chelsea\\elp-test-score\\access\\ACCESS2016_00570000 (1)_processed_k.csv\", index=False)\n",
      "\n",
      "df_1_12.to_csv(r\"C:\\Workspace\\ma-chelsea\\elp-test-score\\access\\ACCESS2016_00570000 (1)_processed_1_12.csv\", index=False)"
     ],
     "language": "python",
     "metadata": {},
     "outputs": [],
     "prompt_number": 4
    }
   ],
   "metadata": {}
  }
 ]
}