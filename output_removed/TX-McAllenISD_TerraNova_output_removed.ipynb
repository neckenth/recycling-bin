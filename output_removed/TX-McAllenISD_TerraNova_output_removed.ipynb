{
 "metadata": {
  "kernelspec": {
   "display_name": "Python 2",
   "language": "python",
   "name": "python2"
  },
  "language_info": {
   "codemirror_mode": {
    "name": "ipython",
    "version": 2
   },
   "file_extension": ".py",
   "mimetype": "text/x-python",
   "name": "python",
   "nbconvert_exporter": "python",
   "pygments_lexer": "ipython2",
   "version": "2.7.11"
  },
  "name": ""
 },
 "nbformat": 3,
 "nbformat_minor": 0,
 "worksheets": [
  {
   "cells": [
    {
     "cell_type": "code",
     "collapsed": false,
     "input": [
      "import pandas as pd\n",
      "\n",
      "df = pd.read_csv(r\"C:\\Workspace\\tx-mcallenisd\\terra-nova\\TerraNova_scorefile.csv\", dtype=str)\n",
      "\n",
      "for col in df.iloc[:, 7:]:\n",
      "    df.loc[:, col] = df.loc[:, col].str.rstrip('%')\n",
      "    \n",
      "df.to_csv(r\"C:\\Workspace\\tx-mcallenisd\\terra-nova\\TerraNova_scorefile_processed.csv\", index=False)"
     ],
     "language": "python",
     "metadata": {},
     "outputs": [],
     "prompt_number": 12
    }
   ],
   "metadata": {}
  }
 ]
}