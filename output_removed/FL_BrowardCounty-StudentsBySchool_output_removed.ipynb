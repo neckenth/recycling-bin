{
 "metadata": {
  "kernelspec": {
   "display_name": "Python 2",
   "language": "python",
   "name": "python2"
  },
  "language_info": {
   "codemirror_mode": {
    "name": "ipython",
    "version": 2
   },
   "file_extension": ".py",
   "mimetype": "text/x-python",
   "name": "python",
   "nbconvert_exporter": "python",
   "pygments_lexer": "ipython2",
   "version": "2.7.11"
  },
  "name": ""
 },
 "nbformat": 3,
 "nbformat_minor": 0,
 "worksheets": [
  {
   "cells": [
    {
     "cell_type": "code",
     "collapsed": false,
     "input": [
      "import pandas as pd\n",
      "import numpy as np\n",
      "\n",
      "df = pd.read_csv(r\"C:\\Workspace\\fl-browardcounty\\student\\StudentsBySchool_Active_LY.csv\", dtype=str)\n",
      "\n",
      "df = df.pivot(columns='SchoolName',\n",
      "              values='StudentStateID')\n",
      "\n",
      "df = df.apply(lambda x: pd.Series(x.dropna().values))\n",
      "\n",
      "df.to_csv(r\"C:\\Workspace\\fl-browardcounty\\student\\StudentsBySchool_Active_LY_processed.csv\", index=False)\n",
      "\n",
      "count_df = pd.DataFrame(columns=['School', 'Number of Active LYs'])\n",
      "\n",
      "count_df.loc[:, 'School'] = df.columns.tolist()\n",
      "\n",
      "for s in count_df.loc[:, 'School']:\n",
      "    count_df.loc[count_df.loc[:, 'School'] == s , 'Number of Active LYs'] = df.loc[:, s].nunique()\n",
      "\n",
      "count_df.to_csv(r\"C:\\Workspace\\fl-browardcounty\\student\\Number_Active_LY_per_School.csv\", index=False)"
     ],
     "language": "python",
     "metadata": {},
     "outputs": [],
     "prompt_number": 11
    }
   ],
   "metadata": {}
  }
 ]
}