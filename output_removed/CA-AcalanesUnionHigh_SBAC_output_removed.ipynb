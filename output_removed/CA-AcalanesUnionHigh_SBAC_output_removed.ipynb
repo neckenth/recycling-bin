{
 "metadata": {
  "kernelspec": {
   "display_name": "Python 2",
   "language": "python",
   "name": "python2"
  },
  "language_info": {
   "codemirror_mode": {
    "name": "ipython",
    "version": 2
   },
   "file_extension": ".py",
   "mimetype": "text/x-python",
   "name": "python",
   "nbconvert_exporter": "python",
   "pygments_lexer": "ipython2",
   "version": "2.7.11"
  },
  "name": ""
 },
 "nbformat": 3,
 "nbformat_minor": 0,
 "worksheets": [
  {
   "cells": [
    {
     "cell_type": "code",
     "collapsed": false,
     "input": [
      "import pandas as pd\n",
      "import os\n",
      "\n",
      "root = \"C:/Workspace/ca-acalanesunionhigh/sbac/di-7335/processed/\"\n",
      "\n",
      "subset = []\n",
      "\n",
      "for file in os.listdir(root):\n",
      "    df = pd.read_csv(root + file)\n",
      "    print len(df)\n",
      "    subset.append(df)\n",
      "    \n",
      "df = pd.concat(subset)\n",
      "print len(df)\n",
      "\n",
      "df.to_csv(r\"C:\\Workspace\\ca-acalanesunionhigh\\sbac\\di-7335\\processed\\merged_process.csv\", sep=',', index=False)"
     ],
     "language": "python",
     "metadata": {},
     "outputs": [],
     "prompt_number": 5
    },
    {
     "cell_type": "code",
     "collapsed": false,
     "input": [
      "import pandas as pd\n",
      "\n",
      "df1 = pd.read_csv(r\"C:\\Workspace\\ca-acalanesunionhigh\\sbac\\di-7335\\processed\\ELLSTDTST_CA-AcalanesUnionHigh_SBAC_2016_2.csv\", sep=',', dtype=str)\n",
      "\n",
      "df2 = pd.read_csv(r\"C:\\Users\\NancyE\\Downloads\\EllevationExport_20170106_1520.csv\", dtype=str)\n",
      "\n",
      "result=pd.merge(left=df1, right=df2, left_on='StudentTestID', right_on='Test ID #', indicator=True, how='outer')\n",
      "\n",
      "result.head()\n",
      "\n",
      "result._merge.value_counts()\n"
     ],
     "language": "python",
     "metadata": {},
     "outputs": [],
     "prompt_number": 9
    }
   ],
   "metadata": {}
  }
 ]
}