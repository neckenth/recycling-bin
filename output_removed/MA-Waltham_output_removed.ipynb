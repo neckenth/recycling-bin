{
 "metadata": {
  "kernelspec": {
   "display_name": "Python 2",
   "language": "python",
   "name": "python2"
  },
  "language_info": {
   "codemirror_mode": {
    "name": "ipython",
    "version": 2
   },
   "file_extension": ".py",
   "mimetype": "text/x-python",
   "name": "python",
   "nbconvert_exporter": "python",
   "pygments_lexer": "ipython2",
   "version": "2.7.11"
  },
  "name": ""
 },
 "nbformat": 3,
 "nbformat_minor": 0,
 "worksheets": [
  {
   "cells": [
    {
     "cell_type": "code",
     "collapsed": false,
     "input": [
      "import pandas as pd\n",
      "from datetime import datetime as dt\n",
      "\n",
      "screener = pd.read_csv(r\"C:\\Users\\NancyE\\Downloads\\17_0913_WalthamWIDAScreenerScores.txt\", sep='\\t', dtype=str)\n",
      "\n",
      "screener = screener[screener.Speaking.notnull() &\n",
      "                        screener.Listening.notnull() &\n",
      "                        screener.Writing.notnull() &\n",
      "                        screener.Reading.notnull() &\n",
      "                        screener.Oral.notnull() &\n",
      "                        screener.Literacy.notnull() &\n",
      "                        screener.loc[:, 'Overall Score'].notnull()]\n",
      "\n",
      "screener.loc[:, 'Elv_AdminMode'] = screener.loc[:, 'Type of Test'].map(\n",
      "    lambda x: 'Online' if 'online' in x.lower() else 'Paper')\n",
      "\n",
      "this_year = dt.now().year\n",
      "\n",
      "screener.loc[:, 'Elv_Semester'] = screener.loc[:, 'ELL Test Date'].map(\n",
      "    lambda x: '2' if (pd.to_datetime(x) > pd.to_datetime('1/3/{}'.format(this_year)) and\n",
      "                      pd.to_datetime(x) < pd.to_datetime('7/1/{}'.format(this_year))) else '1')\n",
      "\n",
      "screener.loc[:, 'Elv_Classification'] = 'Initial'\n",
      "\n",
      "screener.to_csv(r\"C:\\Users\\NancyE\\Downloads\\17_0913_WalthamWIDAScreenerScores_processed.txt\", sep='\\t', index=False)\n"
     ],
     "language": "python",
     "metadata": {},
     "outputs": [],
     "prompt_number": 4
    }
   ],
   "metadata": {}
  }
 ]
}