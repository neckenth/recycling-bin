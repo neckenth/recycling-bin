{
 "metadata": {
  "kernelspec": {
   "display_name": "Python 2",
   "language": "python",
   "name": "python2"
  },
  "language_info": {
   "codemirror_mode": {
    "name": "ipython",
    "version": 2
   },
   "file_extension": ".py",
   "mimetype": "text/x-python",
   "name": "python",
   "nbconvert_exporter": "python",
   "pygments_lexer": "ipython2",
   "version": "2.7.11"
  },
  "name": ""
 },
 "nbformat": 3,
 "nbformat_minor": 0,
 "worksheets": [
  {
   "cells": [
    {
     "cell_type": "code",
     "collapsed": false,
     "input": [
      "import pandas as pd\n",
      "\n",
      "df = pd.read_csv(r\"C:\\Workspace\\ct-hamdenschooldistrict\\elp-test-score\\2016HamdenScores.csv\", dtype=str)\n",
      "\n",
      "print len(df)\n",
      "df = df[df.loc[:, 'SASID'].notnull()]\n",
      "print len(df)\n",
      "df = df[df.loc[:, 'Grade'].notnull()]\n",
      "print len(df)\n",
      "\n",
      "score_mapping = {\n",
      "    'Beginning': 1,\n",
      "    'Early Intermediate': 2,\n",
      "    'Intermediate': 3,\n",
      "    'Proficient': 4,\n",
      "    'Above Proficient':5\n",
      "}\n",
      "\n",
      "df.loc[:, 'Elv_ReadingLevel'] = df.loc[:, 'Reading Level'].map(score_mapping)\n",
      "df.loc[:, 'Elv_WritingLevel'] = df.loc[:, 'Writing Level'].map(score_mapping)\n",
      "df.loc[:, 'Elv_SpeakingLevel'] = df.loc[:, 'Speaking Level'].map(score_mapping)\n",
      "df.loc[:, 'Elv_ListeningLevel'] = df.loc[:, 'Listening Level'].map(score_mapping)\n",
      "df.loc[:, 'Elv_OverallLevel'] = df.loc[:, 'Overall Level'].map(score_mapping)\n",
      "\n",
      "df.to_csv(r\"C:\\Workspace\\ct-hamdenschooldistrict\\elp-test-score\\2016HamdenScores_processed.csv\", index=False)"
     ],
     "language": "python",
     "metadata": {},
     "outputs": [],
     "prompt_number": 6
    },
    {
     "cell_type": "code",
     "collapsed": false,
     "input": [
      "import pandas as pd\n",
      "\n",
      "df = pd.read_excel(r\"C:\\Workspace\\ct-hamdenschooldistrict\\elp-test-score\\2013_2014LASLinksData.xlsx\")\n",
      "\n",
      "df = df[df.loc[:, 'Overall Level'].notnull()]\n",
      "\n",
      "score_mapping = {\n",
      "    'Beginner': 1,\n",
      "    'Early Intermediate': 2,\n",
      "    'Intermediate': 3,\n",
      "    'Proficient': 4,\n",
      "    'Above Proficient':5\n",
      "}\n",
      "\n",
      "df.loc[:, 'Elv_ReadingLevel'] = df.loc[:, 'Reading Level'].map(score_mapping)\n",
      "df.loc[:, 'Elv_WritingLevel'] = df.loc[:, 'Writing Level'].map(score_mapping)\n",
      "df.loc[:, 'Elv_SpeakingLevel'] = df.loc[:, 'Speaking Level'].map(score_mapping)\n",
      "df.loc[:, 'Elv_ListeningLevel'] = df.loc[:, 'Listening Level'].map(score_mapping)\n",
      "df.loc[:, 'Elv_OverallLevel'] = df.loc[:, 'Overall Level'].map(score_mapping)\n",
      "\n",
      "df.to_csv(r\"C:\\Workspace\\ct-hamdenschooldistrict\\elp-test-score\\2013_2014LASLinksData_processed.csv\", index=False)"
     ],
     "language": "python",
     "metadata": {},
     "outputs": [],
     "prompt_number": 13
    }
   ],
   "metadata": {}
  }
 ]
}