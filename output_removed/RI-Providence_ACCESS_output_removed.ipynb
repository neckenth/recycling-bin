{
 "metadata": {
  "kernelspec": {
   "display_name": "Python 2",
   "language": "python",
   "name": "python2"
  },
  "language_info": {
   "codemirror_mode": {
    "name": "ipython",
    "version": 2
   },
   "file_extension": ".py",
   "mimetype": "text/x-python",
   "name": "python",
   "nbconvert_exporter": "python",
   "pygments_lexer": "ipython2",
   "version": "2.7.11"
  },
  "name": ""
 },
 "nbformat": 3,
 "nbformat_minor": 0,
 "worksheets": [
  {
   "cells": [
    {
     "cell_type": "code",
     "collapsed": false,
     "input": [
      "#12-13/13-14\n",
      "\n",
      "import pandas as pd\n",
      "import numpy as np\n",
      "import os\n",
      "\n",
      "from pyep.settings import WORKSPACE_ROOT\n",
      "\n",
      "subset = []\n",
      "\n",
      "for file in os.listdir(WORKSPACE_ROOT + '/ri-providence/access/13-present/'):\n",
      "    df = pd.read_csv(WORKSPACE_ROOT + '/ri-providence/access/13-present/' + file, dtype=str)\n",
      "    print len(df)\n",
      "    subset.append(df)\n",
      "    \n",
      "df = pd.concat(subset)\n",
      "print len(df)\n",
      "\n",
      "df['Grade'].unique()\n",
      "\n",
      "df_alt = df[df.loc[:, 'Tier'].isin(['T'])]\n",
      "\n",
      "df_k = df[df.loc[:, 'Grade'].isin(['00'])]\n",
      "\n",
      "df = df[~df.loc[:, 'Tier'].isin(['T']) & ~df.loc[:, 'Grade'].isin(['00'])]\n",
      "\n",
      "df_k.to_csv(r\"C:\\Workspace\\ri-providence\\access\\13-present\\combined_processed_k.csv\", index=False)\n",
      "df_alt.to_csv(r\"C:\\Workspace\\ri-providence\\access\\13-present\\combined_processed_alt.csv\", index=False)\n",
      "df.to_csv(r\"C:\\Workspace\\ri-providence\\access\\13-present\\combined_processed.csv\", index=False)"
     ],
     "language": "python",
     "metadata": {},
     "outputs": [],
     "prompt_number": 14
    },
    {
     "cell_type": "code",
     "collapsed": false,
     "input": [
      "#14-15\n",
      "\n",
      "df = pd.read_csv(r\"C:\\Workspace\\ri-providence\\access\\14-15\\PPSD_ACCESS_SY1415.csv\", dtype=str)\n",
      "\n",
      "df_alt = df[df.loc[:, 'Tier'].isin(['T'])]\n",
      "\n",
      "df = df[~df.loc[:, 'Tier'].isin(['T'])]\n",
      "\n",
      "#df_k.to_csv(r\"C:\\Workspace\\ri-providence\\access\\14-15\\PPSD_ACCESS_SY1415_k.csv\", index=False)\n",
      "df_alt.to_csv(r\"C:\\Workspace\\ri-providence\\access\\14-15\\PPSD_ACCESS_SY1415_alt.csv\", index=False)\n",
      "df.to_csv(r\"C:\\Workspace\\ri-providence\\access\\14-15\\PPSD_ACCESS_SY1415_processed.csv\",index=False)"
     ],
     "language": "python",
     "metadata": {},
     "outputs": [],
     "prompt_number": 17
    }
   ],
   "metadata": {}
  }
 ]
}