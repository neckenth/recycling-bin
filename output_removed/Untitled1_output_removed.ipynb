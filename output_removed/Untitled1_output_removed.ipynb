{
 "metadata": {
  "kernelspec": {
   "display_name": "Python 2",
   "language": "python",
   "name": "python2"
  },
  "language_info": {
   "codemirror_mode": {
    "name": "ipython",
    "version": 2
   },
   "file_extension": ".py",
   "mimetype": "text/x-python",
   "name": "python",
   "nbconvert_exporter": "python",
   "pygments_lexer": "ipython2",
   "version": "2.7.11"
  },
  "name": ""
 },
 "nbformat": 3,
 "nbformat_minor": 0,
 "worksheets": [
  {
   "cells": [
    {
     "cell_type": "code",
     "collapsed": false,
     "input": [
      "import pandas as pd\n",
      "\n",
      "a = pd.read_csv(\"C:\\Users\\NancyE\\Desktop\\Workspace\\StudentDemographics\\studentdemo_headers-il-posenrobbins.csv\")\n",
      "# a.columns\n",
      "# len(a.columns)\n",
      "b = pd.read_csv(\"C:\\Users\\NancyE\\Desktop\\Workspace\\StudentDemographics\\il-posenrobbins_ellevation-student-file.csv\",\n",
      "             names=a.columns.tolist(), header=None, index_col=None, error_bad_lines=False)\n",
      "# len(b.columns)\n",
      "b"
     ],
     "language": "python",
     "metadata": {},
     "outputs": [],
     "prompt_number": 14
    },
    {
     "cell_type": "code",
     "collapsed": true,
     "input": [],
     "language": "python",
     "metadata": {},
     "outputs": [],
     "prompt_number": null
    }
   ],
   "metadata": {}
  }
 ]
}