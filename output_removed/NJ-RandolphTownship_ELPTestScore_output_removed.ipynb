{
 "metadata": {
  "kernelspec": {
   "display_name": "Python 2",
   "language": "python",
   "name": "python2"
  },
  "language_info": {
   "codemirror_mode": {
    "name": "ipython",
    "version": 2
   },
   "file_extension": ".py",
   "mimetype": "text/x-python",
   "name": "python",
   "nbconvert_exporter": "python",
   "pygments_lexer": "ipython2",
   "version": "2.7.11"
  },
  "name": ""
 },
 "nbformat": 3,
 "nbformat_minor": 0,
 "worksheets": [
  {
   "cells": [
    {
     "cell_type": "code",
     "collapsed": false,
     "input": [
      "import pandas as pd\n",
      "\n",
      "df = pd.read_csv(r\"C:\\Workspace\\nj-randolphtownship\\elp-test-score\\District ACCESS Score 2015-2016.csv\", dtype=str)\n",
      "\n",
      "df['Elv_DateGiven'] = pd.to_datetime(df['Date of Testing'], format='%m%d%y', errors='ignore')\n",
      "\n",
      "df.to_csv(r\"C:\\Workspace\\nj-randolphtownship\\elp-test-score\\District ACCESS Score 2015-2016_processed.csv\", index=False)"
     ],
     "language": "python",
     "metadata": {},
     "outputs": [],
     "prompt_number": 9
    }
   ],
   "metadata": {}
  }
 ]
}