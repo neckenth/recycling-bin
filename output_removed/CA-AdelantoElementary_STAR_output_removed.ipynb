{
 "metadata": {
  "kernelspec": {
   "display_name": "Python 2",
   "language": "python",
   "name": "python2"
  },
  "language_info": {
   "codemirror_mode": {
    "name": "ipython",
    "version": 2
   },
   "file_extension": ".py",
   "mimetype": "text/x-python",
   "name": "python",
   "nbconvert_exporter": "python",
   "pygments_lexer": "ipython2",
   "version": "2.7.11"
  },
  "name": ""
 },
 "nbformat": 3,
 "nbformat_minor": 0,
 "worksheets": [
  {
   "cells": [
    {
     "cell_type": "code",
     "collapsed": true,
     "input": [
      "import pandas as pd\n",
      "import os\n",
      "\n",
      "from pyep import read_delimited\n",
      "from pyep.settings import WORKSPACE_ROOT\n",
      "\n",
      "subset = []\n",
      "\n",
      "for school in os.listdir (WORKSPACE_ROOT + '/ca-adelantoelementary/star/{}/'.format(school)):\n",
      "    for file in os.listdir(WORKSPACE_ROOT + '/ca-adelantoelementary/star/{}/'.format(school) + file):\n",
      "        df = read_delimited(WORKSPACE_ROOT + '/ca-adelantoelementary/star/{}/'.format(school) + file, header=1, skiprows=0)\n",
      "        subset.append(df)\n",
      "    \n",
      "df = pd.concat(subset)\n",
      "\n",
      "df['Elv_DateGiven'] = pd.to_datetime(df['testDate'], format='%m%d%Y', errors='coerce')\n",
      "\n",
      "print len(df)\n",
      "\n",
      "df.drop_duplicates(subset='SSID', inplace=True)\n",
      "\n",
      "print len(df)\n",
      "\n",
      "df.to_csv(r\"C:\\Workspace\\ca-adelantoelementary\\star\\combined_processed.csv\", index=False)\n"
     ],
     "language": "python",
     "metadata": {},
     "outputs": [],
     "prompt_number": null
    },
    {
     "cell_type": "code",
     "collapsed": false,
     "input": [
      "import pandas as pd\n",
      "import os\n",
      "\n",
      "from pyep import read_delimited\n",
      "from pyep.settings import WORKSPACE_ROOT\n",
      "\n",
      "subset = []\n",
      "\n",
      "for file in os.listdir (WORKSPACE_ROOT + '/ca-adelantoelementary/star/16-17/Reading/'):\n",
      "    #print file\n",
      "    df = read_delimited((WORKSPACE_ROOT + '/ca-adelantoelementary/star/16-17/Reading/' + file), skiprows=1, sep=',', inferDialect=False)\n",
      "    #print df.columns.tolist()\n",
      "    subset.append(df)\n",
      "    \n",
      "df = pd.concat(subset)\n",
      "\n",
      "df.columns.tolist()\n",
      "\n",
      "print len(df)\n",
      "\n",
      "df.drop_duplicates(subset=['StudentId', 'DateTaken'], inplace=True)\n",
      "\n",
      "print len(df)\n",
      "\n",
      "df.to_csv(r\"C:\\Workspace\\ca-adelantoelementary\\star\\16-17\\Reading\\combined_processed.csv\", index=False)"
     ],
     "language": "python",
     "metadata": {},
     "outputs": [],
     "prompt_number": 22
    },
    {
     "cell_type": "code",
     "collapsed": true,
     "input": [],
     "language": "python",
     "metadata": {},
     "outputs": [],
     "prompt_number": null
    }
   ],
   "metadata": {}
  }
 ]
}