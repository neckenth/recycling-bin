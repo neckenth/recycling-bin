{
 "metadata": {
  "kernelspec": {
   "display_name": "Python 2",
   "language": "python",
   "name": "python2"
  },
  "language_info": {
   "codemirror_mode": {
    "name": "ipython",
    "version": 2
   },
   "file_extension": ".py",
   "mimetype": "text/x-python",
   "name": "python",
   "nbconvert_exporter": "python",
   "pygments_lexer": "ipython2",
   "version": "2.7.11"
  },
  "name": ""
 },
 "nbformat": 3,
 "nbformat_minor": 0,
 "worksheets": [
  {
   "cells": [
    {
     "cell_type": "code",
     "collapsed": false,
     "input": [
      "import pandas as pd\n",
      "\n",
      "df=pd.read_csv(r\"C:\\Workspace\\ma-revere\\access\\ACCESS2016_Revere.csv\")\n",
      "\n",
      "df_k=df[df.Grade == 'K']\n",
      "\n",
      "len(df_k)\n",
      "\n",
      "df_k.to_csv(r\"C:\\Workspace\\ma-revere\\access\\ACCESS2016_Revere_K.csv\", index=False)"
     ],
     "language": "python",
     "metadata": {},
     "outputs": [],
     "prompt_number": 6
    },
    {
     "cell_type": "code",
     "collapsed": false,
     "input": [
      "df=pd.read_csv(r\"C:\\Workspace\\ma-revere\\access\\ACCESS2016_Revere.csv\")\n",
      "\n",
      "condition1 = df.Grade == 'K'\n",
      "condition2 = df.teststatus == 'ALT'\n",
      "\n",
      "df_not_k=df[~(condition1 | condition2)]\n",
      "\n",
      "len(df_not_k)\n",
      "\n",
      "df_not_k.to_csv(r\"C:\\Workspace\\ma-revere\\access\\ACCESS2016_Revere_not_K_not_alt.csv\", index=False)\n",
      "\n"
     ],
     "language": "python",
     "metadata": {},
     "outputs": [],
     "prompt_number": 13
    },
    {
     "cell_type": "code",
     "collapsed": false,
     "input": [
      "df=pd.read_csv(r\"C:\\Workspace\\ma-revere\\access\\ACCESS2016_Revere.csv\")\n",
      "\n",
      "df_alt=df[df.teststatus == 'ALT']\n",
      "\n",
      "len(df_alt)\n",
      "\n",
      "df_alt.to_csv(r\"C:\\Workspace\\ma-revere\\access\\ACCESS2016_Revere_alt.csv\", index=False)"
     ],
     "language": "python",
     "metadata": {},
     "outputs": [],
     "prompt_number": 14
    }
   ],
   "metadata": {}
  }
 ]
}