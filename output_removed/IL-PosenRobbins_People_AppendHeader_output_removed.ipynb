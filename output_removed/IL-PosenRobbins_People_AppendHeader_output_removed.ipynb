{
 "metadata": {
  "kernelspec": {
   "display_name": "Python 2",
   "language": "python",
   "name": "python2"
  },
  "language_info": {
   "codemirror_mode": {
    "name": "ipython",
    "version": 2
   },
   "file_extension": ".py",
   "mimetype": "text/x-python",
   "name": "python",
   "nbconvert_exporter": "python",
   "pygments_lexer": "ipython2",
   "version": "2.7.11"
  },
  "name": ""
 },
 "nbformat": 3,
 "nbformat_minor": 0,
 "worksheets": [
  {
   "cells": [
    {
     "cell_type": "code",
     "collapsed": false,
     "input": [
      "# This technique allows you to append headers as a hard-coded list - you manually type them in as names\n",
      "import pandas as pd\n",
      "\n",
      "a = pd.read_csv(\"C:\\Users\\NancyE\\Desktop\\Workspace\\People\\il_posenrobbins_ellevation-teacher-file.csv\", \n",
      "                names=[\"Last_Name\", \"First_Name\", \"Middle_Name\", \"Email_Addr\", \"ID\", \"TeacherNumber\"])\n",
      "a\n",
      "#a.to_csv(\"C:\\Users\\NancyE\\Desktop\\Workspace\\People\\il_posenrobbins_ellevation-teacher-file_withheaders.csv\")\n"
     ],
     "language": "python",
     "metadata": {},
     "outputs": [],
     "prompt_number": 35
    },
    {
     "cell_type": "code",
     "collapsed": false,
     "input": [
      "import pandas as pd\n",
      "\n",
      "b = pd.read_csv(\"C:\\Users\\NancyE\\Desktop\\Workspace\\People\\headers-il-posenrobbins.csv\")\n",
      "\n",
      "a = pd.read_csv(\"C:\\Users\\NancyE\\Desktop\\Workspace\\People\\il_posenrobbins_ellevation-teacher-file.csv\", \n",
      "                names=b)\n",
      "a\n",
      "#a.to_csv(\"C:\\Users\\NancyE\\Desktop\\Workspace\\People\\il_posenrobbins_ellevation-teacher-file_withheaders.csv\")\n"
     ],
     "language": "python",
     "metadata": {},
     "outputs": [],
     "prompt_number": 41
    },
    {
     "cell_type": "code",
     "collapsed": true,
     "input": [],
     "language": "python",
     "metadata": {},
     "outputs": [],
     "prompt_number": null
    }
   ],
   "metadata": {}
  }
 ]
}