{
 "metadata": {
  "kernelspec": {
   "display_name": "Python 2",
   "language": "python",
   "name": "python2"
  },
  "language_info": {
   "codemirror_mode": {
    "name": "ipython",
    "version": 2
   },
   "file_extension": ".py",
   "mimetype": "text/x-python",
   "name": "python",
   "nbconvert_exporter": "python",
   "pygments_lexer": "ipython2",
   "version": "2.7.11"
  },
  "name": ""
 },
 "nbformat": 3,
 "nbformat_minor": 0,
 "worksheets": [
  {
   "cells": [
    {
     "cell_type": "code",
     "collapsed": false,
     "input": [
      "import pandas as pd\n",
      "from pyep.FileCompare import DeltaFileMaker\n",
      "from pyep import qualify_file_name\n",
      "from pyep.settings import WORKSPACE_ROOT\n",
      "\n",
      "district = 'ok-tulsa'\n",
      "\n",
      "yesterday = '{}/{}/person/tps_staff_20171025-processed.csv'.format(WORKSPACE_ROOT, district)\n",
      "today = '{}/{}/person/tps_staff_20171026-processed.csv'.format(WORKSPACE_ROOT, district)\n",
      "\n",
      "delta_file = '{}/{}/person/delta_file.csv'.format(WORKSPACE_ROOT, district)\n",
      "\n",
      "newFileDelta = DeltaFileMaker(yesterday, today, delta_file, tolerance_percentage=10)\n",
      "newFileDelta.output_delta()"
     ],
     "language": "python",
     "metadata": {},
     "outputs": [],
     "prompt_number": 2
    }
   ],
   "metadata": {}
  }
 ]
}