{
 "metadata": {
  "kernelspec": {
   "display_name": "Python 2",
   "language": "python",
   "name": "python2"
  },
  "language_info": {
   "codemirror_mode": {
    "name": "ipython",
    "version": 2
   },
   "file_extension": ".py",
   "mimetype": "text/x-python",
   "name": "python",
   "nbconvert_exporter": "python",
   "pygments_lexer": "ipython2",
   "version": "2.7.11"
  },
  "name": ""
 },
 "nbformat": 3,
 "nbformat_minor": 0,
 "worksheets": [
  {
   "cells": [
    {
     "cell_type": "code",
     "collapsed": false,
     "input": [
      "import pandas as pd\n",
      "\n",
      "df=pd.read_csv(r\"C:\\Workspace\\ny-hicksvilleunion\\person\\Ellevation_Staff_Roster_Hicksville_080816.txt\", sep='\\t', dtype=str)\n",
      "\n",
      "df['Elv_StaffID'] = df['Email_Addr'].str.split('@').str[0]\n",
      "\n",
      "df.head()\n",
      "\n",
      "#df.to_csv(r\"C:\\Workspace\\ny-hicksvilleunion\\person\\Ellevation_Staff_Roster_Hicksville_080816_processed.txt\", index=False, sep='\\t')\n",
      "\n"
     ],
     "language": "python",
     "metadata": {},
     "outputs": [],
     "prompt_number": 2
    },
    {
     "cell_type": "code",
     "collapsed": false,
     "input": [
      "import pandas as pd\n",
      "\n",
      "df=pd.read_csv(r\"C:\\Workspace\\ny-hicksvilleunion\\schedule\\HUFSD_Student_Schedules_Ellevation.txt\", sep='\\t', dtype=str)\n",
      "\n",
      "df['Elv_StaffID'] = df['TEACHERS.EMAIL_ADDR'].str.split('@').str[0]\n",
      "\n",
      "df.to_csv(r\"C:\\Workspace\\ny-hicksvilleunion\\schedule\\HUFSD_Student_Schedules_Ellevation_processed.txt\", sep='\\t', index=False)"
     ],
     "language": "python",
     "metadata": {},
     "outputs": [],
     "prompt_number": 3
    }
   ],
   "metadata": {}
  }
 ]
}