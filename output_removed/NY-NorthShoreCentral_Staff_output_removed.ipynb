{
 "metadata": {
  "kernelspec": {
   "display_name": "Python 2",
   "language": "python",
   "name": "python2"
  },
  "language_info": {
   "codemirror_mode": {
    "name": "ipython",
    "version": 2
   },
   "file_extension": ".py",
   "mimetype": "text/x-python",
   "name": "python",
   "nbconvert_exporter": "python",
   "pygments_lexer": "ipython2",
   "version": "2.7.11"
  },
  "name": ""
 },
 "nbformat": 3,
 "nbformat_minor": 0,
 "worksheets": [
  {
   "cells": [
    {
     "cell_type": "code",
     "collapsed": false,
     "input": [
      "import pandas as pd\n",
      "\n",
      "header = pd.read_csv(r\"C:\\Dev\\pyep-trunk\\pyep\\account\\ny_northshorecentral\\person\\ny-northshorecentral-staff-headers.txt\", dtype=str, sep='\\t')\n",
      "df = pd.read_csv(r\"C:\\Workspace\\ny-northshorecentral\\person\\ELLevationStaff\", names=header, dtype=str, sep='\\t')\n",
      "\n",
      "df.loc[:, 'Elv_LastName'] = df.loc[:, 'lastfirst'].map(\n",
      "    lambda x: str(x).split(', ')[0])\n",
      "df.loc[:, 'Elv_FirstName'] = df.loc[:, 'lastfirst'].map(\n",
      "    lambda x: str(x).split(', ')[1])\n",
      "\n",
      "df = df[df.loc[:, 'schoolid'].isin(['101',\n",
      "                                   '102',\n",
      "                                   '103',\n",
      "                                   '104',\n",
      "                                   '105',\n",
      "                                   '107',\n",
      "                                   '0'])]\n",
      "\n",
      "df.head()\n",
      "\n",
      "df.to_csv(r\"C:\\Workspace\\ny-northshorecentral\\person\\ELLevationStaff_processed.txt\", sep='\\t', index=False)"
     ],
     "language": "python",
     "metadata": {},
     "outputs": [],
     "prompt_number": 8
    }
   ],
   "metadata": {}
  }
 ]
}