{
 "metadata": {
  "kernelspec": {
   "display_name": "Python 2",
   "language": "python",
   "name": "python2"
  },
  "language_info": {
   "codemirror_mode": {
    "name": "ipython",
    "version": 2
   },
   "file_extension": ".py",
   "mimetype": "text/x-python",
   "name": "python",
   "nbconvert_exporter": "python",
   "pygments_lexer": "ipython2",
   "version": "2.7.11"
  },
  "name": ""
 },
 "nbformat": 3,
 "nbformat_minor": 0,
 "worksheets": [
  {
   "cells": [
    {
     "cell_type": "code",
     "collapsed": false,
     "input": [
      "import pandas as pd\n",
      "import numpy as np\n",
      "from common import is_null\n",
      "\n",
      "df = pd.read_csv(r\"C:\\Workspace\\ma-salem\\student\\SalemEllevation\", sep=',', dtype=str)\n",
      "        \n",
      "def determine_yrs_monitoring(data_frame):\n",
      "    grade_left = data_frame['Grade left LEP']\n",
      "    current_grade = data_frame['Student Grade']\n",
      "    try:\n",
      "        diff = int(current_grade) - int(grade_left)\n",
      "        if not pd.isnull(diff):\n",
      "            return diff\n",
      "        else:\n",
      "            return np.nan\n",
      "    except ValueError:\n",
      "        return np.nan\n",
      "    \n",
      "df['elv_yrs_monitoring'] = df.apply(determine_yrs_monitoring, axis=1)\n",
      "    \n",
      "def determine_status(data_frame):\n",
      "    try:\n",
      "        condition_1 = data_frame['DOE 21 LEP REC ARR'] == 'LEP student 1st year'\n",
      "        condition_1a = data_frame['DOE 21 LEP REC ARR'] == 'LEP student not 1st year'\n",
      "        condition_2 = data_frame['elv_yrs_monitoring'] != ' '\n",
      "#         condition_2b = data_frame['elv_yrs_monitoring'] == ' '\n",
      "        condition_3 = data_frame['elv_yrs_monitoring'] <= 1\n",
      "        condition_4 = data_frame['elv_yrs_monitoring'] > 1 and data_frame['elv_yrs_monitoring'] <= 2\n",
      "        condition_5 = data_frame['elv_yrs_monitoring'] > 2\n",
      "        if condition_1: #and condition_2b:\n",
      "            return 'ELL'\n",
      "        elif condition_1a: # and condition_2b:\n",
      "            return 'ELL'\n",
      "        elif condition_2 and condition_3:\n",
      "            return 'M1'\n",
      "        elif condition_2 and condition_4:\n",
      "            return 'M2'\n",
      "        elif condition_2 and condition_5:\n",
      "            return 'Fully Exited'\n",
      "    except ValueError:\n",
      "        return np.nan\n",
      "    \n",
      "df['elv_monitoring_status'] = df.apply(determine_status, axis=1)\n",
      "\n",
      "print len(df)\n",
      "\n",
      "df = df[df['Primary Lang'] != 'English']\n",
      "df = df[df['Primary Lang'] != '267']\n",
      "df = df[df['Primary Lang'] != '2677']\n",
      "\n",
      "print len(df)\n",
      "df.head()\n",
      "\n",
      "df['elv_monitoring_status'].unique()\n",
      "\n",
      "df.to_csv(r\"C:\\Workspace\\ma-salem\\student\\SalemEllevation_processed.csv\", sep=',', index=False)"
     ],
     "language": "python",
     "metadata": {},
     "outputs": [],
     "prompt_number": 69
    },
    {
     "cell_type": "code",
     "collapsed": false,
     "input": [
      "import pandas as pd\n",
      "\n",
      "df=pd.read_csv(r\"C:\\Workspace\\ma-salem\\temp\\SalemEllevation\", sep=',', dtype=str)\n",
      "\n",
      "df[]"
     ],
     "language": "python",
     "metadata": {},
     "outputs": [],
     "prompt_number": 1
    }
   ],
   "metadata": {}
  }
 ]
}