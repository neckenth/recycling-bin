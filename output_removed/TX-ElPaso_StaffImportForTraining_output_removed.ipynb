{
 "metadata": {
  "kernelspec": {
   "display_name": "Python 2",
   "language": "python",
   "name": "python2"
  },
  "language_info": {
   "codemirror_mode": {
    "name": "ipython",
    "version": 2
   },
   "file_extension": ".py",
   "mimetype": "text/x-python",
   "name": "python",
   "nbconvert_exporter": "python",
   "pygments_lexer": "ipython2",
   "version": "2.7.11"
  },
  "name": ""
 },
 "nbformat": 3,
 "nbformat_minor": 0,
 "worksheets": [
  {
   "cells": [
    {
     "cell_type": "code",
     "collapsed": false,
     "input": [
      "import pandas as pd\n",
      "\n",
      "f = r\"C:\\Workspace\\tx-elpasoisd\\person\\EPISD ALLs-Elem.xlsx\"\n",
      "\n",
      "xl = pd.ExcelFile(f)\n",
      "\n",
      "data_frames = {}\n",
      "\n",
      "for sheet in xl.sheet_names:\n",
      "    data_frames[sheet] = xl.parse(xl.sheet_names.index(sheet))\n",
      "    \n",
      "df = data_frames['ALLs_Elem & Secondary']\n",
      "df.columns = ['Name', 'School', 'Group', 'Email']\n",
      "\n",
      "df.loc[:, 'Elv_StaffID'] = df.loc[:, 'Email'].map(\n",
      "    lambda x: str(x).split('@')[0])\n",
      "\n",
      "df.loc[:, 'Elv_First'] = df.loc[:, 'Name'].map(\n",
      "    lambda x: str(x).split(' ')[1])\n",
      "\n",
      "df.loc[:, 'Elv_Last'] = df.loc[:, 'Name'].map(\n",
      "    lambda x: str(x).split(' ')[0].rstrip(','))\n",
      "\n",
      "df.loc[:, [\n",
      "        'Elv_First',\n",
      "        'Elv_Last',\n",
      "        'Email',\n",
      "        'Elv_StaffID',\n",
      "        'School',\n",
      "        'Group'\n",
      "    ]].to_csv(r\"C:\\Workspace\\tx-elpasoisd\\person\\EPISD ALLs-Elem_processed.csv\", index=False)"
     ],
     "language": "python",
     "metadata": {},
     "outputs": [],
     "prompt_number": 14
    }
   ],
   "metadata": {}
  }
 ]
}