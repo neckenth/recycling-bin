{
 "metadata": {
  "kernelspec": {
   "display_name": "Python 2",
   "language": "python",
   "name": "python2"
  },
  "language_info": {
   "codemirror_mode": {
    "name": "ipython",
    "version": 2
   },
   "file_extension": ".py",
   "mimetype": "text/x-python",
   "name": "python",
   "nbconvert_exporter": "python",
   "pygments_lexer": "ipython2",
   "version": "2.7.11"
  },
  "name": ""
 },
 "nbformat": 3,
 "nbformat_minor": 0,
 "worksheets": [
  {
   "cells": [
    {
     "cell_type": "code",
     "collapsed": false,
     "input": [
      "import pandas as pd\n",
      "import numpy as np\n",
      "\n",
      "from common import is_null\n",
      "\n",
      "df = pd.read_csv(r\"C:\\Workspace\\tx-elpasoisd\\student\\StudentDemo.txt\", dtype=str, sep='\\t')\n",
      "\n",
      "df = df.applymap(lambda x: np.NaN if x == 'null' or x == '00:00.0' else x)\n",
      "\n",
      "df.loc[:, 'LEA_SCHOOL_CODE'] = df.loc[:, 'LEA_SCHOOL_CODE'].map(\n",
      "    lambda x: '2{}'.format(x))\n",
      "\n",
      "def derive_lep_status(x):\n",
      "    if x.loc['LEP_STATUS'] == 'Current ELL' and x.loc['PARENT_PERMISSION_CODE'] != 'C':\n",
      "        return 'ELL'\n",
      "    elif x.loc['LEP_STATUS'] == 'Current ELL' and x.loc['PARENT_PERMISSION_CODE'] == 'C':\n",
      "        return 'Parent Denial'\n",
      "    elif x.loc['LEP_STATUS'] == 'Monitored':\n",
      "        return x.loc['MONITORING_STATUS']\n",
      "\n",
      "df.loc[:, 'Elv_PPC'] = df.apply(\n",
      "    lambda x: x.loc['PARENT_PERMISSION_CODE'] if not (x.loc['LEP_STATUS'] == 'Monitored' and x.loc['PARENT_PERMISSION_CODE'] == 'C') else np.NaN, axis=1)\n",
      "\n",
      "df.loc[:, 'Elv_LEPStatus'] = df.apply(derive_lep_status, axis=1)\n",
      "\n",
      "df.loc[:, 'Elv_HLS'] = df.loc[:, 'HLS_DATE'].map(\n",
      "    lambda x: 'Y' if not is_null(x) else 'N')\n",
      "\n",
      "df.drop_duplicates(inplace=True)\n",
      "\n",
      "df.to_csv(r\"C:\\Workspace\\tx-elpasoisd\\student\\StudentDemo_processed.txt\", sep='\\t', index=False)\n",
      "\n"
     ],
     "language": "python",
     "metadata": {},
     "outputs": [],
     "prompt_number": 2
    },
    {
     "cell_type": "code",
     "collapsed": false,
     "input": [
      "import pandas as pd\n",
      "\n",
      "db = pd.read_csv(r\"C:\\Workspace\\tx-elpasoisd\\student\\EllevationExport_20180517_1529.csv\", sep=',', dtype=str)\n",
      "f = pd.read_csv(r\"C:\\Workspace\\tx-elpasoisd\\student\\StudentDemo-20180517-processed.txt\", sep='\\t', dtype=str)\n",
      "\n",
      "df = pd.merge(left=db, right=f, left_on='Test ID #', right_on='STATE_TESTING_ID', how='outer', indicator=True)\n",
      "\n",
      "df._merge.value_counts()\n",
      "df = df[df.loc[:, '_merge'] == 'left_only']\n",
      "\n",
      "df.to_csv(r\"C:\\Workspace\\tx-elpasoisd\\student\\students_only_in_db.csv\", sep=',', index=False)"
     ],
     "language": "python",
     "metadata": {},
     "outputs": [],
     "prompt_number": 5
    }
   ],
   "metadata": {}
  }
 ]
}