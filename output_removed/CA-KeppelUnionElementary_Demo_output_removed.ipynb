{
 "metadata": {
  "kernelspec": {
   "display_name": "Python 2",
   "language": "python",
   "name": "python2"
  },
  "language_info": {
   "codemirror_mode": {
    "name": "ipython",
    "version": 2
   },
   "file_extension": ".py",
   "mimetype": "text/x-python",
   "name": "python",
   "nbconvert_exporter": "python",
   "pygments_lexer": "ipython2",
   "version": "2.7.11"
  },
  "name": ""
 },
 "nbformat": 3,
 "nbformat_minor": 0,
 "worksheets": [
  {
   "cells": [
    {
     "cell_type": "code",
     "collapsed": false,
     "input": [
      "import pandas as pd\n",
      "import numpy as np\n",
      "\n",
      "from datetime import datetime as dt\n",
      "\n",
      "from common import is_null\n",
      "from pyep.transform import derive_from_date_exited_4y\n",
      "\n",
      "df=pd.read_csv(r\"C:\\Workspace\\ca-keppelunionelementary\\student\\Ellevation Student Demographics 20161019.csv\", dtype=str)\n",
      "\n",
      "print len(df)\n",
      "\n",
      "dups = df.loc[df['Student ID'].duplicated(), 'Student ID']\n",
      "\n",
      "deduplicated = df[~(df.loc[:, 'Student ID'].isin(dups) & (df.loc[:, 'Tag'].notnull()))]\n",
      "\n",
      "print len(deduplicated)\n",
      "\n",
      "deduplicated['Elv_Yrs_USSchools'] = deduplicated['US Schl Enter Date'].map(\n",
      "    lambda x: np.NaN if is_null(x) \n",
      "    else (dt.today()-pd.to_datetime(x)).days / 365)\n",
      "\n",
      "deduplicated['Elv_LEPStatus'] = deduplicated.apply(\n",
      "    lambda x: derive_from_date_exited_4y(x['Redes Date'])\n",
      "    if x['LangFlu'] == 'R' else x['LangFlu'],\n",
      "    axis=1)\n",
      "\n",
      "deduplicated.loc[deduplicated['Elv_LEPStatus'].isnull(), 'Elv_LEPStatus'] = 'N'\n",
      "\n",
      "deduplicated['Elv_StartDate'] = deduplicated['Start Date']\n",
      "\n",
      "deduplicated.loc[deduplicated['Elv_LEPStatus'] == 'N', 'Elv_StartDate'] = np.NaN\n",
      "\n",
      "deduplicated.to_csv(r\"C:\\Workspace\\ca-keppelunionelementary\\student\\Ellevation Student Demographics 20161019_processed.csv\", index=False)"
     ],
     "language": "python",
     "metadata": {
      "scrolled": true
     },
     "outputs": [],
     "prompt_number": 7
    }
   ],
   "metadata": {}
  }
 ]
}