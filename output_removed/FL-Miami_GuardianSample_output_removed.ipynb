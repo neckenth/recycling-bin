{
 "metadata": {
  "kernelspec": {
   "display_name": "Python 2",
   "language": "python",
   "name": "python2"
  },
  "language_info": {
   "codemirror_mode": {
    "name": "ipython",
    "version": 2
   },
   "file_extension": ".py",
   "mimetype": "text/x-python",
   "name": "python",
   "nbconvert_exporter": "python",
   "pygments_lexer": "ipython2",
   "version": "2.7.11"
  },
  "name": ""
 },
 "nbformat": 3,
 "nbformat_minor": 0,
 "worksheets": [
  {
   "cells": [
    {
     "cell_type": "code",
     "collapsed": false,
     "input": [
      "import pandas as pd\n",
      "import numpy as np\n",
      "\n",
      "df = pd.read_csv(r\"C:\\Workspace\\fl-miamidadecounty\\student\\guardian.csv\", dtype=str)\n",
      "\n",
      "guardians = ['g1', 'g2', 'g3']\n",
      "\n",
      "for p in guardians:\n",
      "    df.loc[:, 'Elv_FatherName_{}'.format(p)] = df.apply(\n",
      "        lambda x: x.loc['{}_name'.format(p)] if x.loc['{}_relationship'.format(p)] == 'F' else np.NaN, axis=1)\n",
      "    df.loc[:, 'Elv_MotherName_{}'.format(guardian)] = df.apply(\n",
      "        lambda x: x.loc['{}_name'.format(p)] if x.loc['{}_relationship'.format(p)] == 'M' else np.NaN, axis=1)\n",
      "    df.loc[:, 'Elv_GuardianName_{}'.format(p)] = df.apply(\n",
      "        lambda x: x.loc['{}_name'.format(p)] if x.loc['{}_relationship'.format(p)] == 'G' else np.NaN, axis=1)\n",
      "\n",
      "parents = ['Father', 'Mother', 'Guardian']\n",
      "\n",
      "for r in parents:\n",
      "    df.loc[:, 'Elv_{}Name'.format(r)] = df[['Elv_{}Name_g1'.format(r), \n",
      "                                            'Elv_{}Name_g2'.format(r), \n",
      "                                            'Elv_{}Name_g3'.format(r)]].fillna('').sum(axis=1)\n",
      "\n",
      "df.drop(labels=['Elv_FatherName_g1',\n",
      "               'Elv_FatherName_g2',\n",
      "               'Elv_FatherName_g3',\n",
      "               'Elv_MotherName_g1',\n",
      "               'Elv_MotherName_g2',\n",
      "               'Elv_MotherName_g3',\n",
      "               'Elv_GuardianName_g1',\n",
      "               'Elv_GuardianName_g2',\n",
      "               'Elv_GuardianName_g3'], axis=1, inplace=True)\n",
      "\n",
      "df.head()"
     ],
     "language": "python",
     "metadata": {},
     "outputs": [],
     "prompt_number": 27
    }
   ],
   "metadata": {}
  }
 ]
}