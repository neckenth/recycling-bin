{
 "metadata": {
  "kernelspec": {
   "display_name": "Python 2",
   "language": "python",
   "name": "python2"
  },
  "language_info": {
   "codemirror_mode": {
    "name": "ipython",
    "version": 2
   },
   "file_extension": ".py",
   "mimetype": "text/x-python",
   "name": "python",
   "nbconvert_exporter": "python",
   "pygments_lexer": "ipython2",
   "version": "2.7.11"
  },
  "name": ""
 },
 "nbformat": 3,
 "nbformat_minor": 0,
 "worksheets": [
  {
   "cells": [
    {
     "cell_type": "code",
     "collapsed": false,
     "input": [
      "import pandas as pd\n",
      "\n",
      "df=pd.read_csv(r\"C:\\Workspace\\ma-chelsea\\student\\ellx2.csv\", sep=',', dtype=str)\n",
      "\n",
      "print len(df)\n",
      "\n",
      "df=df[df.loc[:, 'SisStudent English Language Proficiency'].notnull()]\n",
      "\n",
      "print len(df)\n",
      "\n",
      "df.to_csv(r\"C:\\Workspace\\ma-chelsea\\student\\ellx2_processed.csv\", sep=',', index=False)\n",
      "\n"
     ],
     "language": "python",
     "metadata": {},
     "outputs": [],
     "prompt_number": 4
    }
   ],
   "metadata": {}
  }
 ]
}