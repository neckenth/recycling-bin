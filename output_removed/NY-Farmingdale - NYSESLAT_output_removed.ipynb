{
 "metadata": {
  "kernelspec": {
   "display_name": "Python 2",
   "language": "python",
   "name": "python2"
  },
  "language_info": {
   "codemirror_mode": {
    "name": "ipython",
    "version": 2
   },
   "file_extension": ".py",
   "mimetype": "text/x-python",
   "name": "python",
   "nbconvert_exporter": "python",
   "pygments_lexer": "ipython2",
   "version": "2.7.11"
  },
  "name": ""
 },
 "nbformat": 3,
 "nbformat_minor": 0,
 "worksheets": [
  {
   "cells": [
    {
     "cell_type": "code",
     "collapsed": false,
     "input": [
      "import pandas as pd\n",
      "import numpy as np\n",
      "import os\n",
      "import re\n",
      "\n",
      "from pyep import read_delimited\n",
      "from pyep.settings import WORKSPACE_ROOT\n",
      "\n",
      "df = pd.read_excel(r\"C:\\Users\\NancyE\\Downloads\\NYSESLAT sent to Ellivation  on 8-18-17.xlsx\")\n",
      "\n",
      "def helper(group):\n",
      "    group.loc[:, 'Elv_GradeLevel'] = group.loc[:, 'Elv_GradeLevel'].max()\n",
      "    return group\n",
      "\n",
      "df['Assessment Name'].str.extract('(\\w{8}:\\s)(.-?\\d{0,2}?)(\\s\\w{5,}\\s?\\w{0,5})')\n",
      "\n",
      "df.loc[df['Assessment Name'].str.contains('Total Score'), 'Elv_GradeLevel'] = df['Assessment Name'].str.extract('\\w{8}:\\s(.-?\\d{0,2}?)\\s\\w{5,}\\s?\\w{0,5}')\n",
      "\n",
      "df = df.groupby('StudentNumber').apply(helper)\n",
      "\n",
      "df.loc[:, 'Elv_Domain'] = df.loc[:, 'Assessment Name'].str.extract('\\w{8}:\\s.-?\\d{0,2}?\\s(\\w{5,}\\s?\\w{0,5})')\n",
      "\n",
      "df_1=df.pivot_table(index=['StudentNumber', 'Elv_GradeLevel'],\n",
      "                  columns='Elv_Domain',\n",
      "                 values=['STANDARD_ACHIEVED', 'Final Numeric Score'],\n",
      "                 aggfunc=np.max).reset_index(col_level=1)\n",
      "\n",
      "df_1.columns=[''.join(col).strip() for col in df_1.columns.tolist()]\n",
      "\n",
      "print df_1.columns.tolist()\n",
      "\n",
      "# df_1.head()\n",
      "\n",
      "df_1.to_csv(r\"C:\\Users\\NancyE\\Downloads\\NYSESLAT sent to Ellivation  on 8-18-17_processed.csv\", index=False)"
     ],
     "language": "python",
     "metadata": {},
     "outputs": [],
     "prompt_number": 18
    }
   ],
   "metadata": {}
  }
 ]
}