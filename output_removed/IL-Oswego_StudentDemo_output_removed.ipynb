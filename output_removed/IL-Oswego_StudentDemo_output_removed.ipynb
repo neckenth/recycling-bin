{
 "metadata": {
  "kernelspec": {
   "display_name": "Python 2",
   "language": "python",
   "name": "python2"
  },
  "language_info": {
   "codemirror_mode": {
    "name": "ipython",
    "version": 2
   },
   "file_extension": ".py",
   "mimetype": "text/x-python",
   "name": "python",
   "nbconvert_exporter": "python",
   "pygments_lexer": "ipython2",
   "version": "2.7.11"
  },
  "name": ""
 },
 "nbformat": 3,
 "nbformat_minor": 0,
 "worksheets": [
  {
   "cells": [
    {
     "cell_type": "code",
     "collapsed": false,
     "input": [
      "import pandas as pd\n",
      "import numpy as np\n",
      "from datetime import datetime as dt\n",
      "from pyep.transform import iconcatenate\n",
      "from pyep.transform import iderive_lep_status\n",
      "\n",
      "df=pd.read_csv(r\"C:\\Workspace\\il-oswegocusd308\\student\\Elevation Student-en.csv\", dtype=str, sep=',')\n",
      "\n",
      "# exclude students who have both Home and Native languages of 0 for English\n",
      "\n",
      "condition1=df['Home Language Code'] == '00   '\n",
      "condition2=df['Native Language'] == '00   '\n",
      "\n",
      "df=df[~(condition1 & condition2)]\n",
      "\n",
      "# concatenate columns AE-AJ, AN, and AP-AR into Elv_Services.  If Y, add label(s) to column separated by commas.  If N, replace with empty strings\n",
      "\n",
      "services = ['Immigrant Education Program ',\n",
      "         'Content Area Tutoring ',\n",
      "         'Sheltered English Instruction ',\n",
      "         'Content Based ESL ',\n",
      "         'Pull Out ESL ',\n",
      "         'Pull Out for Ind Support ', \n",
      "          'Heritage Language ', \n",
      "          'Push In Services ',\n",
      "         'Inclusionary Support ',\n",
      "         'Self Contained ',\n",
      "        'Dual Lang & 2 Way Immersion ', \n",
      "            'Developmental Bilingual Ed ', \n",
      "            'Transitional Bilingual ']\n",
      "\n",
      "df['Elv_Services'] = np.NaN\n",
      "\n",
      "for service in services:\n",
      "    df[service] = df[service].map(lambda x: service if x == 'Y' else np.NaN)\n",
      "    df['Elv_Services'] = df.apply(iconcatenate,\n",
      "                               left='Elv_Services',\n",
      "                                right=service,\n",
      "                               delimiter=', ',\n",
      "                               axis=1)\n",
      "\n",
      "\n",
      "# derive LEP Status\n",
      "# this step determines ELL, FLEP, and Fully Exited\n",
      "\n",
      "df['Elv_LEPStatus'] = df.apply(iderive_lep_status,\n",
      "                                axis=1,\n",
      "                                dateEnteredLep='Entered LEP Date',\n",
      "                                dateExitedLep='End Date - Student Program')\n",
      "\n",
      "# this step alters the new Elv_LEPStatus to account for TDNQ\n",
      "\n",
      "df.loc[df['Screener Test Date'].notnull() & \n",
      "       df['Entered LEP Date'].isnull(), 'Elv_LEPStatus'] = 'TDNQ'\n",
      "\n",
      "# this step alters the new Elv_LEPStatus to account for Never Identified\n",
      "\n",
      "df.loc[df['Screener Test Date'].isnull() & \n",
      "       df['Entered LEP Date'].isnull() & \n",
      "       df['End Date - Student Program'].isnull(), 'Elv_LEPStatus'] = ''\n",
      "\n",
      "# this step changes students with Invalid in the processed Elv_LEPStatus column (due to Entry dates in the future) to ELL\n",
      "\n",
      "df.loc[df['Elv_LEPStatus'].isin(['Invalid']), 'Elv_LEPStatus'] = 'ELL'\n",
      "\n",
      "df.to_csv(r\"C:\\Workspace\\il-oswegocusd308\\student\\Elevation Student-en_processed.csv\", index=False)\n",
      "\n",
      "    \n",
      "\n"
     ],
     "language": "python",
     "metadata": {
      "scrolled": true
     },
     "outputs": [],
     "prompt_number": 1
    },
    {
     "cell_type": "code",
     "collapsed": false,
     "input": [
      "df.columns.tolist()"
     ],
     "language": "python",
     "metadata": {},
     "outputs": [],
     "prompt_number": 13
    }
   ],
   "metadata": {}
  }
 ]
}