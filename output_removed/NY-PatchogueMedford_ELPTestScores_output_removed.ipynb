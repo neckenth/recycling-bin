{
 "metadata": {
  "kernelspec": {
   "display_name": "Python 2",
   "language": "python",
   "name": "python2"
  },
  "language_info": {
   "codemirror_mode": {
    "name": "ipython",
    "version": 2
   },
   "file_extension": ".py",
   "mimetype": "text/x-python",
   "name": "python",
   "nbconvert_exporter": "python",
   "pygments_lexer": "ipython2",
   "version": "2.7.11"
  },
  "name": ""
 },
 "nbformat": 3,
 "nbformat_minor": 0,
 "worksheets": [
  {
   "cells": [
    {
     "cell_type": "code",
     "collapsed": false,
     "input": [
      "#NYSESLAT\n",
      "\n",
      "import pandas as pd\n",
      "import numpy as np\n",
      "import re\n",
      "\n",
      "df = pd.read_csv(r\"C:\\Workspace\\ny-patchoguemedford\\elp-test-score\\2015-2016 NYSESLAT Score Report-BM.csv\", dtype=str)\n",
      "\n",
      "df['ASSESSMENT'].str.extract('(\\w{8}:\\s)(.\\s)(\\w{5}\\s\\w{5})')\n",
      "\n",
      "df['Elv_Domain'] = df['ASSESSMENT'].str.extract('\\w{8}:\\s.\\s(\\w{5}\\s\\w{5})')\n",
      "\n",
      "df['Elv_GradeLevel'] = df['ASSESSMENT'].str.extract('\\w{8}:\\s(.\\s)\\w{5}\\s\\w{5}')\n",
      "\n",
      "df=df.pivot_table(index=['STUDENT ID', 'Elv_GradeLevel', 'DOFA'],\n",
      "                 columns='Elv_Domain',\n",
      "                 values=['LEVEL', 'NUMERIC SCORE'],\n",
      "                 aggfunc=np.max).reset_index(col_level=1)\n",
      "\n",
      "df.columns=[' '.join(col).strip() for col in df.columns.tolist()]\n",
      "\n",
      "df.head()\n",
      "df.to_csv(r\"C:\\Workspace\\ny-patchoguemedford\\elp-test-score\\2015-2016 NYSESLAT Score Report-BM_processed.csv\", index=False)\n"
     ],
     "language": "python",
     "metadata": {},
     "outputs": [],
     "prompt_number": 19
    },
    {
     "cell_type": "code",
     "collapsed": false,
     "input": [
      "# NYSITELL\n",
      "import datetime as dt\n",
      "import pandas as pd\n",
      "\n",
      "df = pd.read_csv(r\"C:\\Workspace\\ny-patchoguemedford\\elp-test-score\\NYSISTEL  10-11-16 2.csv\")\n",
      "\n",
      "def helper(group):\n",
      "    group.loc[:, 'Elv_GradeLevel'] = group.loc[:, 'Elv_GradeLevel'].max()\n",
      "    return group\n",
      "\n",
      "df['Assessment Name'].str.extract('(\\w{8}:\\s\\w{5}\\s)(\\w{1,4}\\s)(.-?\\d{0,2}?\\s)(\\w+\\s?\\w{5}?)')\n",
      "\n",
      "df.loc[df['Assessment Name'].str.contains('Total Score'), 'Elv_GradeLevel'] = df['Assessment Name'].str.extract('\\w{8}:\\s\\w{5}\\s\\w{1,4}\\s(.-?\\d{0,2}?\\s)\\w+\\s?\\w{5}?')\n",
      "\n",
      "df = df.groupby('Id Number').apply(helper)\n",
      "\n",
      "df['Elv_Domain'] = df['Assessment Name'].str.extract('\\w{8}:\\s\\w{5}\\s\\w{1,4}\\s.-?\\d{0,2}?\\s(\\w+\\s?\\w{5}?)')\n",
      "\n",
      "df['Elv_Level'] = df['Assessment Name'].str.extract('\\w{8}:\\s\\w{5}\\s(\\w{1,4}\\s).-?\\d{0,2}?\\s\\w+\\s?\\w{5}?')\n",
      "\n",
      "df['Elv_Overall_Level'] = df.apply(\n",
      "    lambda x: x.loc['Student Assessment Score'] if x['Assessment Scoring Method'] == 'Level' else np.NaN, axis=1)\n",
      "\n",
      "df = df.pivot_table(index=['Id Number', 'Elv_GradeLevel', 'Student Assessment Date', 'Elv_Level'],\n",
      "                 columns='Elv_Domain',\n",
      "                 values=['Student Assessment Score', 'Elv_Overall_Level'],\n",
      "                 aggfunc=np.max).reset_index(col_level=1)\n",
      "\n",
      "df.columns=[' '.join(col).strip() for col in df.columns.tolist()]\n",
      "\n",
      "df['Elv_StudentAssessmentDate'] = pd.to_datetime(df['Student Assessment Date'])\n",
      "\n",
      "df_pre_2015 = df[(df['Elv_StudentAssessmentDate'] <= pd.to_datetime('01/01/2015'))]\n",
      "\n",
      "df_2015_forward = df[(df['Elv_StudentAssessmentDate'] >= pd.to_datetime('01/01/2015'))]\n",
      "\n",
      "df_pre_2015.to_csv(r\"C:\\Workspace\\ny-patchoguemedford\\elp-test-score\\NYSISTEL  10-11-16 2_pre_2015_processed.csv\", index=False)\n",
      "\n",
      "df_2015_forward.to_csv(r\"C:\\Workspace\\ny-patchoguemedford\\elp-test-score\\NYSISTEL  10-11-16 2_2015_forward_processed.csv\", index=False)\n"
     ],
     "language": "python",
     "metadata": {
      "scrolled": true
     },
     "outputs": [],
     "prompt_number": 56
    },
    {
     "cell_type": "code",
     "collapsed": false,
     "input": [
      "import pandas as pd\n",
      "\n",
      "df = pd.read_excel(r\"C:\\Users\\NancyE\\Downloads\\NYSESLAT Raw Scores with Proficiency - Pat-Med, NY.xlsx\", converters={'IS': str, \n",
      "                                                                                                                     'Listening Score': str, \n",
      "                                                                                                                     'Speaking Score': str, \n",
      "                                                                                                                    'Writing Score': str, \n",
      "                                                                                                                    'Reading Score': str,\n",
      "                                                                                                                    'Total Score*': str,\n",
      "                                                                                                                    'Total Code': str}, \n",
      "                   convert_float=True)\n",
      "\n",
      "print len(df)\n",
      "df = df[~df.loc[:, 'Grade'].isin(['13', '14'])]\n",
      "\n",
      "print len(df)\n",
      "\n",
      "df.to_csv(r\"C:\\Workspace\\ny-patchoguemedford\\elp-test-score\\NYSESLAT_raw_processed.csv\", index=False)"
     ],
     "language": "python",
     "metadata": {},
     "outputs": [],
     "prompt_number": 2
    },
    {
     "cell_type": "code",
     "collapsed": false,
     "input": [
      "import pandas as pd\n",
      "\n",
      "df = pd.read_csv(r\"C:\\Workspace\\ny-patchoguemedford\\elp-test-score\\20170223_NYSITELLscores.csv\", dtype=str)\n",
      "\n",
      "df['Test Administration Date'] = pd.to_datetime(df['Test Administration Date'])\n",
      "\n",
      "print len(df)\n",
      "\n",
      "df = df[df.loc[:, 'Grade Level at Testing'].notnull()]\n",
      "\n",
      "print len(df)\n",
      "\n",
      "condition_1 = df.loc[:, 'Listening Raw Score'].notnull()\n",
      "condition_2 = df.loc[:, 'Speaking Raw Score'].notnull()\n",
      "\n",
      "df = df[condition_1 & condition_2]\n",
      "\n",
      "print len(df)\n",
      "\n",
      "df.to_csv(r\"C:\\Workspace\\ny-patchoguemedford\\elp-test-score\\20170223_NYSITELLscores_processed.csv\", index=False)"
     ],
     "language": "python",
     "metadata": {},
     "outputs": [],
     "prompt_number": 1
    },
    {
     "cell_type": "code",
     "collapsed": true,
     "input": [
      "import pandas as pd\n",
      "\n",
      "df = pd.read_csv(r\"C:\\Workspace\\ny-patchoguemedford\\elp-test-score\\20170223_NYSESLATscores.csv\", dtype=str)\n",
      "\n",
      "df = df[df.loc[:, 'Grade Level at Testing'].notnull()]\n",
      "\n",
      "df.to_csv(r\"C:\\Workspace\\ny-patchoguemedford\\elp-test-score\\20170223_NYSESLATscores_processed.csv\", index=False)"
     ],
     "language": "python",
     "metadata": {},
     "outputs": [],
     "prompt_number": 2
    }
   ],
   "metadata": {}
  }
 ]
}