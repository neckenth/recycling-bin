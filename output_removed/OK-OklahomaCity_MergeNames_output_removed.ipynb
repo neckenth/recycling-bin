{
 "metadata": {
  "kernelspec": {
   "display_name": "Python 2",
   "language": "python",
   "name": "python2"
  },
  "language_info": {
   "codemirror_mode": {
    "name": "ipython",
    "version": 2
   },
   "file_extension": ".py",
   "mimetype": "text/x-python",
   "name": "python",
   "nbconvert_exporter": "python",
   "pygments_lexer": "ipython2",
   "version": "2.7.11"
  },
  "name": ""
 },
 "nbformat": 3,
 "nbformat_minor": 0,
 "worksheets": [
  {
   "cells": [
    {
     "cell_type": "code",
     "collapsed": false,
     "input": [
      "import pandas as pd\n",
      "\n",
      "df=pd.read_csv(r\"C:\\Workspace\\ok-oklahomacity\\student\\OKSPC_StudentDemographics.csv\", sep=',', dtype=str)\n",
      "\n",
      "df.loc[df['Contact1First'].notnull() & df['Contact1Last'].notnull(), \n",
      "'Elv_ContactFullName1'] = (df['Contact1First'].map(str) + ' ' + df['Contact1Last'].map(str))\n",
      "\n",
      "df.loc[df['Contact2First'].notnull() & df['Contact2Last'].notnull(), \n",
      "'Elv_ContactFullName2'] = (df['Contact2First'].map(str) + ' ' + df['Contact2Last'].map(str))\n",
      "\n",
      "df.to_csv(r\"C:\\Workspace\\ok-oklahomacity\\student\\OKSPC_StudentDemographics_processed.csv\", index=False)"
     ],
     "language": "python",
     "metadata": {},
     "outputs": [],
     "prompt_number": 10
    },
    {
     "cell_type": "code",
     "collapsed": true,
     "input": [],
     "language": "python",
     "metadata": {},
     "outputs": [],
     "prompt_number": null
    }
   ],
   "metadata": {}
  }
 ]
}