{
 "metadata": {
  "kernelspec": {
   "display_name": "Python 2",
   "language": "python",
   "name": "python2"
  },
  "language_info": {
   "codemirror_mode": {
    "name": "ipython",
    "version": 2
   },
   "file_extension": ".py",
   "mimetype": "text/x-python",
   "name": "python",
   "nbconvert_exporter": "python",
   "pygments_lexer": "ipython2",
   "version": "2.7.11"
  },
  "name": ""
 },
 "nbformat": 3,
 "nbformat_minor": 0,
 "worksheets": [
  {
   "cells": [
    {
     "cell_type": "code",
     "collapsed": false,
     "input": [
      "import pandas as pd\n",
      "\n",
      "export=pd.read_csv(r\"C:\\Users\\NancyE\\Downloads\\EllevationExport_20161027_1026.csv\", dtype=str)\n",
      "\n",
      "test_file=pd.read_excel(r\"C:\\Users\\NancyE\\Downloads\\SPS_2015_MCAS_Final_forSharefile.xlsx\", converters={'sasid': str})\n",
      "\n",
      "compare=pd.merge(right=export, left=test_file, right_on='Test ID #', left_on ='sasid', how='inner')\n",
      "\n",
      "print len(compare)"
     ],
     "language": "python",
     "metadata": {},
     "outputs": [],
     "prompt_number": 2
    }
   ],
   "metadata": {}
  }
 ]
}