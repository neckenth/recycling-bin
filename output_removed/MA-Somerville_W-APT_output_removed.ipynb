{
 "metadata": {
  "kernelspec": {
   "display_name": "Python 2",
   "language": "python",
   "name": "python2"
  },
  "language_info": {
   "codemirror_mode": {
    "name": "ipython",
    "version": 2
   },
   "file_extension": ".py",
   "mimetype": "text/x-python",
   "name": "python",
   "nbconvert_exporter": "python",
   "pygments_lexer": "ipython2",
   "version": "2.7.11"
  },
  "name": ""
 },
 "nbformat": 3,
 "nbformat_minor": 0,
 "worksheets": [
  {
   "cells": [
    {
     "cell_type": "code",
     "collapsed": false,
     "input": [
      "import pandas as pd\n",
      "import numpy as np\n",
      "\n",
      "df = pd.read_csv(r\"C:\\Workspace\\ma-somerville\\w-apt\\ellevation-assessment.txt\", sep=',', dtype=str)\n",
      "\n",
      "df.head()\n",
      "\n",
      "domain = df['TestPurpose'].str.split(' ')\n",
      "\n",
      "df['Elv_Domain'] = domain.str[1]\n",
      "\n",
      "df = df.pivot_table(index=['StudentLocalID', 'TestAdminstrationDate', 'GradeLevel'],\n",
      "                  columns='Elv_Domain',\n",
      "                 values=['DomainRawScore', 'DomainScaleScore', 'DomainProficiencyLevel'],\n",
      "                 aggfunc=np.max).reset_index(col_level=1)\n",
      "\n",
      "df.columns=[' '.join(col).strip() for col in df.columns.tolist()]\n",
      "\n",
      "print len(df)\n",
      "\n",
      "df_k = df[df.loc[:, 'GradeLevel'].isin(['KF', 'PK'])]\n",
      "\n",
      "print len(df_k)\n",
      "\n",
      "df_1_12 = df[~df.loc[:, 'GradeLevel'].isin(['KF', 'PK', '\\N'])]\n",
      "\n",
      "print len(df_1_12)\n",
      "\n",
      "df_k.to_csv(r\"C:\\Workspace\\ma-somerville\\w-apt\\ellevation-assessment_processed_k.csv\", sep=',', index=False)\n",
      "df_1_12.to_csv(r\"C:\\Workspace\\ma-somerville\\w-apt\\ellevation-assessment_processed_1_12.csv\", sep=',', index=False)"
     ],
     "language": "python",
     "metadata": {},
     "outputs": [],
     "prompt_number": 2
    }
   ],
   "metadata": {}
  }
 ]
}