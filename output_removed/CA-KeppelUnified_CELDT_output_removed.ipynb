{
 "metadata": {
  "kernelspec": {
   "display_name": "Python 2",
   "language": "python",
   "name": "python2"
  },
  "language_info": {
   "codemirror_mode": {
    "name": "ipython",
    "version": 2
   },
   "file_extension": ".py",
   "mimetype": "text/x-python",
   "name": "python",
   "nbconvert_exporter": "python",
   "pygments_lexer": "ipython2",
   "version": "2.7.11"
  },
  "name": ""
 },
 "nbformat": 3,
 "nbformat_minor": 0,
 "worksheets": [
  {
   "cells": [
    {
     "cell_type": "code",
     "collapsed": false,
     "input": [
      "import pandas as pd\n",
      "import os\n",
      "import numpy as np\n",
      "\n",
      "root = \"C:/Workspace/ca-keppelunionelementary/celdt/\"\n",
      "\n",
      "subset=[]\n",
      "\n",
      "# for file in os.listdir(root):\n",
      "#     file['Elv_DateGiven'] = file.map(\n",
      "#     lambda x: pd.to_datetime(x['testDate'], format='%m%d%Y', errors='coerce'), axis=1)\n",
      "#     subset.append(file)\n",
      "\n",
      "for file in os.listdir(root):\n",
      "    data_frame=()\n",
      "    file_df = pd.read_csv(file)\n",
      "    data_frame.append(file_df)\n",
      "subset.append(file_df)\n",
      "    \n",
      "merged=pd.concat(subset)\n",
      "\n",
      "merged.head()\n"
     ],
     "language": "python",
     "metadata": {},
     "outputs": [],
     "prompt_number": 6
    },
    {
     "cell_type": "code",
     "collapsed": false,
     "input": [
      "import pandas as pd\n",
      "import os\n",
      "\n",
      "from pyep import read_delimited\n",
      "from pyep.settings import WORKSPACE_ROOT\n",
      "\n",
      "subset = []\n",
      "\n",
      "for file in os.listdir (WORKSPACE_ROOT + '/ca-keppelunionelementary/celdt/13-14/'):\n",
      "    df = read_delimited(WORKSPACE_ROOT + '/ca-keppelunionelementary/celdt/13-14/' + 'CELDT_*')\n",
      "    subset.append(df)\n",
      "    \n",
      "df = pd.concat(subset)\n",
      "\n",
      "df['Elv_DateGiven'] = pd.to_datetime(df['testDate'], format='%m%d%Y', errors='coerce')\n",
      "\n",
      "print len(df)\n",
      "\n",
      "df.drop_duplicates(subset='SSID', inplace=True)\n",
      "\n",
      "print len(df)\n",
      "\n",
      "df.to_csv(r\"C:\\Workspace\\ca-keppelunionelementary\\celdt\\13-14\\combined_processed.csv\", index=False)"
     ],
     "language": "python",
     "metadata": {},
     "outputs": [],
     "prompt_number": 2
    },
    {
     "cell_type": "code",
     "collapsed": false,
     "input": [
      "import pandas as pd\n",
      "import os\n",
      "\n",
      "from pyep import read_delimited\n",
      "from pyep.settings import WORKSPACE_ROOT\n",
      "\n",
      "subset = []\n",
      "\n",
      "for file in os.listdir (WORKSPACE_ROOT + '/ca-keppelunionelementary/celdt/CELDT Scores 2016-17/'):\n",
      "    df = read_delimited(WORKSPACE_ROOT + '/ca-keppelunionelementary/celdt/CELDT Scores 2016-17/' + file)\n",
      "    subset.append(df)\n",
      "    \n",
      "df = pd.concat(subset)\n",
      "\n",
      "df.head()\n",
      "\n",
      "df['Elv_DateGiven'] = pd.to_datetime(df['testDate'], format='%m%d%Y', errors='coerce')\n",
      "\n",
      "df.head()\n",
      "\n",
      "df.to_csv(r\"C:\\Workspace\\ca-keppelunionelementary\\celdt\\CELDT Scores 2016-17\\CELDT_2016-17_SSF_102016_12192016_19646420000_processed.csv\", index=False)"
     ],
     "language": "python",
     "metadata": {},
     "outputs": [],
     "prompt_number": 5
    }
   ],
   "metadata": {}
  }
 ]
}