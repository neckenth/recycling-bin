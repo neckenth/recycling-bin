{
 "metadata": {
  "kernelspec": {
   "display_name": "Python 2",
   "language": "python",
   "name": "python2"
  },
  "language_info": {
   "codemirror_mode": {
    "name": "ipython",
    "version": 2
   },
   "file_extension": ".py",
   "mimetype": "text/x-python",
   "name": "python",
   "nbconvert_exporter": "python",
   "pygments_lexer": "ipython2",
   "version": "2.7.11"
  },
  "name": ""
 },
 "nbformat": 3,
 "nbformat_minor": 0,
 "worksheets": [
  {
   "cells": [
    {
     "cell_type": "code",
     "collapsed": false,
     "input": [
      "import pandas as pd\n",
      "\n",
      "scores = pd.read_csv(r\"C:\\Workspace\\ma-framingham\\elp-test-score\\Copy of 2016-2017 ELL Student Registrationsas of 11-21-16-WAPT scores.csv\", sep=',', dtype=str)\n",
      "\n",
      "scores = scores[scores.loc[:, 'ID #'].notnull()]\n",
      "\n",
      "export = pd.read_csv(r\"C:\\Users\\NancyE\\Downloads\\FraminghamGrade_EllevationExport_20161129_1252.csv\", sep=',', dtype=str)\n",
      "\n",
      "export = export[export.loc[:, 'Student #'].notnull()]\n",
      "\n",
      "result=pd.merge(left=scores, right=export, left_on='ID #', right_on='Student #', how='inner')\n",
      "\n",
      "wapt_k = result[result.loc[:, 'Grade Level'].isin(['1', 'K'])]\n",
      "\n",
      "wapt_1_12 = result[~result.loc[:, 'Grade Level'].isin(['1', 'K'])]\n",
      "\n",
      "wapt_k.to_csv(r\"C:\\Workspace\\ma-framingham\\elp-test-score\\w-apt_k.csv\", index=False)\n",
      "wapt_1_12.to_csv(r\"C:\\Workspace\\ma-framingham\\elp-test-score\\w-apt_1_12.csv\", index=False)\n"
     ],
     "language": "python",
     "metadata": {},
     "outputs": [],
     "prompt_number": 1
    },
    {
     "cell_type": "code",
     "collapsed": false,
     "input": [
      "import pandas as pd\n",
      "\n",
      "wapt_1_12 = pd.read_csv(r\"C:\\Workspace\\ma-framingham\\elp-test-score\\w-apt_1_12.csv\", dtype=str)\n",
      "\n",
      "#print len(wapt_1_12)\n",
      "\n",
      "wapt_k = pd.read_csv(r\"C:\\Workspace\\ma-framingham\\elp-test-score\\w-apt_k.csv\", dtype=str)\n",
      "\n",
      "print len(wapt_k)\n",
      "\n",
      "\n",
      "wapt_1_12.drop_duplicates(['Test date', 'ID #'], inplace=True)\n",
      "\n",
      "#print len(wapt_1_12)\n",
      "\n",
      "wapt_k.drop_duplicates(['Test date', 'ID #'], inplace=True)\n",
      "\n",
      "print len(wapt_k)\n",
      "\n",
      "wapt_1_12.to_csv(r\"C:\\Workspace\\ma-framingham\\elp-test-score\\w-apt_1_12_deduplicated.csv\", index=False)\n",
      "wapt_k.to_csv(r\"C:\\Workspace\\ma-framingham\\elp-test-score\\w-apt_k_deduplicated.csv\", index=False)"
     ],
     "language": "python",
     "metadata": {},
     "outputs": [],
     "prompt_number": 14
    }
   ],
   "metadata": {}
  }
 ]
}