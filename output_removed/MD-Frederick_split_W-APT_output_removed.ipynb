{
 "metadata": {
  "kernelspec": {
   "display_name": "Python 2",
   "language": "python",
   "name": "python2"
  },
  "language_info": {
   "codemirror_mode": {
    "name": "ipython",
    "version": 2
   },
   "file_extension": ".py",
   "mimetype": "text/x-python",
   "name": "python",
   "nbconvert_exporter": "python",
   "pygments_lexer": "ipython2",
   "version": "2.7.11"
  },
  "name": ""
 },
 "nbformat": 3,
 "nbformat_minor": 0,
 "worksheets": [
  {
   "cells": [
    {
     "cell_type": "code",
     "collapsed": false,
     "input": [
      "import pandas as pd\n",
      "\n",
      "df = pd.read_csv(r\"C:\\Workspace\\md-frederickcounty\\elp-test-score\\elv-WAPT_20161003.csv\", sep=',', dtype=str)\n",
      "\n",
      "print len(df)\n",
      "\n",
      "df_k = df[df.loc[:, 'Grade'].isin(['K ', 'PK'])]\n",
      "\n",
      "print len(df_k)\n",
      "\n",
      "df_not_k = df[df.loc[:, 'Grade'] != 'K ']\n",
      "df_not_k = df_not_k[df_not_k.loc[:, 'Grade'] != 'PK']\n",
      "\n",
      "print len(df_not_k)\n",
      "\n",
      "df_k.to_csv(r\"C:\\Workspace\\md-frederickcounty\\elp-test-score\\elv-WAPT_20161003_K.csv\", index=False)\n",
      "\n",
      "df_not_k.to_csv(r\"C:\\Workspace\\md-frederickcounty\\elp-test-score\\elv-WAPT_20161003_not_K.csv\", index=False)"
     ],
     "language": "python",
     "metadata": {},
     "outputs": [],
     "prompt_number": 17
    }
   ],
   "metadata": {}
  }
 ]
}