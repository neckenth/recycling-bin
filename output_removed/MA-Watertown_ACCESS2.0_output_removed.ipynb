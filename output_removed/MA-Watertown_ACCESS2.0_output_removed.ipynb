{
 "metadata": {
  "kernelspec": {
   "display_name": "Python 2",
   "language": "python",
   "name": "python2"
  },
  "language_info": {
   "codemirror_mode": {
    "name": "ipython",
    "version": 2
   },
   "file_extension": ".py",
   "mimetype": "text/x-python",
   "name": "python",
   "nbconvert_exporter": "python",
   "pygments_lexer": "ipython2",
   "version": "2.7.11"
  },
  "name": ""
 },
 "nbformat": 3,
 "nbformat_minor": 0,
 "worksheets": [
  {
   "cells": [
    {
     "cell_type": "code",
     "collapsed": false,
     "input": [
      "import pandas as pd\n",
      "\n",
      "df = pd.read_csv(r\"C:\\Workspace\\ma-watertown\\access\\ACCESS2016_03140000.csv\", dtype=str)\n",
      "\n",
      "df = df[df.loc[:, 'teststatus'] != 'ABS']\n",
      "\n",
      "df_alt = df[df.loc[:, 'teststatus'] == 'ALT']\n",
      "\n",
      "df = df[df.loc[:, 'teststatus'] != 'ALT']\n",
      "\n",
      "df_k = df[df.loc[:, 'grade'] == 'K']\n",
      "\n",
      "print len(df)\n",
      "print len(df_alt)\n",
      "\n",
      "df_k.to_csv(r\"C:\\Workspace\\ma-watertown\\access\\access_k_processed.csv\", index=False)\n",
      "#df.to_csv(r\"C:\\Workspace\\ma-watertown\\access\\access_processed.csv\", index=False)\n",
      "# df_alt.to_csv(r\"C:\\Workspace\\ma-watertown\\access\\alt_access_processed.csv\", index=False)"
     ],
     "language": "python",
     "metadata": {},
     "outputs": [],
     "prompt_number": 10
    }
   ],
   "metadata": {}
  }
 ]
}