{
 "metadata": {
  "kernelspec": {
   "display_name": "Python 2",
   "language": "python",
   "name": "python2"
  },
  "language_info": {
   "codemirror_mode": {
    "name": "ipython",
    "version": 2
   },
   "file_extension": ".py",
   "mimetype": "text/x-python",
   "name": "python",
   "nbconvert_exporter": "python",
   "pygments_lexer": "ipython2",
   "version": "2.7.11"
  },
  "name": ""
 },
 "nbformat": 3,
 "nbformat_minor": 0,
 "worksheets": [
  {
   "cells": [
    {
     "cell_type": "code",
     "collapsed": false,
     "input": [
      "import pandas as pd\n",
      "\n",
      "df=pd.read_csv(r\"C:\\Workspace\\ca-adelantoelementary\\person\\AESD_Ellevation Person Data File_0908.csv\", sep=',', dtype=str)\n",
      "\n",
      "condition_1 = df.Role.str.contains('\\[SUBSTITUTE TEACHER\\]', na=False)\n",
      "condition_2 = df.Role.str.contains('\\[CERTIFICATED\\]', na=False)\n",
      "condition_3 = df.Role.str.contains('\\[INTERN TEACHER\\]', na=False)\n",
      "condition_4 = df.Role.str.contains('\\[ADMINISTRATION\\]', na=False)\n",
      "\n",
      "df.loc[condition_1, 'Elv_Role'] = 'Classroom Teacher'\n",
      "df.loc[condition_2, 'Elv_Role'] = 'Classroom Teacher'\n",
      "df.loc[condition_3, 'Elv_Role'] = 'Classroom Teacher'\n",
      "df.loc[condition_4, 'Elv_Role'] = 'Admin'\n",
      "\n",
      "df.to_csv(r\"C:\\Workspace\\ca-adelantoelementary\\person\\AESD_Ellevation Person Data File_0908_processed.csv\", index=False)\n"
     ],
     "language": "python",
     "metadata": {
      "scrolled": true
     },
     "outputs": [],
     "prompt_number": 77
    }
   ],
   "metadata": {}
  }
 ]
}