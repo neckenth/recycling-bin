{
 "metadata": {
  "kernelspec": {
   "display_name": "Python 2",
   "language": "python",
   "name": "python2"
  },
  "language_info": {
   "codemirror_mode": {
    "name": "ipython",
    "version": 2
   },
   "file_extension": ".py",
   "mimetype": "text/x-python",
   "name": "python",
   "nbconvert_exporter": "python",
   "pygments_lexer": "ipython2",
   "version": "2.7.11"
  },
  "name": ""
 },
 "nbformat": 3,
 "nbformat_minor": 0,
 "worksheets": [
  {
   "cells": [
    {
     "cell_type": "code",
     "collapsed": false,
     "input": [
      "import pandas as pd\n",
      "import os\n",
      "\n",
      "from pyep.settings import WORKSPACE_ROOT\n",
      "\n",
      "subset = []\n",
      "\n",
      "for file in os.listdir(WORKSPACE_ROOT + '/nj-morris2/historical access/15-16/'):\n",
      "    df = pd.read_csv(WORKSPACE_ROOT + '/nj-morris2/historical access/15-16/' + file)\n",
      "    if file != 'Access 2015-16.csv':\n",
      "        df.loc[:, 'Test Grade Level'] = file\n",
      "    subset.append(df)\n",
      "    \n",
      "df = pd.concat(subset)\n",
      "\n",
      "df.loc[:, 'Date Given'] = pd.to_datetime('02-15-2016')\n",
      "\n",
      "df.to_csv(WORKSPACE_ROOT + '/nj-morris2/historical access/15-16/combined.csv', index=False)\n",
      "\n",
      "\n",
      "    \n"
     ],
     "language": "python",
     "metadata": {},
     "outputs": [],
     "prompt_number": 8
    }
   ],
   "metadata": {}
  }
 ]
}