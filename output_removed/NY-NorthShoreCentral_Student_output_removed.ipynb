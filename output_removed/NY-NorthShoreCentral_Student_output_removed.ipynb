{
 "metadata": {
  "kernelspec": {
   "display_name": "Python 2",
   "language": "python",
   "name": "python2"
  },
  "language_info": {
   "codemirror_mode": {
    "name": "ipython",
    "version": 2
   },
   "file_extension": ".py",
   "mimetype": "text/x-python",
   "name": "python",
   "nbconvert_exporter": "python",
   "pygments_lexer": "ipython2",
   "version": "2.7.11"
  },
  "name": ""
 },
 "nbformat": 3,
 "nbformat_minor": 0,
 "worksheets": [
  {
   "cells": [
    {
     "cell_type": "code",
     "collapsed": false,
     "input": [
      "import pandas as pd\n",
      "import numpy as np\n",
      "import datetime as dt\n",
      "\n",
      "header = pd.read_csv(r\"C:\\Dev\\pyep-trunk\\pyep\\account\\ny_northshorecentral\\student\\ny-northshorecentral-student-headers.txt\", dtype=str, sep='\\t')\n",
      "df = pd.read_csv(r\"C:\\Workspace\\ny-northshorecentral\\student\\ELLevationStudents.txt\", dtype=str, sep='\\t', names=header)\n",
      "\n",
      "today = dt.datetime.now()\n",
      "print today\n",
      "\n",
      "df = df[df.loc[:, 'ny_ell_Status'].notnull()]\n",
      "\n",
      "df.loc[:, 'Elv_ExpectedGraduationDate'] = df.loc[:, 'Sched_YearOfGraduation'].map(\n",
      "    lambda x: pd.to_datetime('06-30-{}'.format(x)) if x != '0' else np.NaN)\n",
      "\n",
      "df.loc[:, 'Elv_DistrictEnrollment'] = df.loc[:, 'DistrictEntryDate'].map(\n",
      "    lambda x: x if pd.to_datetime(x) <= today and x != '0/0/0' else np.NaN)\n",
      "\n",
      "\n",
      "df.to_csv(r\"C:\\Workspace\\ny-northshorecentral\\student\\ELLevationStudents_processed.txt\", sep='\\t', index=False)\n",
      "\n",
      "# df.loc[:, 'ny_ell_Status'].value_counts()"
     ],
     "language": "python",
     "metadata": {},
     "outputs": [],
     "prompt_number": 11
    }
   ],
   "metadata": {}
  }
 ]
}