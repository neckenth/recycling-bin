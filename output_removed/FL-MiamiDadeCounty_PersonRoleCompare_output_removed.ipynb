{
 "metadata": {
  "kernelspec": {
   "display_name": "Python 2",
   "language": "python",
   "name": "python2"
  },
  "language_info": {
   "codemirror_mode": {
    "name": "ipython",
    "version": 2
   },
   "file_extension": ".py",
   "mimetype": "text/x-python",
   "name": "python",
   "nbconvert_exporter": "python",
   "pygments_lexer": "ipython2",
   "version": "2.7.11"
  },
  "name": ""
 },
 "nbformat": 3,
 "nbformat_minor": 0,
 "worksheets": [
  {
   "cells": [
    {
     "cell_type": "code",
     "collapsed": false,
     "input": [
      "import pandas as pd\n",
      "from pyep.FileCompare import DeltaFileMaker\n",
      "from pyep import qualify_file_name\n",
      "\n",
      "friday = r\"C:\\Users\\NancyE\\Downloads\\ELLEVATION_STAFF-20170922-processed.csv\"\n",
      "monday = r\"C:\\Workspace\\fl-miamidadecounty\\person\\ELLEVATION_STAFF-20170925-processed.csv\"\n",
      "\n",
      "delta_file = r\"C:\\Workspace\\fl-miamidadecounty\\person\\staff_delta_9_25_17.csv\"\n",
      "\n",
      "newFileDelta = DeltaFileMaker(friday, monday, delta_file, tolerance_percentage=10)\n",
      "newFileDelta.output_delta()\n",
      "\n",
      "\n",
      "\n"
     ],
     "language": "python",
     "metadata": {},
     "outputs": [],
     "prompt_number": 8
    },
    {
     "cell_type": "code",
     "collapsed": false,
     "input": [
      "import pandas as pd\n",
      "\n",
      "friday = pd.read_csv(r\"C:\\Users\\NancyE\\Downloads\\ELLEVATION_STAFF-20170922-processed.csv\", dtype=str)\n",
      "\n",
      "friday.columns = [str(col) + '_friday' for col in friday.columns]\n",
      "\n",
      "delta = pd.read_csv(r\"C:\\Workspace\\fl-miamidadecounty\\person\\staff_delta_9_25_17.csv\", dtype=str)\n",
      "\n",
      "delta.columns = [str(col) + '_delta' for col in delta.columns]\n",
      "\n",
      "result = pd.merge(left=friday, right=delta, left_on='Staff ID_friday', right_on='Staff ID_delta', how='inner')\n",
      "\n",
      "print result.columns\n",
      "\n",
      "# result = result[[\n",
      "#         'Staff ID_friday',\n",
      "#         'Staff ID_delta',\n",
      "#         'Staff Email Address_friday',\n",
      "#         'Staff Email Address_delta',\n",
      "#         'First Name_friday',\n",
      "#         'First Name_delta',\n",
      "#         'Last Name_friday',\n",
      "#         'Last Name_delta',\n",
      "#         'School LEA Code_friday',\n",
      "#         'School LEA Code_delta',\n",
      "#         'Role_friday',\n",
      "#         'Role_delta'\n",
      "#     ]]\n",
      "\n",
      "result.to_csv(r\"C:\\Workspace\\fl-miamidadecounty\\person\\staff_delta_9_25_17_comparison.csv\", index=False)\n"
     ],
     "language": "python",
     "metadata": {},
     "outputs": [],
     "prompt_number": 12
    },
    {
     "cell_type": "code",
     "collapsed": false,
     "input": [
      "import pandas as pd\n",
      "import datetime as dt\n",
      "from pyep.FileCompare import DeltaFileMaker\n",
      "from pyep import qualify_file_name\n",
      "from pyep.settings import WORKSPACE_ROOT\n",
      "\n",
      "district = 'fl-miamidadecounty'\n",
      "data_type = 'person'\n",
      "today = dt.datetime.now().strftime('%Y%m%d')\n",
      "yesterday = (dt.datetime.now() - dt.timedelta(days=1)).strftime('%Y%m%d')\n",
      "\n",
      "destination_folder = '{}/{}/{}/{}/temp/'.format(WORKSPACE_ROOT,\n",
      "                                            district,\n",
      "                                            data_type,\n",
      "                                                 'delta_roles')\n",
      "\n",
      "yesterday_file = destination_folder + 'ELLEVATION_STAFF-{}-processed-filtered.csv'.format(yesterday)\n",
      "today_file = destination_folder + 'ELLEVATION_STAFF-{}-processed-filtered.csv'.format(today)\n",
      "\n",
      "delta_file = destination_folder + qualify_file_name('ELLEVATION_STAFF-{}-processed-filtered.csv'.format(today),\n",
      "                                                         'delta')\n",
      "\n",
      "# create output delta file\n",
      "# tolerance_percentage should be high to allow the delta file to be produced and keep the process from failing\n",
      "newFileDelta = DeltaFileMaker(yesterday_file, today_file, delta_file, tolerance_percentage=20)\n",
      "newFileDelta.output_delta()\n",
      "\n",
      "# delta_file.head()\n",
      "\n",
      "# # # remove exact duplicates from delta_file\n",
      "newFileDelta_2 = open(delta_file).readlines()\n",
      "\n",
      "dedup_newFileDelta = open(delta_file, 'w').writelines(set(newFileDelta_2))\n",
      "\n",
      "print dedup_newFileDelta\n",
      "# # dedup_newFileDelta.close()"
     ],
     "language": "python",
     "metadata": {},
     "outputs": [],
     "prompt_number": 14
    },
    {
     "cell_type": "code",
     "collapsed": false,
     "input": [
      "import pandas as pd\n",
      "\n",
      "df = pd.read_csv(r\"C:\\Workspace\\fl-miamidadecounty\\person\\ELLEVATION_STAFF-20171124-processed.csv\", dtype=str)\n",
      "\n",
      "# df.columns.tolist()\n",
      "\n",
      "df = df[df.loc[:, 'School\\xa0LEA\\xa0Code'].isin(['6007', '4861'])]\n",
      "\n",
      "df.head()"
     ],
     "language": "python",
     "metadata": {},
     "outputs": [],
     "prompt_number": 5
    }
   ],
   "metadata": {}
  }
 ]
}