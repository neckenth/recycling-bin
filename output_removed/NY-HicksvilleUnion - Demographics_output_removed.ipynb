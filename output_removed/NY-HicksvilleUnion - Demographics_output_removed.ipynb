{
 "metadata": {
  "kernelspec": {
   "display_name": "Python 2",
   "language": "python",
   "name": "python2"
  },
  "language_info": {
   "codemirror_mode": {
    "name": "ipython",
    "version": 2
   },
   "file_extension": ".py",
   "mimetype": "text/x-python",
   "name": "python",
   "nbconvert_exporter": "python",
   "pygments_lexer": "ipython2",
   "version": "2.7.11"
  },
  "name": ""
 },
 "nbformat": 3,
 "nbformat_minor": 0,
 "worksheets": [
  {
   "cells": [
    {
     "cell_type": "code",
     "collapsed": false,
     "input": [
      "import pandas as pd\n",
      "from common import is_null\n",
      "\n",
      "from pyep.transform import derive_from_date_exited\n",
      "\n",
      "df_head=pd.read_csv(r\"C:\\Workspace\\ny-hicksvilleunion\\student\\ny-hicksvilleunion-headers.txt\", dtype=str, sep='\\t')\n",
      "\n",
      "df=pd.read_csv(r\"C:\\Workspace\\ny-hicksvilleunion\\student\\HUFSD_Student_Demographics.txt\", dtype=str, sep='\\t', names=df_head)\n",
      "\n",
      "df = df[df['LEP_Status'].notnull()]\n",
      "\n",
      "df['Elv_LEPStatus'] = df.apply(\n",
      "    lambda x: derive_from_date_exited(x['LEP_exit_date']) if not is_null(x['LEP_exit_date'])\n",
      "    else x['LEP_Status'],\n",
      "    axis=1)\n",
      "\n",
      "df.to_csv(r\"C:\\Workspace\\ny-hicksvilleunion\\student\\HUFSD_Student_Demographics_processed.csv\", sep=',', index=False)\n",
      "\n",
      "\n"
     ],
     "language": "python",
     "metadata": {},
     "outputs": [],
     "prompt_number": 49
    },
    {
     "cell_type": "code",
     "collapsed": true,
     "input": [],
     "language": "python",
     "metadata": {},
     "outputs": [],
     "prompt_number": null
    }
   ],
   "metadata": {}
  }
 ]
}