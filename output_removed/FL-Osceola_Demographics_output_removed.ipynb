{
 "metadata": {
  "kernelspec": {
   "display_name": "Python 2",
   "language": "python",
   "name": "python2"
  },
  "language_info": {
   "codemirror_mode": {
    "name": "ipython",
    "version": 2
   },
   "file_extension": ".py",
   "mimetype": "text/x-python",
   "name": "python",
   "nbconvert_exporter": "python",
   "pygments_lexer": "ipython2",
   "version": "2.7.11"
  },
  "name": ""
 },
 "nbformat": 3,
 "nbformat_minor": 0,
 "worksheets": [
  {
   "cells": [
    {
     "cell_type": "code",
     "collapsed": false,
     "input": [
      "import pandas as pd\n",
      "\n",
      "from pyep.transform import derive_from_date_exited_4y\n",
      "from common import is_null\n",
      "\n",
      "df = pd.read_csv(r\"C:\\Workspace\\fl-osceola\\student\\ELLevation-Demo.csv\", dtype=str)\n",
      "\n",
      "cols = ['COUNTRY OF BIRTH', 'NATIVE LANGUAGE', 'HOME LANGUAGE']\n",
      "\n",
      "for col in cols:\n",
      "    df.loc[:, 'Elv_{}'.format(col)] = df.loc[:, '{}'.format(col)].map(\n",
      "        lambda x: str(x).split(' [')[0])\n",
      "    \n",
      "df.loc[:, 'PREVIOUSENROLLSCHOOL'] = df.loc[:, 'PREVIOUSENROLLSCHOOL'].str.zfill(4)\n",
      "    \n",
      "df.loc[:, 'Elv_LEPStatus'] = df.apply(\n",
      "    lambda x: derive_from_date_exited_4y(x.loc['DATE EXITED LEP']) if x.loc['LEP STATUS'] == 'Two year followup [LF]' else x.loc['LEP STATUS'], axis=1)\n",
      "\n",
      "df.drop_duplicates(inplace=True)\n",
      "\n",
      "df.to_csv(r\"C:\\Workspace\\fl-osceola\\student\\ELLevation-Demo_processed.csv\", index=False)"
     ],
     "language": "python",
     "metadata": {},
     "outputs": [],
     "prompt_number": 1
    }
   ],
   "metadata": {}
  }
 ]
}