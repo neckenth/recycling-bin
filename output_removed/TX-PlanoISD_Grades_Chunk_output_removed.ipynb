{
 "metadata": {
  "kernelspec": {
   "display_name": "Python 2",
   "language": "python",
   "name": "python2"
  },
  "language_info": {
   "codemirror_mode": {
    "name": "ipython",
    "version": 2
   },
   "file_extension": ".py",
   "mimetype": "text/x-python",
   "name": "python",
   "nbconvert_exporter": "python",
   "pygments_lexer": "ipython2",
   "version": "2.7.11"
  },
  "name": ""
 },
 "nbformat": 3,
 "nbformat_minor": 0,
 "worksheets": [
  {
   "cells": [
    {
     "cell_type": "code",
     "collapsed": false,
     "input": [
      "import pandas as pd\n",
      "from pyep.csvutil import ingest_data_file, generate_data_file\n",
      "from pyep.settings import WORKSPACE_ROOT\n",
      "import glob\n",
      "\n",
      "district='tx-planoisd'\n",
      "source_file_name = '20180326_MyStudentGradeData.csv'\n",
      "destination_path = '{}/{}/grades/{}'.format(WORKSPACE_ROOT, district, source_file_name)\n",
      "\n",
      "data = ingest_data_file(destination_path)\n",
      "files = generate_data_file(data, destination_path, chunkSize=15000)\n",
      "\n",
      "unique_subjects = []\n",
      "\n",
      "for f in glob.glob('{}/{}/grades/*-processed.csv'.format(WORKSPACE_ROOT, district)):\n",
      "    df = pd.read_csv(f, dtype=str)\n",
      "    df.drop_duplicates(inplace=True)\n",
      "    df.loc[:, 'Elv_Subject'] = df.apply(\n",
      "        lambda x: x.loc['Course Subject'] if not 'bi' in x.loc['Course Name'].lower() else x.loc['Course Name'].split(' ')[0], axis=1)\n",
      "    for subj in set(df.loc[:, 'Elv_Subject']):\n",
      "        if subj not in unique_subjects:\n",
      "            unique_subjects.append(subj)\n",
      "    df.to_csv(f, index=False)\n",
      "    \n",
      "print unique_subjects\n",
      "\n",
      "\n",
      "\n",
      "\n",
      "\n",
      "\n"
     ],
     "language": "python",
     "metadata": {},
     "outputs": [],
     "prompt_number": 17
    }
   ],
   "metadata": {}
  }
 ]
}