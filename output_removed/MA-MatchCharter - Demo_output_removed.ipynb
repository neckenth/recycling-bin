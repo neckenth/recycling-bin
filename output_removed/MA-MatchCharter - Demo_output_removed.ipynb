{
 "metadata": {
  "kernelspec": {
   "display_name": "Python 2",
   "language": "python",
   "name": "python2"
  },
  "language_info": {
   "codemirror_mode": {
    "name": "ipython",
    "version": 2
   },
   "file_extension": ".py",
   "mimetype": "text/x-python",
   "name": "python",
   "nbconvert_exporter": "python",
   "pygments_lexer": "ipython2",
   "version": "2.7.11"
  },
  "name": ""
 },
 "nbformat": 3,
 "nbformat_minor": 0,
 "worksheets": [
  {
   "cells": [
    {
     "cell_type": "code",
     "collapsed": false,
     "input": [
      "import pandas as pd\n",
      "from pyep.transform import derive_from_date_exited_4y\n",
      "\n",
      "head = pd.read_excel(r\"C:\\Workspace\\ma-matchcharter\\student\\student.export.header_row.xlsx\", sep='\\t')\n",
      "df = pd.read_csv(r\"C:\\Workspace\\ma-matchcharter\\student\\students.txt\", sep='\\t', dtype=str, names=head)\n",
      "\n",
      "print len(df)\n",
      "\n",
      "df = df[df.loc[:, 'LEP Tested'] == '1']\n",
      "\n",
      "df['Elv_MonitoringStatus'] = df.apply(\n",
      "    lambda x: derive_from_date_exited_4y(x['LEP Exitdate'])\n",
      "    if x['LEP Status'] in ('FEL', 'fel')\n",
      "    else x['LEP Status'],\n",
      "    axis=1)\n",
      "\n",
      "condition_1 = df['LEP Tested'] == '1'\n",
      "condition_2 = df['LEP Status'].isnull()\n",
      "\n",
      "df.loc[condition_1 & condition_2, 'Elv_MonitoringStatus'] = 'TDNQ'\n",
      "\n",
      "df.to_csv(r\"C:\\Workspace\\ma-matchcharter\\student\\students_processed_1.txt\", sep='\\t', index=False)"
     ],
     "language": "python",
     "metadata": {},
     "outputs": [],
     "prompt_number": 6
    },
    {
     "cell_type": "code",
     "collapsed": false,
     "input": [
      "#middle and high school students\n",
      "\n",
      "import pandas as pd\n",
      "\n",
      "head = pd.read_csv(r\"C:\\Workspace\\ma-matchcharter\\student\\student.export.header_row.txt\", sep='\\t')\n",
      "df = pd.read_csv(r\"C:\\Workspace\\ma-matchcharter\\student\\students_middle_high.csv\", sep=',', dtype=str, names=head)\n",
      "\n",
      "print len(df)\n",
      "df = df[df.loc[:, 'LEP Status'].notnull()]\n",
      "print len(df)\n",
      "df.to_csv(r\"C:\\Workspace\\ma-matchcharter\\student\\students_middle_high_with_header_processed.csv\", index=False)"
     ],
     "language": "python",
     "metadata": {},
     "outputs": [],
     "prompt_number": 5
    }
   ],
   "metadata": {}
  }
 ]
}