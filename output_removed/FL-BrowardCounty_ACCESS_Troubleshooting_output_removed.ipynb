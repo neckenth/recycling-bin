{
 "metadata": {
  "kernelspec": {
   "display_name": "Python 2",
   "language": "python",
   "name": "python2"
  },
  "language_info": {
   "codemirror_mode": {
    "name": "ipython",
    "version": 2
   },
   "file_extension": ".py",
   "mimetype": "text/x-python",
   "name": "python",
   "nbconvert_exporter": "python",
   "pygments_lexer": "ipython2",
   "version": "2.7.11"
  },
  "name": ""
 },
 "nbformat": 3,
 "nbformat_minor": 0,
 "worksheets": [
  {
   "cells": [
    {
     "cell_type": "code",
     "collapsed": false,
     "input": [
      "import pandas as pd\n",
      "\n",
      "df = pd.read_csv(r\"C:\\Workspace\\fl-browardcounty\\elp-test-score\\BCPS_Stdt_ACCESS_AFE-20171020.txt\", sep='\\t', dtype=str)\n",
      "\n",
      "score_fields = []\n",
      "\n",
      "for name in df.columns:\n",
      "    if 'Score' in name:\n",
      "        score_fields.append(name)\n",
      "        \n",
      "condition = ((df.loc[:, score_fields[0]] == '0000') &\n",
      "     (df.loc[:, score_fields[1]] == '0000') &\n",
      "     (df.loc[:, score_fields[2]] == '0000') &\n",
      "     (df.loc[:, score_fields[3]] == '0000') &\n",
      "     (df.loc[:, score_fields[4]] == '0000') &\n",
      "     (df.loc[:, score_fields[5]] == '0000') &\n",
      "     (df.loc[:, score_fields[6]] == '0000')\n",
      "    )\n",
      "\n",
      "df = df[condition]\n",
      "\n",
      "df.to_csv(r\"C:\\Workspace\\fl-browardcounty\\elp-test-score\\BCPS_Stdt_ACCESS_AFE-20171020_all_zeroes.txt\", sep='\\t', index=False)\n",
      "        "
     ],
     "language": "python",
     "metadata": {},
     "outputs": [],
     "prompt_number": 5
    }
   ],
   "metadata": {}
  }
 ]
}