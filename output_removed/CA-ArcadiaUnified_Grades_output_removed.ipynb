{
 "metadata": {
  "kernelspec": {
   "display_name": "Python 2",
   "language": "python",
   "name": "python2"
  },
  "language_info": {
   "codemirror_mode": {
    "name": "ipython",
    "version": 2
   },
   "file_extension": ".py",
   "mimetype": "text/x-python",
   "name": "python",
   "nbconvert_exporter": "python",
   "pygments_lexer": "ipython2",
   "version": "2.7.11"
  },
  "name": ""
 },
 "nbformat": 3,
 "nbformat_minor": 0,
 "worksheets": [
  {
   "cells": [
    {
     "cell_type": "code",
     "collapsed": false,
     "input": [
      "import pandas as pd\n",
      "import glob\n",
      "import os\n",
      "import numpy as np\n",
      "\n",
      "from pyep.settings import WORKSPACE_ROOT\n",
      "district = 'ca-arcadiaunified'\n",
      "\n",
      "subset = []\n",
      "for f in glob.glob('{}/{}/grades/[!~$]*.xlsx'.format(WORKSPACE_ROOT, district)):\n",
      "    df = pd.read_excel(f, converters={\n",
      "            'STUDENT_NUMBER':str,\n",
      "            'STATE_STUDENTNUMBER':str,\n",
      "            'GRADE_LEVEL':str,\n",
      "            'PERCENT':str\n",
      "        })\n",
      "    subset.append(df)\n",
      "    \n",
      "df = pd.concat(subset)\n",
      "\n",
      "df.loc[:, 'PERCENT'] = df.loc[:, 'PERCENT'].map(\n",
      "    lambda x: np.NaN if x == '0' else x)\n",
      "\n",
      "df.loc[:, 'PERCENT'].unique()\n",
      "\n",
      "df = df[df.loc[:, 'SCHED_DEPARTMENT'].notnull()]\n",
      "\n",
      "df.to_csv(r\"C:\\Workspace\\ca-arcadiaunified\\grades\\ms_hs_grades_combined.csv\", index=False, encoding='utf-8')\n"
     ],
     "language": "python",
     "metadata": {},
     "outputs": [],
     "prompt_number": 11
    },
    {
     "cell_type": "code",
     "collapsed": false,
     "input": [
      "from pyep.csvutil import ingest_data_file, generate_data_file\n",
      "\n",
      "path = r\"C:\\Workspace\\ca-arcadiaunified\\grades\\ms_hs_grades_combined.csv\"\n",
      "\n",
      "destination_path = path\n",
      "data = ingest_data_file(destination_path)\n",
      "files = generate_data_file(data, destination_path, chunkSize=10000)"
     ],
     "language": "python",
     "metadata": {},
     "outputs": [],
     "prompt_number": 13
    }
   ],
   "metadata": {}
  }
 ]
}