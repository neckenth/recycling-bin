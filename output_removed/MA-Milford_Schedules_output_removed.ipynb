{
 "metadata": {
  "kernelspec": {
   "display_name": "Python 2",
   "language": "python",
   "name": "python2"
  },
  "language_info": {
   "codemirror_mode": {
    "name": "ipython",
    "version": 2
   },
   "file_extension": ".py",
   "mimetype": "text/x-python",
   "name": "python",
   "nbconvert_exporter": "python",
   "pygments_lexer": "ipython2",
   "version": "2.7.11"
  },
  "name": ""
 },
 "nbformat": 3,
 "nbformat_minor": 0,
 "worksheets": [
  {
   "cells": [
    {
     "cell_type": "code",
     "collapsed": false,
     "input": [
      "import pandas as pd\n",
      "\n",
      "df = pd.read_csv(r\"C:\\Workspace\\ma-milford\\schedule\\ellevation_schedule-20170523.csv\", dtype=str)\n",
      "\n",
      "df.loc[:, 'ScheduleTerm'].unique()"
     ],
     "language": "python",
     "metadata": {},
     "outputs": [],
     "prompt_number": 1
    },
    {
     "cell_type": "code",
     "collapsed": false,
     "input": [
      "import pandas as pd\n",
      "\n",
      "student_columns = ['School_Name', 'StudentStateID']\n",
      "\n",
      "student = pd.read_csv(r\"C:\\Workspace\\ma-milford\\student\\ellevation_milford.csv\", usecols=student_columns, dtype=str)\n",
      "\n",
      "schedule = pd.read_csv(r\"C:\\Workspace\\ma-milford\\schedule\\ellevation_schedule.csv\", dtype=str)\n",
      "\n",
      "df = pd.merge(left=student, right=schedule, left_on='StudentStateID', right_on='StudentTestID', how='inner', indicator=True)\n",
      "\n",
      "# df.head()\n",
      "\n",
      "df.ScheduleTerm.unique()\n",
      "# print len(df[df.loc[:, 'StudentTestID'] == '1006146113'])\n",
      "\n",
      "# df = df[df.loc[:, 'ScheduleTerm'].isin()]"
     ],
     "language": "python",
     "metadata": {},
     "outputs": [],
     "prompt_number": 5
    }
   ],
   "metadata": {}
  }
 ]
}