{
 "metadata": {
  "kernelspec": {
   "display_name": "Python 2",
   "language": "python",
   "name": "python2"
  },
  "language_info": {
   "codemirror_mode": {
    "name": "ipython",
    "version": 2
   },
   "file_extension": ".py",
   "mimetype": "text/x-python",
   "name": "python",
   "nbconvert_exporter": "python",
   "pygments_lexer": "ipython2",
   "version": "2.7.11"
  },
  "name": ""
 },
 "nbformat": 3,
 "nbformat_minor": 0,
 "worksheets": [
  {
   "cells": [
    {
     "cell_type": "code",
     "collapsed": false,
     "input": [
      "import numpy as np\n",
      "from common import is_null\n",
      "from datetime import datetime as dt\n",
      "import pandas as pd\n",
      "from pyep.transform import derive_from_date_exited_4y\n",
      "\n",
      "from pyep.transform import derive_from_date_exited_4y\n",
      "df = pd.read_csv(r\"C:\\Workspace\\ca-whittiercityelementary\\student\\ELLEVATION DEMOGRAPHIC DATA .csv\", dtype=str)\n",
      "\n",
      "df['ELV_LepStatus'] = df.apply(\n",
      "    lambda x: derive_from_date_exited_4y(x['DATE EXITED EL'])\n",
      "    if x['CA_ELAstatus'] == 'RFEP' else x['CA_ELAstatus'],\n",
      "    axis=1)\n",
      "\n",
      "df['Elv_Yrs_USSchools'] = df['CA_FirstUSASchooling'].map(\n",
      "    lambda x: np.NaN if is_null(x) \n",
      "    else (dt.today()-pd.to_datetime(x)).days / 365)\n",
      "\n",
      "df['Elv_Yrs_USSchools'].unique()\n",
      "\n",
      "df['Elv_DateEnteredLEP'] = df['DATE ENTERED EL']\n",
      "\n",
      "df.loc[df['CA_ELAstatus'] == 'RFEP', 'Elv_DateEnteredLEP'] = np.NaN\n",
      "\n",
      "df.to_csv(r\"C:\\Workspace\\ca-whittiercityelementary\\student\\ELLEVATION DEMOGRAPHIC DATA_processed.csv\", index=False)"
     ],
     "language": "python",
     "metadata": {},
     "outputs": [],
     "prompt_number": 6
    }
   ],
   "metadata": {}
  }
 ]
}