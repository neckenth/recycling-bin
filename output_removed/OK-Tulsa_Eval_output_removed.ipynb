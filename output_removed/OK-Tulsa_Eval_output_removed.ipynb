{
 "metadata": {
  "kernelspec": {
   "display_name": "Python 2",
   "language": "python",
   "name": "python2"
  },
  "language_info": {
   "codemirror_mode": {
    "name": "ipython",
    "version": 2
   },
   "file_extension": ".py",
   "mimetype": "text/x-python",
   "name": "python",
   "nbconvert_exporter": "python",
   "pygments_lexer": "ipython2",
   "version": "2.7.11"
  },
  "name": ""
 },
 "nbformat": 3,
 "nbformat_minor": 0,
 "worksheets": [
  {
   "cells": [
    {
     "cell_type": "code",
     "collapsed": false,
     "input": [
      "import pandas as pd\n",
      "import numpy as np\n",
      "\n",
      "df_old = pd.read_csv(r\"C:\\Workspace\\ok-tulsa\\student\\tpsellevation_20170404.txt\", sep='\\t', dtype=str)\n",
      "\n",
      "print len(df_old)\n",
      "\n",
      "df_old.loc[:, 'LEPStatus'] = df_old.loc[:, 'LEPStatus'].replace(np.NaN, 'BLANK')\n",
      "df_new = pd.read_csv(r\"C:\\Workspace\\ok-tulsa\\student\\tps_test_ellevation_20170410.csv\", dtype=str)\n",
      "\n",
      "print len(df_new)\n",
      "\n",
      "#df_old.loc[:, 'LEPStatus'].value_counts()\n",
      "df_new.loc[:, 'LEPStatus'].value_counts()\n",
      "\n",
      "#print (21185 - 12713)"
     ],
     "language": "python",
     "metadata": {},
     "outputs": [],
     "prompt_number": 19
    }
   ],
   "metadata": {}
  }
 ]
}