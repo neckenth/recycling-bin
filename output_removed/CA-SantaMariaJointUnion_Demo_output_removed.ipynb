{
 "metadata": {
  "kernelspec": {
   "display_name": "Python 2",
   "language": "python",
   "name": "python2"
  },
  "language_info": {
   "codemirror_mode": {
    "name": "ipython",
    "version": 2
   },
   "file_extension": ".py",
   "mimetype": "text/x-python",
   "name": "python",
   "nbconvert_exporter": "python",
   "pygments_lexer": "ipython2",
   "version": "2.7.11"
  },
  "name": ""
 },
 "nbformat": 3,
 "nbformat_minor": 0,
 "worksheets": [
  {
   "cells": [
    {
     "cell_type": "code",
     "collapsed": false,
     "input": [
      "import pandas as pd\n",
      "import numpy as np\n",
      "from datetime import datetime as dt\n",
      "\n",
      "from common import is_null\n",
      "from pyep.transform import derive_from_date_exited_4y\n",
      "\n",
      "df = pd.read_csv(r\"C:\\Workspace\\ca-santamariajointunion\\student\\Demographics.txt\", sep='\\t', dtype=str)\n",
      "\n",
      "df.replace('NULL', np.NaN)\n",
      "\n",
      "df['Elv_Foster'] = df.apply(\n",
      "lambda x: 'Yes' if x['County Foster'] == 'Yes' or x['State Foster'] == 'Yes' else np.NaN,\n",
      "axis=1)\n",
      "\n",
      "df['Elv_Yrs_USSchools'] = df['Date Enrolled in the US'].map(\n",
      "    lambda x: np.NaN if is_null(x) \n",
      "    else (dt.today()-pd.to_datetime(x)).days / 365)\n",
      "\n",
      "df['Elv_ProgramStartDate'] = df.apply(\n",
      "lambda x: x['Program Start Date'] if x['ELP Fluency'] != 'IFEP' else np.NaN,\n",
      "axis=1)\n",
      "\n",
      "df['Elv_ProgramEndDate'] = df.apply(\n",
      "lambda x: x['Program End Date'] if x['ELP Fluency']  != 'IFEP' else np.NaN,\n",
      "axis = 1)\n",
      "\n",
      "df['Elv_LEPStatus'] = df.apply(\n",
      "lambda x: derive_from_date_exited_4y(x['Elv_ProgramEndDate']) if\n",
      "x['ELP Fluency'] == 'FEP' else x['ELP Fluency'], \n",
      "axis=1)\n",
      "\n",
      "df.loc[(df['ELP Fluency'] == 'FEP') & (df['Elv_ProgramEndDate'].isnull()), 'Elv_LEPStatus'] = 'RFEP (Unknown)'\n",
      "\n",
      "df.to_csv(r\"C:\\Workspace\\ca-santamariajointunion\\student\\Demographics_processed.txt\", sep='\\t', index=False)\n"
     ],
     "language": "python",
     "metadata": {},
     "outputs": [],
     "prompt_number": 19
    },
    {
     "cell_type": "code",
     "collapsed": true,
     "input": [],
     "language": "python",
     "metadata": {},
     "outputs": [],
     "prompt_number": null
    }
   ],
   "metadata": {}
  }
 ]
}