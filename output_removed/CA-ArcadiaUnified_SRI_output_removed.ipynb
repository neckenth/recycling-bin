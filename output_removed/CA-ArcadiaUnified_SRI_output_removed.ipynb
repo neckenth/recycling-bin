{
 "metadata": {
  "kernelspec": {
   "display_name": "Python 2",
   "language": "python",
   "name": "python2"
  },
  "language_info": {
   "codemirror_mode": {
    "name": "ipython",
    "version": 2
   },
   "file_extension": ".py",
   "mimetype": "text/x-python",
   "name": "python",
   "nbconvert_exporter": "python",
   "pygments_lexer": "ipython2",
   "version": "2.7.11"
  },
  "name": ""
 },
 "nbformat": 3,
 "nbformat_minor": 0,
 "worksheets": [
  {
   "cells": [
    {
     "cell_type": "code",
     "collapsed": false,
     "input": [
      "import pandas as pd\n",
      "import numpy as np\n",
      "\n",
      "df = pd.read_csv(r\"C:\\Workspace\\ca-arcadiaunified\\sri\\SRI_scores.csv\", dtype=str)\n",
      "\n",
      "df.rename(columns={\n",
      "        'Student_number': 'StudentLocalID',\n",
      "        'SRI_LAST_LEXILE_DATE': 'TestAdministrationDate',\n",
      "        'GRADE': 'StudentGradeLevel',\n",
      "        'LEXILE_SCORE': 'Score1Value',\n",
      "        'SRI_PERCENTILE': 'Score2Value'\n",
      "    }, inplace=True)\n",
      "\n",
      "df.loc[:, 'DistrictDBName'] = 'ESLREPS-CA-ARCADIAUNIFIED'\n",
      "df.loc[:, 'StudentTestID'] = np.NaN\n",
      "df.loc[:, 'TestName'] = 'SRI'\n",
      "df.loc[:, 'TestID'] = '0'\n",
      "df.loc[:, 'TestTypeName'] = 'SRI'\n",
      "df.loc[:, 'TestTypeID'] = '0'\n",
      "df.loc[:, 'TestSubjectName'] = 'Reading'\n",
      "df.loc[:, 'TestSubjectID'] = '0'\n",
      "df.loc[:, 'TestGradeLevel'] = df.loc[:, 'StudentGradeLevel']\n",
      "df.loc[:, 'Score1Label'] = 'Lexile'\n",
      "df.loc[:, 'Score1Type'] = 'Scale'\n",
      "df.loc[:, 'Score2Label'] = 'Percentile'\n",
      "df.loc[:, 'Score2Type'] = 'Scale'\n",
      "df.loc[:, 'SourceFileName'] = 'SRI_scores.csv'\n",
      "\n",
      "headers = ['DistrictDBName',\n",
      "            'StudentTestID',\n",
      "            'StudentLocalID',\n",
      "            'StudentGradeLevel',\n",
      "            'TestAdministrationDate',\n",
      "            'TestID',\n",
      "            'TestName',\n",
      "            'TestTypeID',\n",
      "            'TestTypeName',\n",
      "            'TestSubjectID',\n",
      "            'TestSubjectName',\n",
      "            'TestGradeLevel',\n",
      "            'Score1Label',\n",
      "            'Score1Type',\n",
      "            'Score1Value',\n",
      "            'Score2Label',\n",
      "            'Score2Type',\n",
      "            'Score2Value',\n",
      "            'Score3Label',\n",
      "            'Score3Type',\n",
      "            'Score3Value',\n",
      "            'Score4Label',\n",
      "            'Score4Type',\n",
      "            'Score4Value',\n",
      "            'Score5Label',\n",
      "            'Score5Type',\n",
      "            'Score5Value',\n",
      "            'Score6Label',\n",
      "            'Score6Type',\n",
      "            'Score6Value',\n",
      "            'Score7Label',\n",
      "            'Score7Type',\n",
      "            'Score7Value',\n",
      "            'Score8Label',\n",
      "            'Score8Type',\n",
      "            'Score8Value',\n",
      "            'SourceFileName']\n",
      "\n",
      "df.loc[:, headers].to_csv(r\"C:\\Workspace\\ca-arcadiaunified\\sri\\ELLSTDTST_CA-ArcadiaUnified_SRI_scores.csv\", index=False)"
     ],
     "language": "python",
     "metadata": {},
     "outputs": [],
     "prompt_number": 2
    }
   ],
   "metadata": {}
  }
 ]
}