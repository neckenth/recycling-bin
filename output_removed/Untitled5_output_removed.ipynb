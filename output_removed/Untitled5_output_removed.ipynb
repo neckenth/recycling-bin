{
 "metadata": {
  "kernelspec": {
   "display_name": "Python 2",
   "language": "python",
   "name": "python2"
  },
  "language_info": {
   "codemirror_mode": {
    "name": "ipython",
    "version": 2
   },
   "file_extension": ".py",
   "mimetype": "text/x-python",
   "name": "python",
   "nbconvert_exporter": "python",
   "pygments_lexer": "ipython2",
   "version": "2.7.11"
  },
  "name": ""
 },
 "nbformat": 3,
 "nbformat_minor": 0,
 "worksheets": [
  {
   "cells": [
    {
     "cell_type": "code",
     "collapsed": true,
     "input": [
      "import pysftp\n",
      "import datetime as dt\n",
      "import os\n",
      "\n",
      "from pyep import qualify_file_name, read_delimited, ScheduleWizard, fetch_header\n",
      "from pycron import fetch_from_sftp\n",
      "\n",
      "\n",
      "def main():\n",
      "    #Edit these variables\n",
      "    district = 'ny-hewlettwoodmere'\n",
      "    filename = 'EllevationCourseData.txt'\n",
      "    remote_directory = '/data/'\n",
      "    data_type = 'schedule'\n",
      "\n",
      "    file = fetch_from_sftp(district_name=district,\n",
      "                           file_name=filename,\n",
      "                           remote_directory=remote_directory,\n",
      "                           data_type=data_type,\n",
      "                           add_datestamp=True)\n",
      "\n",
      "    df = read_delimited(file,\n",
      "                        isInteractive=False,\n",
      "                        castNull=True)\n",
      "\n",
      "    processed_file = qualify_file_name(file, 'processed')\n",
      "\n",
      "    df.to_csv(processed_file, index=False)\n",
      "\n",
      "    # wizard = ScheduleWizard(processed_file)\n",
      "    # wizard.begin(useSavedMapping=True)\n",
      "\n",
      "\n",
      "if __name__ == '__main__':\n",
      "    main()\n",
      "\n"
     ],
     "language": "python",
     "metadata": {},
     "outputs": [],
     "prompt_number": 1
    }
   ],
   "metadata": {}
  }
 ]
}