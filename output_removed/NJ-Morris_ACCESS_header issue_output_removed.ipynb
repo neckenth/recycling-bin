{
 "metadata": {
  "kernelspec": {
   "display_name": "Python 2",
   "language": "python",
   "name": "python2"
  },
  "language_info": {
   "codemirror_mode": {
    "name": "ipython",
    "version": 2
   },
   "file_extension": ".py",
   "mimetype": "text/x-python",
   "name": "python",
   "nbconvert_exporter": "python",
   "pygments_lexer": "ipython2",
   "version": "2.7.11"
  },
  "name": ""
 },
 "nbformat": 3,
 "nbformat_minor": 0,
 "worksheets": [
  {
   "cells": [
    {
     "cell_type": "code",
     "collapsed": false,
     "input": [
      "import pandas as pd\n",
      "\n",
      "df = pd.read_csv(r\"C:\\Workspace\\nj-morris2\\access\\Access for Ellevation - KF.csv\", dtype=str)\n",
      "\n",
      "df = df.fillna('')\n",
      "\n",
      "head_1 = df.columns.tolist()\n",
      "head_2 = []\n",
      "\n",
      "for c in df.loc[0,:]:\n",
      "    head_2.append(c)\n",
      "    \n",
      "columns = zip(head_1, head_2)\n",
      "\n",
      "new_items = [list(x) for x in columns]\n",
      "\n",
      "df.columns = (' '.join(c) for c in new_items)\n",
      "\n",
      "df.drop([0], axis=0, inplace=True)\n",
      "\n",
      "df.to_csv(r\"C:\\Workspace\\nj-morris2\\access\\Access for Ellevation - KF_processed.csv\", index=False)\n",
      "\n",
      "\n",
      "\n",
      "\n"
     ],
     "language": "python",
     "metadata": {},
     "outputs": [],
     "prompt_number": 81
    }
   ],
   "metadata": {}
  }
 ]
}