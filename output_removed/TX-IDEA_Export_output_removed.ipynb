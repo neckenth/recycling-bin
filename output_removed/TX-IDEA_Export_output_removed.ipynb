{
 "metadata": {
  "kernelspec": {
   "display_name": "Python 2",
   "language": "python",
   "name": "python2"
  },
  "language_info": {
   "codemirror_mode": {
    "name": "ipython",
    "version": 2
   },
   "file_extension": ".py",
   "mimetype": "text/x-python",
   "name": "python",
   "nbconvert_exporter": "python",
   "pygments_lexer": "ipython2",
   "version": "2.7.11"
  },
  "name": ""
 },
 "nbformat": 3,
 "nbformat_minor": 0,
 "worksheets": [
  {
   "cells": [
    {
     "cell_type": "code",
     "collapsed": false,
     "input": [
      "import pandas as pd\n",
      "\n",
      "df = pd.read_csv(r\"C:\\Workspace\\tx-ideapublicschools\\export\\ESLREPS-TX-IDEAPUBLICSCHOOLS_Export_1199.12.20170710_0115.csv\", dtype=str)\n",
      "\n",
      "schools = pd.read_csv(r\"C:\\Workspace\\tx-ideapublicschools\\schools\\TX-IDEA Schools and LEA Codes.txt\", sep='\\t')\n",
      "\n",
      "schools.loc[:, 'SCHOOL_NAME'] = schools.loc[:, 'SCHOOL_NAME'].map(\n",
      "    lambda x: x if not 'Preparatory' in x else x.replace('Preparatory', 'Prep'))\n",
      "\n",
      "all_schools = schools.SCHOOL_NAME.unique()\n",
      "\n",
      "df.loc[df.loc[:, 'School Name'].notnull(), 'School Name'] = df.loc[df.loc[:, 'School Name'].notnull(), 'School Name'].map(\n",
      "    lambda x: x.rstrip())\n",
      "\n",
      "df.loc[:, 'School LEA Code'] = df.apply(\n",
      "    lambda x: str(x.loc['School LEA Code']) if not str(x.loc['School Name']) in all_schools else '108807' + str(x.loc['School LEA Code']), axis=1)\n",
      "\n",
      "df.to_csv(r\"C:\\Workspace\\tx-ideapublicschools\\export\\ESLREPS-TX-IDEAPUBLICSCHOOLS_Export_1199.12.20170710_0115_processed.csv\", index=False)"
     ],
     "language": "python",
     "metadata": {
      "scrolled": true
     },
     "outputs": [],
     "prompt_number": 59
    }
   ],
   "metadata": {}
  }
 ]
}