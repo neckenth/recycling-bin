{
 "metadata": {
  "kernelspec": {
   "display_name": "Python 2",
   "language": "python",
   "name": "python2"
  },
  "language_info": {
   "codemirror_mode": {
    "name": "ipython",
    "version": 2
   },
   "file_extension": ".py",
   "mimetype": "text/x-python",
   "name": "python",
   "nbconvert_exporter": "python",
   "pygments_lexer": "ipython2",
   "version": "2.7.11"
  },
  "name": ""
 },
 "nbformat": 3,
 "nbformat_minor": 0,
 "worksheets": [
  {
   "cells": [
    {
     "cell_type": "code",
     "collapsed": false,
     "input": [
      "import pandas as pd\n",
      "import numpy as np\n",
      "\n",
      "df=pd.read_csv(r\"C:\\Workspace\\ny-riverheadcentral\\NYSITELL\\Riverhead Assessment   NYSITELL 2016.csv\", dtype=str)\n",
      "\n",
      "df.head()\n",
      "\n",
      "df=df.pivot_table(index=['StudentID', 'Test Date', 'Grade'],\n",
      "                 columns='Test',\n",
      "                 values=['Score', 'Level'],\n",
      "                 aggfunc=np.max).reset_index(col_level=1)\n",
      "\n",
      "df.columns=[' '.join(col).strip() for col in df.columns.tolist()]\n",
      "\n",
      "df.head()\n",
      "\n",
      "df.to_csv(r\"C:\\Workspace\\ny-riverheadcentral\\NYSITELL\\Riverhead Assessment   NYSITELL 2016_processed.csv\", index=False)"
     ],
     "language": "python",
     "metadata": {},
     "outputs": [],
     "prompt_number": 7
    }
   ],
   "metadata": {}
  }
 ]
}