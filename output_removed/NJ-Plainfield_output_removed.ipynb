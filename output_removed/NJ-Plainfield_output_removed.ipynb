{
 "metadata": {
  "kernelspec": {
   "display_name": "Python 2",
   "language": "python",
   "name": "python2"
  },
  "language_info": {
   "codemirror_mode": {
    "name": "ipython",
    "version": 2
   },
   "file_extension": ".py",
   "mimetype": "text/x-python",
   "name": "python",
   "nbconvert_exporter": "python",
   "pygments_lexer": "ipython2",
   "version": "2.7.11"
  },
  "name": ""
 },
 "nbformat": 3,
 "nbformat_minor": 0,
 "worksheets": [
  {
   "cells": [
    {
     "cell_type": "code",
     "collapsed": false,
     "input": [
      "import pandas as pd\n",
      "import numpy as np\n",
      "from datetime import datetime as dt\n",
      "\n",
      "from pyep.transform import derive_from_date_exited_4y\n",
      "from common import is_null\n",
      "\n",
      "df = pd.read_csv(r\"C:\\Workspace\\nj-plainfield\\student\\ellevation-student-demographics.csv\", dtype=str)\n",
      "\n",
      "print len(df)\n",
      "\n",
      "df = df[df.loc[:, 'Entered LEP Date'].notnull()]\n",
      "\n",
      "print len(df)\n",
      "\n",
      "df['Elv_LEPStatus'] = df.apply(\n",
      "    lambda x: derive_from_date_exited_4y(x['Exited LEP Date']) if not is_null(x['Exited LEP Date'])\n",
      "    else 'ELL',\n",
      "    axis=1)\n",
      "\n",
      "df['Elv_Deceased_Flag'] = df['Deceased'].map(\n",
      "    lambda x: 'Y' if not is_null(x)\n",
      "    else 'N')\n",
      "\n",
      "df['Elv_Withdrawn_Flag'] = df['Date Withdrawn (from district)'].map(\n",
      "    lambda x: 'Y' if not is_null(x) and pd.to_datetime(x) < dt.today()\n",
      "    else 'N')\n",
      "\n",
      "df['Elv_Graduated_Flag'] = df['Date Graduated (from district)'].map(\n",
      "    lambda x: 'Y' if not is_null(x) and pd.to_datetime(x) < dt.today()\n",
      "    else 'N')\n",
      "\n",
      "df['Elv_Graduated_Date'] = df['Date Graduated (from district)'].map(\n",
      "    lambda x: x if not is_null(x) and pd.to_datetime(x) < dt.today()\n",
      "    else np.NaN)\n",
      "\n",
      "df['Elv_DroppedOut_Flag'] = df['Date Dropped Out (from district)'].map(\n",
      "    lambda x: 'Y' if not is_null(x) and pd.to_datetime(x) < dt.today()\n",
      "    else 'N')\n",
      "    \n",
      "df.to_csv(r\"C:\\Workspace\\nj-plainfield\\student\\ellevation-student-demographics_processed.csv\", index=False)"
     ],
     "language": "python",
     "metadata": {},
     "outputs": [],
     "prompt_number": 10
    }
   ],
   "metadata": {}
  }
 ]
}