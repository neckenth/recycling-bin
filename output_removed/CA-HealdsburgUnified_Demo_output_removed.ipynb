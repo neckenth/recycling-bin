{
 "metadata": {
  "kernelspec": {
   "display_name": "Python 2",
   "language": "python",
   "name": "python2"
  },
  "language_info": {
   "codemirror_mode": {
    "name": "ipython",
    "version": 2
   },
   "file_extension": ".py",
   "mimetype": "text/x-python",
   "name": "python",
   "nbconvert_exporter": "python",
   "pygments_lexer": "ipython2",
   "version": "2.7.11"
  },
  "name": ""
 },
 "nbformat": 3,
 "nbformat_minor": 0,
 "worksheets": [
  {
   "cells": [
    {
     "cell_type": "code",
     "collapsed": false,
     "input": [
      "import pandas as pd\n",
      "from pyep.transform import derive_from_date_exited_4y\n",
      "from common import is_null\n",
      "from datetime import datetime as dt\n",
      "import numpy as np\n",
      "\n",
      "df = pd.read_excel(r\"C:\\Workspace\\ca-healdsburgunified\\student\\HUSD Demographics File.xls\")\n",
      "\n",
      "\n",
      "print len(df)\n",
      "\n",
      "df=df[df.loc[:, 'LangFlu1'] != 'EO']\n",
      "\n",
      "print len(df)\n",
      "\n",
      "df.drop_duplicates(subset='SSID', inplace=True)\n",
      "\n",
      "print len(df)\n",
      "\n",
      "df['ELV_LepStatus'] = df.apply(\n",
      "    lambda x: derive_from_date_exited_4y(x['DateExitedLEP'])\n",
      "    if x['LangFlu1'] == 'RFEP' else x['LangFlu1'],\n",
      "    axis=1)\n",
      "\n",
      "df['Elv_Yrs_USSchools'] = df['US Schl Enter Date'].map(\n",
      "    lambda x: np.NaN if is_null(x) \n",
      "    else (dt.today()-pd.to_datetime(x)).days / 365)\n",
      "\n",
      "df.to_csv(r\"C:\\Workspace\\ca-healdsburgunified\\student\\HUSD Demographics File_processed.csv\", sep=',', index=False)\n"
     ],
     "language": "python",
     "metadata": {},
     "outputs": [],
     "prompt_number": 2
    }
   ],
   "metadata": {}
  }
 ]
}