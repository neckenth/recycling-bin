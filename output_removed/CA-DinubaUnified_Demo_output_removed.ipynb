{
 "metadata": {
  "kernelspec": {
   "display_name": "Python 2",
   "language": "python",
   "name": "python2"
  },
  "language_info": {
   "codemirror_mode": {
    "name": "ipython",
    "version": 2
   },
   "file_extension": ".py",
   "mimetype": "text/x-python",
   "name": "python",
   "nbconvert_exporter": "python",
   "pygments_lexer": "ipython2",
   "version": "2.7.11"
  },
  "name": ""
 },
 "nbformat": 3,
 "nbformat_minor": 0,
 "worksheets": [
  {
   "cells": [
    {
     "cell_type": "code",
     "collapsed": false,
     "input": [
      "import pandas as pd\n",
      "import numpy as np\n",
      "from datetime import datetime as dt\n",
      "\n",
      "from common import is_null\n",
      "\n",
      "from pyep.transform import derive_from_date_exited_4y\n",
      "\n",
      "df = pd.read_csv(r\"C:\\Workspace\\ca-dinubaunified\\student\\EL data.csv\", sep=',', dtype=str)\n",
      "\n",
      "condition1 = df.loc[:, 'EL'].isin(['0', '1'])\n",
      "condition2 = df.loc[:, 'EL'].isnull()\n",
      "\n",
      "print len(df)\n",
      "\n",
      "df = df[~(condition1 | condition2)]\n",
      "\n",
      "print len(df)\n",
      "\n",
      "df['Elv_Yrs_USSchools'] = df['Date Enrolled in the US'].map(\n",
      "    lambda x: np.NaN if is_null(x) \n",
      "    else (dt.today()-pd.to_datetime(x)).days / 365)\n",
      "\n",
      "df['Elv_LepStatus'] = df.apply(\n",
      "    lambda x: derive_from_date_exited_4y(x['Rfep date'])\n",
      "    if x['EL'] == '4' else x['EL'],\n",
      "    axis=1)\n",
      "\n",
      "df.loc[df['IEP'].notnull(), 'Elv_IEP'] = 'Yes'\n",
      "\n",
      "df['Elv_DateEnteredLEP'] = df['Date Identified as EL']\n",
      "df['Elv_RFEPDate'] = df['Rfep date']\n",
      "\n",
      "df.loc[df['Elv_LepStatus'].isin(['2', '5']), 'Elv_DateEnteredLEP'] = np.NaN\n",
      "df.loc[df['Elv_LepStatus'].isin(['2', '5']), 'Elv_RFEPDate'] = np.NaN\n",
      "\n",
      "df.to_csv(r\"C:\\Workspace\\ca-dinubaunified\\student\\EL data_processed.csv\", index=False)"
     ],
     "language": "python",
     "metadata": {
      "scrolled": true
     },
     "outputs": [],
     "prompt_number": 1
    },
    {
     "cell_type": "code",
     "collapsed": false,
     "input": [
      "import pandas as pd\n",
      "import glob\n",
      "\n",
      "from pyep.settings import WORKSPACE_ROOT\n",
      "\n",
      "subset = []\n",
      "\n",
      "head = pd.read_csv(r\"C:\\Workspace\\ca-dinubaunified\\student\\ca-dinubaunified_student_headers.txt\", dtype=str, sep='\\t')\n",
      "\n",
      "for file in glob.glob('{}/ca-dinubaunified/student/*ELLV.txt'.format(WORKSPACE_ROOT)):\n",
      "    df = pd.read_csv(file, sep='\\t', header=None, names=head)\n",
      "    df.loc[:, 'School'] = file\n",
      "    subset.append(df)\n",
      "    \n",
      "df = pd.concat(subset)\n",
      "\n",
      "\n",
      "\n",
      "df.to_csv(r\"C:\\Workspace\\ca-dinubaunified\\student\\combined.csv\", sep=',', index=False)\n",
      "    "
     ],
     "language": "python",
     "metadata": {},
     "outputs": [],
     "prompt_number": 2
    }
   ],
   "metadata": {}
  }
 ]
}