{
 "metadata": {
  "kernelspec": {
   "display_name": "Python 2",
   "language": "python",
   "name": "python2"
  },
  "language_info": {
   "codemirror_mode": {
    "name": "ipython",
    "version": 2
   },
   "file_extension": ".py",
   "mimetype": "text/x-python",
   "name": "python",
   "nbconvert_exporter": "python",
   "pygments_lexer": "ipython2",
   "version": "2.7.11"
  },
  "name": ""
 },
 "nbformat": 3,
 "nbformat_minor": 0,
 "worksheets": [
  {
   "cells": [
    {
     "cell_type": "code",
     "collapsed": false,
     "input": [
      "import pandas as pd\n",
      "import numpy as np\n",
      "import datetime as dt\n",
      "\n",
      "df = pd.read_csv(r\"C:\\Workspace\\dc-districtofcolumbia\\student\\dcps_date_entered_lep_raw.csv\", dtype=str)\n",
      "\n",
      "test_type_mapping = {\n",
      "    '1': 'ACCESS',\n",
      "    '2': 'Alt ACCESS',\n",
      "    '17': 'WIDA MODEL',\n",
      "    '22': 'IPT',\n",
      "    '23': 'Online IPT',\n",
      "    '24': 'W-APT K',\n",
      "    '25': 'WIDA MODEL K',\n",
      "    '26': 'W-APT 1-2',\n",
      "    '27': 'W-APT 3-5',\n",
      "    '28': 'W-APT 6-8',\n",
      "    '29': 'W-APT 9-12',\n",
      "    '33': 'ACCESS 2.0',\n",
      "    '36': 'WIDA Screener'\n",
      "}\n",
      "\n",
      "# map test type names\n",
      "df.loc[:, 'TestName'] = df.loc[:, 'TestType'].map(test_type_mapping)\n",
      "\n",
      "df = df.replace('NULL', np.NaN)\n",
      "\n",
      "df.loc[:, 'StudentEnterLEP'] = pd.to_datetime(df.loc[:, 'StudentEnterLEP'])\n",
      "df.loc[:, 'StudentDateGiven'] = pd.to_datetime(df.loc[:, 'StudentDateGiven'])\n",
      "\n",
      "# group sheet by student keeping the oldest test date \n",
      "grouped = df.groupby('StudentLocalID')['StudentDateGiven'].agg('min').reset_index()\n",
      "\n",
      "# pandas min was changing dates into longs representing # of nanoseconds between the Date Given and the min supported date\n",
      "# change it back to a human-readable date\n",
      "grouped.loc[grouped.loc[:, 'StudentDateGiven'].notnull(), 'StudentDateGiven'] = grouped.loc[grouped.loc[:, 'StudentDateGiven'].notnull(), 'StudentDateGiven'].map(\n",
      "    lambda x: pd.to_datetime(x, unit='ns'))\n",
      "\n",
      "# grouped is a new df that just contains StudentLocalID and StudentDateGiven - merge back in with bigger file\n",
      "# StudentDateGiven_y = min StudentDateGiven\n",
      "# filter file down to just the row containing earliest test date - use this to update Date Entered LEP\n",
      "merged = pd.merge(left=df, right=grouped, on='StudentLocalID', how='left')\n",
      "merged = merged[merged.loc[:, 'StudentDateGiven_x'] == merged.loc[:, 'StudentDateGiven_y']]\n",
      "\n",
      "# filtering down the merged df to just the rows where the StudentEnterLEP date != StudentDateGiven_y\n",
      "incorrect = merged[merged.loc[:, 'StudentEnterLEP'] != merged.loc[:, 'StudentDateGiven_y']]\n",
      "\n",
      "# filtering down even further to just the rows where the StudentEnterLEP is more recent than the StudentDateGiven_y\n",
      "incorrect = incorrect[pd.to_datetime(incorrect.loc[:, 'StudentEnterLEP']) > pd.to_datetime(incorrect.loc[:, 'StudentDateGiven_y'])]\n",
      "\n",
      "incorrect.to_csv(r\"C:\\Workspace\\dc-districtofcolumbia\\student\\dcps_date_entered_lep_grouped_test_min_filtered_incorrect_3.csv\", index=False)"
     ],
     "language": "python",
     "metadata": {
      "scrolled": true
     },
     "outputs": [],
     "prompt_number": 50
    },
    {
     "cell_type": "code",
     "collapsed": false,
     "input": [
      "import pandas as pd\n",
      "import datetime as dt\n",
      "\n",
      "df = pd.read_csv(r\"C:\\Workspace\\dc-districtofcolumbia\\student\\students_to_correct2.csv\", dtype=str)\n",
      "\n",
      "date_mapping = {\n",
      "    2017: '8/21/2017',\n",
      "    2016: '8/22/2016',\n",
      "    2015: '8/24/2015',\n",
      "    2014: '8/25/2014',\n",
      "    2013: '8/26/2013',\n",
      "    2012: '8/27/2012',\n",
      "    2011: '8/29/2011',\n",
      "    2010: '8/23/2010',\n",
      "    2009: '8/31/2009',\n",
      "    2008: '9/1/2008',\n",
      "    2007: '9/1/2007'\n",
      "}\n",
      "\n",
      "# if student's first test is ACCESS, their DateEntered should be the start of school of the following school year\n",
      "# otherwise, their DateEntered should be the DateGiven of their first test\n",
      "def correct_date_entered(x):\n",
      "    date = pd.to_datetime(x.loc['StudentDateGiven_y'])\n",
      "    year = date.year\n",
      "    try:\n",
      "        if 'ACCESS' in x.loc['TestName']:\n",
      "            return date_mapping[year]\n",
      "        else:\n",
      "            return date\n",
      "    except KeyError:\n",
      "        print date\n",
      "\n",
      "df.loc[:, 'Elv_CorrectDateEnteredLEP'] = df.apply(correct_date_entered, axis=1)\n",
      "\n",
      "df.to_csv(r\"C:\\Workspace\\dc-districtofcolumbia\\student\\students_to_correct_with_derived_date2.csv\", index=False)"
     ],
     "language": "python",
     "metadata": {},
     "outputs": [],
     "prompt_number": 52
    }
   ],
   "metadata": {}
  }
 ]
}