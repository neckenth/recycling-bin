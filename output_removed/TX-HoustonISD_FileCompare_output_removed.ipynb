{
 "metadata": {
  "kernelspec": {
   "display_name": "Python 2",
   "language": "python",
   "name": "python2"
  },
  "language_info": {
   "codemirror_mode": {
    "name": "ipython",
    "version": 2
   },
   "file_extension": ".py",
   "mimetype": "text/x-python",
   "name": "python",
   "nbconvert_exporter": "python",
   "pygments_lexer": "ipython2",
   "version": "2.7.11"
  },
  "name": ""
 },
 "nbformat": 3,
 "nbformat_minor": 0,
 "worksheets": [
  {
   "cells": [
    {
     "cell_type": "code",
     "collapsed": false,
     "input": [
      "import pandas as pd\n",
      "\n",
      "users_existing = pd.read_csv(r\"C:\\Workspace\\tx-houstonisd\\student\\existing\\Users_existing-20180327.csv\", dtype=str)\n",
      "users_new = pd.read_csv(r\"C:\\Workspace\\tx-houstonisd\\student\\new\\users-20180327.csv\", dtype=str)\n",
      "\n",
      "demo_existing = pd.read_csv(r\"C:\\Workspace\\tx-houstonisd\\student\\existing\\Demographics-20180327.csv\", dtype=str)\n",
      "demo_new = pd.read_csv(r\"C:\\Workspace\\tx-houstonisd\\student\\new\\demographics_new-20180327.csv\", dtype=str)\n",
      "\n",
      "processed_existing = pd.read_csv(r\"C:\\Workspace\\tx-houstonisd\\student\\existing\\Ellevation_Student_Demographics_20180327-processed.csv\", dtype=str)\n",
      "processed_new = pd.read_csv(r\"C:\\Workspace\\tx-houstonisd\\student\\Ellevation_Student_Demographics_20180327-processed_2.csv\", dtype=str)\n",
      "\n",
      "enroll_existing = pd.read_csv(r\"C:\\Workspace\\tx-houstonisd\\schedule\\existing\\Enrollment-20180327.csv\", dtype=str)\n",
      "enroll_new = pd.read_csv(r\"C:\\Workspace\\tx-houstonisd\\schedule\\new\\enrollments-20180327.csv\", dtype=str)\n",
      "\n",
      "classes_existing = pd.read_csv(r\"C:\\Workspace\\tx-houstonisd\\schedule\\existing\\Classes_existing-20180327.csv\", dtype=str)\n",
      "classes_new = pd.read_csv(r\"C:\\Workspace\\tx-houstonisd\\schedule\\new\\classes-20180327.csv\", dtype=str)\n",
      "\n",
      "sched_processed_exist = pd.read_csv(r\"C:\\Workspace\\tx-houstonisd\\schedule\\existing\\Classes-20180327-processed.csv\", dtype=str)\n",
      "sched_processed_new = pd.read_csv(r\"C:\\Workspace\\tx-houstonisd\\schedule\\classes-20180327-processed_2.csv\", dtype=str)\n",
      "\n",
      "df = pd.DataFrame([users_existing.columns.tolist(),\n",
      "                    users_new.columns.tolist(),\n",
      "                    demo_existing.columns.tolist(),\n",
      "                    demo_new.columns.tolist(),\n",
      "                   processed_existing.columns.tolist(),\n",
      "                   processed_new.columns.tolist(),\n",
      "                   enroll_existing.columns.tolist(),\n",
      "                   enroll_new.columns.tolist(),\n",
      "                   classes_existing.columns.tolist(),\n",
      "                   classes_new.columns.tolist(),\n",
      "                   sched_processed_exist.columns.tolist(),\n",
      "                   sched_processed_new.columns.tolist()])\n",
      "\n",
      "\n",
      "\n",
      "df.to_csv(r\"C:\\Workspace\\tx-houstonisd\\student\\col_header_changes.csv\", index=False)\n",
      "\n",
      "# print 'users existing: {}\\nusers new: {}'.format(users_existing.columns.tolist(), users_new.columns.tolist())\n",
      "# print 'demographics existing: {}\\ndemographics new: {}'.format(demo_existing.columns.tolist(), demo_new.columns.tolist())\n",
      "# print 'student processed existing: {}\\nprocessed new: {}'.format(processed_existing.columns.tolist(), processed_new.columns.tolist())\n",
      "# print 'enrollment existing: {}\\nenrollment new: {}'.format(enroll_existing.columns.tolist(), enroll_new.columns.tolist())\n",
      "# print 'classes existing: {}\\nclasses new: {}'.format(classes_existing.columns.tolist(), classes_new.columns.tolist())\n",
      "# print 'sched processed existing: {}\\nsched processed new: {}'.format(sched_processed_exist.columns.tolist(), sched_processed_new.columns.tolist())"
     ],
     "language": "python",
     "metadata": {},
     "outputs": [],
     "prompt_number": 23
    }
   ],
   "metadata": {}
  }
 ]
}