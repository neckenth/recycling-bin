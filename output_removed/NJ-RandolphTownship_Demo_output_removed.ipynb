{
 "metadata": {
  "kernelspec": {
   "display_name": "Python 2",
   "language": "python",
   "name": "python2"
  },
  "language_info": {
   "codemirror_mode": {
    "name": "ipython",
    "version": 2
   },
   "file_extension": ".py",
   "mimetype": "text/x-python",
   "name": "python",
   "nbconvert_exporter": "python",
   "pygments_lexer": "ipython2",
   "version": "2.7.11"
  },
  "name": ""
 },
 "nbformat": 3,
 "nbformat_minor": 0,
 "worksheets": [
  {
   "cells": [
    {
     "cell_type": "code",
     "collapsed": false,
     "input": [
      "import pandas as pd\n",
      "import numpy as np\n",
      "import datetime as dt\n",
      "\n",
      "from pyep.transform import derive_from_date_exited_4y\n",
      "\n",
      "from common import is_null\n",
      "\n",
      "df = pd.read_csv(r\"C:\\Workspace\\nj-randolphtownship\\student\\ellevation-student-demographics.csv\", dtype=str)\n",
      "\n",
      "df = df[df.loc[:, 'Entered LEP Date'].notnull()]\n",
      "\n",
      "pd.to_datetime(df['Entered LEP Date'])\n",
      "pd.to_datetime(df['Exited LEP Date'])\n",
      "\n",
      "df['Elv_LEPStatus'] = df['Exited LEP Date'].map(\n",
      "    lambda x: derive_from_date_exited_4y(x)\n",
      "    if not is_null(x)\n",
      "    else 'ELL')\n",
      "    \n",
      "df.loc[df['Date Withdrawn (from district)'].notnull(), 'Elv_Withrawn'] = 'Y'\n",
      "\n",
      "today = dt.datetime.today()\n",
      "\n",
      "df['Elv_GraduatedDate'] = df['Date Graduated (from district)'].map(\n",
      "lambda x: np.NaN if pd.to_datetime(x) > today else x)\n",
      "\n",
      "df.loc[df['Elv_GraduatedDate'].notnull(), 'Elv_Graduate'] = 'Y'\n",
      "\n",
      "df.to_csv(r\"C:\\Workspace\\nj-randolphtownship\\student\\ellevation-student-demographics_processed.csv\", index=False)"
     ],
     "language": "python",
     "metadata": {},
     "outputs": [],
     "prompt_number": 7
    }
   ],
   "metadata": {}
  }
 ]
}