{
 "metadata": {
  "kernelspec": {
   "display_name": "Python 2",
   "language": "python",
   "name": "python2"
  },
  "language_info": {
   "codemirror_mode": {
    "name": "ipython",
    "version": 2
   },
   "file_extension": ".py",
   "mimetype": "text/x-python",
   "name": "python",
   "nbconvert_exporter": "python",
   "pygments_lexer": "ipython2",
   "version": "2.7.11"
  },
  "name": ""
 },
 "nbformat": 3,
 "nbformat_minor": 0,
 "worksheets": [
  {
   "cells": [
    {
     "cell_type": "code",
     "collapsed": false,
     "input": [
      "import pandas as pd\n",
      "\n",
      "df=pd.read_csv(r\"C:\\Workspace\\ky-covingtonindependent\\student\\ic_EllevationStudents.txt\", sep=',', dtype=str)\n",
      "\n",
      "print len(df)\n",
      "\n",
      "df_unique=df.drop_duplicates(subset='student.stateID')\n",
      "\n",
      "print len(df_unique)\n",
      "\n",
      "df_unique.to_csv(r\"C:\\Workspace\\ky-covingtonindependent\\student\\ic_EllevationStudents_processed.txt\", index=False)"
     ],
     "language": "python",
     "metadata": {},
     "outputs": [],
     "prompt_number": 5
    }
   ],
   "metadata": {}
  }
 ]
}