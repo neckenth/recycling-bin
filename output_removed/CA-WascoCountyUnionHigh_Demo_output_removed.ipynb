{
 "metadata": {
  "kernelspec": {
   "display_name": "Python 2",
   "language": "python",
   "name": "python2"
  },
  "language_info": {
   "codemirror_mode": {
    "name": "ipython",
    "version": 2
   },
   "file_extension": ".py",
   "mimetype": "text/x-python",
   "name": "python",
   "nbconvert_exporter": "python",
   "pygments_lexer": "ipython2",
   "version": "2.7.11"
  },
  "name": ""
 },
 "nbformat": 3,
 "nbformat_minor": 0,
 "worksheets": [
  {
   "cells": [
    {
     "cell_type": "code",
     "collapsed": false,
     "input": [
      "import pandas as pd\n",
      "import numpy as np\n",
      "\n",
      "from datetime import datetime as dt\n",
      "\n",
      "from common import is_null\n",
      "\n",
      "from pyep.transform import derive_from_date_exited_4y\n",
      "\n",
      "df = pd.read_csv(r\"C:\\Workspace\\ca-wascounionhigh\\student\\Student Demographics_Revised.csv\", dtype=str)\n",
      "\n",
      "df = df[df.loc[:, 'Description_STU_LF'] != 'EO - English Only']\n",
      "\n",
      "df['Elv_Yrs_USSchools'] = df['US Schl Enter Date'].map(\n",
      "    lambda x: np.NaN if is_null(x) \n",
      "    else (dt.today()-pd.to_datetime(x)).days / 365)\n",
      "\n",
      "df['Elv_StartDate'] = df['Start Date']\n",
      "\n",
      "df.loc[df.loc[:, 'Description_STU_LF'] == 'IFEP - Initially FEP', 'Elv_StartDate'] = np.NaN\n",
      "\n",
      "#df['Elv_LEPStatus'] = df['Description_STU_LF']\n",
      "\n",
      "df['Elv_LEPStatus'] = df.apply(\n",
      "    lambda x: derive_from_date_exited_4y(x['Redes Date'])\n",
      "    if x['Description_STU_LF'] == 'RFEP - Redesignated FEP' else x['Description_STU_LF'],\n",
      "    axis=1)\n",
      "\n",
      "df.loc[(df.loc[:, 'Redes Date'].isnull()) & \n",
      "       (df.loc[:, 'Description_STU_LF'] == 'RFEP - Redesignated FEP'), 'Elv_LEPStatus'] = 'RFEP (Unknown)'\n",
      "\n",
      "df.to_csv(r\"C:\\Workspace\\ca-wascounionhigh\\student\\Student Demographics_Revised_processed.csv\", index=False)\n"
     ],
     "language": "python",
     "metadata": {},
     "outputs": [],
     "prompt_number": 25
    }
   ],
   "metadata": {}
  }
 ]
}