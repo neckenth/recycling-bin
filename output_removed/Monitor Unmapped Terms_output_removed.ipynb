{
 "metadata": {
  "kernelspec": {
   "display_name": "Python 2",
   "language": "python",
   "name": "python2"
  },
  "language_info": {
   "codemirror_mode": {
    "name": "ipython",
    "version": 2
   },
   "file_extension": ".py",
   "mimetype": "text/x-python",
   "name": "python",
   "nbconvert_exporter": "python",
   "pygments_lexer": "ipython2",
   "version": "2.7.11"
  },
  "name": ""
 },
 "nbformat": 3,
 "nbformat_minor": 0,
 "worksheets": [
  {
   "cells": [
    {
     "cell_type": "code",
     "collapsed": false,
     "input": [
      "import os\n",
      "\n",
      "if os.environ['COMPUTERNAME'] == 'PRDAPO1':\n",
      "    log_path = \"D:/Ellevation/projects/pyep-1.4/pyep/\"\n",
      "else:\n",
      "    log_path = \"D:/Ellevation/SVN/pyep/pyep/\"\n",
      "\n",
      "if os.stat('{}ScheduleWizard_UnmappedTerms.log'.format(log_path)).st_size == 0:\n",
      "    pass\n",
      "else:\n",
      "    raise Exception('At least one district has unmapped Term values. Please check the log file.')"
     ],
     "language": "python",
     "metadata": {},
     "outputs": [],
     "prompt_number": 2
    }
   ],
   "metadata": {}
  }
 ]
}