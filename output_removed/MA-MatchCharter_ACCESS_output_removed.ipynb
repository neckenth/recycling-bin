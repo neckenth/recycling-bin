{
 "metadata": {
  "kernelspec": {
   "display_name": "Python 2",
   "language": "python",
   "name": "python2"
  },
  "language_info": {
   "codemirror_mode": {
    "name": "ipython",
    "version": 2
   },
   "file_extension": ".py",
   "mimetype": "text/x-python",
   "name": "python",
   "nbconvert_exporter": "python",
   "pygments_lexer": "ipython2",
   "version": "2.7.11"
  },
  "name": ""
 },
 "nbformat": 3,
 "nbformat_minor": 0,
 "worksheets": [
  {
   "cells": [
    {
     "cell_type": "code",
     "collapsed": false,
     "input": [
      "import pandas as pd\n",
      "\n",
      "df = pd.read_csv(r\"C:\\Workspace\\ma-matchcharter\\access\\ACCESS_for_ELLs_Grades_5-10.csv\", dtype=str)\n",
      "\n",
      "# print df.columns.tolist()\n",
      "\n",
      "df_1 = df[pd.to_datetime(df.loc[:, 'Test Date']) < pd.to_datetime('01/01/2016')]\n",
      "\n",
      "df_2 = df[pd.to_datetime(df.loc[:, 'Test Date']) >= pd.to_datetime('01/01/2016')]\n",
      "\n",
      "print len(df_1)\n",
      "print len(df_2)\n",
      "\n",
      "df_1.to_csv(r\"C:\\Workspace\\ma-matchcharter\\access\\ACCESS_for_ELLs.csv\", index=False)\n",
      "df_2.to_csv(r\"C:\\Workspace\\ma-matchcharter\\access\\ACCESS_2.0.csv\", index=False)\n",
      "        "
     ],
     "language": "python",
     "metadata": {},
     "outputs": [],
     "prompt_number": 5
    },
    {
     "cell_type": "code",
     "collapsed": false,
     "input": [
      "import pandas as pd\n",
      "\n",
      "df = pd.read_csv(r\"C:\\Workspace\\ma-matchcharter\\access\\ACCESS_for_ELLs_2017.csv\", dtype=str)\n",
      "# df.columns.tolist()\n",
      "alt = df[df.loc[:, 'Listening'] == 'P2']\n",
      "\n",
      "alt.to_csv(r\"C:\\Workspace\\ma-matchcharter\\access\\ACCESS_for_ELLs_2017_alt_processed.csv\", index=False)"
     ],
     "language": "python",
     "metadata": {},
     "outputs": [],
     "prompt_number": 7
    }
   ],
   "metadata": {}
  }
 ]
}