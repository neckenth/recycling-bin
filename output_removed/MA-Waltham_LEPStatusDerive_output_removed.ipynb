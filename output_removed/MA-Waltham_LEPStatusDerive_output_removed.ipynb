{
 "metadata": {
  "kernelspec": {
   "display_name": "Python 2",
   "language": "python",
   "name": "python2"
  },
  "language_info": {
   "codemirror_mode": {
    "name": "ipython",
    "version": 2
   },
   "file_extension": ".py",
   "mimetype": "text/x-python",
   "name": "python",
   "nbconvert_exporter": "python",
   "pygments_lexer": "ipython2",
   "version": "2.7.11"
  },
  "name": ""
 },
 "nbformat": 3,
 "nbformat_minor": 0,
 "worksheets": [
  {
   "cells": [
    {
     "cell_type": "code",
     "collapsed": false,
     "input": [
      "import pandas as pd\n",
      "\n",
      "df=pd.read_csv(r\"C:\\Workspace\\ma-waltham\\student\\students.txt\", sep = '\\t', dtype=str)\n",
      "\n",
      "condition1 = df.loc[:, 'SchoolCode (15)'].isin(\n",
      "    ['00000000', '00000001', '00000002'])\n",
      "condition2 = df.loc[:, 'SCHOOL'] == 'WALTHAM - OUT OF DISTRICT SCHOOLS'\n",
      "condition3 = df.loc[:, 'LimitedEng (25)'] == '00'\n",
      "condition4 = df.loc[:, 'Monitoring Year'].isnull()\n",
      "\n",
      "df = df[~(condition1 | condition2) &\n",
      "        ~(condition3 & condition4)]\n",
      "\n",
      "df.loc[df['ELLProgram (26)'] == '01 Enrolled in sheltered Eng immersion - 01', 'Elv_LEPStatus'] = 'LEP'\n",
      "df.loc[df['ELLProgram (26)'] == '04 Opt Out/Program Refusal - 04', 'Elv_LEPStatus'] = 'Parent Refusal/Opt-Out'\n",
      "df.loc[df['Monitoring Year'] == '1', 'Elv_LEPStatus'] = 'FLEP 1'\n",
      "df.loc[df['Monitoring Year'] == '2', 'Elv_LEPStatus'] = 'FLEP 2'\n",
      "df.loc[df['Monitoring Year'] == 'FE', 'Elv_LEPStatus'] = 'Fully Exited'\n",
      "\n",
      "df.to_csv(r\"C:\\Workspace\\ma-waltham\\student\\students_processed.csv\", sep=',', index=False)\n",
      "    \n",
      "    \n"
     ],
     "language": "python",
     "metadata": {},
     "outputs": [],
     "prompt_number": 1
    },
    {
     "cell_type": "code",
     "collapsed": false,
     "input": [
      "import pandas as pd\n",
      "\n",
      "df=pd.read_csv(r\"C:\\Workspace\\ma-waltham\\student\\students.txt\", sep = '\\t', dtype=str)\n",
      "\n",
      "condition1 = df.loc[:, 'SchoolCode (15)'].isin(\n",
      "    ['00000000', '00000001', '00000002'])\n",
      "condition2 = df.loc[:, 'SCHOOL'] == 'WALTHAM - OUT OF DISTRICT SCHOOLS'\n",
      "condition3 = df.loc[:, 'LimitedEng (25)'] == '00'\n",
      "condition4 = df.loc[:, 'Monitoring Year'].isnull()\n",
      "\n",
      "df = df[~(condition1 | condition2) &\n",
      "        ~(condition3 & condition4)]\n",
      "\n",
      "df.loc[df['ELLProgram (26)'] == '01 Enrolled in sheltered Eng immersion - 01', 'Elv_LEPStatus'] = 'LEP'\n",
      "df.loc[df['ELLProgram (26)'].isin(['04 Opt Out/Program Refusal - 04', '04 Opt out/Program Refusal - 04']), 'Elv_LEPStatus'] = 'Parent Refusal/Opt-Out'\n",
      "df.loc[df['Monitoring Year'] == '1', 'Elv_LEPStatus'] = 'FLEP 1'\n",
      "df.loc[df['Monitoring Year'] == '2', 'Elv_LEPStatus'] = 'FLEP 2'\n",
      "df.loc[df['Monitoring Year'] == 'FE', 'Elv_LEPStatus'] = 'Fully Exited'\n",
      "\n",
      "df.to_csv(r\"C:\\Workspace\\ma-waltham\\student\\students_processed.csv\", sep=',', index=False)\n",
      "\n",
      "\n",
      "    "
     ],
     "language": "python",
     "metadata": {},
     "outputs": [],
     "prompt_number": 5
    }
   ],
   "metadata": {}
  }
 ]
}