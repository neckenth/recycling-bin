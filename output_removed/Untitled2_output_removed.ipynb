{
 "metadata": {
  "kernelspec": {
   "display_name": "Python 2",
   "language": "python",
   "name": "python2"
  },
  "language_info": {
   "codemirror_mode": {
    "name": "ipython",
    "version": 2
   },
   "file_extension": ".py",
   "mimetype": "text/x-python",
   "name": "python",
   "nbconvert_exporter": "python",
   "pygments_lexer": "ipython2",
   "version": "2.7.11"
  },
  "name": ""
 },
 "nbformat": 3,
 "nbformat_minor": 0,
 "worksheets": [
  {
   "cells": [
    {
     "cell_type": "code",
     "collapsed": false,
     "input": [
      "import pandas as pd\n",
      "from pyep import read_delimited\n",
      "\n",
      "df = read_delimited(r\"C:\\Workspace\\ny-hewlettwoodmere\\schedule\\EllevationCourseData.txt\", \n",
      "                      sep='\\t', isInteractive=False, castNull=True, inferDialect=False)\n",
      "\n",
      "df = df.applymap(lambda x: str.strip(x))\n",
      "df.columns = df.columns.map(str.strip)\n",
      "\n",
      "df\n",
      "    \n",
      "    "
     ],
     "language": "python",
     "metadata": {},
     "outputs": [],
     "prompt_number": 8
    }
   ],
   "metadata": {}
  }
 ]
}