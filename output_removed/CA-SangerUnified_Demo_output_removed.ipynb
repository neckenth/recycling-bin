{
 "metadata": {
  "kernelspec": {
   "display_name": "Python 2",
   "language": "python",
   "name": "python2"
  },
  "language_info": {
   "codemirror_mode": {
    "name": "ipython",
    "version": 2
   },
   "file_extension": ".py",
   "mimetype": "text/x-python",
   "name": "python",
   "nbconvert_exporter": "python",
   "pygments_lexer": "ipython2",
   "version": "2.7.11"
  },
  "name": ""
 },
 "nbformat": 3,
 "nbformat_minor": 0,
 "worksheets": [
  {
   "cells": [
    {
     "cell_type": "code",
     "collapsed": false,
     "input": [
      "from pyep import read_delimited, qualify_file_name\n",
      "from pyep.transform import derive_from_date_exited_4y\n",
      "\n",
      "file = \"C:\\Workspace\\ca-sangerunified\\student\\susd_studentdemographics.txt\"\n",
      "df = read_delimited(file, castNull=True)\n",
      "\n",
      "df['ELV_LepStatus'] = df.apply(\n",
      "    lambda x: derive_from_date_exited_4y(x['DateExitedLEP'])\n",
      "    if x['EL Status'] == 'RFEP' else x['EL Status'],\n",
      "    axis=1)\n",
      "\n",
      "df.to_csv(qualify_file_name(file, 'processed'), sep='\\t', index=False)"
     ],
     "language": "python",
     "metadata": {},
     "outputs": [],
     "prompt_number": 2
    }
   ],
   "metadata": {}
  }
 ]
}