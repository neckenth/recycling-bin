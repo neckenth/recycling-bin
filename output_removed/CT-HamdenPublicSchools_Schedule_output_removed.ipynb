{
 "metadata": {
  "kernelspec": {
   "display_name": "Python 2",
   "language": "python",
   "name": "python2"
  },
  "language_info": {
   "codemirror_mode": {
    "name": "ipython",
    "version": 2
   },
   "file_extension": ".py",
   "mimetype": "text/x-python",
   "name": "python",
   "nbconvert_exporter": "python",
   "pygments_lexer": "ipython2",
   "version": "2.7.11"
  },
  "name": ""
 },
 "nbformat": 3,
 "nbformat_minor": 0,
 "worksheets": [
  {
   "cells": [
    {
     "cell_type": "code",
     "collapsed": false,
     "input": [
      "import pandas as pd\n",
      "import os\n",
      "\n",
      "from pyep import read_delimited, fetch_header, ScheduleWizard\n",
      "from pyep.settings import ACCOUNT_HOME, WORKSPACE_ROOT\n",
      "from pycron import fetch_from_sftp_many\n",
      "\n",
      "\n",
      "def main():\n",
      "    #Edit these variables\n",
      "    district = 'ct-hamdenpublicschools'\n",
      "    filename = 'EllevationStudentSchedules*.csv'\n",
      "    remote_directory = '/data/'\n",
      "    data_type = 'schedule'\n",
      "    header_file = 'HamdenScheduleHeader.csv'\n",
      "\n",
      "    files = fetch_from_sftp_many(district_name=district,\n",
      "                                 file_name_or_pattern=filename,\n",
      "                                 remote_directory=remote_directory,\n",
      "                                 data_type=data_type)\n",
      "\n",
      "    header_root = '{}/{}/{}/'.format(ACCOUNT_HOME, district.replace('-', '_'), data_type)\n",
      "    header = fetch_header(header_root + header_file)\n",
      "    root = WORKSPACE_ROOT + '/{}/{}/'.format(district, data_type)\n",
      "\n",
      "    subsets = []\n",
      "    for file in files:\n",
      "        if os.stat(root + file).st_size > 0:\n",
      "            subsets.append(read_delimited(root + file,\n",
      "                                          header=None,\n",
      "                                          inferDialect=False,\n",
      "                                          names=header,\n",
      "                                          isInteractive=False,\n",
      "                                          castNull=True))\n",
      "        else:\n",
      "            print root + file + ' is empty'\n",
      "\n",
      "    df = pd.concat(subsets)\n",
      "\n",
      "    df.to_csv(root + 'merged-processed.csv', sep=',', index=False)\n",
      "\n",
      "#     wizard = ScheduleWizard(root + 'merged-processed.csv')\n",
      "#     wizard.begin(useSavedMapping=True)\n",
      "\n",
      "\n",
      "if __name__ == '__main__':\n",
      "    main()"
     ],
     "language": "python",
     "metadata": {},
     "outputs": [],
     "prompt_number": 2
    },
    {
     "cell_type": "code",
     "collapsed": true,
     "input": [],
     "language": "python",
     "metadata": {},
     "outputs": [],
     "prompt_number": null
    }
   ],
   "metadata": {}
  }
 ]
}