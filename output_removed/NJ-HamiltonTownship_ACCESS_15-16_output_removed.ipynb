{
 "metadata": {
  "kernelspec": {
   "display_name": "Python 2",
   "language": "python",
   "name": "python2"
  },
  "language_info": {
   "codemirror_mode": {
    "name": "ipython",
    "version": 2
   },
   "file_extension": ".py",
   "mimetype": "text/x-python",
   "name": "python",
   "nbconvert_exporter": "python",
   "pygments_lexer": "ipython2",
   "version": "2.7.11"
  },
  "name": ""
 },
 "nbformat": 3,
 "nbformat_minor": 0,
 "worksheets": [
  {
   "cells": [
    {
     "cell_type": "code",
     "collapsed": false,
     "input": [
      "import pandas as pd\n",
      "from datetime import datetime as dt\n",
      "\n",
      "df = pd.read_csv(r\"C:\\Workspace\\nj-hamiltontownship\\access\\15-16\\2016 NJ1950_Summative_Stud_File (2).csv\", dtype=str)\n",
      "\n",
      "df.loc[:, 'Elv_DateGiven'] = df.loc[:, 'Date of Testing'].map(\n",
      "    lambda x: pd.to_datetime(x, format='%m%d%y'))\n",
      "\n",
      "df.loc[:, 'Elv_Tier'] = df.apply(\n",
      "    lambda x: x.loc['Online tier  Grade 1-12'] if x.loc['Grade'] != '00' else 'K', axis=1)\n",
      "\n",
      "df.to_csv(r\"C:\\Workspace\\nj-hamiltontownship\\access\\15-16\\2016 NJ1950_Summative_Stud_File (2)_processed.csv\", index=False)"
     ],
     "language": "python",
     "metadata": {},
     "outputs": [],
     "prompt_number": 3
    }
   ],
   "metadata": {}
  }
 ]
}