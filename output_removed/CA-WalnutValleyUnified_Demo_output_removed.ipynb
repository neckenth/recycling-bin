{
 "metadata": {
  "kernelspec": {
   "display_name": "Python 2",
   "language": "python",
   "name": "python2"
  },
  "language_info": {
   "codemirror_mode": {
    "name": "ipython",
    "version": 2
   },
   "file_extension": ".py",
   "mimetype": "text/x-python",
   "name": "python",
   "nbconvert_exporter": "python",
   "pygments_lexer": "ipython2",
   "version": "2.7.11"
  },
  "name": ""
 },
 "nbformat": 3,
 "nbformat_minor": 0,
 "worksheets": [
  {
   "cells": [
    {
     "cell_type": "code",
     "collapsed": false,
     "input": [
      "import pandas as pd\n",
      "from pyep.transform import derive_from_date_exited_4y\n",
      "import numpy as np\n",
      "from common import is_null\n",
      "from datetime import datetime as dt\n",
      "\n",
      "df=pd.read_csv(r\"C:\\Workspace\\ca-walnutvalleyunified\\student\\wvusd-student.csv\", sep=',', dtype=str)\n",
      "\n",
      "df = df[df.loc[:, 'LEP Status'] != 'Not LEP']\n",
      "\n",
      "condition_1 = df['School Name'].str.contains('Independent Study', na=False)\n",
      "\n",
      "df = df[~condition_1]\n",
      "\n",
      "df['Elv_Date Entered LEP'] = df['Date Entered LEP']\n",
      "df['Elv_Date Monitoring Started'] = df['Date Monitoring Started']\n",
      "\n",
      "df.loc[df['LEP Status'] == 'Initially Fluent', 'Elv_Date Entered LEP'] = np.NaN\n",
      "df.loc[df['LEP Status'] == 'Initially Fluent', 'Elv_Date Monitoring Started'] = np.NaN\n",
      "\n",
      "df.loc[df['Date Withdrawn'].isnull(), 'Elv_DateWithdrawn'] = 'No'\n",
      "df.loc[df['Date Withdrawn'].notnull(), 'Elv_DateWithdrawn'] = 'Yes'\n",
      "\n",
      "df['Elv_MonitoringStatus'] = df.apply(\n",
      "    lambda x: derive_from_date_exited_4y(x['Elv_Date Monitoring Started'])\n",
      "    if x['LEP Status'] == 'Redesignated'\n",
      "    else x['LEP Status'],\n",
      "    axis=1)\n",
      "\n",
      "df['Elv_Yrs_USSchools'] = df['Date Enrolled in the US'].map(\n",
      "    lambda x: np.NaN if is_null(x) \n",
      "    else (dt.today()-pd.to_datetime(x)).days / 365)\n",
      "\n",
      "df.to_csv(r\"C:\\Workspace\\ca-walnutvalleyunified\\student\\wvusd-student_processed.csv\", index=False)"
     ],
     "language": "python",
     "metadata": {},
     "outputs": [],
     "prompt_number": 5
    }
   ],
   "metadata": {}
  }
 ]
}