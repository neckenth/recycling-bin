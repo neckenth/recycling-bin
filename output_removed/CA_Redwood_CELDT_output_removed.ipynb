{
 "metadata": {
  "kernelspec": {
   "display_name": "Python 2",
   "language": "python",
   "name": "python2"
  },
  "language_info": {
   "codemirror_mode": {
    "name": "ipython",
    "version": 2
   },
   "file_extension": ".py",
   "mimetype": "text/x-python",
   "name": "python",
   "nbconvert_exporter": "python",
   "pygments_lexer": "ipython2",
   "version": "2.7.11"
  },
  "name": ""
 },
 "nbformat": 3,
 "nbformat_minor": 0,
 "worksheets": [
  {
   "cells": [
    {
     "cell_type": "code",
     "collapsed": false,
     "input": [
      "import pandas as pd\n",
      "import os\n",
      "\n",
      "from pyep import read_delimited\n",
      "from pyep.settings import WORKSPACE_ROOT\n",
      "\n",
      "subset = []\n",
      "\n",
      "for file in os.listdir (WORKSPACE_ROOT + '/ca-redwoodcityelementary/CELDT/15_16/'):\n",
      "    df = read_delimited(WORKSPACE_ROOT + '/ca-redwoodcityelementary/CELDT/15_16/' + file)\n",
      "    subset.append(df)\n",
      "    \n",
      "df = pd.concat(subset)\n",
      "\n",
      "df['Elv_DateGiven'] = pd.to_datetime(df['testDate'], format='%m%d%Y', errors='coerce')\n",
      "\n",
      "print len(df)\n",
      "\n",
      "df.drop_duplicates(inplace=True)\n",
      "\n",
      "print len(df)\n",
      "\n",
      "df.to_csv(r\"C:\\Workspace\\ca-redwoodcityelementary\\CELDT\\15_16\\combined_processed.csv\", index=False)\n"
     ],
     "language": "python",
     "metadata": {},
     "outputs": [],
     "prompt_number": 9
    }
   ],
   "metadata": {}
  }
 ]
}