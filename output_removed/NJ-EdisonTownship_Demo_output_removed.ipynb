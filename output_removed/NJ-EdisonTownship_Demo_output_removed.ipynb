{
 "metadata": {
  "kernelspec": {
   "display_name": "Python 2",
   "language": "python",
   "name": "python2"
  },
  "language_info": {
   "codemirror_mode": {
    "name": "ipython",
    "version": 2
   },
   "file_extension": ".py",
   "mimetype": "text/x-python",
   "name": "python",
   "nbconvert_exporter": "python",
   "pygments_lexer": "ipython2",
   "version": "2.7.11"
  },
  "name": ""
 },
 "nbformat": 3,
 "nbformat_minor": 0,
 "worksheets": [
  {
   "cells": [
    {
     "cell_type": "code",
     "collapsed": false,
     "input": [
      "import pandas as pd\n",
      "import numpy as np\n",
      "from datetime import datetime as dt\n",
      "\n",
      "from pyep.transform import derive_from_date_exited_4y\n",
      "from common import is_null\n",
      "\n",
      "df = pd.read_csv(r\"C:\\Workspace\\nj-edisontownship\\student\\ellevation-student-demographics.csv\", dtype=str)\n",
      "\n",
      "print len(df)\n",
      "\n",
      "df = df[df.loc[:, 'Entered LEP Date'].notnull()]\n",
      "\n",
      "print len(df)\n",
      "\n",
      "df['Elv_LEPStatus'] = df.apply(\n",
      "lambda x: derive_from_date_exited_4y(x['Exited LEP Date'])\n",
      "if not is_null(x['Exited LEP Date']) else 'ELL',\n",
      "axis=1)\n",
      "\n",
      "df['Elv_WithdrawnDate'] = df['Date Withdrawn (from district)'].map(\n",
      "lambda x: x if pd.to_datetime(x) < dt.today() else np.NaN)\n",
      "\n",
      "df['Elv_GraduatedDate'] = df['Date Graduated (from district)'].map(\n",
      "lambda x: x if pd.to_datetime(x) < dt.today() else np.NaN)\n",
      "\n",
      "df['Elv_DroppedOutDate'] = df['Date Dropped Out (from district)'].map(\n",
      "lambda x: x if pd.to_datetime(x) < dt.today() else np.NaN)\n",
      "\n",
      "condition_1 = df.loc[:, 'Elv_LEPStatus'] == 'ELL'\n",
      "condition_2 = df.loc[:, 'Parent Refused ELL Services/Programs (y/n)'] == 'N'\n",
      "\n",
      "df.loc[(condition_1 & condition_2), 'Elv_ReceivingServices'] = 'Y'\n",
      "df.loc[(condition_1 & ~condition_2), 'Elv_ReceivingServices'] = 'N'\n",
      "\n",
      "df.head()\n",
      "\n",
      "df.to_csv(r\"C:\\Workspace\\nj-edisontownship\\student\\ellevation-student-demographics_processed.csv\", index=False)"
     ],
     "language": "python",
     "metadata": {},
     "outputs": [],
     "prompt_number": 14
    }
   ],
   "metadata": {}
  }
 ]
}