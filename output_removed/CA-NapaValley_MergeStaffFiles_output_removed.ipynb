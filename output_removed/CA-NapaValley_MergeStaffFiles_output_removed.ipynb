{
 "metadata": {
  "kernelspec": {
   "display_name": "Python 2",
   "language": "python",
   "name": "python2"
  },
  "language_info": {
   "codemirror_mode": {
    "name": "ipython",
    "version": 2
   },
   "file_extension": ".py",
   "mimetype": "text/x-python",
   "name": "python",
   "nbconvert_exporter": "python",
   "pygments_lexer": "ipython2",
   "version": "2.7.11"
  },
  "name": ""
 },
 "nbformat": 3,
 "nbformat_minor": 0,
 "worksheets": [
  {
   "cells": [
    {
     "cell_type": "code",
     "collapsed": false,
     "input": [
      "import pandas as pd\n",
      "\n",
      "df_elementary = pd.read_csv(r\"C:\\Workspace\\ca-napavalley\\person\\ELLevation_StaffRoster_Elementary20160826.csv\", sep=',', dtype=str)\n",
      "\n",
      "df_secondary = pd.read_csv(r\"C:\\Workspace\\ca-napavalley\\person\\ELLevation_StaffRoster_Secondary20160826.csv\", sep=',', dtype=str)\n",
      "\n",
      "df=pd.merge(df_elementary, df_secondary, how='outer')\n",
      "\n",
      "print len(df)\n",
      "\n",
      "df.to_csv(r\"C:\\Workspace\\ca-napavalley\\person\\ELLevation_StaffRoster_processed.csv\", sep=',', index=False)"
     ],
     "language": "python",
     "metadata": {},
     "outputs": [],
     "prompt_number": 2
    }
   ],
   "metadata": {}
  }
 ]
}