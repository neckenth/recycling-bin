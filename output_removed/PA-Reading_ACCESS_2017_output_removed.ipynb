{
 "metadata": {
  "kernelspec": {
   "display_name": "Python 2",
   "language": "python",
   "name": "python2"
  },
  "language_info": {
   "codemirror_mode": {
    "name": "ipython",
    "version": 2
   },
   "file_extension": ".py",
   "mimetype": "text/x-python",
   "name": "python",
   "nbconvert_exporter": "python",
   "pygments_lexer": "ipython2",
   "version": "2.7.11"
  },
  "name": ""
 },
 "nbformat": 3,
 "nbformat_minor": 0,
 "worksheets": [
  {
   "cells": [
    {
     "cell_type": "code",
     "collapsed": false,
     "input": [
      "import pandas as pd\n",
      "import glob\n",
      "\n",
      "from pyep.settings import WORKSPACE_ROOT\n",
      "\n",
      "print WORKSPACE_ROOT\n",
      "\n",
      "def main():\n",
      "    necessary_columns = [\n",
      "        'State Student ID',\n",
      "        'District Student ID',\n",
      "        'Grade',\n",
      "        'Reported Tier',\n",
      "        'Listening Scale Score',\n",
      "        'Reading Scale Score',\n",
      "        'Speaking Scale Score',\n",
      "        'Writing Scale Score',\n",
      "        'Comprehension Scale Score',\n",
      "        'Oral Scale Score',\n",
      "        'Literacy Scale Score',\n",
      "        'Composite (Overall) Scale Score',\n",
      "        'Listening Proficiency Level',\n",
      "        'Reading Proficiency Level',\n",
      "        'Speaking Proficiency Level',\n",
      "        'Writing Proficiency Level',\n",
      "        'Comprehension Proficiency Level',\n",
      "        'Oral Proficiency Level',\n",
      "        'Literacy Proficiency Level',\n",
      "        'Composite (Overall) Proficiency Level',\n",
      "        'Test Completion Date',\n",
      "        'Reported Mode']\n",
      "    \n",
      "    subset = []\n",
      "\n",
      "    for file in glob.glob(WORKSPACE_ROOT + '/pa-reading/access/*Summative*.csv'):\n",
      "        df = pd.read_csv(file, dtype=str, usecols=necessary_columns)\n",
      "        subset.append(df)\n",
      "    \n",
      "    df = pd.concat(subset)\n",
      "\n",
      "    df.loc[df['Reported Tier'] == '-', 'Reported Tier'] = 'K'\n",
      "\n",
      "#     df.loc[:, 'Grade'] = df.loc[:, 'Grade'].map(\n",
      "#         lambda x: x if (not str(x)[0] == '0' or x=='00') else str(x).lstrip('0'))\n",
      "    \n",
      "    df.loc[:, 'Grade'] = df.loc[:, 'Grade'].map(\n",
      "        lambda x: 'K' if (x == '0' or x == '00') else str(x).lstrip('0'))\n",
      "    \n",
      "    df.to_csv(WORKSPACE_ROOT + '/pa-reading/access/ACCESS_2_processed.csv', index=False)\n",
      "    \n",
      "main()\n",
      "    \n"
     ],
     "language": "python",
     "metadata": {},
     "outputs": [],
     "prompt_number": 5
    }
   ],
   "metadata": {}
  }
 ]
}