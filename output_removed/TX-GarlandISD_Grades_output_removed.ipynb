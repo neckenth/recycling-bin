{
 "metadata": {
  "kernelspec": {
   "display_name": "Python 2",
   "language": "python",
   "name": "python2"
  },
  "language_info": {
   "codemirror_mode": {
    "name": "ipython",
    "version": 2
   },
   "file_extension": ".py",
   "mimetype": "text/x-python",
   "name": "python",
   "nbconvert_exporter": "python",
   "pygments_lexer": "ipython2",
   "version": "2.7.11"
  },
  "name": ""
 },
 "nbformat": 3,
 "nbformat_minor": 0,
 "worksheets": [
  {
   "cells": [
    {
     "cell_type": "code",
     "collapsed": false,
     "input": [
      "import pandas as pd\n",
      "\n",
      "df = pd.read_csv(r\"C:\\Users\\NancyE\\Downloads\\SKY_EXP_ELLEVATION_GRADES_2018_2_11062017.csv\", dtype=str)\n",
      "\n",
      "print len(df)\n",
      "df = df[df.loc[:, 'Course Subject'].notnull() & ~df.loc[:, 'Course Subject'].isin(['HRM'])]\n",
      "print len(df)\n",
      "\n",
      "df.to_csv(r\"C:\\Workspace\\tx-garlandisd\\grades\\SKY_EXP_ELLEVATION_GRADES_2018_2_11062017_processed.csv\", index=False)"
     ],
     "language": "python",
     "metadata": {},
     "outputs": [],
     "prompt_number": 1
    },
    {
     "cell_type": "code",
     "collapsed": true,
     "input": [
      "from pyep.csvutil import ingest_data_file, generate_data_file\n",
      "\n",
      "grades = r\"C:\\Workspace\\tx-garlandisd\\grades\\Garland_SKY_EXP_ELLEVATION_GRADES_2018_5_04232018.csv\"\n",
      "\n",
      "destination_path = grades\n",
      "data = ingest_data_file(destination_path)\n",
      "files = generate_data_file(data, destination_path, chunkSize=15000)"
     ],
     "language": "python",
     "metadata": {},
     "outputs": [],
     "prompt_number": 1
    }
   ],
   "metadata": {}
  }
 ]
}