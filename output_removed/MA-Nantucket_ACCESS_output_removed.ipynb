{
 "metadata": {
  "kernelspec": {
   "display_name": "Python 2",
   "language": "python",
   "name": "python2"
  },
  "language_info": {
   "codemirror_mode": {
    "name": "ipython",
    "version": 2
   },
   "file_extension": ".py",
   "mimetype": "text/x-python",
   "name": "python",
   "nbconvert_exporter": "python",
   "pygments_lexer": "ipython2",
   "version": "2.7.11"
  },
  "name": ""
 },
 "nbformat": 3,
 "nbformat_minor": 0,
 "worksheets": [
  {
   "cells": [
    {
     "cell_type": "code",
     "collapsed": false,
     "input": [
      "# 2012-2013\n",
      "\n",
      "import pandas as pd\n",
      "\n",
      "df = pd.read_csv(r\"C:\\Workspace\\ma-nantucket\\elp-test-score\\ACCESS_2013_01970000.csv\", dtype=str)\n",
      "\n",
      "df = df[df.loc[:, 'teststatus'] != 'ABS']\n",
      "\n",
      "df_k = df[df.loc[:, 'grade'] == 'K']\n",
      "df_1_12 = df[df.loc[:, 'grade'] != 'K']\n",
      "\n",
      "print len(df_k)\n",
      "print len(df_1_12)\n",
      "\n",
      "df_k.to_csv(r\"C:\\Workspace\\ma-nantucket\\elp-test-score\\ACCESS_2013_01970000_k.csv\", index=False)\n",
      "\n",
      "df_1_12.to_csv(r\"C:\\Workspace\\ma-nantucket\\elp-test-score\\ACCESS_2013_01970000_1_12.csv\", index=False)"
     ],
     "language": "python",
     "metadata": {},
     "outputs": [],
     "prompt_number": 5
    },
    {
     "cell_type": "code",
     "collapsed": false,
     "input": [
      "#2013/2014\n",
      "\n",
      "df = pd.read_csv(r\"C:\\Workspace\\ma-nantucket\\elp-test-score\\ACCESS_2014_01970000.csv\", dtype=str)\n",
      "\n",
      "df = df[df.loc[:, 'teststatus'] != 'ABS']\n",
      "\n",
      "df_alt = df[df.loc[:, 'teststatus'] == 'ALT']\n",
      "df_k = df[(df.loc[:, 'grade'] == 'K') & (df.loc[:, 'teststatus'] != 'ALT')]\n",
      "df_1_12 = df[(df.loc[:, 'grade'] != 'K') & (df.loc[:, 'teststatus'] != 'ALT')]\n",
      "\n",
      "print len(df_alt)\n",
      "print len(df_k)\n",
      "print len(df_1_12)\n",
      "\n",
      "df_alt.to_csv(r\"C:\\Workspace\\ma-nantucket\\elp-test-score\\ACCESS_2014_01970000_alt.csv\", index=False)\n",
      "df_k.to_csv(r\"C:\\Workspace\\ma-nantucket\\elp-test-score\\ACCESS_2014_01970000_k.csv\", index=False)\n",
      "df_1_12.to_csv(r\"C:\\Workspace\\ma-nantucket\\elp-test-score\\ACCESS_2014_01970000_1_12.csv\", index=False)"
     ],
     "language": "python",
     "metadata": {},
     "outputs": [],
     "prompt_number": 10
    },
    {
     "cell_type": "code",
     "collapsed": false,
     "input": [
      "#2014/2015\n",
      "\n",
      "df = pd.read_csv(r\"C:\\Workspace\\ma-nantucket\\elp-test-score\\ACCESS_2015_with_progress_01970000.csv\", dtype=str)\n",
      "\n",
      "df_alt = df[df.loc[:, 'teststatus'] == 'ALT']\n",
      "df_k = df[(df.loc[:, 'grade'] == 'K') & (df.loc[:, 'teststatus'] != 'ALT')]\n",
      "df_1_12 = df[(df.loc[:, 'grade'] != 'K') & (df.loc[:, 'teststatus'] != 'ALT')]\n",
      "\n",
      "print len(df_alt)\n",
      "print len(df_k)\n",
      "print len(df_1_12)\n",
      "\n",
      "df_alt.to_csv(r\"C:\\Workspace\\ma-nantucket\\elp-test-score\\ACCESS_2015_with_progress_01970000_alt.csv\", index=False)\n",
      "df_k.to_csv(r\"C:\\Workspace\\ma-nantucket\\elp-test-score\\ACCESS_2015_with_progress_01970000_k.csv\", index=False)\n",
      "df_1_12.to_csv(r\"C:\\Workspace\\ma-nantucket\\elp-test-score\\ACCESS_2015_with_progress_01970000_1_12.csv\", index=False)\n"
     ],
     "language": "python",
     "metadata": {},
     "outputs": [],
     "prompt_number": 12
    },
    {
     "cell_type": "code",
     "collapsed": true,
     "input": [
      "# 2015/2016\n",
      "\n",
      "df = pd.read_csv(r\"C:\\Workspace\\ma-nantucket\\elp-test-score\\ACCESS2016_01970000.csv\", dtype=str)\n",
      "\n",
      "df = df[df.loc[:, 'teststatus'] != 'ABS']\n",
      "\n",
      "df_alt = df[df.loc[:, 'teststatus'] == 'ALT']\n",
      "df_k = df[(df.loc[:, 'grade'] == 'K') & (df.loc[:, 'teststatus'] != 'ALT')]\n",
      "df_1_12 = df[(df.loc[:, 'grade'] != 'K') & (df.loc[:, 'teststatus'] != 'ALT')]\n",
      "\n",
      "df_alt.to_csv(r\"C:\\Workspace\\ma-nantucket\\elp-test-score\\ACCESS2016_01970000_alt.csv\", index=False)\n",
      "df_k.to_csv(r\"C:\\Workspace\\ma-nantucket\\elp-test-score\\ACCESS2016_01970000_k.csv\", index=False)\n",
      "df_1_12.to_csv(r\"C:\\Workspace\\ma-nantucket\\elp-test-score\\ACCESS2016_01970000_1_12.csv\", index=False)"
     ],
     "language": "python",
     "metadata": {},
     "outputs": [],
     "prompt_number": 13
    }
   ],
   "metadata": {}
  }
 ]
}