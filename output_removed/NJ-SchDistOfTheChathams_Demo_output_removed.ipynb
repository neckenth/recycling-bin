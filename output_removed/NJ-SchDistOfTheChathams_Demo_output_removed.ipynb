{
 "metadata": {
  "kernelspec": {
   "display_name": "Python 2",
   "language": "python",
   "name": "python2"
  },
  "language_info": {
   "codemirror_mode": {
    "name": "ipython",
    "version": 2
   },
   "file_extension": ".py",
   "mimetype": "text/x-python",
   "name": "python",
   "nbconvert_exporter": "python",
   "pygments_lexer": "ipython2",
   "version": "2.7.11"
  },
  "name": ""
 },
 "nbformat": 3,
 "nbformat_minor": 0,
 "worksheets": [
  {
   "cells": [
    {
     "cell_type": "code",
     "collapsed": false,
     "input": [
      "import pandas as pd\n",
      "from pyep.transform import derive_from_date_exited_4y\n",
      "from common import is_null\n",
      "import datetime as dt\n",
      "\n",
      "df = pd.read_csv(r\"C:\\Workspace\\nj-schdistofthechathams\\student\\ellevation-student-demographics.csv\", dtype=str)\n",
      "\n",
      "df = df[df.loc[:, 'Entered LEP Date'].notnull()]\n",
      "\n",
      "today = dt.datetime.now()\n",
      "\n",
      "df.loc[:, 'Elv_WithdrawnFlag'] = df.loc[:, 'Date Withdrawn (from district)'].map(\n",
      "    lambda x: 'N' if is_null(x) or pd.to_datetime(x) > today else 'Y')\n",
      "df.loc[:, 'Elv_GraduatedFlag'] = df.loc[:, 'Date Graduated (from district)'].map(\n",
      "    lambda x: 'N' if is_null(x) or pd.to_datetime(x) > today else 'Y')\n",
      "df.loc[:, 'Elv_DroppedOutFlag'] = df.loc[:, 'Date Dropped Out (from district)'].map(\n",
      "    lambda x: 'N' if is_null(x) or pd.to_datetime(x) > today else 'Y')\n",
      "\n",
      "df.loc[:, 'Elv_LEPStatus'] = df.apply(\n",
      "    lambda x: derive_from_date_exited_4y(x.loc['Exited LEP Date']) if not is_null(x.loc['Exited LEP Date']) else 'ELL', axis=1)\n",
      "\n",
      "df.to_csv(r\"C:\\Workspace\\nj-schdistofthechathams\\student\\ellevation-student-demographics_processed.csv\", index=False)"
     ],
     "language": "python",
     "metadata": {},
     "outputs": [],
     "prompt_number": 5
    }
   ],
   "metadata": {}
  }
 ]
}