{
 "metadata": {
  "kernelspec": {
   "display_name": "Python 2",
   "language": "python",
   "name": "python2"
  },
  "language_info": {
   "codemirror_mode": {
    "name": "ipython",
    "version": 2
   },
   "file_extension": ".py",
   "mimetype": "text/x-python",
   "name": "python",
   "nbconvert_exporter": "python",
   "pygments_lexer": "ipython2",
   "version": "2.7.11"
  },
  "name": ""
 },
 "nbformat": 3,
 "nbformat_minor": 0,
 "worksheets": [
  {
   "cells": [
    {
     "cell_type": "code",
     "collapsed": false,
     "input": [
      "import pandas as pd\n",
      "\n",
      "olps = pd.read_csv(r\"C:\\Workspace\\fl-miamidadecounty\\cella-olps\\ELLEVATION_OLPS-20180713.csv\", dtype=str)\n",
      "cella = pd.read_csv(r\"C:\\Workspace\\fl-miamidadecounty\\cella-olps\\ELLEVATION_CELLA_ONLINE-20180713.csv\", dtype=str)\n",
      "\n",
      "len(olps)\n",
      "# len(olps.loc[:, 'StudentLocalID'].unique())\n",
      "# olps.head()\n"
     ],
     "language": "python",
     "metadata": {},
     "outputs": [],
     "prompt_number": 5
    },
    {
     "cell_type": "code",
     "collapsed": true,
     "input": [
      "from pyep.csvutil import ingest_data_file, generate_data_file\n",
      "\n",
      "olps_path = r\"C:\\Workspace\\fl-miamidadecounty\\cella-olps\\OLPS_with_INITIAL_LEVEL.csv\"\n",
      "\n",
      "destination_path = olps_path\n",
      "data = ingest_data_file(destination_path)\n",
      "files = generate_data_file(data, destination_path, chunkSize=20000)"
     ],
     "language": "python",
     "metadata": {},
     "outputs": [],
     "prompt_number": 1
    }
   ],
   "metadata": {}
  }
 ]
}