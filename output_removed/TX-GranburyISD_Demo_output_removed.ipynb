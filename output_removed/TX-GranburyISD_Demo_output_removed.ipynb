{
 "metadata": {
  "kernelspec": {
   "display_name": "Python 2",
   "language": "python",
   "name": "python2"
  },
  "language_info": {
   "codemirror_mode": {
    "name": "ipython",
    "version": 2
   },
   "file_extension": ".py",
   "mimetype": "text/x-python",
   "name": "python",
   "nbconvert_exporter": "python",
   "pygments_lexer": "ipython2",
   "version": "2.7.11"
  },
  "name": ""
 },
 "nbformat": 3,
 "nbformat_minor": 0,
 "worksheets": [
  {
   "cells": [
    {
     "cell_type": "code",
     "collapsed": false,
     "input": [
      "import pandas as pd\n",
      "import numpy as np\n",
      "\n",
      "auto = pd.read_csv(r\"C:\\Workspace\\tx-granburyisd\\student\\ELLEVATION.csv\", sep='\\t', dtype=str)\n",
      "\n",
      "necessary_columns=['PEIMS ID',\n",
      "                  'SpecEd',\n",
      "                  'Section 504 Section 504',\n",
      "                  'Immigrant Status Immigrant Status',\n",
      "                  'Program Code',\n",
      "                  'Parent Perm Cde',\n",
      "                  'Years in U.S. Schools',\n",
      "                  'Start Date',\n",
      "                  'End Date']\n",
      "\n",
      "manual = pd.read_csv(r\"C:\\Workspace\\tx-granburyisd\\student\\Ellevation2.csv\", usecols=necessary_columns, dtype=str)\n",
      "\n",
      "df = pd.merge(left=auto, right=manual, on='PEIMS ID', how='inner')\n",
      "\n",
      "df = df[~df.loc[:, 'LEP Monitoring'].isnull()]\n",
      "\n",
      "df = df[~df.loc[:, 'Start Date'].isnull()]\n",
      "\n",
      "df['Elv_DateEnteredLEP'] = pd.to_datetime(df['Start Date'])\n",
      "df['Start Date'] = pd.to_datetime(df['Start Date'])\n",
      "\n",
      "dates = df.groupby('PEIMS ID').agg({'Elv_DateEnteredLEP': np.min,\n",
      "                                   'Start Date': np.max}).reset_index()\n",
      "\n",
      "filtered = dates.merge(df, \n",
      "                       on=['PEIMS ID', 'Start Date'], \n",
      "                       how='left')\n",
      "\n",
      "# Elv_DateEnteredLEP_x is from dates (minimum - keep this) - Date Entered LEP\n",
      "# Elv_DateEnteredLEP_y is from df (should be same as Start Date) - ignore this\n",
      "\n",
      "# blank out Program Code and Parent Perm Cde columns for students who are no longer LEP\n",
      "\n",
      "condition_1 = filtered.loc[:, 'LEP Monitoring'] == 'Currently LEP'\n",
      "\n",
      "filtered.loc[condition_1, 'Elv_Program Code'] = filtered.loc[condition_1, 'Program Code']\n",
      "filtered.loc[condition_1, 'Elv_Parent Perm Cde'] = filtered.loc[condition_1, 'Parent Perm Cde']\n",
      "\n",
      "filtered.to_csv(r\"C:\\Workspace\\tx-granburyisd\\student\\ELLEVATION_processed.csv\", index=False)"
     ],
     "language": "python",
     "metadata": {},
     "outputs": [],
     "prompt_number": 1
    }
   ],
   "metadata": {}
  }
 ]
}