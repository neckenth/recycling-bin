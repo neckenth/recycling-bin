{
 "metadata": {
  "kernelspec": {
   "display_name": "Python 2",
   "language": "python",
   "name": "python2"
  },
  "language_info": {
   "codemirror_mode": {
    "name": "ipython",
    "version": 2
   },
   "file_extension": ".py",
   "mimetype": "text/x-python",
   "name": "python",
   "nbconvert_exporter": "python",
   "pygments_lexer": "ipython2",
   "version": "2.7.11"
  },
  "name": ""
 },
 "nbformat": 3,
 "nbformat_minor": 0,
 "worksheets": [
  {
   "cells": [
    {
     "cell_type": "code",
     "collapsed": false,
     "input": [
      "import pandas as pd\n",
      "import os\n",
      "\n",
      "from pyep import read_delimited, fetch_header, ScheduleWizard\n",
      "from pyep.settings import WORKSPACE_ROOT, ACCOUNT_HOME\n",
      "from pycron import fetch_from_sftp_many\n",
      "\n",
      "\n",
      "def main():\n",
      "    #Edit these variables\n",
      "    district = 'il-elmhurstcommunity'\n",
      "    filename = 'elmhurst205_ellevation_schedule_*.tab'\n",
      "    remote_directory = '/data/'\n",
      "    data_type = 'schedule'\n",
      "    header_file = 'header-il-elmhurstcommunity.txt'\n",
      "\n",
      "    files = fetch_from_sftp_many(district_name=district,\n",
      "                                 file_name_or_pattern=filename,\n",
      "                                 remote_directory=remote_directory,\n",
      "                                 data_type=data_type)\n",
      "\n",
      "    root = WORKSPACE_ROOT + '/{}/{}/'.format(district, data_type)\n",
      "    header_root = '{}/il_elmhurstcommunity/{}/'.format(ACCOUNT_HOME, data_type)\n",
      "    header = fetch_header(header_root + header_file)\n",
      "\n",
      "    subsets = []\n",
      "    for file in files:\n",
      "        if os.stat(root + file).st_size > 0:\n",
      "            df = read_delimited(root + file,\n",
      "                               header=None,\n",
      "                               names=header,\n",
      "                               sep='\\t',\n",
      "                               inferDialect=False,\n",
      "                               castNull=True,\n",
      "                               isInteractive=False)\n",
      "            df['school_file'] = file\n",
      "            subsets.append(df)\n",
      "        else:\n",
      "            pass\n",
      "\n",
      "    df = pd.concat(subsets)\n",
      "\n",
      "    term_values = {\n",
      "        '2601': 'Term 1', \n",
      "        '2602': 'Term 1', \n",
      "        '2605': 'Term 1', \n",
      "        '2606': 'Term 1', \n",
      "        '2607': 'Term 1', \n",
      "        '2603': 'Term 2',\n",
      "        '2604': 'Term 2', \n",
      "        '2608': 'Term 2',\n",
      "        '2609': 'Term 2',\n",
      "        '2610': 'Term 2',\n",
      "        '2600': 'Full Year'}\n",
      "    \n",
      "    high_school_term_values = {\n",
      "        '2601': 'Term 1', \n",
      "        '2602': 'Term 2', \n",
      "        '2600':'Full Year'}\n",
      "\n",
      "    condition_1 = df.loc[:, 'school_file'] == 'elmhurst205_ellevation_schedule_yhs.tab'\n",
      "    \n",
      "    df.loc[~condition_1, 'Elv_TermID'] = df.loc[~condition_1, 'termid'].map(term_values)\n",
      "    df.loc[condition_1, 'Elv_TermID'] = df.loc[condition_1, 'termid'].map(high_school_term_values)\n",
      "\t\n",
      "    df.to_csv(root + 'merged-processed.txt', sep='\\t', index=False)\n",
      "\n",
      "    wizard = ScheduleWizard(root + 'merged-processed.txt')\n",
      "    wizard.begin(useSavedMapping=True)\n",
      "\n",
      "\n",
      "if __name__ == '__main__':\n",
      "    main()"
     ],
     "language": "python",
     "metadata": {
      "scrolled": false
     },
     "outputs": [],
     "prompt_number": 8
    },
    {
     "cell_type": "code",
     "collapsed": true,
     "input": [],
     "language": "python",
     "metadata": {},
     "outputs": [],
     "prompt_number": null
    }
   ],
   "metadata": {}
  }
 ]
}