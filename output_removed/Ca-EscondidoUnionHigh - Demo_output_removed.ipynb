{
 "metadata": {
  "kernelspec": {
   "display_name": "Python 2",
   "language": "python",
   "name": "python2"
  },
  "language_info": {
   "codemirror_mode": {
    "name": "ipython",
    "version": 2
   },
   "file_extension": ".py",
   "mimetype": "text/x-python",
   "name": "python",
   "nbconvert_exporter": "python",
   "pygments_lexer": "ipython2",
   "version": "2.7.11"
  },
  "name": ""
 },
 "nbformat": 3,
 "nbformat_minor": 0,
 "worksheets": [
  {
   "cells": [
    {
     "cell_type": "code",
     "collapsed": false,
     "input": [
      "import pandas as pd\n",
      "import numpy as np\n",
      "from datetime import datetime as dt\n",
      "from pyep.transform import derive_from_date_exited_4y\n",
      "from common import is_null\n",
      "\n",
      "df = pd.read_csv(r\"C:\\Workspace\\ca-escondidounionhigh\\student\\qryStudent.txt\", sep=',', dtype=object)\n",
      "\n",
      "df['Elv_MonitoringStatus'] = df.apply(\n",
      "    lambda x: derive_from_date_exited_4y(x['DateExitedLEP'])\n",
      "    if x['LEPStatus'] == 'RFEP'\n",
      "    else x['LEPStatus'],\n",
      "    axis=1)\n",
      "\n",
      "df['Elv_Yrs_USSchools'] = df['DateEnrolledInUSSchool'].map(\n",
      "    lambda x: np.NaN if is_null(x) \n",
      "    else (dt.today()-pd.to_datetime(x)).days / 365)\n",
      "\n",
      "df['Elv_DateEnteredLEP'] = df['DateEnteredLEP']\n",
      "df['Elv_DateExitedLEP'] = df['DateExitedLEP']\n",
      "\n",
      "df.loc[df['LEPStatus'] == 'IFEP', 'Elv_DateEnteredLEP'] = np.NaN\n",
      "df.loc[df['LEPStatus'] == 'IFEP', 'Elv_DateExitedLEP'] = np.NaN\n",
      "df.loc[df['LEPStatus'] == 'TBD', 'Elv_DateEnteredLEP'] = np.NaN\n",
      "\n",
      "df.loc[df['DateWithdrawn'].isnull(), 'Elv_Withdrawn'] = 'No'\n",
      "df.loc[df['DateWithdrawn'].notnull(), 'Elv_Withdrawn'] = 'Yes'\n",
      "\n",
      "df.drop_duplicates(subset='SSID', inplace=True)\n",
      "\n",
      "df.to_csv(r\"C:\\Workspace\\ca-escondidounionhigh\\student\\qryStudent_processed.txt\", sep='\\t', index=False)\n",
      "\n"
     ],
     "language": "python",
     "metadata": {},
     "outputs": [],
     "prompt_number": 4
    },
    {
     "cell_type": "code",
     "collapsed": true,
     "input": [],
     "language": "python",
     "metadata": {},
     "outputs": [],
     "prompt_number": null
    }
   ],
   "metadata": {}
  }
 ]
}