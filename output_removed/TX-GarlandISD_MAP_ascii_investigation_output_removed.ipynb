{
 "metadata": {
  "kernelspec": {
   "display_name": "Python 2",
   "language": "python",
   "name": "python2"
  },
  "language_info": {
   "codemirror_mode": {
    "name": "ipython",
    "version": 2
   },
   "file_extension": ".py",
   "mimetype": "text/x-python",
   "name": "python",
   "nbconvert_exporter": "python",
   "pygments_lexer": "ipython2",
   "version": "2.7.11"
  },
  "name": ""
 },
 "nbformat": 3,
 "nbformat_minor": 0,
 "worksheets": [
  {
   "cells": [
    {
     "cell_type": "code",
     "collapsed": false,
     "input": [
      "import pandas as pd\n",
      "\n",
      "data_frame = pd.read_csv(r\"C:\\Workspace\\tx-garlandisd\\map_nwea\\ELLSTDTST_TX-GarlandISD_MAP_EOY_16_17_updated.csv\", dtype=str)\n",
      "\n",
      "for col in data_frame.columns:\n",
      "    try:\n",
      "        data_frame[col].map(unicode)\n",
      "    except UnicodeDecodeError:\n",
      "        print col\n",
      "\n",
      "# def u(r):\n",
      "#     try:\n",
      "#         unicode(r)\n",
      "#     except UnicodeDecodeError:\n",
      "#         print r\n",
      "        \n",
      "# # data_frame.loc[:, 'StudentGradeLevel'].map(lambda x: u(x))\n",
      "# data_frame.loc[:, 'TestAdministrationDate'].map(lambda x: u(x))\n",
      "        \n"
     ],
     "language": "python",
     "metadata": {},
     "outputs": [],
     "prompt_number": 9
    },
    {
     "cell_type": "code",
     "collapsed": false,
     "input": [
      "import pandas as pd\n",
      "\n",
      "df = pd.read_csv(r\"C:\\Workspace\\tx-garlandisd\\map_nwea\\ELLSTDTST_TX-GarlandISD_MOY_MAP_16_17_update.csv\", dtype=str)\n",
      "\n",
      "df['StudentGradeLevel'] = df['StudentGradeLevel'].apply(lambda x: x.decode('unicode_escape').encode('ascii', 'ignore').strip())\n",
      "\n",
      "df['TestAdministrationDate'] = df['TestAdministrationDate'].apply(lambda x: x.decode('unicode_escape').encode('ascii', 'ignore').strip())\n",
      "\n",
      "df['TestGradeLevel'] = df['TestGradeLevel'].apply(lambda x: x.decode('unicode_escape').encode('ascii', 'ignore').strip())\n",
      "\n",
      "for col in df.columns:\n",
      "    try:\n",
      "        data_frame[col].map(unicode)\n",
      "    except UnicodeDecodeError:\n",
      "        print col\n",
      "        \n",
      "def u(r):\n",
      "    try:\n",
      "        unicode(r)\n",
      "    except UnicodeDecodeError:\n",
      "        print r\n",
      "        \n",
      "df.loc[:, 'TestGradeLevel'].map(lambda x: u(x))\n",
      "\n",
      "df.to_csv(r\"C:\\Workspace\\tx-garlandisd\\map_nwea\\ELLSTDTST_TX-GarlandISD_MAP_MOY_16_17_updated_2.csv\", index=False)"
     ],
     "language": "python",
     "metadata": {},
     "outputs": [],
     "prompt_number": 17
    },
    {
     "cell_type": "code",
     "collapsed": false,
     "input": [
      "import pandas as pd\n",
      "\n",
      "data_frame = pd.read_csv(r\"C:\\Workspace\\tx-garlandisd\\map_nwea\\2017 BOY MAP GISD.csv\", dtype=str)\n",
      "\n",
      "for col in data_frame.columns:\n",
      "    try:\n",
      "        data_frame[col].map(unicode)\n",
      "    except UnicodeDecodeError:\n",
      "        print col\n",
      "        \n",
      "def u(r):\n",
      "    try:\n",
      "        unicode(r)\n",
      "    except UnicodeDecodeError:\n",
      "        print r\n",
      "        \n",
      "data_frame.loc[:, 'Test Version'].map(lambda x: u(x))\n",
      "\n"
     ],
     "language": "python",
     "metadata": {},
     "outputs": [],
     "prompt_number": 6
    }
   ],
   "metadata": {}
  }
 ]
}