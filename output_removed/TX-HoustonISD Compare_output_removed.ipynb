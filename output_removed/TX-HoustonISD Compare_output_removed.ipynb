{
 "metadata": {
  "kernelspec": {
   "display_name": "Python 2",
   "language": "python",
   "name": "python2"
  },
  "language_info": {
   "codemirror_mode": {
    "name": "ipython",
    "version": 2
   },
   "file_extension": ".py",
   "mimetype": "text/x-python",
   "name": "python",
   "nbconvert_exporter": "python",
   "pygments_lexer": "ipython2",
   "version": "2.7.11"
  },
  "name": ""
 },
 "nbformat": 3,
 "nbformat_minor": 0,
 "worksheets": [
  {
   "cells": [
    {
     "cell_type": "code",
     "collapsed": false,
     "input": [
      "import pandas as pd\n",
      "\n",
      "processed = pd.read_csv(r\"C:\\Users\\NancyE\\Downloads\\elv-student-20170125-tx-houstonisd-processed.csv\", dtype=str)\n",
      "\n",
      "raw = pd.read_csv(r\"C:\\Workspace\\tx-houstonisd\\student\\Ellevation_Student_Demographics_20170122.csv\", dtype=str)\n",
      "\n",
      "necessary_columns=['LocalStudentID', \n",
      "                   'StateUniqueID',\n",
      "                   'GradeLevel',\n",
      "                   'ELPDesignation', \n",
      "                   'LEPStatus', \n",
      "                   'MonitoringStatus', \n",
      "                   'ESLProgram',\n",
      "                   'BilingualProgram',\n",
      "                   'ReceivingESLServices',\n",
      "                   'DateParentGrantedPermission'\n",
      "                   'DateParentDeniedPermission',\n",
      "                   'DateEnteredLEP',\n",
      "                   'DateExitedLEP',\n",
      "                   'DateMonitoringStarted',\n",
      "                   'RefusedESL_ELDServices',\n",
      "                   'Bilingual',\n",
      "                   'DualLanguageProgram',\n",
      "                   'ParentDeniedBilingualEd',\n",
      "                   'ElvParentPermissionCode'\n",
      "                  ]\n",
      "\n",
      "df = pd.merge(right=processed, left=raw, how='outer', on='StateUniqueId', indicator=True, sort=True)\n",
      "\n",
      "df.sort_values(by=df.columns.tolist(), axis=1, inplace=True)\n",
      "\n",
      "df.to_csv(r\"C:\\Workspace\\tx-houstonisd\\student\\Ellevation_Student_Demographics_compare_1.csv\", index=False)"
     ],
     "language": "python",
     "metadata": {},
     "outputs": [],
     "prompt_number": 8
    }
   ],
   "metadata": {}
  }
 ]
}