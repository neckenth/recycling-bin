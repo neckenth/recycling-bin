{
 "metadata": {
  "kernelspec": {
   "display_name": "Python 2",
   "language": "python",
   "name": "python2"
  },
  "language_info": {
   "codemirror_mode": {
    "name": "ipython",
    "version": 2
   },
   "file_extension": ".py",
   "mimetype": "text/x-python",
   "name": "python",
   "nbconvert_exporter": "python",
   "pygments_lexer": "ipython2",
   "version": "2.7.11"
  },
  "name": ""
 },
 "nbformat": 3,
 "nbformat_minor": 0,
 "worksheets": [
  {
   "cells": [
    {
     "cell_type": "code",
     "collapsed": false,
     "input": [
      "import pandas as pd\n",
      "\n",
      "df = pd.read_csv(r\"C:\\Workspace\\ny-ramapocentral\\student\\20161128_Students.csv\", dtype=str)\n",
      "\n",
      "df = df[~df.loc[:, 'School Name'].isin(['Transportation Only', 'CSE Responsibility', 'Out of District'])]\n",
      "\n",
      "df = df[~df.loc[:, 'Grade Level'].isin(['UG', 'UGS'])]\n",
      "\n",
      "df.to_csv(r\"C:\\Workspace\\ny-ramapocentral\\student\\20161128_Students_processed.csv\", index=False)\n"
     ],
     "language": "python",
     "metadata": {},
     "outputs": [],
     "prompt_number": 3
    }
   ],
   "metadata": {}
  }
 ]
}