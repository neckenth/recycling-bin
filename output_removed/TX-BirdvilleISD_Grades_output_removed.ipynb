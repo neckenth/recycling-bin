{
 "metadata": {
  "kernelspec": {
   "display_name": "Python 2",
   "language": "python",
   "name": "python2"
  },
  "language_info": {
   "codemirror_mode": {
    "name": "ipython",
    "version": 2
   },
   "file_extension": ".py",
   "mimetype": "text/x-python",
   "name": "python",
   "nbconvert_exporter": "python",
   "pygments_lexer": "ipython2",
   "version": "2.7.11"
  },
  "name": ""
 },
 "nbformat": 3,
 "nbformat_minor": 0,
 "worksheets": [
  {
   "cells": [
    {
     "cell_type": "code",
     "collapsed": false,
     "input": [
      "import pandas as pd\n",
      "import numpy as np\n",
      "import glob\n",
      "from pyep.settings import WORKSPACE_ROOT\n",
      "import re\n",
      "\n",
      "district = 'tx-birdvilleisd'\n",
      "\n",
      "subset = []\n",
      "\n",
      "for f in glob.glob('{}/{}/grades/*.csv'.format(WORKSPACE_ROOT, district)):\n",
      "    df = pd.read_csv(f, dtype=str)\n",
      "    subset.append(df)\n",
      "    \n",
      "df = pd.concat(subset)\n",
      "\n",
      "df = df[~df.loc[:, 'Term Grade'].isin(['E', 'S', 'I', 'P', 'F', 'U', 'N'])]\n",
      "\n",
      "df.loc[df.loc[:, 'Grading Period'].notnull(), 'Elv_GradingPeriod'] = df.loc[df.loc[:, 'Grading Period'].notnull(), 'Grading Period'].map(\n",
      "    lambda x: str(int(re.search(r'\\d+', x).group())))\n",
      "\n",
      "df = df[df.loc[:, 'Student Grade Level'].notnull()]\n",
      "df = df[df.loc[:, 'Elv_GradingPeriod'].notnull()]\n",
      "df = df[df.loc[:, 'Course Subject'].notnull()]\n",
      "\n",
      "df.loc[:, 'Term Grade'].unique()\n",
      "\n",
      "df.drop_duplicates(inplace=True)\n",
      "\n",
      "df.to_csv('{}/{}/grades/grades_processed.csv'.format(WORKSPACE_ROOT, district), index=False)"
     ],
     "language": "python",
     "metadata": {
      "scrolled": true
     },
     "outputs": [],
     "prompt_number": 9
    },
    {
     "cell_type": "code",
     "collapsed": true,
     "input": [
      "import pandas as pd\n",
      "from pyep.csvutil import ingest_data_file, generate_data_file\n",
      "from pyep.settings import WORKSPACE_ROOT\n",
      "\n",
      "district = 'tx-birdvilleisd'\n",
      "\n",
      "path = '{}/{}/grades/grades_processed.csv'.format(WORKSPACE_ROOT, district)\n",
      "\n",
      "destination_path = path\n",
      "data = ingest_data_file(destination_path)\n",
      "files = generate_data_file(data, destination_path, chunkSize=15000)"
     ],
     "language": "python",
     "metadata": {},
     "outputs": [],
     "prompt_number": 10
    }
   ],
   "metadata": {}
  }
 ]
}