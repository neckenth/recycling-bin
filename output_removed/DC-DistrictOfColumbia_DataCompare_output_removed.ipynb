{
 "metadata": {
  "kernelspec": {
   "display_name": "Python 2",
   "language": "python",
   "name": "python2"
  },
  "language_info": {
   "codemirror_mode": {
    "name": "ipython",
    "version": 2
   },
   "file_extension": ".py",
   "mimetype": "text/x-python",
   "name": "python",
   "nbconvert_exporter": "python",
   "pygments_lexer": "ipython2",
   "version": "2.7.11"
  },
  "name": ""
 },
 "nbformat": 3,
 "nbformat_minor": 0,
 "worksheets": [
  {
   "cells": [
    {
     "cell_type": "code",
     "collapsed": false,
     "input": [
      "import pandas as pd\n",
      "\n",
      "df = pd.read_excel(r\"C:\\Users\\NancyE\\Downloads\\For Margaret to Compare Fields 10-3-17.xlsx\", converters={'Student #':str})\n",
      "\n",
      "df.columns = [str(col) + '_MM' for col in df.columns]\n",
      "\n",
      "export = pd.read_csv(r\"C:\\Users\\NancyE\\Downloads\\EllevationExport_20171003_1340.csv\", dtype=str)\n",
      "\n",
      "export.columns = [str(col) + '_ELV' for col in export.columns]\n",
      "\n",
      "comp = pd.merge(left=df, right=export, left_on='Student #_MM', right_on='Student #_ELV', how='inner')\n",
      "\n",
      "comp.to_csv(r\"C:\\Workspace\\dc-districtofcolumbia\\student\\data_comparison.csv\", index=False)"
     ],
     "language": "python",
     "metadata": {},
     "outputs": [],
     "prompt_number": 7
    }
   ],
   "metadata": {}
  }
 ]
}