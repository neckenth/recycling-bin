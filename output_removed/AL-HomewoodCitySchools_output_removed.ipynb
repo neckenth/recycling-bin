{
 "metadata": {
  "kernelspec": {
   "display_name": "Python 2",
   "language": "python",
   "name": "python2"
  },
  "language_info": {
   "codemirror_mode": {
    "name": "ipython",
    "version": 2
   },
   "file_extension": ".py",
   "mimetype": "text/x-python",
   "name": "python",
   "nbconvert_exporter": "python",
   "pygments_lexer": "ipython2",
   "version": "2.7.11"
  },
  "name": ""
 },
 "nbformat": 3,
 "nbformat_minor": 0,
 "worksheets": [
  {
   "cells": [
    {
     "cell_type": "code",
     "collapsed": false,
     "input": [
      "import pandas as pd\n",
      "\n",
      "df=pd.read_csv(r\"C:\\Workspace\\al-homewoodcityschools\\student\\ellevation-students-20160818-221002.csv\", sep=',', dtype=str)\n",
      "\n",
      "df.loc[(df['EL'] == 'LEP 1') & (df['Not EL'].isnull()), 'Elv_LEPStatus_v2'] = 'LEP1'\n",
      "df.loc[(df['EL'] == 'LEP 2') & (df['Not EL'].isnull()), 'Elv_LEPStatus_v2'] = 'LEP2'\n",
      "df.loc[df['Not EL'] == 'Exited - Monitored (FLEP)', 'Elv_LEPStatus_v2'] = 'FLEP'\n",
      "df.loc[df['Not EL'] == 'Exited - Monitored Complete (FLEP Exited)', 'Elv_LEPStatus_v2'] = 'Fully Exited'\n",
      "df.loc[df['Not EL'] == 'Tested, did Not Qualify', 'Elv_LEPStatus_v2'] = 'TDNQ'\n",
      "\n",
      "df"
     ],
     "language": "python",
     "metadata": {},
     "outputs": [],
     "prompt_number": 19
    }
   ],
   "metadata": {}
  }
 ]
}