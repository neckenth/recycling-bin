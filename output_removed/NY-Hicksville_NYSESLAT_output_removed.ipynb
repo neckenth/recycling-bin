{
 "metadata": {
  "kernelspec": {
   "display_name": "Python 2",
   "language": "python",
   "name": "python2"
  },
  "language_info": {
   "codemirror_mode": {
    "name": "ipython",
    "version": 2
   },
   "file_extension": ".py",
   "mimetype": "text/x-python",
   "name": "python",
   "nbconvert_exporter": "python",
   "pygments_lexer": "ipython2",
   "version": "2.7.11"
  },
  "name": ""
 },
 "nbformat": 3,
 "nbformat_minor": 0,
 "worksheets": [
  {
   "cells": [
    {
     "cell_type": "code",
     "collapsed": false,
     "input": [
      "import pandas as pd\n",
      "import numpy as np\n",
      "\n",
      "df=pd.read_csv(r\"C:\\Workspace\\ny-hicksvilleunion\\NYSESLAT\\NY280517_AssessmentFact_NYSESLAT_2015-16.csv\", sep=',', dtype=str)\n",
      "\n",
      "df.head()\n",
      "\n",
      "print len(df)\n",
      "\n",
      "df=df[df.loc[:, '*STUDENT CURRENT GRADE'] != '99']\n",
      "\n",
      "print len(df)\n",
      "\n",
      "condition_1 = df['ITEM DESCRIPTION'].str.contains('Speaking', na=False)\n",
      "condition_2 = df['ITEM DESCRIPTION'].str.contains('Reading', na=False)\n",
      "condition_3 = df['ITEM DESCRIPTION'].str.contains('Writing', na=False)\n",
      "condition_4 = df['ITEM DESCRIPTION'].str.contains('Listening', na=False)\n",
      "condition_5 = df['ITEM DESCRIPTION'].str.contains('Total Score', na=False)\n",
      "\n",
      "\n",
      "df.loc[condition_1, 'Elv_Domain'] = 'Speaking'\n",
      "df.loc[condition_2, 'Elv_Domain'] = 'Reading'\n",
      "df.loc[condition_3, 'Elv_Domain'] = 'Writing'\n",
      "df.loc[condition_4, 'Elv_Domain'] = 'Listening'\n",
      "df.loc[condition_5, 'Elv_Domain'] = 'Overall'\n",
      "\n",
      "\n",
      "df=df.pivot_table(index=['STUDENT ID', 'TEST DATE', '*STUDENT CURRENT GRADE'],\n",
      "                  columns='Elv_Domain',\n",
      "                  values=['NUMERIC SCORE', 'STANDARD ACHIEVED CODE'],\n",
      "                  aggfunc=np.max).reset_index(col_level=1)\n",
      "\n",
      "df.columns=[' '.join(col).strip() for col in df.columns.tolist()]\n",
      "\n",
      "df.head()\n",
      "df.to_csv(r\"C:\\Workspace\\ny-hicksvilleunion\\NYSESLAT\\NY280517_AssessmentFact_NYSESLAT_2015-16_processed.csv\", index=False)"
     ],
     "language": "python",
     "metadata": {},
     "outputs": [],
     "prompt_number": 6
    },
    {
     "cell_type": "code",
     "collapsed": false,
     "input": [
      "import pandas as pd\n",
      "import numpy as np\n",
      "\n",
      "df=pd.read_csv(r\"C:\\Workspace\\ny-hicksvilleunion\\NYSESLAT\\NY280517_AssessmentFact_NYSESLAT_2014-15.csv\", sep=',', dtype=str)\n",
      "\n",
      "df.head()\n",
      "\n",
      "print len(df)\n",
      "\n",
      "df=df[df.loc[:, '*STUDENT CURRENT GRADE'] != '99']\n",
      "\n",
      "print len(df)\n",
      "\n",
      "condition_1 = df['ITEM DESCRIPTION'].str.contains('Speaking', na=False)\n",
      "condition_2 = df['ITEM DESCRIPTION'].str.contains('Reading', na=False)\n",
      "condition_3 = df['ITEM DESCRIPTION'].str.contains('Writing', na=False)\n",
      "condition_4 = df['ITEM DESCRIPTION'].str.contains('Listening', na=False)\n",
      "condition_5 = df['ITEM DESCRIPTION'].str.contains('Total Score', na=False)\n",
      "\n",
      "\n",
      "df.loc[condition_1, 'Elv_Domain'] = 'Speaking'\n",
      "df.loc[condition_2, 'Elv_Domain'] = 'Reading'\n",
      "df.loc[condition_3, 'Elv_Domain'] = 'Writing'\n",
      "df.loc[condition_4, 'Elv_Domain'] = 'Listening'\n",
      "df.loc[condition_5, 'Elv_Domain'] = 'Overall'\n",
      "\n",
      "\n",
      "df=df.pivot_table(index=['STUDENT ID', 'TEST DATE', '*STUDENT CURRENT GRADE'],\n",
      "                  columns='Elv_Domain',\n",
      "                  values=['NUMERIC SCORE', 'STANDARD ACHIEVED CODE'],\n",
      "                  aggfunc=np.max).reset_index(col_level=1)\n",
      "\n",
      "df.columns=[' '.join(col).strip() for col in df.columns.tolist()]\n",
      "\n",
      "df.head()\n",
      "df.to_csv(r\"C:\\Workspace\\ny-hicksvilleunion\\NYSESLAT\\NY280517_AssessmentFact_NYSESLAT_2014-15_processed.csv\", index=False)"
     ],
     "language": "python",
     "metadata": {},
     "outputs": [],
     "prompt_number": 9
    },
    {
     "cell_type": "code",
     "collapsed": false,
     "input": [
      "import pandas as pd\n",
      "\n",
      "loaded = pd.read_csv(r\"C:\\Workspace\\ny-hicksvilleunion\\NYSESLAT\\NY280517_AssessmentFact_NYSESLAT_2014-15_processed.csv\", dtype=str)\n",
      "\n",
      "new = pd.read_excel(r\"C:\\Workspace\\ny-hicksvilleunion\\NYSESLAT\\2015 NYSESLAT- Total Score - Hicksville.xlsx\",\n",
      "                   converters={'STUDENT_ID' : str, 'NUMERIC_SCORE' : str})\n",
      "\n",
      "df = pd.merge(right=loaded, left=new, right_on='STUDENT ID', left_on='STUDENT_ID', how='inner')\n",
      "\n",
      "df.to_csv(r\"C:\\Workspace\\ny-hicksvilleunion\\NYSESLAT\\NYSESLAT_fixed.csv\", index=False)"
     ],
     "language": "python",
     "metadata": {},
     "outputs": [],
     "prompt_number": 2
    }
   ],
   "metadata": {}
  }
 ]
}