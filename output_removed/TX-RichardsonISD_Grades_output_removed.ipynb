{
 "metadata": {
  "kernelspec": {
   "display_name": "Python 2",
   "language": "python",
   "name": "python2"
  },
  "language_info": {
   "codemirror_mode": {
    "name": "ipython",
    "version": 2
   },
   "file_extension": ".py",
   "mimetype": "text/x-python",
   "name": "python",
   "nbconvert_exporter": "python",
   "pygments_lexer": "ipython2",
   "version": "2.7.11"
  },
  "name": ""
 },
 "nbformat": 3,
 "nbformat_minor": 0,
 "worksheets": [
  {
   "cells": [
    {
     "cell_type": "code",
     "collapsed": false,
     "input": [
      "import pandas as pd\n",
      "\n",
      "df = pd.read_csv(r\"C:\\Workspace\\tx-richardsonisd\\grades\\RISD_Grades (4).csv\", dtype=str)\n",
      "\n",
      "print df.columns.tolist()\n",
      "\n",
      "# print len(df)\n",
      "\n",
      "df = df[df.loc[:, 'COURSESUBJECT'] != 'ATTEN']\n",
      "print len(df)\n",
      "df = df[~df.loc[:, 'GRADINGPERIOD'].str.contains('E')]\n",
      "print len(df)\n",
      "\n",
      "df.to_csv(r\"C:\\Workspace\\tx-richardsonisd\\grades\\RISD_Grades (4)_processed.csv\", index=False)"
     ],
     "language": "python",
     "metadata": {},
     "outputs": [],
     "prompt_number": 4
    },
    {
     "cell_type": "code",
     "collapsed": true,
     "input": [
      "from pyep.csvutil import ingest_data_file, generate_data_file\n",
      "from pyep.settings import WORKSPACE_ROOT\n",
      "\n",
      "district='tx-richardsonisd'\n",
      "source_file_name = 'RISD_Grades (4)_processed.csv'\n",
      "destination_path = '{}/{}/grades/{}'.format(WORKSPACE_ROOT, district, source_file_name)\n",
      "\n",
      "data = ingest_data_file(destination_path)\n",
      "files = generate_data_file(data, destination_path, chunkSize=15000)"
     ],
     "language": "python",
     "metadata": {},
     "outputs": [],
     "prompt_number": 5
    }
   ],
   "metadata": {}
  }
 ]
}