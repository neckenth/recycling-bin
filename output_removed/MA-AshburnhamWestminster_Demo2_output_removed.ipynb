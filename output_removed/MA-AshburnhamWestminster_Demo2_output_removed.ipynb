{
 "metadata": {
  "kernelspec": {
   "display_name": "Python 2",
   "language": "python",
   "name": "python2"
  },
  "language_info": {
   "codemirror_mode": {
    "name": "ipython",
    "version": 2
   },
   "file_extension": ".py",
   "mimetype": "text/x-python",
   "name": "python",
   "nbconvert_exporter": "python",
   "pygments_lexer": "ipython2",
   "version": "2.7.11"
  },
  "name": ""
 },
 "nbformat": 3,
 "nbformat_minor": 0,
 "worksheets": [
  {
   "cells": [
    {
     "cell_type": "code",
     "collapsed": false,
     "input": [
      "import pandas as pd\n",
      "from pyep.transform import derive_from_date_exited_4y\n",
      "\n",
      "df = pd.read_csv(r\"C:\\Workspace\\ma-ashburnhamwestminster\\student\\ellevationsAWRSD.csv\", sep=',', dtype=str, skiprows=[0, 1, 2])\n",
      "\n",
      "print len(df)\n",
      "\n",
      "condition_1 = df['25 LEP'] == '00'\n",
      "condition_2 = df['FLEP Dt'].isnull()\n",
      "\n",
      "df = df[~(condition_1 & condition_2)]\n",
      "\n",
      "print len(df)\n",
      "\n",
      "df = df[df.loc[:, 'SCHOOL NAME'] != 'ASHBURNHAM WESTMINSTER REGIONAL']\n",
      "\n",
      "print len(df)\n",
      "\n",
      "df['ELV_LepStatus'] = df.apply(\n",
      "    lambda x: derive_from_date_exited_4y(x['FLEP Dt'])\n",
      "    if x['25 LEP'] != '01' else x['25 LEP'],\n",
      "    axis=1)\n",
      "\n",
      "# df.head()\n",
      "\n",
      "df.to_csv(r\"C:\\Workspace\\ma-ashburnhamwestminster\\student\\ellevationsAWRSD_processed.csv\", index=False)"
     ],
     "language": "python",
     "metadata": {},
     "outputs": [],
     "prompt_number": 4
    }
   ],
   "metadata": {}
  }
 ]
}