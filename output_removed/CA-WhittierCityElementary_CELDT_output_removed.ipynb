{
 "metadata": {
  "kernelspec": {
   "display_name": "Python 2",
   "language": "python",
   "name": "python2"
  },
  "language_info": {
   "codemirror_mode": {
    "name": "ipython",
    "version": 2
   },
   "file_extension": ".py",
   "mimetype": "text/x-python",
   "name": "python",
   "nbconvert_exporter": "python",
   "pygments_lexer": "ipython2",
   "version": "2.7.11"
  },
  "name": ""
 },
 "nbformat": 3,
 "nbformat_minor": 0,
 "worksheets": [
  {
   "cells": [
    {
     "cell_type": "code",
     "collapsed": false,
     "input": [
      "import pandas as pd\n",
      "\n",
      "df = pd.read_csv(r\"C:\\Workspace\\ca-whittiercityelementary\\elp-test-score\\ELLEVATION SISTEST DATA.csv\", dtype=str)\n",
      "\n",
      "condition1=df.loc[:, 'Grade at test'].isnull()\n",
      "condition2=df.loc[:, 'test date'] == '#N/A'\n",
      "condition3=df.loc[:, 'test date'].isnull()\n",
      "\n",
      "print len(df)\n",
      "\n",
      "df = df[(~condition1 & ~(condition2 | condition3))]\n",
      "\n",
      "print len(df)\n",
      "\n",
      "df.to_csv(r\"C:\\Workspace\\ca-whittiercityelementary\\elp-test-score\\ELLEVATION SISTEST DATA_processed.csv\", index=False)"
     ],
     "language": "python",
     "metadata": {},
     "outputs": [],
     "prompt_number": 5
    },
    {
     "cell_type": "code",
     "collapsed": false,
     "input": [
      "import pandas as pd\n",
      "import os\n",
      "\n",
      "from pyep import read_delimited\n",
      "from pyep.settings import WORKSPACE_ROOT\n",
      "\n",
      "subset = []\n",
      "\n",
      "for file in os.listdir (WORKSPACE_ROOT + '/ca-whittiercityelementary/elp-test-score/CELDT 2015-16/'):\n",
      "    df = read_delimited(WORKSPACE_ROOT + '/ca-whittiercityelementary/elp-test-score/CELDT 2015-16/' + file)\n",
      "    subset.append(df)\n",
      "    \n",
      "df = pd.concat(subset)\n",
      "\n",
      "print len(df)\n",
      "\n",
      "df['Elv_DateGiven'] = pd.to_datetime(df['testDate'], format='%m%d%Y', errors='coerce')\n",
      "\n",
      "df.drop_duplicates(subset=['Elv_DateGiven', 'SSID'], inplace=True)\n",
      "\n",
      "print len(df)\n",
      "\n",
      "df.to_csv(r\"C:\\Workspace\\ca-whittiercityelementary\\elp-test-score\\CELDT 2015-16\\combined_processed.csv\", index=False)"
     ],
     "language": "python",
     "metadata": {},
     "outputs": [],
     "prompt_number": 2
    }
   ],
   "metadata": {}
  }
 ]
}