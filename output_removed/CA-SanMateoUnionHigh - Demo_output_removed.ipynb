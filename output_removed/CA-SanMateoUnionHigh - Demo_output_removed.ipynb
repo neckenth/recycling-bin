{
 "metadata": {
  "kernelspec": {
   "display_name": "Python 2",
   "language": "python",
   "name": "python2"
  },
  "language_info": {
   "codemirror_mode": {
    "name": "ipython",
    "version": 2
   },
   "file_extension": ".py",
   "mimetype": "text/x-python",
   "name": "python",
   "nbconvert_exporter": "python",
   "pygments_lexer": "ipython2",
   "version": "2.7.11"
  },
  "name": ""
 },
 "nbformat": 3,
 "nbformat_minor": 0,
 "worksheets": [
  {
   "cells": [
    {
     "cell_type": "code",
     "collapsed": false,
     "input": [
      "import pandas as pd\n",
      "from pyep.transform import derive_from_date_exited\n",
      "from datetime import datetime as dt\n",
      "import numpy as np\n",
      "\n",
      "df = pd.read_csv(r\"C:\\Workspace\\ca-sanmateounionhigh\\student\\ELL_Student_Demographics.txt\", sep=',', dtype=str)\n",
      "\n",
      "df = df[df.loc[:, 'STUDENT_TAG'].isnull()]\n",
      "\n",
      "df = df[df.loc[:, 'GRADE_CODE'] != '14']\n",
      "\n",
      "df.loc[df['RACE_CODE_2'].notnull(), 'RACE_CODE_1'] = 'Multiracial'\n",
      "\n",
      "print df['RACE_CODE_1'].unique()\n",
      "\n",
      "df['Elv_MonitoringStatus'] = df.apply(\n",
      "    lambda x: derive_from_date_exited(x['REDES_DATE'])\n",
      "    if x['LANGUAGE_FLUENCY'] == 'R'\n",
      "    else x['LANGUAGE_FLUENCY'],\n",
      "    axis=1)\n",
      "\n",
      "df['Elv_Yrs_USSchools'] = df['US_SCHOOL_ENTER_DATE'].map(\n",
      "    lambda x: np.NaN if is_null(x) \n",
      "    else (dt.today()-pd.to_datetime(x)).days / 365)\n",
      "\n",
      "df.to_csv(r\"C:\\Workspace\\ca-sanmateounionhigh\\student\\ELL_Student_Demographics_processed.csv\", sep=',', index=False)\n",
      "\n"
     ],
     "language": "python",
     "metadata": {},
     "outputs": [],
     "prompt_number": 23
    },
    {
     "cell_type": "code",
     "collapsed": false,
     "input": [
      "import pandas as pd\n",
      "from pyep.transform import derive_from_date_exited\n",
      "from datetime import datetime as dt\n",
      "import numpy as np\n",
      "from common import is_null\n",
      "\n",
      "df = pd.read_csv(r\"C:\\Workspace\\ca-sanmateounionhigh\\student\\ELL_Student_Demographics.txt\", sep=',', dtype=str)\n",
      "\n",
      "df = df[df['STUDENT_TAG'] != 'N']\n",
      "df = df[df['STUDENT_TAG'] != 'I']\n",
      "\n",
      "df = df[df.loc[:, 'GRADE_CODE'] != '14']\n",
      "\n",
      "df.loc[df['RACE_CODE_2'].notnull(), 'RACE_CODE_1'] = 'Multiracial'\n",
      "\n",
      "df['Elv_MonitoringStatus'] = df.apply(\n",
      "    lambda x: derive_from_date_exited(x['REDES_DATE'])\n",
      "    if x['LANGUAGE_FLUENCY'] == 'R'\n",
      "    else x['LANGUAGE_FLUENCY'],\n",
      "    axis=1)\n",
      "\n",
      "df['Elv_Yrs_USSchools'] = df['US_SCHOOL_ENTER_DATE'].map(\n",
      "    lambda x: np.NaN if is_null(x) \n",
      "    else (dt.today() - pd.to_datetime(x)).days / 365)\n",
      "\n",
      "print len(df)\n",
      "df.to_csv(r\"C:\\Workspace\\ca-sanmateounionhigh\\student\\ELL_Student_Demographics_processed_1.csv\", sep=',', index=False)"
     ],
     "language": "python",
     "metadata": {},
     "outputs": [],
     "prompt_number": 25
    }
   ],
   "metadata": {}
  }
 ]
}