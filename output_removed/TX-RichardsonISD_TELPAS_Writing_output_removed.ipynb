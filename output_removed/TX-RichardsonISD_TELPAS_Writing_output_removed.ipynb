{
 "metadata": {
  "kernelspec": {
   "display_name": "Python 2",
   "language": "python",
   "name": "python2"
  },
  "language_info": {
   "codemirror_mode": {
    "name": "ipython",
    "version": 2
   },
   "file_extension": ".py",
   "mimetype": "text/x-python",
   "name": "python",
   "nbconvert_exporter": "python",
   "pygments_lexer": "ipython2",
   "version": "2.7.11"
  },
  "name": ""
 },
 "nbformat": 3,
 "nbformat_minor": 0,
 "worksheets": [
  {
   "cells": [
    {
     "cell_type": "code",
     "collapsed": false,
     "input": [
      "import pandas as pd\n",
      "\n",
      "df = pd.read_excel(r\"C:\\Workspace\\tx-richardsonisd\\telpas\\2018 TELPAS Holistic Rating Entries with PEIMS as of 04_06_2018.xlsx\",\n",
      "                   converters={\n",
      "        'Listening Rating':str,\n",
      "        'Speaking Rating':str,\n",
      "        'Reading Rating':str,\n",
      "        'Writing Rating':str\n",
      "    })\n",
      "\n",
      "print len(df)\n",
      "df = df[df.loc[:, 'Writing Rating'] == '4']\n",
      "print len(df)\n",
      "\n",
      "df.head()\n",
      "\n",
      "df.to_csv(r\"C:\\Workspace\\tx-richardsonisd\\telpas\\2018 TELPAS Holistic Rating Entries with PEIMS as of 04_06_2018_processed.csv\", index=False)"
     ],
     "language": "python",
     "metadata": {},
     "outputs": [],
     "prompt_number": 7
    }
   ],
   "metadata": {}
  }
 ]
}