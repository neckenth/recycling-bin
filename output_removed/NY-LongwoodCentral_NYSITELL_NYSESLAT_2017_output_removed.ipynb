{
 "metadata": {
  "kernelspec": {
   "display_name": "Python 2",
   "language": "python",
   "name": "python2"
  },
  "language_info": {
   "codemirror_mode": {
    "name": "ipython",
    "version": 2
   },
   "file_extension": ".py",
   "mimetype": "text/x-python",
   "name": "python",
   "nbconvert_exporter": "python",
   "pygments_lexer": "ipython2",
   "version": "2.7.11"
  },
  "name": ""
 },
 "nbformat": 3,
 "nbformat_minor": 0,
 "worksheets": [
  {
   "cells": [
    {
     "cell_type": "code",
     "collapsed": false,
     "input": [
      "import pandas as pd\n",
      "\n",
      "df = pd.read_csv(r\"C:\\Workspace\\ny-longwoodcentral\\elp-test-scores\\5-9-17 Ellevation upload of scores.csv\", dtype=str)\n",
      "\n",
      "df = df[df.loc[:, 'grade'].notnull()]\n",
      "\n",
      "df_nyseslat = df[df.loc[:, 'Test type '] == 'NYSESLAT']\n",
      "df_nysitell = df[df.loc[:, 'Test type '] == 'NYSITELL']\n",
      "\n",
      "#print pd.to_datetime(df_nyseslat.loc[:, 'Date given']).map(type)\n",
      "\n",
      "#print type(pd.to_datetime('1/1/2015'))\n",
      "\n",
      "df_nyseslat_pre = df_nyseslat[pd.to_datetime(df_nyseslat.loc[:, 'Date given']) < pd.to_datetime('1/1/2015')]\n",
      "df_nyseslat_post = df_nyseslat[pd.to_datetime(df_nyseslat.loc[:, 'Date given']) >= pd.to_datetime('1/1/2015')]\n",
      "\n",
      "df_nysitell_pre = df_nysitell[pd.to_datetime(df_nysitell.loc[:, 'Date given']) < pd.to_datetime('01-01-2015')]\n",
      "df_nysitell_post = df_nysitell[pd.to_datetime(df_nysitell.loc[:, 'Date given']) >= pd.to_datetime('01-01-2015')]\n",
      "\n",
      "# df_nyseslat_pre.to_csv(r\"C:\\Workspace\\ny-longwoodcentral\\elp-test-scores\\nyseslat_pre_2015.csv\", index=False)\n",
      "# df_nyseslat_post.to_csv(r\"C:\\Workspace\\ny-longwoodcentral\\elp-test-scores\\nyseslat_post_2015.csv\", index=False)\n",
      "# df_nysitell_pre.to_csv(r\"C:\\Workspace\\ny-longwoodcentral\\elp-test-scores\\nysitell_pre_2015.csv\", index=False)\n",
      "# df_nysitell_post.to_csv(r\"C:\\Workspace\\ny-longwoodcentral\\elp-test-scores\\nysitell_post_2015.csv\", index=False)"
     ],
     "language": "python",
     "metadata": {},
     "outputs": [],
     "prompt_number": 2
    },
    {
     "cell_type": "code",
     "collapsed": false,
     "input": [
      "import numpy as np\n",
      "\n",
      "df_nyseslat_post = df_nyseslat_post.fillna('')\n",
      "\n",
      "#print df_nyseslat_post.L.map(type)\n",
      "\n",
      "df_nyseslat_post.loc[:, 'Elv_L_Raw'] = df_nyseslat_post.loc[:, 'L'].map(\n",
      "    lambda x: '' if x == '' or int(x) >= 30 else x)\n",
      "df_nyseslat_post.loc[:, 'Elv_S_Raw'] = df_nyseslat_post.loc[:, 'S'].map(\n",
      "    lambda x: '' if x == '' or int(x) >= 30 else x)\n",
      "df_nyseslat_post.loc[:, 'Elv_R_Raw'] = df_nyseslat_post.loc[:, 'R'].map(\n",
      "    lambda x: '' if x == '' or int(x) >= 30 else x)\n",
      "df_nyseslat_post.loc[:, 'Elv_W_Raw'] = df_nyseslat_post.loc[:, 'W'].map(\n",
      "    lambda x: '' if x == '' or int(x) >= 30 else x)\n",
      "\n",
      "if sum(df_nyseslat_post.loc[:, 'Elv_L_Raw'].map(int), \n",
      "       df_nyseslat_post.loc[:, 'Elv_S_Raw'].map(int), \n",
      "       df_nyseslat_post.loc[:, 'Elv_R_Raw'].map(int), \n",
      "       df_nyseslat_post.loc[:, 'Elv_W_Raw'].map(int)) == df_nyseslat_post.loc[:, 'OVERALL']:\n",
      "    df.loc[:, 'Elv_Raw_Overall'] = df.loc[:, 'OVERALL']\n",
      "else:\n",
      "    df.loc[:, 'Elv_Raw_Overall'] = np.NaN\n",
      "    \n",
      "\n",
      "df_nyseslat_post.to_csv(r\"C:\\Workspace\\ny-longwoodcentral\\elp-test-scores\\nyseslat_post_2015_2.csv\", index=False)"
     ],
     "language": "python",
     "metadata": {},
     "outputs": [],
     "prompt_number": 22
    }
   ],
   "metadata": {}
  }
 ]
}