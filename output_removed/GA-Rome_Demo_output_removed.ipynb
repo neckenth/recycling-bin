{
 "metadata": {
  "kernelspec": {
   "display_name": "Python 2",
   "language": "python",
   "name": "python2"
  },
  "language_info": {
   "codemirror_mode": {
    "name": "ipython",
    "version": 2
   },
   "file_extension": ".py",
   "mimetype": "text/x-python",
   "name": "python",
   "nbconvert_exporter": "python",
   "pygments_lexer": "ipython2",
   "version": "2.7.11"
  },
  "name": ""
 },
 "nbformat": 3,
 "nbformat_minor": 0,
 "worksheets": [
  {
   "cells": [
    {
     "cell_type": "code",
     "collapsed": false,
     "input": [
      "import pandas as pd\n",
      "import numpy as np\n",
      "\n",
      "df_1 = pd.read_csv(r\"C:\\Workspace\\ga-rome\\student\\ELLEVATIONS STUDENTS FOR UPDATE JAN 2017.csv\", dtype=str)\n",
      "\n",
      "df_2 = pd.read_csv(r\"C:\\Workspace\\ga-rome\\student\\students 2 24 2017.csv\", dtype=str)\n",
      "\n",
      "df = pd.merge(left=df_1, right=df_2, left_on='TEST ID', right_on='Testing ID', how='inner', indicator=True)\n",
      "\n",
      "df = df[[\n",
      "      'FIRST',\n",
      "        'last',\n",
      "        'School ID',\n",
      "        'TEST ID',\n",
      "        'STUDENT ID',\n",
      "        'GENDER',\n",
      "        'ETHNICITY',\n",
      "        'GRADE',\n",
      "        'LANGUAGE',\n",
      "        'BIRTH COUNRY',\n",
      "        'US SCHOOL ENTRY DATE',\n",
      "        'ESOL_x',\n",
      "        'STREET',\n",
      "        'CITY',\n",
      "        'STATE',\n",
      "        'ZIP',\n",
      "        'MOTHER',\n",
      "        'FATHER',\n",
      "        'Monitor Basis',\n",
      "        'Monitor Year',\n",
      "        'DOB'\n",
      "    ]]\n",
      "\n",
      "df.loc[:, 'US SCHOOL ENTRY DATE'] = df.loc[:, 'US SCHOOL ENTRY DATE'].replace('.', np.NaN)\n",
      "\n",
      "df['Elv_LEPStatus'] = df.apply(\n",
      "    lambda x: x['Monitor Year'] if x['ESOL_x'] == 'M' else x['ESOL_x'],\n",
      "    axis=1)\n",
      "\n",
      "df.to_csv(r\"C:\\Workspace\\ga-rome\\student\\merged.csv\", index=False)"
     ],
     "language": "python",
     "metadata": {},
     "outputs": [],
     "prompt_number": 16
    }
   ],
   "metadata": {}
  }
 ]
}