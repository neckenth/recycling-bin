{
 "metadata": {
  "kernelspec": {
   "display_name": "Python 2",
   "language": "python",
   "name": "python2"
  },
  "language_info": {
   "codemirror_mode": {
    "name": "ipython",
    "version": 2
   },
   "file_extension": ".py",
   "mimetype": "text/x-python",
   "name": "python",
   "nbconvert_exporter": "python",
   "pygments_lexer": "ipython2",
   "version": "2.7.11"
  },
  "name": ""
 },
 "nbformat": 3,
 "nbformat_minor": 0,
 "worksheets": [
  {
   "cells": [
    {
     "cell_type": "code",
     "collapsed": false,
     "input": [
      "import pandas as pd\n",
      "\n",
      "df=pd.read_csv(r\"C:\\Workspace\\pa-eastpennisd\\standardized tests\\PSSA 121392303DistrictStudentData5382016.csv\", sep=',', dtype=str)\n",
      "\n",
      "df.loc[df['Subject'] == 'E', 'Elv_TestDate'] = '4/15/2016' \n",
      "\n",
      "df.loc[df['Subject'] == 'M', 'Elv_TestDate'] = '4/22/2016'\n",
      "\n",
      "df.loc[df['Subject'] == 'S', 'Elv_TestDate'] = '4/29/2016'\n",
      "\n",
      "df.loc[df['Performance Level Code'] == '1', 'Elv_Performance_Level'] = '1 - Below Basic'\n",
      "df.loc[df['Performance Level Code'] == '2', 'Elv_Performance_Level'] = '2 - Basic'\n",
      "df.loc[df['Performance Level Code'] == '3', 'Elv_Performance_Level'] = '3 - Proficient'\n",
      "df.loc[df['Performance Level Code'] == '4', 'Elv_Performance_Level'] = '4 - Advanced'\n",
      "\n",
      "df.head()\n",
      "\n",
      "df.to_csv(r\"C:\\Workspace\\pa-eastpennisd\\standardized tests\\PSSA 121392303DistrictStudentData5382016_processed.csv\", index=False)"
     ],
     "language": "python",
     "metadata": {},
     "outputs": [],
     "prompt_number": 18
    }
   ],
   "metadata": {}
  }
 ]
}