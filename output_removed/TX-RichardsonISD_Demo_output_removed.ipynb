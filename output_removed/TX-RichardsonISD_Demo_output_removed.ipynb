{
 "metadata": {
  "kernelspec": {
   "display_name": "Python 2",
   "language": "python",
   "name": "python2"
  },
  "language_info": {
   "codemirror_mode": {
    "name": "ipython",
    "version": 2
   },
   "file_extension": ".py",
   "mimetype": "text/x-python",
   "name": "python",
   "nbconvert_exporter": "python",
   "pygments_lexer": "ipython2",
   "version": "2.7.11"
  },
  "name": ""
 },
 "nbformat": 3,
 "nbformat_minor": 0,
 "worksheets": [
  {
   "cells": [
    {
     "cell_type": "code",
     "collapsed": false,
     "input": [
      "import pandas as pd\n",
      "from pyep.transform import derive_from_date_exited_4y\n",
      "from common import is_null\n",
      "\n",
      "df = pd.read_csv(r\"C:\\Workspace\\tx-richardsonisd\\student\\StudentDemographic.csv\", dtype=str)\n",
      "\n",
      "# df = df[df.loc[:, 'DateEnteredLEP'].notnull()]\n",
      "\n",
      "def derive_lep_status(x):\n",
      "    if str(x.loc['LEPStatus'])[0] == 'F':\n",
      "        return 'FLEP Yr 1'\n",
      "    elif str(x.loc['LEPStatus'])[0] == 'S':\n",
      "        return 'FLEP Yr 2'\n",
      "    elif str(x.loc['ellstatus']) == 'EY':\n",
      "        return 'ELL'\n",
      "    \n",
      "df.loc[:, 'Elv_LEPStatus'] = df.apply(derive_lep_status, axis=1)\n",
      "\n",
      "# df.loc[:, 'Elv_LEPStatus'] = df.apply(\n",
      "#     lambda x: derive_from_date_exited_4y(x.loc['DateMonitoringStarted']) if not is_null(x.loc['DateMonitoringStarted']) else x.loc['ellstatus'], axis=1)\n",
      "\n",
      "df.loc[:, 'Elv_ParentDenial'] = df.loc[:, 'ParentDeniedPermission'].map(\n",
      "    lambda x: 'Y' if not is_null(x) else 'N')\n",
      "\n",
      "df.loc[:, 'Elv_ReceivingServices'] = df.apply(\n",
      "    lambda x: 'Y' if x.loc['Elv_LEPStatus'] == 'ELL' and is_null(x.loc['ParentDeniedPermission']) else 'N', axis=1)\n",
      "\n",
      "df = df[df.loc[:, 'Elv_LEPStatus'].notnull()]\n",
      "\n",
      "df.to_csv(r\"C:\\Workspace\\tx-richardsonisd\\student\\StudentDemographic_processed.csv\", index=False)"
     ],
     "language": "python",
     "metadata": {},
     "outputs": [],
     "prompt_number": 6
    },
    {
     "cell_type": "code",
     "collapsed": false,
     "input": [
      "import pandas as pd\n",
      "import datetime as dt\n",
      "from pyep.transform import derive_from_date_exited_4y\n",
      "from common import is_null\n",
      "\n",
      "df = pd.read_csv(r\"C:\\Workspace\\tx-richardsonisd\\student\\StudentDemographic.csv\", dtype=str)\n",
      "\n",
      "today = dt.datetime.now()\n",
      "\n",
      "def derive_lep_status(x, y, z, w) :\n",
      "    if is_null(z) and not is_null(w):\n",
      "        return 'Parent Denial'\n",
      "    if is_null(x) and is_null(y) and not is_null(z):\n",
      "        return 'ELL'\n",
      "    elif (is_null(x) or pd.to_datetime(x) > today) and not is_null(y):\n",
      "        return derive_from_date_exited_4y(y)\n",
      "    elif pd.to_datetime(x) <= today:\n",
      "        return 'Fully Exited'\n",
      "    \n",
      "\n",
      "df.loc[:, 'Elv_LEPStatus'] = df.apply(\n",
      "    lambda x: derive_lep_status(x=x.loc['DateMonitoringEnded'], y=x.loc['DateMonitoringStarted'], z=x.loc['DateEnteredLEP'], w=x.loc['ParentDeniedPermission']), axis=1)\n",
      "\n",
      "df.loc[:, 'Elv_ParentDenial'] = df.loc[:, 'ParentDeniedPermission'].map(\n",
      "    lambda x: 'Y' if not is_null(x) else 'N')\n",
      "\n",
      "df.loc[:, 'Elv_ReceivingServices'] = df.apply(\n",
      "    lambda x: 'Y' if x.loc['Elv_LEPStatus'] == 'ELL' and is_null(x.loc['ParentDeniedPermission']) else 'N', axis=1)\n",
      "\n",
      "df.to_csv(r\"C:\\Workspace\\tx-richardsonisd\\student\\StudentDemographic_processed.csv\", index=False)"
     ],
     "language": "python",
     "metadata": {},
     "outputs": [],
     "prompt_number": 13
    }
   ],
   "metadata": {}
  }
 ]
}