{
 "metadata": {
  "kernelspec": {
   "display_name": "Python 2",
   "language": "python",
   "name": "python2"
  },
  "language_info": {
   "codemirror_mode": {
    "name": "ipython",
    "version": 2
   },
   "file_extension": ".py",
   "mimetype": "text/x-python",
   "name": "python",
   "nbconvert_exporter": "python",
   "pygments_lexer": "ipython2",
   "version": "2.7.11"
  },
  "name": ""
 },
 "nbformat": 3,
 "nbformat_minor": 0,
 "worksheets": [
  {
   "cells": [
    {
     "cell_type": "code",
     "collapsed": false,
     "input": [
      "import pandas as pd\n",
      "import os\n",
      "\n",
      "from pyep.settings import WORKSPACE_ROOT\n",
      "from pyep import read_delimited\n",
      "\n",
      "subset = []\n",
      "\n",
      "for file in os.listdir(WORKSPACE_ROOT + '/nh-nashua/student/'):\n",
      "    df = read_delimited(WORKSPACE_ROOT + '/nh-nashua/student/' + file)\n",
      "    subset.append(df)\n",
      "    \n",
      "df = pd.concat(subset)\n",
      "\n",
      "print len(df)\n",
      "\n",
      "df = df[~df.loc[:, 'School > Name'].isin(['Nashua Center for Lifelong Learning', 'Out of District'])]\n",
      "\n",
      "print len(df)\n",
      "\n",
      "df.drop_duplicates(subset='LASID', inplace=True)\n",
      "\n",
      "print len(df)\n",
      "\n",
      "df.to_csv(r\"C:\\Workspace\\nh-nashua\\student\\merged_processed.csv\", index=False)"
     ],
     "language": "python",
     "metadata": {},
     "outputs": [],
     "prompt_number": 7
    },
    {
     "cell_type": "code",
     "collapsed": true,
     "input": [
      "import pandas as pd\n",
      "\n",
      "df = pd.read_csv(r\"C:\\Workspace\\nh-nashua\\student\\aa-ellevation.student.csv\", dtype=str)\n",
      "\n",
      "df = df[df.loc[:, 'Site Code'].notnull()]\n",
      "\n",
      "df.to_csv(r\"C:\\Workspace\\nh-nashua\\student\\aa-ellevation.student_processed.csv\", index=False)\n",
      "\n"
     ],
     "language": "python",
     "metadata": {},
     "outputs": [],
     "prompt_number": 1
    }
   ],
   "metadata": {}
  }
 ]
}