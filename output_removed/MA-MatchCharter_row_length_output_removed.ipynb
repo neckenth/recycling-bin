{
 "metadata": {
  "kernelspec": {
   "display_name": "Python 2",
   "language": "python",
   "name": "python2"
  },
  "language_info": {
   "codemirror_mode": {
    "name": "ipython",
    "version": 2
   },
   "file_extension": ".py",
   "mimetype": "text/x-python",
   "name": "python",
   "nbconvert_exporter": "python",
   "pygments_lexer": "ipython2",
   "version": "2.7.11"
  },
  "name": ""
 },
 "nbformat": 3,
 "nbformat_minor": 0,
 "worksheets": [
  {
   "cells": [
    {
     "cell_type": "code",
     "collapsed": false,
     "input": [
      "import pandas as pd\n",
      "import glob\n",
      "import os\n",
      "\n",
      "from pyep.settings import WORKSPACE_ROOT\n",
      "\n",
      "district = 'ma-matchcharter'\n",
      "\n",
      "header = pd.read_csv(r\"C:\\Dev\\pyep-trunk\\pyep\\account\\ma_matchcharter\\schedule\\ma_matchcharter_schedule_headers.txt\", sep='\\t')\n",
      "\n",
      "for f in glob.glob('{}/{}/schedule/*.txt'.format(WORKSPACE_ROOT, district)):\n",
      "    if not os.path.basename(f).startswith('schedule_mnx'):\n",
      "        df = pd.read_csv(f, sep='\\t', dtype=str, header=None, names=header)\n",
      "        if len(df) > 0:\n",
      "            for index, row in df.iterrows():\n",
      "                if len(row) != 3:\n",
      "                    print 'length: {}, file: {}, row: {}'.format(len(row), f, str(index + 1))\n",
      "        "
     ],
     "language": "python",
     "metadata": {},
     "outputs": [],
     "prompt_number": 25
    }
   ],
   "metadata": {}
  }
 ]
}