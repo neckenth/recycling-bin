{
 "metadata": {
  "kernelspec": {
   "display_name": "Python 2",
   "language": "python",
   "name": "python2"
  },
  "language_info": {
   "codemirror_mode": {
    "name": "ipython",
    "version": 2
   },
   "file_extension": ".py",
   "mimetype": "text/x-python",
   "name": "python",
   "nbconvert_exporter": "python",
   "pygments_lexer": "ipython2",
   "version": "2.7.11"
  },
  "name": ""
 },
 "nbformat": 3,
 "nbformat_minor": 0,
 "worksheets": [
  {
   "cells": [
    {
     "cell_type": "code",
     "collapsed": false,
     "input": [
      "import pandas as pd\n",
      "\n",
      "df = pd.read_csv(r\"C:\\Workspace\\ma-matchcharter\\person\\ELL_Staff_Data_File_160826.1029.txt\", dtype=str, sep='\\t')\n",
      "\n",
      "df['Elv_Role'] = df['Role']\n",
      "\n",
      "condition_1 = df.Role.str.contains('Teacher', na=False)\n",
      "\n",
      "df.loc[condition_1, 'Elv_Role'] = 'Classroom Teacher'\n",
      "\n",
      "df['Elv_Role'].unique()\n",
      "\n",
      "df.to_csv(r\"C:\\Workspace\\ma-matchcharter\\person\\ELL_Staff_Data_File_160826.1029_processed.txt\", sep='\\t', index=False)"
     ],
     "language": "python",
     "metadata": {},
     "outputs": [],
     "prompt_number": 1
    },
    {
     "cell_type": "code",
     "collapsed": false,
     "input": [
      "head = pd.read_csv(r\"C:\\Workspace\\ma-matchcharter\\person\\ma_matchcharter_staff_headers.txt\", dtype=str, sep='\\t')\n",
      "\n",
      "df = pd.read_csv(r\"C:\\Workspace\\ma-matchcharter\\person\\teachers.txt\", dtype=str, sep='\\t', names=head)\n",
      "\n",
      "df.head()\n",
      "\n",
      "df.to_csv(r\"C:\\Workspace\\ma-matchcharter\\person\\teachers_processed.txt\", sep='\\t', index=False)\n",
      "\n"
     ],
     "language": "python",
     "metadata": {},
     "outputs": [],
     "prompt_number": 4
    },
    {
     "cell_type": "code",
     "collapsed": false,
     "input": [
      "import pandas as pd\n",
      "import os\n",
      "\n",
      "from pyep import read_delimited\n",
      "from pyep.settings import WORKSPACE_ROOT\n",
      "\n",
      "subset = []\n",
      "\n",
      "head=read_delimited(r\"C:\\Users\\NancyE\\Desktop\\ma_matchcharter_staff_headers.txt\", sep='\\t')\n",
      "\n",
      "for file in os.listdir (WORKSPACE_ROOT + '/ma-matchcharter/person/'):\n",
      "    df = read_delimited(WORKSPACE_ROOT + '/ma-matchcharter/person/' + file)\n",
      "    subset.append(df, header=None, names=head)\n",
      "    \n",
      "df = pd.concat(subset)\n",
      "\n",
      "df.to_csv(r\"C:\\Workspace\\ma-matchcharter\\person\\combined.txt\", sep='\\t', index=False)"
     ],
     "language": "python",
     "metadata": {},
     "outputs": [],
     "prompt_number": 11
    }
   ],
   "metadata": {}
  }
 ]
}