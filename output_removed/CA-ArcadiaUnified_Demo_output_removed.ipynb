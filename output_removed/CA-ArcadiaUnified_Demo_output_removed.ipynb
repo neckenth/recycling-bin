{
 "metadata": {
  "kernelspec": {
   "display_name": "Python 2",
   "language": "python",
   "name": "python2"
  },
  "language_info": {
   "codemirror_mode": {
    "name": "ipython",
    "version": 2
   },
   "file_extension": ".py",
   "mimetype": "text/x-python",
   "name": "python",
   "nbconvert_exporter": "python",
   "pygments_lexer": "ipython2",
   "version": "2.7.11"
  },
  "name": ""
 },
 "nbformat": 3,
 "nbformat_minor": 0,
 "worksheets": [
  {
   "cells": [
    {
     "cell_type": "code",
     "collapsed": false,
     "input": [
      "import pandas as pd\n",
      "import numpy as np\n",
      "\n",
      "from common import is_null\n",
      "\n",
      "from pyep.transform import derive_from_date_exited_4y\n",
      "\n",
      "df = pd.read_csv(r\"C:\\Workspace\\ca-arcadiaunified\\student\\ellevation_studemo.csv\", dtype=str)\n",
      "\n",
      "df['Elv_LEPStatus'] = df.apply(\n",
      "    lambda x: derive_from_date_exited_4y(x['RFEPDATE'])\n",
      "    if x['ELASTATUS'] == 'RFEP' else x['ELASTATUS'],\n",
      "    axis=1)\n",
      "\n",
      "df['Elv_RefusedServices'] = df['OPTOUT_DATE'].map(\n",
      "lambda x: 'No' if is_null(x)\n",
      "else 'Yes')\n",
      "\n",
      "df.to_csv(r\"C:\\Workspace\\ca-arcadiaunified\\student\\ellevation_studemo_processed.csv\", index=False)"
     ],
     "language": "python",
     "metadata": {},
     "outputs": [],
     "prompt_number": 28
    },
    {
     "cell_type": "code",
     "collapsed": false,
     "input": [
      "import pandas as pd\n",
      "import numpy as np\n",
      "\n",
      "from common import is_null\n",
      "\n",
      "from pyep.transform import derive_from_date_exited_4y\n",
      "\n",
      "df = pd.read_csv(r\"C:\\Workspace\\ca-arcadiaunified\\student\\Student_Demographics.txt\", dtype=str, sep='\\t')\n",
      "\n",
      "df = df[~df.loc[:, 'GRADE_LEVEL'].isin(['-2', '-1'])]\n",
      "\n",
      "df['Elv_LEPStatus'] = df.apply(\n",
      "    lambda x: derive_from_date_exited_4y(x['RFEP_DATE'])\n",
      "    if x['ELA_STATUS'] == 'RFEP' else x['ELA_STATUS'],\n",
      "    axis=1)\n",
      "\n",
      "df['Elv_ReceivingServices'] = df.apply(\n",
      "    lambda x: x['RECEVING_SERVICES'] if x['Elv_LEPStatus'] == 'EL' and is_null(x['PARENTWITHDRAW'])\n",
      "    else 'No', \n",
      "    axis=1)\n",
      "\n",
      "df.loc[df['PARENTWITHDRAW'].notnull(), 'Elv_RefusedServices'] = 'Yes'\n",
      "\n",
      "df.to_csv(r\"C:\\Workspace\\ca-arcadiaunified\\student\\Student_Demographics_processed.txt\", sep='\\t', index=False)"
     ],
     "language": "python",
     "metadata": {},
     "outputs": [],
     "prompt_number": 10
    }
   ],
   "metadata": {}
  }
 ]
}