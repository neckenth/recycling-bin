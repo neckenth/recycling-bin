{
 "metadata": {
  "kernelspec": {
   "display_name": "Python 2",
   "language": "python",
   "name": "python2"
  },
  "language_info": {
   "codemirror_mode": {
    "name": "ipython",
    "version": 2
   },
   "file_extension": ".py",
   "mimetype": "text/x-python",
   "name": "python",
   "nbconvert_exporter": "python",
   "pygments_lexer": "ipython2",
   "version": "2.7.11"
  },
  "name": ""
 },
 "nbformat": 3,
 "nbformat_minor": 0,
 "worksheets": [
  {
   "cells": [
    {
     "cell_type": "code",
     "collapsed": false,
     "input": [
      "import pandas as pd\n",
      "import numpy as np\n",
      "\n",
      "df = pd.read_csv(r\"C:\\Workspace\\ma-newton\\student\\Ellevation Export 10-06-2016.csv\", skipfooter=1, converters={'StateID': str, 'Zip': str})\n",
      "\n",
      "df['StateID'] = df['StateID'].str.split('.').str[0]\n",
      "\n",
      "df['StateID'] = df['StateID'].str.replace(',', '')\n",
      "\n",
      "df.to_csv(r\"C:\\Workspace\\ma-newton\\student\\Ellevation Export 10-06-2016_processed.csv\", index=False)\n",
      "\n",
      "\n",
      "\n",
      "\n"
     ],
     "language": "python",
     "metadata": {},
     "outputs": [],
     "prompt_number": 60
    },
    {
     "cell_type": "code",
     "collapsed": false,
     "input": [
      "import pandas as pd\n",
      "\n",
      "head = pd.read_csv(r\"C:\\Workspace\\ma-newton\\student\\headers-ma-newton-student.csv\", dtype=str)\n",
      "\n",
      "df = pd.read_csv(r\"C:\\Workspace\\ma-newton\\student\\NPSEllevation.csv\", names=head, dtype=str)\n",
      "\n",
      "df.dropna(how='all', inplace=True)\n",
      "\n",
      "# df.loc[:, 'StateID'] = df.loc[:, 'StateID'].map(\n",
      "#     lambda x: (str(x).replace(',', '')).rstrip('.00'))\n",
      "\n",
      "df.to_csv(\"C:\\Workspace\\ma-newton\\student\\NPSEllevation_processed.csv\", index=False)"
     ],
     "language": "python",
     "metadata": {},
     "outputs": [],
     "prompt_number": 2
    }
   ],
   "metadata": {}
  }
 ]
}