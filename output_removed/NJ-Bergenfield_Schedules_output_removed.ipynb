{
 "metadata": {
  "kernelspec": {
   "display_name": "Python 2",
   "language": "python",
   "name": "python2"
  },
  "language_info": {
   "codemirror_mode": {
    "name": "ipython",
    "version": 2
   },
   "file_extension": ".py",
   "mimetype": "text/x-python",
   "name": "python",
   "nbconvert_exporter": "python",
   "pygments_lexer": "ipython2",
   "version": "2.7.11"
  },
  "name": ""
 },
 "nbformat": 3,
 "nbformat_minor": 0,
 "worksheets": [
  {
   "cells": [
    {
     "cell_type": "code",
     "collapsed": false,
     "input": [
      "import pandas as pd\n",
      "\n",
      "df = pd.read_csv(r\"C:\\Workspace\\nj-bergenfield\\schedule\\Student Schedules.csv\", dtype=str)\n",
      "\n",
      "print len(df)\n",
      "\n",
      "df = df[df.loc[:, 'Staff ID'].notnull()]\n",
      "\n",
      "print len(df)\n",
      "\n",
      "df = df[~df.loc[:, 'Course Name'].isin([\n",
      "            'Phys Ed/Health 6',\n",
      "            'Phys Ed/Health 7',\n",
      "            'Phys Ed/Health 8',\n",
      "            'Phys Ed/Health 8 Alt School',\n",
      "            'Phys Ed/Health Mod',\n",
      "            'Physical Education',\n",
      "            'Phys Ed 9',\n",
      "            'Phys Ed 10',\n",
      "            'Phys Ed 11',\n",
      "            'Phys Ed 12',\n",
      "            'ALT Phys Ed/Health 9 CR',\n",
      "            'ALT PE/Health 11 CR',\n",
      "            'ALT Phys Ed/ Health 10',\n",
      "            'ALT Phys Ed 10 CR',\n",
      "            'ALT Phys Ed/Health 11',\n",
      "            'ALT Phys Ed/Health 12',\n",
      "            'ALT Phys Ed|Health 9 CR'])]\n",
      "\n",
      "print len(df)\n",
      "\n",
      "condition_1 = df.loc[:, 'Term Start'] == 'Q1'\n",
      "condition_2 = df.loc[:, 'Term Start'] == 'Q2'\n",
      "condition_3 = df.loc[:, 'Term Start'] == 'Q3'\n",
      "condition_4 = df.loc[:, 'Term Start'] == 'Q4'\n",
      "condition_5 = df.loc[:, 'Term Start'] == 'T1'\n",
      "condition_1a = df.loc[:, 'Term End'] == 'Q1'\n",
      "condition_2a = df.loc[:, 'Term End'] == 'Q2'\n",
      "condition_3a = df.loc[:, 'Term End'] == 'Q3'\n",
      "condition_4a = df.loc[:, 'Term End'] == 'Q4'\n",
      "condition_5a = df.loc[:, 'Term End'] == 'T3'\n",
      "\n",
      "df.loc[(condition_1 & condition_1a), 'Elv_Term'] = 'Q1'\n",
      "df.loc[(condition_2 & condition_2a), 'Elv_Term'] = 'Q2'\n",
      "df.loc[(condition_3 & condition_3a), 'Elv_Term'] = 'Q3'\n",
      "df.loc[(condition_4 & condition_4a), 'Elv_Term'] = 'Q4'\n",
      "df.loc[(condition_1 & condition_2a), 'Elv_Term'] = 'Q1/Q2'\n",
      "df.loc[(condition_3 & condition_4a), 'Elv_Term'] = 'Q3/Q4'\n",
      "df.loc[(condition_5 & condition_5a), 'Elv_Term'] = 'T1/T3'\n",
      "df.loc[(condition_1 & condition_4a), 'Elv_Term'] = 'Q1/Q2/Q3/Q4'\n",
      "df.loc[(condition_1 & condition_3a), 'Elv_Term'] = 'Q1/Q3'\n",
      "\n",
      "df.to_csv(r\"C:\\Workspace\\nj-bergenfield\\schedule\\Student Schedules_processed.csv\", index=False)"
     ],
     "language": "python",
     "metadata": {},
     "outputs": [],
     "prompt_number": 5
    }
   ],
   "metadata": {}
  }
 ]
}