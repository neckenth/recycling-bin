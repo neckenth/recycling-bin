{
 "metadata": {
  "kernelspec": {
   "display_name": "Python 2",
   "language": "python",
   "name": "python2"
  },
  "language_info": {
   "codemirror_mode": {
    "name": "ipython",
    "version": 2
   },
   "file_extension": ".py",
   "mimetype": "text/x-python",
   "name": "python",
   "nbconvert_exporter": "python",
   "pygments_lexer": "ipython2",
   "version": "2.7.11"
  },
  "name": ""
 },
 "nbformat": 3,
 "nbformat_minor": 0,
 "worksheets": [
  {
   "cells": [
    {
     "cell_type": "code",
     "collapsed": false,
     "input": [
      "import pandas as pd\n",
      "\n",
      "df=pd.read_csv(r\"C:\\Workspace\\ma-westborough\\elp-test-score\\ACCESS_2014_preliminary_03210000.csv\", sep=',', dtype=str)\n",
      "\n",
      "df.head()\n",
      "\n",
      "print len(df)\n",
      "\n",
      "df_k=df[df.grade == 'K']\n",
      "\n",
      "print len(df_k)\n",
      "\n",
      "df_alt=df[df.teststatus == 'ALT']\n",
      "\n",
      "print len(df_alt)\n",
      "\n",
      "df_1_12 = df[df.tier.isin( ['A', 'B', 'C'])]\n",
      "\n",
      "print len (df_1_12)\n",
      "\n",
      "df_k.to_csv(r\"C:\\Workspace\\ma-westborough\\elp-test-score\\ACCESS_2014_preliminary_03210000_K.csv\", index=False)\n",
      "\n",
      "df_alt.to_csv(r\"C:\\Workspace\\ma-westborough\\elp-test-score\\ACCESS_2014_preliminary_03210000_alt.csv\", index=False)\n",
      "\n",
      "df_1_12.to_csv(r\"C:\\Workspace\\ma-westborough\\elp-test-score\\ACCESS_2014_preliminary_03210000_1_12.csv\", index=False)"
     ],
     "language": "python",
     "metadata": {},
     "outputs": [],
     "prompt_number": 2
    },
    {
     "cell_type": "code",
     "collapsed": false,
     "input": [
      "import pandas as pd\n",
      "\n",
      "df=pd.read_csv(r\"C:\\Workspace\\ma-westborough\\elp-test-score\\Access 2015.tsv\", sep='\\t', dtype=str)\n",
      "\n",
      "df.head()\n",
      "\n",
      "print len(df)\n",
      "\n",
      "df_k=df[df.grade == 'K']\n",
      "\n",
      "print len(df_k)\n",
      "\n",
      "df_alt=df[df.teststatus == 'ALT']\n",
      "\n",
      "print len(df_alt)\n",
      "\n",
      "df_1_12 = df[df.tier.isin( ['A', 'B', 'C'])]\n",
      "\n",
      "print len (df_1_12)\n",
      "\n",
      "df_k.to_csv(r\"C:\\Workspace\\ma-westborough\\elp-test-score\\access2015_K.csv\", index=False)\n",
      "\n",
      "df_alt.to_csv(r\"C:\\Workspace\\ma-westborough\\elp-test-score\\access2015_alt.csv\", index=False)\n",
      "\n",
      "df_1_12.to_csv(r\"C:\\Workspace\\ma-westborough\\elp-test-score\\access2015_1_12.csv\", index=False)"
     ],
     "language": "python",
     "metadata": {},
     "outputs": [],
     "prompt_number": 3
    },
    {
     "cell_type": "code",
     "collapsed": false,
     "input": [
      "# filter ACCESS scores with blank Tier/Cluster\n",
      "\n",
      "df = pd.read_csv(r\"C:\\Workspace\\ma-westborough\\elp-test-score\\Access Scores 20160524 - MA03210000_Summative_Stud_File.csv\", dtype=str)\n",
      "\n",
      "df = df[df.loc[:, 'Paper Tier'].notnull()]\n",
      "\n",
      "df_1_12 = df[df['Paper Tier'].isin(['A', 'B', 'C'])]\n",
      "df_k = df[df['Grade'] == '0']\n",
      "\n",
      "print len(df_1_12)\n",
      "print len(df_k)\n",
      "\n",
      "\n",
      "df.head()\n",
      "\n",
      "#df_1_12.to_csv(r\"C:\\Workspace\\ma-westborough\\elp-test-score\\Access Scores 20160524 - MA03210000_Summative_Stud_File_processed_1_12.csv\", index=False)\n",
      "#df_k.to_csv(r\"C:\\Workspace\\ma-westborough\\elp-test-score\\Access Scores 20160524 - MA03210000_Summative_Stud_File_processed_k.csv\", index=False)"
     ],
     "language": "python",
     "metadata": {},
     "outputs": [],
     "prompt_number": 25
    },
    {
     "cell_type": "code",
     "collapsed": true,
     "input": [],
     "language": "python",
     "metadata": {},
     "outputs": [],
     "prompt_number": null
    }
   ],
   "metadata": {}
  }
 ]
}