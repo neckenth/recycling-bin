{
 "metadata": {
  "kernelspec": {
   "display_name": "Python 2",
   "language": "python",
   "name": "python2"
  },
  "language_info": {
   "codemirror_mode": {
    "name": "ipython",
    "version": 2
   },
   "file_extension": ".py",
   "mimetype": "text/x-python",
   "name": "python",
   "nbconvert_exporter": "python",
   "pygments_lexer": "ipython2",
   "version": "2.7.11"
  },
  "name": ""
 },
 "nbformat": 3,
 "nbformat_minor": 0,
 "worksheets": [
  {
   "cells": [
    {
     "cell_type": "code",
     "collapsed": false,
     "input": [
      "import pandas as pd\n",
      "import numpy as np\n",
      "from datetime import datetime as dt\n",
      "\n",
      "from pyep.transform import derive_from_date_exited_4y\n",
      "from common import is_null\n",
      "\n",
      "df = pd.read_csv(r\"C:\\Workspace\\ca-abcunified\\student\\ELLevation Demographics Data-All Sch.csv\", dtype=str)\n",
      "\n",
      "def replace_null(row):\n",
      "    for value in row:\n",
      "        if value == 'NULL':\n",
      "            value.replace('NULL', np.NaN)\n",
      "            \n",
      "df.apply(replace_null, axis=1)\n",
      "\n",
      "df['Elv_LEPStatus'] = df.apply(\n",
      "    lambda x: derive_from_date_exited_4y(x['DateExitedLEP'])\n",
      "    if x['ELPStatus'] == 'RFEP' else x['ELPStatus'],\n",
      "    axis=1)\n",
      "\n",
      "df.loc[(df['ELPStatus'] == 'RFEP') & (df['DateExitedLEP'].isnull()), 'Elv_LEPStatus'] = 'RFEP (Unknown)'\n",
      "\n",
      "df['Elv_Yrs_USSchools'] = df['DateEnrolledinUSSChools'].map(\n",
      "    lambda x: np.NaN if is_null(x) \n",
      "    else (dt.today()-pd.to_datetime(x)).days / 365)\n",
      "\n",
      "#df.to_csv(r\"C:\\Workspace\\ca-abcunified\\student\\ELLevation Demographics Data-All Sch_processed.csv\", index=False)"
     ],
     "language": "python",
     "metadata": {},
     "outputs": [],
     "prompt_number": 10
    },
    {
     "cell_type": "code",
     "collapsed": false,
     "input": [
      "import pandas as pd\n",
      "import numpy as np\n",
      "from datetime import datetime as dt\n",
      "\n",
      "from pyep.transform import derive_from_date_exited_4y\n",
      "from common import is_null\n",
      "\n",
      "df = pd.read_csv(r\"C:\\Workspace\\ca-abcunified\\student\\ELLevation Demographics Data-All Sch.csv\", dtype=str)\n",
      "\n",
      "df.applymap(\n",
      "lambda x: np.NaN if x == 'NULL' else x)\n",
      "\n",
      "df['SchoolName'].unique()"
     ],
     "language": "python",
     "metadata": {},
     "outputs": [],
     "prompt_number": 17
    }
   ],
   "metadata": {}
  }
 ]
}