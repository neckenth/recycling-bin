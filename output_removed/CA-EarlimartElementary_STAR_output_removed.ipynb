{
 "metadata": {
  "kernelspec": {
   "display_name": "Python 2",
   "language": "python",
   "name": "python2"
  },
  "language_info": {
   "codemirror_mode": {
    "name": "ipython",
    "version": 2
   },
   "file_extension": ".py",
   "mimetype": "text/x-python",
   "name": "python",
   "nbconvert_exporter": "python",
   "pygments_lexer": "ipython2",
   "version": "2.7.11"
  },
  "name": ""
 },
 "nbformat": 3,
 "nbformat_minor": 0,
 "worksheets": [
  {
   "cells": [
    {
     "cell_type": "code",
     "collapsed": false,
     "input": [
      "import pandas as pd\n",
      "import os\n",
      "\n",
      "from pyep import read_delimited\n",
      "from pyep.settings import WORKSPACE_ROOT\n",
      "\n",
      "subset = []\n",
      "\n",
      "for file in os.listdir (WORKSPACE_ROOT + '/ca-earlimartelementary/star/16-17/'):\n",
      "    df = pd.read_csv(WORKSPACE_ROOT + '/ca-earlimartelementary/star/16-17/' + file, skiprows=1)\n",
      "    print len(df)\n",
      "    subset.append(df)\n",
      "    \n",
      "df = pd.concat(subset)\n",
      "\n",
      "df.to_csv(r\"C:\\Workspace\\ca-earlimartelementary\\star\\16-17\\STAR_combined_2.csv\", index=False)\n"
     ],
     "language": "python",
     "metadata": {},
     "outputs": [],
     "prompt_number": 1
    },
    {
     "cell_type": "code",
     "collapsed": false,
     "input": [
      "import pandas as pd\n",
      "\n",
      "df = pd.read_csv(r\"C:\\Workspace\\ca-earlimartelementary\\star\\ELLSTDTST_CA-EarlimartElementary_STAR_2016.csv\", dtype=str)\n",
      "\n",
      "print len(df)\n",
      "\n",
      "df = df.drop_duplicates()\n",
      "\n",
      "print len(df)\n",
      "\n",
      "df.to_csv(r\"C:\\Workspace\\ca-earlimartelementary\\star\\ELLSTDTST_CA-EarlimartElementary_STAR_2016_deduplicated.csv\", index=False)"
     ],
     "language": "python",
     "metadata": {},
     "outputs": [],
     "prompt_number": 3
    }
   ],
   "metadata": {}
  }
 ]
}